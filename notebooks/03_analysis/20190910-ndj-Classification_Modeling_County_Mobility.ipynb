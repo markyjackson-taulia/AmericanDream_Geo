{
 "cells": [
  {
   "cell_type": "markdown",
   "metadata": {},
   "source": [
    "# Classifying Model for County Mobility\n",
    "State notebook purpose here"
   ]
  },
  {
   "cell_type": "markdown",
   "metadata": {
    "heading_collapsed": true
   },
   "source": [
    "### Imports\n",
    "Import libraries and write settings here."
   ]
  },
  {
   "cell_type": "code",
   "execution_count": 1,
   "metadata": {
    "ExecuteTime": {
     "end_time": "2019-09-10T23:22:32.336087Z",
     "start_time": "2019-09-10T23:22:32.332465Z"
    },
    "hidden": true
   },
   "outputs": [],
   "source": [
    "import sys"
   ]
  },
  {
   "cell_type": "code",
   "execution_count": 2,
   "metadata": {
    "ExecuteTime": {
     "end_time": "2019-09-10T23:22:33.124676Z",
     "start_time": "2019-09-10T23:22:33.121669Z"
    },
    "hidden": true
   },
   "outputs": [],
   "source": [
    "sys.setrecursionlimit(5000)"
   ]
  },
  {
   "cell_type": "code",
   "execution_count": 3,
   "metadata": {
    "ExecuteTime": {
     "end_time": "2019-09-10T23:22:42.565687Z",
     "start_time": "2019-09-10T23:22:35.458442Z"
    },
    "hidden": true
   },
   "outputs": [
    {
     "name": "stderr",
     "output_type": "stream",
     "text": [
      "/anaconda3/lib/python3.7/site-packages/sklearn/externals/six.py:31: DeprecationWarning: The module is deprecated in version 0.21 and will be removed in version 0.23 since we've dropped support for Python 2.7. Please rely on the official version of six (https://pypi.org/project/six/).\n",
      "  \"(https://pypi.org/project/six/).\", DeprecationWarning)\n"
     ]
    }
   ],
   "source": [
    "# Data manipulation\n",
    "import pandas as pd\n",
    "import numpy as np\n",
    "import matplotlib.pyplot as plt\n",
    "\n",
    "# Modeling packages\n",
    "\n",
    "from scipy import stats\n",
    "from sklearn.model_selection import train_test_split\n",
    "from sklearn.tree import DecisionTreeClassifier, export_graphviz\n",
    "from sklearn.linear_model import LogisticRegression\n",
    "from sklearn.metrics import accuracy_score, roc_curve, auc, confusion_matrix, average_precision_score, precision_recall_curve\n",
    "from sklearn import tree \n",
    "from sklearn.preprocessing import LabelEncoder, OneHotEncoder\n",
    "from sklearn.externals.six import StringIO  \n",
    "from IPython.display import Image  \n",
    "import statsmodels as sm \n",
    "import pydotplus \n",
    "from inspect import signature\n",
    "\n",
    "# Options for pandas\n",
    "pd.options.display.max_columns = None\n",
    "pd.options.display.max_rows = 30"
   ]
  },
  {
   "cell_type": "code",
   "execution_count": 1,
   "metadata": {
    "ExecuteTime": {
     "end_time": "2019-09-10T14:39:31.843268Z",
     "start_time": "2019-09-10T14:39:21.581660Z"
    },
    "hidden": true
   },
   "outputs": [
    {
     "data": {
      "text/html": [
       "        <script type=\"text/javascript\">\n",
       "        window.PlotlyConfig = {MathJaxConfig: 'local'};\n",
       "        if (window.MathJax) {MathJax.Hub.Config({SVG: {font: \"STIX-Web\"}});}\n",
       "        if (typeof require !== 'undefined') {\n",
       "        require.undef(\"plotly\");\n",
       "        requirejs.config({\n",
       "            paths: {\n",
       "                'plotly': ['https://cdn.plot.ly/plotly-latest.min']\n",
       "            }\n",
       "        });\n",
       "        require(['plotly'], function(Plotly) {\n",
       "            window._Plotly = Plotly;\n",
       "        });\n",
       "        }\n",
       "        </script>\n",
       "        "
      ]
     },
     "metadata": {},
     "output_type": "display_data"
    },
    {
     "data": {
      "text/html": [
       "        <script type=\"text/javascript\">\n",
       "        window.PlotlyConfig = {MathJaxConfig: 'local'};\n",
       "        if (window.MathJax) {MathJax.Hub.Config({SVG: {font: \"STIX-Web\"}});}\n",
       "        if (typeof require !== 'undefined') {\n",
       "        require.undef(\"plotly\");\n",
       "        requirejs.config({\n",
       "            paths: {\n",
       "                'plotly': ['https://cdn.plot.ly/plotly-latest.min']\n",
       "            }\n",
       "        });\n",
       "        require(['plotly'], function(Plotly) {\n",
       "            window._Plotly = Plotly;\n",
       "        });\n",
       "        }\n",
       "        </script>\n",
       "        "
      ]
     },
     "metadata": {},
     "output_type": "display_data"
    }
   ],
   "source": [
    "# Display all cell outputs\n",
    "from IPython.core.interactiveshell import InteractiveShell\n",
    "InteractiveShell.ast_node_interactivity = 'all'\n",
    "\n",
    "from IPython import get_ipython\n",
    "ipython = get_ipython()\n",
    "\n",
    "# autoreload extension\n",
    "if 'autoreload' not in ipython.extension_manager.loaded:\n",
    "    %load_ext autoreload\n",
    "\n",
    "%autoreload 2\n",
    "\n",
    "# Visualizations\n",
    "import plotly.plotly as py\n",
    "import plotly.graph_objs as go\n",
    "from plotly.offline import iplot, init_notebook_mode\n",
    "init_notebook_mode(connected=True)\n",
    "\n",
    "import cufflinks as cf\n",
    "cf.go_offline(connected=True)\n",
    "cf.set_config_file(theme='white')"
   ]
  },
  {
   "cell_type": "markdown",
   "metadata": {},
   "source": [
    "## Modeling on Income Data Only\n",
    "Decision Tree and Logistic Regression"
   ]
  },
  {
   "cell_type": "markdown",
   "metadata": {
    "heading_collapsed": true
   },
   "source": [
    "### Setting up data"
   ]
  },
  {
   "cell_type": "code",
   "execution_count": 4,
   "metadata": {
    "ExecuteTime": {
     "end_time": "2019-09-10T23:22:56.382075Z",
     "start_time": "2019-09-10T23:22:56.366658Z"
    },
    "hidden": true
   },
   "outputs": [],
   "source": [
    "county_mobility = pd.read_pickle('../../data/02_intermediate/county_mobility_incomeOnly')"
   ]
  },
  {
   "cell_type": "code",
   "execution_count": 36,
   "metadata": {
    "ExecuteTime": {
     "end_time": "2019-09-11T03:15:55.096487Z",
     "start_time": "2019-09-11T03:15:55.071930Z"
    },
    "hidden": true
   },
   "outputs": [],
   "source": [
    "county_health = pd.read_pickle('../../data/02_intermediate/county_measures')"
   ]
  },
  {
   "cell_type": "code",
   "execution_count": 7,
   "metadata": {
    "ExecuteTime": {
     "end_time": "2019-09-10T15:21:47.646583Z",
     "start_time": "2019-09-10T15:21:47.571275Z"
    },
    "hidden": true
   },
   "outputs": [
    {
     "data": {
      "text/plain": [
       "Index(['County FIPS Code', 'County Name', 'Commuting Zone ID',\n",
       "       'Commuting Zone Name ', 'State', 'Number of Children in Core Sample',\n",
       "       'Rank-Rank Slope', 'Absolute Upward Mobility', 'Top 1% Income Share',\n",
       "       'Interquartile Income Range', 'Gini', 'Teenage Birth Rate',\n",
       "       'Share Between p25 and p75', 'Mean Parent Income', 'Mean Child Income',\n",
       "       'Parent Income P25', 'Child Income P25', 'Median Parent Income',\n",
       "       'Median Child Income', 'Parent Income P75', 'Child Income P75',\n",
       "       'Parent Income P90', 'Child Income P90', 'Parent Income P99',\n",
       "       'Child Income P99', 'rank_diff', 'Target'],\n",
       "      dtype='object')"
      ]
     },
     "execution_count": 7,
     "metadata": {},
     "output_type": "execute_result"
    }
   ],
   "source": [
    "county_mobility.columns"
   ]
  },
  {
   "cell_type": "code",
   "execution_count": 5,
   "metadata": {
    "ExecuteTime": {
     "end_time": "2019-09-10T23:22:59.772167Z",
     "start_time": "2019-09-10T23:22:59.768522Z"
    },
    "hidden": true
   },
   "outputs": [],
   "source": [
    "features = ['Top 1% Income Share','Interquartile Income Range', 'Median Parent Income']"
   ]
  },
  {
   "cell_type": "code",
   "execution_count": 6,
   "metadata": {
    "ExecuteTime": {
     "end_time": "2019-09-10T23:23:01.424287Z",
     "start_time": "2019-09-10T23:23:01.404692Z"
    },
    "hidden": true
   },
   "outputs": [],
   "source": [
    "X = county_mobility.dropna(subset=features, axis=0)[features]\n",
    "y = county_mobility.dropna(subset=features, axis=0)[['Target']]"
   ]
  },
  {
   "cell_type": "code",
   "execution_count": 61,
   "metadata": {
    "ExecuteTime": {
     "end_time": "2019-09-10T21:32:55.170150Z",
     "start_time": "2019-09-10T21:32:55.110925Z"
    },
    "hidden": true
   },
   "outputs": [
    {
     "data": {
      "text/plain": [
       "(2769, 3)"
      ]
     },
     "execution_count": 61,
     "metadata": {},
     "output_type": "execute_result"
    },
    {
     "data": {
      "text/plain": [
       "(2769, 1)"
      ]
     },
     "execution_count": 61,
     "metadata": {},
     "output_type": "execute_result"
    }
   ],
   "source": [
    "X.shape\n",
    "y.shape"
   ]
  },
  {
   "cell_type": "code",
   "execution_count": 7,
   "metadata": {
    "ExecuteTime": {
     "end_time": "2019-09-10T23:23:05.106640Z",
     "start_time": "2019-09-10T23:23:05.098054Z"
    },
    "hidden": true
   },
   "outputs": [],
   "source": [
    "X_train, X_test , y_train, y_test = train_test_split(X, y, test_size = 0.3, random_state = 5) "
   ]
  },
  {
   "cell_type": "markdown",
   "metadata": {
    "heading_collapsed": true,
    "hidden": true
   },
   "source": [
    "#### SMOTE - Addressing Unbalanced Classes"
   ]
  },
  {
   "cell_type": "code",
   "execution_count": 8,
   "metadata": {
    "ExecuteTime": {
     "end_time": "2019-09-10T23:23:08.865499Z",
     "start_time": "2019-09-10T23:23:08.537173Z"
    },
    "hidden": true
   },
   "outputs": [],
   "source": [
    "from imblearn.over_sampling import SMOTE\n",
    "from collections import Counter"
   ]
  },
  {
   "cell_type": "code",
   "execution_count": 9,
   "metadata": {
    "ExecuteTime": {
     "end_time": "2019-09-10T23:23:11.524314Z",
     "start_time": "2019-09-10T23:23:11.520770Z"
    },
    "hidden": true
   },
   "outputs": [],
   "source": [
    "smote = SMOTE(random_state=42, sampling_strategy=1)"
   ]
  },
  {
   "cell_type": "code",
   "execution_count": 10,
   "metadata": {
    "ExecuteTime": {
     "end_time": "2019-09-10T23:23:12.385031Z",
     "start_time": "2019-09-10T23:23:12.378559Z"
    },
    "hidden": true
   },
   "outputs": [
    {
     "data": {
      "text/plain": [
       "(831, 3)"
      ]
     },
     "execution_count": 10,
     "metadata": {},
     "output_type": "execute_result"
    }
   ],
   "source": [
    "X_train.shape\n",
    "X_test.shape"
   ]
  },
  {
   "cell_type": "code",
   "execution_count": 16,
   "metadata": {
    "ExecuteTime": {
     "end_time": "2019-09-10T23:24:48.994568Z",
     "start_time": "2019-09-10T23:24:48.975787Z"
    },
    "hidden": true
   },
   "outputs": [
    {
     "name": "stderr",
     "output_type": "stream",
     "text": [
      "/anaconda3/lib/python3.7/site-packages/sklearn/utils/validation.py:724: DataConversionWarning: A column-vector y was passed when a 1d array was expected. Please change the shape of y to (n_samples, ), for example using ravel().\n",
      "  y = column_or_1d(y, warn=True)\n"
     ]
    }
   ],
   "source": [
    "X_res, y_res = smote.fit_resample(X_train, y_train) # np.array(y_train).ravel())"
   ]
  },
  {
   "cell_type": "code",
   "execution_count": 13,
   "metadata": {
    "ExecuteTime": {
     "end_time": "2019-09-10T23:24:19.547521Z",
     "start_time": "2019-09-10T23:24:19.542809Z"
    },
    "hidden": true
   },
   "outputs": [
    {
     "data": {
      "text/plain": [
       "numpy.ndarray"
      ]
     },
     "execution_count": 13,
     "metadata": {},
     "output_type": "execute_result"
    }
   ],
   "source": [
    "X_res.shape\n",
    "y_res.shape\n",
    "type(X_res)\n",
    "type(y_res)"
   ]
  },
  {
   "cell_type": "markdown",
   "metadata": {},
   "source": [
    "### Decision Tree 1"
   ]
  },
  {
   "cell_type": "code",
   "execution_count": 18,
   "metadata": {
    "ExecuteTime": {
     "end_time": "2019-09-11T01:32:03.807854Z",
     "start_time": "2019-09-11T01:32:03.756188Z"
    },
    "scrolled": true
   },
   "outputs": [],
   "source": [
    "clf = DecisionTreeClassifier(criterion='entropy')\n",
    "clf.fit(X_train, y_train)\n",
    "y_pred = clf.predict(X_test)"
   ]
  },
  {
   "cell_type": "code",
   "execution_count": 19,
   "metadata": {
    "ExecuteTime": {
     "end_time": "2019-09-11T01:32:07.844971Z",
     "start_time": "2019-09-11T01:32:07.825968Z"
    }
   },
   "outputs": [
    {
     "data": {
      "text/plain": [
       "0.8676293622141997"
      ]
     },
     "execution_count": 19,
     "metadata": {},
     "output_type": "execute_result"
    }
   ],
   "source": [
    "accuracy_score(y_test, y_pred)"
   ]
  },
  {
   "cell_type": "code",
   "execution_count": 20,
   "metadata": {
    "ExecuteTime": {
     "end_time": "2019-09-11T01:32:14.196038Z",
     "start_time": "2019-09-11T01:32:14.180727Z"
    }
   },
   "outputs": [],
   "source": [
    "average_precision = average_precision_score(y_test, y_pred)"
   ]
  },
  {
   "cell_type": "code",
   "execution_count": 21,
   "metadata": {
    "ExecuteTime": {
     "end_time": "2019-09-11T01:32:21.863812Z",
     "start_time": "2019-09-11T01:32:21.629546Z"
    }
   },
   "outputs": [
    {
     "data": {
      "text/plain": [
       "Text(0.5, 1.0, '2-class Precision-Recall curve: AP=0.23')"
      ]
     },
     "execution_count": 21,
     "metadata": {},
     "output_type": "execute_result"
    },
    {
     "data": {
      "image/png": "[encoded data removed]",
      "text/plain": [
       "<Figure size 432x288 with 1 Axes>"
      ]
     },
     "metadata": {
      "needs_background": "light"
     },
     "output_type": "display_data"
    }
   ],
   "source": [
    "precision, recall, _ = precision_recall_curve(y_test, y_pred)\n",
    "\n",
    "# In matplotlib < 1.5, plt.fill_between does not have a 'step' argument\n",
    "step_kwargs = ({'step': 'post'}\n",
    "               if 'step' in signature(plt.fill_between).parameters\n",
    "               else {})\n",
    "plt.step(recall, precision, color='b', alpha=0.2,\n",
    "         where='post')\n",
    "plt.fill_between(recall, precision, alpha=0.2, color='b', **step_kwargs)\n",
    "\n",
    "plt.xlabel('Recall')\n",
    "plt.ylabel('Precision')\n",
    "plt.ylim([0.0, 1.05])\n",
    "plt.xlim([0.0, 1.0])\n",
    "plt.title('2-class Precision-Recall curve: AP={0:0.2f}'.format(\n",
    "          average_precision))"
   ]
  },
  {
   "cell_type": "code",
   "execution_count": 22,
   "metadata": {
    "ExecuteTime": {
     "end_time": "2019-09-11T01:32:42.270024Z",
     "start_time": "2019-09-11T01:32:42.260276Z"
    }
   },
   "outputs": [
    {
     "data": {
      "text/plain": [
       "(array([[683,  60],\n",
       "        [ 50,  38]]), 0.22760817487480717)"
      ]
     },
     "execution_count": 22,
     "metadata": {},
     "output_type": "execute_result"
    }
   ],
   "source": [
    "confusion_matrix(y_test, y_pred), average_precision_score(y_test, y_pred)\n"
   ]
  },
  {
   "cell_type": "markdown",
   "metadata": {},
   "source": [
    "#### Decision Tree 1 Summary"
   ]
  },
  {
   "cell_type": "markdown",
   "metadata": {},
   "source": [
    "Initial model exploration: \n",
    "\n",
    " - Split data into 70:30 Train:Test\n",
    " - Predicted likelihood of county being classified as \"Mobile\" (0=false, 1=true) based solely on \n",
    "     - 'Top 1% Income Share'\n",
    "     - 'Interquartile Income Range'\n",
    "     - 'Median Parent Income'\n",
    " - Null values were dropped\n",
    " - Only specified `criterion='entropy'`\n",
    " \n",
    "Results: \n",
    " - Model accuracy was 0.866 (Accuracy is defined as the ratio of correctly predicted examples by the total examples.)\n",
    " - Average Precision Score = 0.23 (The ratio of correct positive predictions to the total predicted positives) (means I'm OVER predicting Mobility)\n",
    "     - this means I said a lot of counties were mobile when they really aren't\n",
    "\n",
    "Next steps:\n",
    " - run same data through logistic regression which will report the likelihood of being classified as Mobile based on the combination of features\n"
   ]
  },
  {
   "cell_type": "markdown",
   "metadata": {},
   "source": [
    "### Decision Tree 2"
   ]
  },
  {
   "cell_type": "markdown",
   "metadata": {},
   "source": [
    "Given unbalanced class, used SMOTE to resample the data. Now using X_res and y_res for fitting. "
   ]
  },
  {
   "cell_type": "code",
   "execution_count": 14,
   "metadata": {
    "ExecuteTime": {
     "end_time": "2019-09-10T23:24:32.890381Z",
     "start_time": "2019-09-10T23:24:32.887204Z"
    }
   },
   "outputs": [],
   "source": [
    "# instantiating and fitting 2nd tree\n",
    "clf_res = DecisionTreeClassifier(criterion='entropy', max_depth=2)\n",
    "# \n",
    "# y_pred_res = clf_res.predict(X_test)"
   ]
  },
  {
   "cell_type": "code",
   "execution_count": 17,
   "metadata": {
    "ExecuteTime": {
     "end_time": "2019-09-10T23:24:58.295018Z",
     "start_time": "2019-09-10T23:24:58.283876Z"
    }
   },
   "outputs": [
    {
     "data": {
      "text/plain": [
       "DecisionTreeClassifier(class_weight=None, criterion='entropy', max_depth=2,\n",
       "                       max_features=None, max_leaf_nodes=None,\n",
       "                       min_impurity_decrease=0.0, min_impurity_split=None,\n",
       "                       min_samples_leaf=1, min_samples_split=2,\n",
       "                       min_weight_fraction_leaf=0.0, presort=False,\n",
       "                       random_state=None, splitter='best')"
      ]
     },
     "execution_count": 17,
     "metadata": {},
     "output_type": "execute_result"
    }
   ],
   "source": [
    "clf_res.fit(pd.DataFrame(X_res), pd.DataFrame(y_res))"
   ]
  },
  {
   "cell_type": "code",
   "execution_count": 29,
   "metadata": {
    "ExecuteTime": {
     "end_time": "2019-09-11T01:38:26.451859Z",
     "start_time": "2019-09-11T01:38:26.447736Z"
    }
   },
   "outputs": [],
   "source": [
    "y_res_pred = clf_res.predict(X_test)"
   ]
  },
  {
   "cell_type": "code",
   "execution_count": 30,
   "metadata": {
    "ExecuteTime": {
     "end_time": "2019-09-11T01:38:28.010440Z",
     "start_time": "2019-09-11T01:38:28.002193Z"
    }
   },
   "outputs": [
    {
     "data": {
      "text/plain": [
       "0.7677496991576414"
      ]
     },
     "execution_count": 30,
     "metadata": {},
     "output_type": "execute_result"
    }
   ],
   "source": [
    "accuracy_score(y_test, y_res_pred)"
   ]
  },
  {
   "cell_type": "code",
   "execution_count": 31,
   "metadata": {
    "ExecuteTime": {
     "end_time": "2019-09-11T01:38:30.657067Z",
     "start_time": "2019-09-11T01:38:30.648497Z"
    }
   },
   "outputs": [
    {
     "data": {
      "text/plain": [
       "0.23870742605731957"
      ]
     },
     "execution_count": 31,
     "metadata": {},
     "output_type": "execute_result"
    }
   ],
   "source": [
    "average_precision_score(y_test, y_res_pred)"
   ]
  },
  {
   "cell_type": "code",
   "execution_count": 32,
   "metadata": {
    "ExecuteTime": {
     "end_time": "2019-09-11T01:38:34.671257Z",
     "start_time": "2019-09-11T01:38:34.514588Z"
    }
   },
   "outputs": [
    {
     "data": {
      "text/plain": [
       "Text(0.5, 1.0, '2-class Precision-Recall curve: AP=0.24')"
      ]
     },
     "execution_count": 32,
     "metadata": {},
     "output_type": "execute_result"
    },
    {
     "data": {
      "image/png": "[encoded data removed]",
      "text/plain": [
       "<Figure size 432x288 with 1 Axes>"
      ]
     },
     "metadata": {
      "needs_background": "light"
     },
     "output_type": "display_data"
    }
   ],
   "source": [
    "average_precision2 = average_precision_score(y_test, y_res_pred)\n",
    "precision2, recall2, _ = precision_recall_curve(y_test, y_res_pred)\n",
    "\n",
    "# In matplotlib < 1.5, plt.fill_between does not have a 'step' argument\n",
    "step_kwargs = ({'step': 'post'}\n",
    "               if 'step' in signature(plt.fill_between).parameters\n",
    "               else {})\n",
    "plt.step(recall2, precision2, color='b', alpha=0.2,\n",
    "         where='post')\n",
    "plt.fill_between(recall2, precision2, alpha=0.2, color='b', **step_kwargs)\n",
    "\n",
    "plt.xlabel('Recall')\n",
    "plt.ylabel('Precision')\n",
    "plt.ylim([0.0, 1.05])\n",
    "plt.xlim([0.0, 1.0])\n",
    "plt.title('2-class Precision-Recall curve: AP={0:0.2f}'.format(\n",
    "          average_precision2))"
   ]
  },
  {
   "cell_type": "markdown",
   "metadata": {
    "heading_collapsed": true
   },
   "source": [
    "#### Decision Tree 2 Summary"
   ]
  },
  {
   "cell_type": "markdown",
   "metadata": {
    "hidden": true
   },
   "source": [
    " - Used split data into 70:30 Train:Test (dropped nulls)\n",
    " - Did SMOTE on X_train, y_train\n",
    " - Only specified `criterion='entropy'`\n",
    " \n",
    "Results: \n",
    " - Model accuracy was 0.767 (Accuracy is defined as the ratio of correctly predicted examples by the total examples.)\n",
    " - Average Precision Score = 0.238 (The ratio of correct positive predictions to the total predicted positives)\n",
    "     - this means I said a lot of counties were mobile when they really aren't\n",
    "\n",
    "Next steps:\n",
    " - run same data through second logistic regression which will report the likelihood of being classified as Mobile based on the combination of features"
   ]
  },
  {
   "cell_type": "code",
   "execution_count": null,
   "metadata": {
    "hidden": true
   },
   "outputs": [],
   "source": []
  },
  {
   "cell_type": "markdown",
   "metadata": {
    "heading_collapsed": true
   },
   "source": [
    "### Logistic Regression 1"
   ]
  },
  {
   "cell_type": "code",
   "execution_count": 63,
   "metadata": {
    "ExecuteTime": {
     "end_time": "2019-09-10T21:33:51.119364Z",
     "start_time": "2019-09-10T21:33:51.029595Z"
    },
    "hidden": true
   },
   "outputs": [
    {
     "data": {
      "text/plain": [
       "LogisticRegression(C=100000.0, class_weight=None, dual=False,\n",
       "          fit_intercept=True, intercept_scaling=1, max_iter=100,\n",
       "          multi_class='warn', n_jobs=None, penalty='l2', random_state=None,\n",
       "          solver='liblinear', tol=0.0001, verbose=0, warm_start=False)"
      ]
     },
     "execution_count": 63,
     "metadata": {},
     "output_type": "execute_result"
    }
   ],
   "source": [
    "# Using sklearn first (but no p-values)\n",
    "regr = LogisticRegression(C=1e5, solver='liblinear')\n",
    "\n",
    "# train the model using the training sets\n",
    "regr.fit(np.array(X_train), np.array(y_train).ravel())"
   ]
  },
  {
   "cell_type": "code",
   "execution_count": 40,
   "metadata": {
    "ExecuteTime": {
     "end_time": "2019-09-10T20:58:00.931547Z",
     "start_time": "2019-09-10T20:58:00.867325Z"
    },
    "hidden": true
   },
   "outputs": [],
   "source": [
    "prediction = regr.predict(X_test)"
   ]
  },
  {
   "cell_type": "code",
   "execution_count": 41,
   "metadata": {
    "ExecuteTime": {
     "end_time": "2019-09-10T20:58:52.487646Z",
     "start_time": "2019-09-10T20:58:52.433026Z"
    },
    "hidden": true
   },
   "outputs": [
    {
     "data": {
      "text/plain": [
       "0.8856799037304453"
      ]
     },
     "execution_count": 41,
     "metadata": {},
     "output_type": "execute_result"
    }
   ],
   "source": [
    "accuracy_score(y_test, predict)"
   ]
  },
  {
   "cell_type": "code",
   "execution_count": 42,
   "metadata": {
    "ExecuteTime": {
     "end_time": "2019-09-10T20:59:41.029128Z",
     "start_time": "2019-09-10T20:59:40.963808Z"
    },
    "hidden": true
   },
   "outputs": [
    {
     "data": {
      "text/plain": [
       "0.1698595390560801"
      ]
     },
     "execution_count": 42,
     "metadata": {},
     "output_type": "execute_result"
    }
   ],
   "source": [
    "average_precision_score(y_test, prediction)"
   ]
  },
  {
   "cell_type": "code",
   "execution_count": 50,
   "metadata": {
    "ExecuteTime": {
     "end_time": "2019-09-10T21:20:41.401834Z",
     "start_time": "2019-09-10T21:20:41.318668Z"
    },
    "hidden": true
   },
   "outputs": [
    {
     "data": {
      "text/plain": [
       "0.0035488980839694702"
      ]
     },
     "execution_count": 50,
     "metadata": {},
     "output_type": "execute_result"
    }
   ],
   "source": [
    "# prob_X_test = []\n",
    "\n",
    "# for \n",
    "# regr.predict_proba(X_test)[0][1] # probability that this county can be classified as Mobile based on the features"
   ]
  },
  {
   "cell_type": "markdown",
   "metadata": {
    "heading_collapsed": true,
    "hidden": true
   },
   "source": [
    "#### Logistic Regression Plotting"
   ]
  },
  {
   "cell_type": "code",
   "execution_count": 51,
   "metadata": {
    "ExecuteTime": {
     "end_time": "2019-09-10T21:26:09.789362Z",
     "start_time": "2019-09-10T21:26:09.429915Z"
    },
    "hidden": true
   },
   "outputs": [],
   "source": [
    "from scipy.special import expit"
   ]
  },
  {
   "cell_type": "code",
   "execution_count": 72,
   "metadata": {
    "ExecuteTime": {
     "end_time": "2019-09-10T21:41:06.247169Z",
     "start_time": "2019-09-10T21:41:05.841226Z"
    },
    "hidden": true
   },
   "outputs": [
    {
     "data": {
      "text/plain": [
       "<Figure size 288x216 with 0 Axes>"
      ]
     },
     "execution_count": 72,
     "metadata": {},
     "output_type": "execute_result"
    },
    {
     "ename": "ValueError",
     "evalue": "Unable to coerce to Series, length must be 3: given 1",
     "output_type": "error",
     "traceback": [
      "\u001b[0;31m---------------------------------------------------------------------------\u001b[0m",
      "\u001b[0;31mValueError\u001b[0m                                Traceback (most recent call last)",
      "\u001b[0;32m<ipython-input-72-1addb9e8c63e>\u001b[0m in \u001b[0;36m<module>\u001b[0;34m\u001b[0m\n\u001b[1;32m      4\u001b[0m \u001b[0;31m#plt.scatter(np.array(X).ravel(), np.array(y).ravel(), color='black', zorder=20)\u001b[0m\u001b[0;34m\u001b[0m\u001b[0;34m\u001b[0m\u001b[0;34m\u001b[0m\u001b[0m\n\u001b[1;32m      5\u001b[0m \u001b[0;34m\u001b[0m\u001b[0m\n\u001b[0;32m----> 6\u001b[0;31m \u001b[0mloss\u001b[0m \u001b[0;34m=\u001b[0m \u001b[0mnp\u001b[0m\u001b[0;34m.\u001b[0m\u001b[0marray\u001b[0m\u001b[0;34m(\u001b[0m\u001b[0mexpit\u001b[0m\u001b[0;34m(\u001b[0m\u001b[0mX_test\u001b[0m \u001b[0;34m*\u001b[0m \u001b[0mregr\u001b[0m\u001b[0;34m.\u001b[0m\u001b[0mcoef_\u001b[0m  \u001b[0;34m+\u001b[0m \u001b[0mregr\u001b[0m\u001b[0;34m.\u001b[0m\u001b[0mintercept_\u001b[0m\u001b[0;34m)\u001b[0m\u001b[0;34m)\u001b[0m\u001b[0;34m.\u001b[0m\u001b[0mravel\u001b[0m\u001b[0;34m(\u001b[0m\u001b[0;34m)\u001b[0m\u001b[0;34m\u001b[0m\u001b[0;34m\u001b[0m\u001b[0m\n\u001b[0m\u001b[1;32m      7\u001b[0m \u001b[0mplt\u001b[0m\u001b[0;34m.\u001b[0m\u001b[0mscatter\u001b[0m\u001b[0;34m(\u001b[0m\u001b[0mnp\u001b[0m\u001b[0;34m.\u001b[0m\u001b[0marray\u001b[0m\u001b[0;34m(\u001b[0m\u001b[0mX_test\u001b[0m\u001b[0;34m)\u001b[0m\u001b[0;34m.\u001b[0m\u001b[0mravel\u001b[0m\u001b[0;34m(\u001b[0m\u001b[0;34m)\u001b[0m\u001b[0;34m,\u001b[0m \u001b[0mloss\u001b[0m\u001b[0;34m,\u001b[0m \u001b[0mcolor\u001b[0m\u001b[0;34m=\u001b[0m\u001b[0;34m'red'\u001b[0m\u001b[0;34m,\u001b[0m \u001b[0mlinewidth\u001b[0m\u001b[0;34m=\u001b[0m\u001b[0;36m3\u001b[0m\u001b[0;34m)\u001b[0m\u001b[0;34m\u001b[0m\u001b[0;34m\u001b[0m\u001b[0m\n\u001b[1;32m      8\u001b[0m \u001b[0;34m\u001b[0m\u001b[0m\n",
      "\u001b[0;32m/anaconda3/lib/python3.7/site-packages/pandas/core/ops.py\u001b[0m in \u001b[0;36mf\u001b[0;34m(self, other, axis, level, fill_value)\u001b[0m\n\u001b[1;32m   2016\u001b[0m     \u001b[0;32mdef\u001b[0m \u001b[0mf\u001b[0m\u001b[0;34m(\u001b[0m\u001b[0mself\u001b[0m\u001b[0;34m,\u001b[0m \u001b[0mother\u001b[0m\u001b[0;34m,\u001b[0m \u001b[0maxis\u001b[0m\u001b[0;34m=\u001b[0m\u001b[0mdefault_axis\u001b[0m\u001b[0;34m,\u001b[0m \u001b[0mlevel\u001b[0m\u001b[0;34m=\u001b[0m\u001b[0;32mNone\u001b[0m\u001b[0;34m,\u001b[0m \u001b[0mfill_value\u001b[0m\u001b[0;34m=\u001b[0m\u001b[0;32mNone\u001b[0m\u001b[0;34m)\u001b[0m\u001b[0;34m:\u001b[0m\u001b[0;34m\u001b[0m\u001b[0;34m\u001b[0m\u001b[0m\n\u001b[1;32m   2017\u001b[0m \u001b[0;34m\u001b[0m\u001b[0m\n\u001b[0;32m-> 2018\u001b[0;31m         \u001b[0mother\u001b[0m \u001b[0;34m=\u001b[0m \u001b[0m_align_method_FRAME\u001b[0m\u001b[0;34m(\u001b[0m\u001b[0mself\u001b[0m\u001b[0;34m,\u001b[0m \u001b[0mother\u001b[0m\u001b[0;34m,\u001b[0m \u001b[0maxis\u001b[0m\u001b[0;34m)\u001b[0m\u001b[0;34m\u001b[0m\u001b[0;34m\u001b[0m\u001b[0m\n\u001b[0m\u001b[1;32m   2019\u001b[0m \u001b[0;34m\u001b[0m\u001b[0m\n\u001b[1;32m   2020\u001b[0m         \u001b[0;32mif\u001b[0m \u001b[0misinstance\u001b[0m\u001b[0;34m(\u001b[0m\u001b[0mother\u001b[0m\u001b[0;34m,\u001b[0m \u001b[0mABCDataFrame\u001b[0m\u001b[0;34m)\u001b[0m\u001b[0;34m:\u001b[0m\u001b[0;34m\u001b[0m\u001b[0;34m\u001b[0m\u001b[0m\n",
      "\u001b[0;32m/anaconda3/lib/python3.7/site-packages/pandas/core/ops.py\u001b[0m in \u001b[0;36m_align_method_FRAME\u001b[0;34m(left, right, axis)\u001b[0m\n\u001b[1;32m   1952\u001b[0m \u001b[0;34m\u001b[0m\u001b[0m\n\u001b[1;32m   1953\u001b[0m         \u001b[0;32mif\u001b[0m \u001b[0mright\u001b[0m\u001b[0;34m.\u001b[0m\u001b[0mndim\u001b[0m \u001b[0;34m==\u001b[0m \u001b[0;36m1\u001b[0m\u001b[0;34m:\u001b[0m\u001b[0;34m\u001b[0m\u001b[0;34m\u001b[0m\u001b[0m\n\u001b[0;32m-> 1954\u001b[0;31m             \u001b[0mright\u001b[0m \u001b[0;34m=\u001b[0m \u001b[0mto_series\u001b[0m\u001b[0;34m(\u001b[0m\u001b[0mright\u001b[0m\u001b[0;34m)\u001b[0m\u001b[0;34m\u001b[0m\u001b[0;34m\u001b[0m\u001b[0m\n\u001b[0m\u001b[1;32m   1955\u001b[0m \u001b[0;34m\u001b[0m\u001b[0m\n\u001b[1;32m   1956\u001b[0m         \u001b[0;32melif\u001b[0m \u001b[0mright\u001b[0m\u001b[0;34m.\u001b[0m\u001b[0mndim\u001b[0m \u001b[0;34m==\u001b[0m \u001b[0;36m2\u001b[0m\u001b[0;34m:\u001b[0m\u001b[0;34m\u001b[0m\u001b[0;34m\u001b[0m\u001b[0m\n",
      "\u001b[0;32m/anaconda3/lib/python3.7/site-packages/pandas/core/ops.py\u001b[0m in \u001b[0;36mto_series\u001b[0;34m(right)\u001b[0m\n\u001b[1;32m   1945\u001b[0m             \u001b[0;32mif\u001b[0m \u001b[0mlen\u001b[0m\u001b[0;34m(\u001b[0m\u001b[0mleft\u001b[0m\u001b[0;34m.\u001b[0m\u001b[0mcolumns\u001b[0m\u001b[0;34m)\u001b[0m \u001b[0;34m!=\u001b[0m \u001b[0mlen\u001b[0m\u001b[0;34m(\u001b[0m\u001b[0mright\u001b[0m\u001b[0;34m)\u001b[0m\u001b[0;34m:\u001b[0m\u001b[0;34m\u001b[0m\u001b[0;34m\u001b[0m\u001b[0m\n\u001b[1;32m   1946\u001b[0m                 raise ValueError(msg.format(req_len=len(left.columns),\n\u001b[0;32m-> 1947\u001b[0;31m                                             given_len=len(right)))\n\u001b[0m\u001b[1;32m   1948\u001b[0m             \u001b[0mright\u001b[0m \u001b[0;34m=\u001b[0m \u001b[0mleft\u001b[0m\u001b[0;34m.\u001b[0m\u001b[0m_constructor_sliced\u001b[0m\u001b[0;34m(\u001b[0m\u001b[0mright\u001b[0m\u001b[0;34m,\u001b[0m \u001b[0mindex\u001b[0m\u001b[0;34m=\u001b[0m\u001b[0mleft\u001b[0m\u001b[0;34m.\u001b[0m\u001b[0mcolumns\u001b[0m\u001b[0;34m)\u001b[0m\u001b[0;34m\u001b[0m\u001b[0;34m\u001b[0m\u001b[0m\n\u001b[1;32m   1949\u001b[0m         \u001b[0;32mreturn\u001b[0m \u001b[0mright\u001b[0m\u001b[0;34m\u001b[0m\u001b[0;34m\u001b[0m\u001b[0m\n",
      "\u001b[0;31mValueError\u001b[0m: Unable to coerce to Series, length must be 3: given 1"
     ]
    },
    {
     "data": {
      "text/plain": [
       "<Figure size 288x216 with 0 Axes>"
      ]
     },
     "metadata": {},
     "output_type": "display_data"
    }
   ],
   "source": [
    "# and plot the result\n",
    "plt.figure(1, figsize=(4, 3))\n",
    "plt.clf()\n",
    "#plt.scatter(np.array(X).ravel(), np.array(y).ravel(), color='black', zorder=20)\n",
    "\n",
    "loss = np.array(expit(X_test * regr.coef_ + regr.intercept_)).ravel()\n",
    "plt.scatter(np.array(X_test).ravel(), loss, color='red', linewidth=3)\n",
    "\n",
    "# ols = linear_model.LinearRegression()\n",
    "# ols.fit(X, y)\n",
    "# plt.plot(X_test, ols.coef_ * X_test + ols.intercept_, linewidth=1)\n",
    "# plt.axhline(.5, color='.5')\n",
    "\n",
    "plt.ylabel('y')\n",
    "plt.xlabel('X')\n",
    "# plt.xticks(range(-5, 10))\n",
    "# plt.yticks([0, 0.5, 1])\n",
    "# plt.ylim(-.25, 1.25)\n",
    "# plt.xlim(-4, 10)\n",
    "plt.legend(('Logistic Regression Model', 'Linear Regression Model'),\n",
    "           loc=\"lower right\", fontsize='small')\n",
    "plt.tight_layout()\n",
    "plt.show()"
   ]
  },
  {
   "cell_type": "code",
   "execution_count": null,
   "metadata": {
    "hidden": true
   },
   "outputs": [],
   "source": [
    "# Variables needed for plotting the distribution: \n",
    "\n",
    "# store the coefficients\n",
    "coef = regr.coef_\n",
    "interc = regr.intercept_\n",
    "# create the linear predictor\n",
    "lin_pred= (X * coef + interc)\n",
    "# perform the log transformation\n",
    "mod_income = 1 / (1 + np.exp(-lin_pred))\n",
    "# sort the numbers to make sure plot looks right\n",
    "age_ordered, mod_income_ordered = zip(*sorted(zip(age ,mod_income.ravel()),key=lambda x: x[0]))\n",
    "\n",
    "X, "
   ]
  },
  {
   "cell_type": "code",
   "execution_count": null,
   "metadata": {
    "hidden": true
   },
   "outputs": [],
   "source": [
    "# Plotting the distribution\n",
    "\n",
    "fig = plt.figure(figsize=(8,6))\n",
    "fig.suptitle('logistic regression', fontsize=16)\n",
    "plt.scatter(age, income_bin)\n",
    "plt.xlabel(\"age\", fontsize=14)\n",
    "plt.ylabel(\"monthly income\", fontsize=14)\n",
    "plt.plot(age_ordered, mod_income_ordered, c = \"black\")\n",
    "plt.show()"
   ]
  },
  {
   "cell_type": "markdown",
   "metadata": {
    "heading_collapsed": true,
    "hidden": true
   },
   "source": [
    "#### Logistic Regression 1 Summary"
   ]
  },
  {
   "cell_type": "markdown",
   "metadata": {
    "hidden": true
   },
   "source": [
    "Initial model exploration: \n",
    "\n",
    " - Used same split data from decision tree: \n",
    "     - had to make the y_train a 1-d array\n",
    "     - null values were dropped\n",
    " - Predicted likelihood of county being classified as \"Mobile\" (0=false, 1=true) based solely on \n",
    "     - 'Top 1% Income Share'\n",
    "     - 'Interquartile Income Range'\n",
    "     - 'Median Parent Income'\n",
    " - Only specified `C=1e5, solver='liblinear'`\n",
    " \n",
    "Results: \n",
    " - Model accuracy was 0.886 (Accuracy is defined as the ratio of correctly predicted examples by the total examples.)\n",
    " - Average Precision Score = 0.170 (The ratio of correct positive predictions to the total predicted positives)\n",
    "     - this means I said a lot of counties were mobile when they really aren't\n",
    "\n",
    "Next steps:\n",
    " - do SMOTE to addressed unbalanced classes\n"
   ]
  },
  {
   "cell_type": "markdown",
   "metadata": {},
   "source": [
    "### Logistic Regression 2 - SMOTE vs. \"balanced\""
   ]
  },
  {
   "cell_type": "code",
   "execution_count": 34,
   "metadata": {
    "ExecuteTime": {
     "end_time": "2019-09-11T01:50:17.191512Z",
     "start_time": "2019-09-11T01:50:17.177313Z"
    }
   },
   "outputs": [
    {
     "data": {
      "text/plain": [
       "(0.7713598074608905, 0.2482901556175473)"
      ]
     },
     "execution_count": 34,
     "metadata": {},
     "output_type": "execute_result"
    }
   ],
   "source": [
    "# Using 'balanced' class_weight in the Logistic Regression instance\n",
    "regr = LogisticRegression(C=1e5, solver='liblinear', class_weight='balanced')\n",
    "\n",
    "# train the model using the original training sets\n",
    "regr.fit(np.array(X_train), np.array(y_train).ravel())\n",
    "prediction = regr.predict(X_test)\n",
    "accuracy_score(y_test, prediction), average_precision_score(y_test, prediction)"
   ]
  },
  {
   "cell_type": "code",
   "execution_count": 35,
   "metadata": {
    "ExecuteTime": {
     "end_time": "2019-09-11T01:52:59.658384Z",
     "start_time": "2019-09-11T01:52:59.646320Z"
    }
   },
   "outputs": [
    {
     "data": {
      "text/plain": [
       "(0.7821901323706378, 0.2570729920992474)"
      ]
     },
     "execution_count": 35,
     "metadata": {},
     "output_type": "execute_result"
    }
   ],
   "source": [
    "# Using SMOTE data instead of balanced classes, to compare the performance of SMOTE vs. the module's balancing\n",
    "regr2 = LogisticRegression(C=1e5, solver='liblinear')\n",
    "\n",
    "# train the model using the SMOTE-resampled training sets\n",
    "regr2.fit(np.array(X_res), np.array(y_res).ravel())\n",
    "y_res_pred2 = regr2.predict(X_test)\n",
    "accuracy_score(y_test, y_res_pred2), average_precision_score(y_test, y_res_pred2)"
   ]
  },
  {
   "cell_type": "markdown",
   "metadata": {},
   "source": [
    "#### Logistic Regression 2 Summary"
   ]
  },
  {
   "cell_type": "markdown",
   "metadata": {},
   "source": [
    "Using 'balanced' class_weight in the Logistic Regression instance:\n",
    "\n",
    "Accuracy Score = 0.771  \n",
    "Precision = 0.248  \n",
    "\n",
    "Using SMOTE data instead of balanced classes\n",
    "\n",
    "Accuracy Score = 0.782  \n",
    "Precision = 0.257  "
   ]
  },
  {
   "cell_type": "markdown",
   "metadata": {},
   "source": [
    "## Modeling on County Income+Health Data merged\n",
    "Decision Tree, Logistic Regression, Random Forest"
   ]
  },
  {
   "cell_type": "markdown",
   "metadata": {
    "heading_collapsed": true
   },
   "source": [
    "### Bring in Data and Setup"
   ]
  },
  {
   "cell_type": "code",
   "execution_count": 37,
   "metadata": {
    "ExecuteTime": {
     "end_time": "2019-09-11T16:56:55.325983Z",
     "start_time": "2019-09-11T16:56:54.976966Z"
    },
    "hidden": true
   },
   "outputs": [],
   "source": [
    "county_imputed = pd.read_pickle('../../data/03_processed/county_merged_imputed')\n",
    "county_dropped = pd.read_pickle('../../data/03_processed/county_merged_dropped_NaNs')"
   ]
  },
  {
   "cell_type": "code",
   "execution_count": 38,
   "metadata": {
    "ExecuteTime": {
     "end_time": "2019-09-11T16:59:25.786295Z",
     "start_time": "2019-09-11T16:59:25.733074Z"
    },
    "hidden": true
   },
   "outputs": [
    {
     "data": {
      "text/plain": [
       "Index(['County FIPS Code', 'County Name', 'Commuting Zone ID',\n",
       "       'Commuting Zone Name ', 'State', 'Target', 'rank_diff',\n",
       "       'Number of Children in Core Sample', 'Rank-Rank Slope',\n",
       "       'Absolute Upward Mobility', 'Top 1% Income Share',\n",
       "       'Interquartile Income Range', 'Share Between p25 and p75',\n",
       "       'Mean Parent Income', 'Mean Child Income', 'Parent Income P25',\n",
       "       'Child Income P25', 'Median Parent Income', 'Median Child Income',\n",
       "       'Parent Income P75', 'Child Income P75', 'Parent Income P90',\n",
       "       'Child Income P90', 'Parent Income P99', 'Child Income P99', 'Gini',\n",
       "       'Teenage Birth Rate', 'Adult obesity', 'Children in poverty',\n",
       "       'Daily fine particulate matter', 'Diabetic screening',\n",
       "       'Mammography screening', 'Physical inactivity', 'Premature Death',\n",
       "       'Preventable hospital stays', 'Sexually transmitted infections',\n",
       "       'Unemployment', 'Uninsured', 'Violent crime rate'],\n",
       "      dtype='object')"
      ]
     },
     "execution_count": 38,
     "metadata": {},
     "output_type": "execute_result"
    }
   ],
   "source": [
    "county_imputed.columns"
   ]
  },
  {
   "cell_type": "code",
   "execution_count": 39,
   "metadata": {
    "ExecuteTime": {
     "end_time": "2019-09-11T17:03:19.008471Z",
     "start_time": "2019-09-11T17:03:18.997765Z"
    },
    "hidden": true
   },
   "outputs": [],
   "source": [
    "features_total = ['Top 1% Income Share', 'Interquartile Income Range',\n",
    "                  'Share Between p25 and p75', 'Mean Parent Income', 'Parent Income P25',\n",
    "                  'Median Parent Income', 'Parent Income P75',\n",
    "                  'Parent Income P90', 'Parent Income P99',  'Teenage Birth Rate',\n",
    "                  'Adult obesity', 'Children in poverty',\n",
    "                  'Daily fine particulate matter', 'Diabetic screening',\n",
    "                  'Mammography screening', 'Physical inactivity',\n",
    "                  'Premature Death', 'Preventable hospital stays',\n",
    "                  'Sexually transmitted infections', 'Unemployment',\n",
    "                  'Uninsured', 'Violent crime rate']"
   ]
  },
  {
   "cell_type": "code",
   "execution_count": 40,
   "metadata": {
    "ExecuteTime": {
     "end_time": "2019-09-11T17:07:59.309636Z",
     "start_time": "2019-09-11T17:07:59.103974Z"
    },
    "hidden": true
   },
   "outputs": [],
   "source": [
    "X_drop = county_dropped[features_total]\n",
    "y_drop = county_dropped[['Target']]\n",
    "\n",
    "X_imp = county_imputed[features_total]\n",
    "y_imp = county_imputed[['Target']]"
   ]
  },
  {
   "cell_type": "code",
   "execution_count": 41,
   "metadata": {
    "ExecuteTime": {
     "end_time": "2019-09-11T17:08:00.628559Z",
     "start_time": "2019-09-11T17:08:00.500004Z"
    },
    "hidden": true
   },
   "outputs": [],
   "source": [
    "X_drop_train, X_drop_test, y_drop_train, y_drop_test = train_test_split(X_drop, y_drop,\n",
    "                                                                        test_size=0.3,\n",
    "                                                                        random_state=5)"
   ]
  },
  {
   "cell_type": "code",
   "execution_count": 42,
   "metadata": {
    "ExecuteTime": {
     "end_time": "2019-09-11T17:08:01.415904Z",
     "start_time": "2019-09-11T17:08:01.397249Z"
    },
    "hidden": true
   },
   "outputs": [],
   "source": [
    "X_imp_train, X_imp_test, y_imp_train, y_imp_test = train_test_split(X_imp, y_imp,\n",
    "                                                                    test_size=0.3,\n",
    "                                                                    random_state=5)"
   ]
  },
  {
   "cell_type": "markdown",
   "metadata": {},
   "source": [
    "### Decision Trees\n",
    "\n",
    "One for \"Dropped NaNs\" and one for \"Imputed\""
   ]
  },
  {
   "cell_type": "markdown",
   "metadata": {
    "heading_collapsed": true
   },
   "source": [
    "#### Tree for imputed"
   ]
  },
  {
   "cell_type": "code",
   "execution_count": 43,
   "metadata": {
    "ExecuteTime": {
     "end_time": "2019-09-11T18:09:38.310987Z",
     "start_time": "2019-09-11T18:09:37.938611Z"
    },
    "hidden": true
   },
   "outputs": [],
   "source": [
    "imp = DecisionTreeClassifier(criterion='entropy')\n",
    "imp.fit(X_imp_train, y_imp_train)\n",
    "y_imp_pred = imp.predict(X_imp_test)"
   ]
  },
  {
   "cell_type": "code",
   "execution_count": 48,
   "metadata": {
    "ExecuteTime": {
     "end_time": "2019-09-11T18:10:35.954247Z",
     "start_time": "2019-09-11T18:10:35.939037Z"
    },
    "hidden": true
   },
   "outputs": [
    {
     "data": {
      "text/plain": [
       "(0.9151643690349947, array([[797,  41],\n",
       "        [ 39,  66]]), 0.4290743260366951)"
      ]
     },
     "execution_count": 48,
     "metadata": {},
     "output_type": "execute_result"
    }
   ],
   "source": [
    "\n",
    "average_precision_imp = average_precision_score(y_imp_test, y_imp_pred)\n",
    "accuracy_score(y_imp_test, y_imp_pred), confusion_matrix(y_imp_test, y_imp_pred), average_precision_score(y_imp_test, y_imp_pred)"
   ]
  },
  {
   "cell_type": "markdown",
   "metadata": {},
   "source": [
    "#### Tree for Dropped "
   ]
  },
  {
   "cell_type": "code",
   "execution_count": 45,
   "metadata": {
    "ExecuteTime": {
     "end_time": "2019-09-11T18:09:46.841212Z",
     "start_time": "2019-09-11T18:09:46.791814Z"
    }
   },
   "outputs": [],
   "source": [
    "drop = DecisionTreeClassifier(criterion='entropy')\n",
    "drop.fit(X_drop_train, y_drop_train)\n",
    "y_drop_pred = drop.predict(X_drop_test)"
   ]
  },
  {
   "cell_type": "code",
   "execution_count": 47,
   "metadata": {
    "ExecuteTime": {
     "end_time": "2019-09-11T18:10:29.665886Z",
     "start_time": "2019-09-11T18:10:29.643003Z"
    }
   },
   "outputs": [
    {
     "data": {
      "text/plain": [
       "(0.9058240396530359, array([[670,  51],\n",
       "        [ 25,  61]]), 0.41729537950738343)"
      ]
     },
     "execution_count": 47,
     "metadata": {},
     "output_type": "execute_result"
    }
   ],
   "source": [
    "\n",
    "average_precision_drop = average_precision_score(y_imp_test, y_imp_pred)\n",
    "accuracy_score(y_drop_test, y_drop_pred), confusion_matrix(y_drop_test, y_drop_pred), average_precision_score(y_drop_test, y_drop_pred)"
   ]
  },
  {
   "cell_type": "markdown",
   "metadata": {},
   "source": [
    "### Logistic Regressions"
   ]
  },
  {
   "cell_type": "markdown",
   "metadata": {},
   "source": [
    "#### Logistic for Imputed"
   ]
  },
  {
   "cell_type": "code",
   "execution_count": 49,
   "metadata": {
    "ExecuteTime": {
     "end_time": "2019-09-11T18:23:45.986963Z",
     "start_time": "2019-09-11T18:23:45.443301Z"
    }
   },
   "outputs": [
    {
     "data": {
      "text/plain": [
       "(0.8048780487804879, 0.2943341304562491)"
      ]
     },
     "execution_count": 49,
     "metadata": {},
     "output_type": "execute_result"
    }
   ],
   "source": [
    "# Using 'balanced' class_weight in the Logistic Regression instance\n",
    "regr_imp = LogisticRegression(C=1e5, solver='liblinear', class_weight='balanced')\n",
    "\n",
    "# train the model using the original training sets\n",
    "regr_imp.fit(np.array(X_imp_train), np.array(y_imp_train).ravel())\n",
    "prediction_imp = regr_imp.predict(X_imp_test)\n",
    "accuracy_score(y_imp_test, prediction_imp), average_precision_score(y_imp_test, prediction_imp)"
   ]
  },
  {
   "cell_type": "markdown",
   "metadata": {},
   "source": [
    "#### Logistic for Dropped"
   ]
  },
  {
   "cell_type": "code",
   "execution_count": 50,
   "metadata": {
    "ExecuteTime": {
     "end_time": "2019-09-11T18:29:18.365316Z",
     "start_time": "2019-09-11T18:29:18.195275Z"
    }
   },
   "outputs": [
    {
     "data": {
      "text/plain": [
       "(0.8029739776951673, 0.30298942967335296)"
      ]
     },
     "execution_count": 50,
     "metadata": {},
     "output_type": "execute_result"
    }
   ],
   "source": [
    "# Using 'balanced' class_weight in the Logistic Regression instance\n",
    "regr_drop = LogisticRegression(C=1e5, solver='liblinear', class_weight='balanced')\n",
    "\n",
    "# train the model using the original training sets\n",
    "regr_drop.fit(np.array(X_drop_train), np.array(y_drop_train).ravel())\n",
    "prediction_drop = regr_drop.predict(X_drop_test)\n",
    "accuracy_score(y_drop_test, prediction_drop), average_precision_score(y_drop_test, prediction_drop)"
   ]
  },
  {
   "cell_type": "code",
   "execution_count": 53,
   "metadata": {
    "ExecuteTime": {
     "end_time": "2019-09-11T18:41:35.250266Z",
     "start_time": "2019-09-11T18:41:34.985910Z"
    }
   },
   "outputs": [
    {
     "name": "stdout",
     "output_type": "stream",
     "text": [
      "AUC is 0.9048801728864948\n"
     ]
    },
    {
     "data": {
      "text/plain": [
       "(0.0, 1.05)"
      ]
     },
     "execution_count": 53,
     "metadata": {},
     "output_type": "execute_result"
    },
    {
     "data": {
      "image/png": "[encoded data removed]",
      "text/plain": [
       "<Figure size 432x288 with 1 Axes>"
      ]
     },
     "metadata": {
      "needs_background": "light"
     },
     "output_type": "display_data"
    }
   ],
   "source": [
    "y_drop_score = regr_drop.fit(np.array(X_drop_train),\n",
    "                             np.array(y_drop_train).ravel()).decision_function(X_drop_test)\n",
    "fpr, tpr, thresholds = roc_curve(y_drop_test, y_drop_score)\n",
    "auc(fpr, tpr)\n",
    "print('AUC is {}'.format(auc(fpr, tpr)))\n",
    "plt.plot(fpr, tpr, color='b',\n",
    "             lw=2, label='ROC curve')\n",
    "plt.plot([0, 1], [0, 1], color='navy', lw=2, linestyle='--')\n",
    "plt.xlim([0.0, 1.0])\n",
    "plt.ylim([0.0, 1.05])\n",
    "\n"
   ]
  },
  {
   "cell_type": "code",
   "execution_count": null,
   "metadata": {},
   "outputs": [],
   "source": []
  },
  {
   "cell_type": "markdown",
   "metadata": {},
   "source": [
    "### Random Forest"
   ]
  },
  {
   "cell_type": "code",
   "execution_count": null,
   "metadata": {},
   "outputs": [],
   "source": []
  },
  {
   "cell_type": "markdown",
   "metadata": {},
   "source": [
    "## Conclusions and Next Steps\n",
    "\n",
    "\n",
    "Consider running Ridge and Lasso regressions to give indication of Feature Importance. Compare to Random Forest. \n",
    " - need to scale data before doing Ridge and Lasso"
   ]
  },
  {
   "cell_type": "code",
   "execution_count": null,
   "metadata": {},
   "outputs": [],
   "source": []
  }
 ],
 "metadata": {
  "kernelspec": {
   "display_name": "Python 3",
   "language": "python",
   "name": "python3"
  },
  "language_info": {
   "codemirror_mode": {
    "name": "ipython",
    "version": 3
   },
   "file_extension": ".py",
   "mimetype": "text/x-python",
   "name": "python",
   "nbconvert_exporter": "python",
   "pygments_lexer": "ipython3",
   "version": "3.7.3"
  },
  "toc": {
   "base_numbering": 1,
   "nav_menu": {},
   "number_sections": true,
   "sideBar": true,
   "skip_h1_title": true,
   "title_cell": "Table of Contents",
   "title_sidebar": "Contents",
   "toc_cell": false,
   "toc_position": {},
   "toc_section_display": true,
   "toc_window_display": false
  }
 },
 "nbformat": 4,
 "nbformat_minor": 2
}
