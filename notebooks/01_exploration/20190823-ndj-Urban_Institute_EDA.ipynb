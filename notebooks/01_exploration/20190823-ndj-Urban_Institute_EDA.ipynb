{
 "cells": [
  {
   "cell_type": "markdown",
   "metadata": {},
   "source": [
    "# Urban Institute - Data Exploration\n",
    "\n",
    "This notebook is devoted to exploring data from the Urban Institute. \n",
    "Some data is called directly from the API: \n",
    "https://educationdata.urban.org/documentation/#how_to_use\n",
    "\n",
    "Some data is downloaded directly from their \"Data Explorer\": \n",
    "https://educationdata.urban.org/data-explorer/school-districts/ \n",
    "\n",
    "Citation: \n",
    "\n",
    "Education Data Portal (Version 0.5.0 - Beta), Urban Institute, Center on Education Data and Policy, accessed August, 23, 2019, https://educationdata.urban.org/documentation/, [datasets].\n",
    "\n",
    "_The Education Data Explorer harmonizes data from all major federal datasets, including the US Department of Education Common Core of Data, the US Department of Education Civil Rights Data Collection, the US Department of Education EDFacts, the US Census Bureau Small Area Income and Poverty Estimates, the US Department of Education Integrated Postsecondary Education Data System, and the US Department of Education College Scorecard._"
   ]
  },
  {
   "cell_type": "code",
   "execution_count": 22,
   "metadata": {
    "ExecuteTime": {
     "end_time": "2019-08-30T20:39:23.633749Z",
     "start_time": "2019-08-30T20:39:23.560233Z"
    },
    "hide_input": true
   },
   "outputs": [],
   "source": [
    "# Data manipulation\n",
    "import pandas as pd\n",
    "import numpy as np\n",
    "\n",
    "# Options for pandas\n",
    "pd.options.display.max_columns = None\n",
    "pd.options.display.max_rows = None"
   ]
  },
  {
   "cell_type": "code",
   "execution_count": 1,
   "metadata": {
    "ExecuteTime": {
     "end_time": "2019-08-30T19:55:57.620117Z",
     "start_time": "2019-08-30T19:55:40.815815Z"
    },
    "hide_input": true
   },
   "outputs": [
    {
     "data": {
      "text/html": [
       "        <script type=\"text/javascript\">\n",
       "        window.PlotlyConfig = {MathJaxConfig: 'local'};\n",
       "        if (window.MathJax) {MathJax.Hub.Config({SVG: {font: \"STIX-Web\"}});}\n",
       "        if (typeof require !== 'undefined') {\n",
       "        require.undef(\"plotly\");\n",
       "        requirejs.config({\n",
       "            paths: {\n",
       "                'plotly': ['https://cdn.plot.ly/plotly-latest.min']\n",
       "            }\n",
       "        });\n",
       "        require(['plotly'], function(Plotly) {\n",
       "            window._Plotly = Plotly;\n",
       "        });\n",
       "        }\n",
       "        </script>\n",
       "        "
      ]
     },
     "metadata": {},
     "output_type": "display_data"
    },
    {
     "data": {
      "text/html": [
       "        <script type=\"text/javascript\">\n",
       "        window.PlotlyConfig = {MathJaxConfig: 'local'};\n",
       "        if (window.MathJax) {MathJax.Hub.Config({SVG: {font: \"STIX-Web\"}});}\n",
       "        if (typeof require !== 'undefined') {\n",
       "        require.undef(\"plotly\");\n",
       "        requirejs.config({\n",
       "            paths: {\n",
       "                'plotly': ['https://cdn.plot.ly/plotly-latest.min']\n",
       "            }\n",
       "        });\n",
       "        require(['plotly'], function(Plotly) {\n",
       "            window._Plotly = Plotly;\n",
       "        });\n",
       "        }\n",
       "        </script>\n",
       "        "
      ]
     },
     "metadata": {},
     "output_type": "display_data"
    }
   ],
   "source": [
    "# Display all cell outputs\n",
    "from IPython.core.interactiveshell import InteractiveShell\n",
    "InteractiveShell.ast_node_interactivity = 'all'\n",
    "\n",
    "from IPython import get_ipython\n",
    "ipython = get_ipython()\n",
    "\n",
    "# autoreload extension\n",
    "if 'autoreload' not in ipython.extension_manager.loaded:\n",
    "    %load_ext autoreload\n",
    "\n",
    "%autoreload 2\n",
    "\n",
    "# Visualizations\n",
    "import plotly.plotly as py\n",
    "import plotly.graph_objs as go\n",
    "from plotly.offline import iplot, init_notebook_mode\n",
    "init_notebook_mode(connected=True)\n",
    "\n",
    "import cufflinks as cf\n",
    "cf.go_offline(connected=True)\n",
    "cf.set_config_file(theme='white')"
   ]
  },
  {
   "cell_type": "code",
   "execution_count": 45,
   "metadata": {
    "ExecuteTime": {
     "end_time": "2019-09-03T19:58:16.014570Z",
     "start_time": "2019-09-03T19:58:15.301729Z"
    },
    "hide_input": true
   },
   "outputs": [],
   "source": [
    "from json import loads\n",
    "import urllib"
   ]
  },
  {
   "cell_type": "code",
   "execution_count": 46,
   "metadata": {
    "ExecuteTime": {
     "end_time": "2019-09-03T19:58:17.717042Z",
     "start_time": "2019-09-03T19:58:16.028748Z"
    },
    "hide_input": false
   },
   "outputs": [],
   "source": [
    "url = \"https://educationdata.urban.org/api/v1/school-districts/saipe/2008/\"\n",
    "response = urllib.request.urlopen(url)\n",
    "data = loads(response.read())"
   ]
  },
  {
   "cell_type": "markdown",
   "metadata": {},
   "source": [
    "-Above, we learned that the \"urlopen\" module lives inside of requests. Did I need urllib since I imported requests?-\n",
    "\n",
    "        Not true, didn't need \"requests\" library, just had to specify \"request\" module inside of \"urllib\""
   ]
  },
  {
   "cell_type": "markdown",
   "metadata": {},
   "source": [
    "## Analysis/Modeling\n",
    "Do work here"
   ]
  },
  {
   "cell_type": "code",
   "execution_count": 48,
   "metadata": {
    "ExecuteTime": {
     "end_time": "2019-09-03T19:58:31.184325Z",
     "start_time": "2019-09-03T19:58:30.944148Z"
    }
   },
   "outputs": [],
   "source": [
    "df = pd.DataFrame(data)"
   ]
  },
  {
   "cell_type": "code",
   "execution_count": 54,
   "metadata": {
    "ExecuteTime": {
     "end_time": "2019-09-03T20:28:38.873663Z",
     "start_time": "2019-09-03T20:28:38.772502Z"
    }
   },
   "outputs": [
    {
     "name": "stdout",
     "output_type": "stream",
     "text": [
      "<class 'pandas.core.frame.DataFrame'>\n",
      "RangeIndex: 1000 entries, 0 to 999\n",
      "Data columns (total 4 columns):\n",
      "count       1000 non-null int64\n",
      "next        1000 non-null object\n",
      "previous    0 non-null object\n",
      "results     1000 non-null object\n",
      "dtypes: int64(1), object(3)\n",
      "memory usage: 31.3+ KB\n"
     ]
    }
   ],
   "source": [
    "df.info()"
   ]
  },
  {
   "cell_type": "code",
   "execution_count": 49,
   "metadata": {
    "ExecuteTime": {
     "end_time": "2019-09-03T20:26:25.480395Z",
     "start_time": "2019-09-03T20:26:24.354044Z"
    }
   },
   "outputs": [
    {
     "data": {
      "text/html": [
       "<div>\n",
       "<style scoped>\n",
       "    .dataframe tbody tr th:only-of-type {\n",
       "        vertical-align: middle;\n",
       "    }\n",
       "\n",
       "    .dataframe tbody tr th {\n",
       "        vertical-align: top;\n",
       "    }\n",
       "\n",
       "    .dataframe thead th {\n",
       "        text-align: right;\n",
       "    }\n",
       "</style>\n",
       "<table border=\"1\" class=\"dataframe\">\n",
       "  <thead>\n",
       "    <tr style=\"text-align: right;\">\n",
       "      <th></th>\n",
       "      <th>count</th>\n",
       "      <th>next</th>\n",
       "      <th>previous</th>\n",
       "      <th>results</th>\n",
       "    </tr>\n",
       "  </thead>\n",
       "  <tbody>\n",
       "    <tr>\n",
       "      <th>0</th>\n",
       "      <td>13754</td>\n",
       "      <td>https://educationdata.urban.org/api/v1/school-...</td>\n",
       "      <td>None</td>\n",
       "      <td>{'district_id': '00001', 'district_name': 'DEW...</td>\n",
       "    </tr>\n",
       "    <tr>\n",
       "      <th>1</th>\n",
       "      <td>13754</td>\n",
       "      <td>https://educationdata.urban.org/api/v1/school-...</td>\n",
       "      <td>None</td>\n",
       "      <td>{'district_id': '00001', 'district_name': 'MAR...</td>\n",
       "    </tr>\n",
       "    <tr>\n",
       "      <th>2</th>\n",
       "      <td>13754</td>\n",
       "      <td>https://educationdata.urban.org/api/v1/school-...</td>\n",
       "      <td>None</td>\n",
       "      <td>{'district_id': '00001', 'district_name': 'VAU...</td>\n",
       "    </tr>\n",
       "    <tr>\n",
       "      <th>3</th>\n",
       "      <td>13754</td>\n",
       "      <td>https://educationdata.urban.org/api/v1/school-...</td>\n",
       "      <td>None</td>\n",
       "      <td>{'district_id': '00001', 'district_name': 'CAS...</td>\n",
       "    </tr>\n",
       "    <tr>\n",
       "      <th>4</th>\n",
       "      <td>13754</td>\n",
       "      <td>https://educationdata.urban.org/api/v1/school-...</td>\n",
       "      <td>None</td>\n",
       "      <td>{'district_id': '00001', 'district_name': 'FOR...</td>\n",
       "    </tr>\n",
       "  </tbody>\n",
       "</table>\n",
       "</div>"
      ],
      "text/plain": [
       "   count                                               next previous  \\\n",
       "0  13754  https://educationdata.urban.org/api/v1/school-...     None   \n",
       "1  13754  https://educationdata.urban.org/api/v1/school-...     None   \n",
       "2  13754  https://educationdata.urban.org/api/v1/school-...     None   \n",
       "3  13754  https://educationdata.urban.org/api/v1/school-...     None   \n",
       "4  13754  https://educationdata.urban.org/api/v1/school-...     None   \n",
       "\n",
       "                                             results  \n",
       "0  {'district_id': '00001', 'district_name': 'DEW...  \n",
       "1  {'district_id': '00001', 'district_name': 'MAR...  \n",
       "2  {'district_id': '00001', 'district_name': 'VAU...  \n",
       "3  {'district_id': '00001', 'district_name': 'CAS...  \n",
       "4  {'district_id': '00001', 'district_name': 'FOR...  "
      ]
     },
     "execution_count": 49,
     "metadata": {},
     "output_type": "execute_result"
    },
    {
     "data": {
      "text/plain": [
       "Index(['count', 'next', 'previous', 'results'], dtype='object')"
      ]
     },
     "execution_count": 49,
     "metadata": {},
     "output_type": "execute_result"
    }
   ],
   "source": [
    "df.head()\n",
    "df.columns"
   ]
  },
  {
   "cell_type": "code",
   "execution_count": 50,
   "metadata": {
    "ExecuteTime": {
     "end_time": "2019-09-03T20:27:13.777654Z",
     "start_time": "2019-09-03T20:27:13.571759Z"
    }
   },
   "outputs": [],
   "source": [
    "results = pd.DataFrame([df.loc[x, 'results'] for x in range(len(df))])\n",
    "\n"
   ]
  },
  {
   "cell_type": "code",
   "execution_count": 53,
   "metadata": {
    "ExecuteTime": {
     "end_time": "2019-09-03T20:28:08.085330Z",
     "start_time": "2019-09-03T20:28:07.637018Z"
    }
   },
   "outputs": [
    {
     "name": "stdout",
     "output_type": "stream",
     "text": [
      "<class 'pandas.core.frame.DataFrame'>\n",
      "RangeIndex: 1000 entries, 0 to 999\n",
      "Data columns (total 10 columns):\n",
      "district_id                        1000 non-null object\n",
      "district_name                      1000 non-null object\n",
      "est_population_5_17                1000 non-null float64\n",
      "est_population_5_17_pct            996 non-null float64\n",
      "est_population_5_17_poverty        1000 non-null float64\n",
      "est_population_5_17_poverty_pct    996 non-null float64\n",
      "est_population_total               1000 non-null float64\n",
      "fips                               1000 non-null object\n",
      "leaid                              1000 non-null object\n",
      "year                               1000 non-null int64\n",
      "dtypes: float64(5), int64(1), object(4)\n",
      "memory usage: 78.2+ KB\n"
     ]
    }
   ],
   "source": [
    "results.info()"
   ]
  },
  {
   "cell_type": "markdown",
   "metadata": {},
   "source": [
    "## Results\n",
    "Show graphs and stats here"
   ]
  },
  {
   "cell_type": "markdown",
   "metadata": {},
   "source": [
    "## Conclusions and Next Steps\n",
    "Summarize findings here"
   ]
  },
  {
   "cell_type": "code",
   "execution_count": null,
   "metadata": {},
   "outputs": [],
   "source": []
  }
 ],
 "metadata": {
  "kernelspec": {
   "display_name": "Python 3",
   "language": "python",
   "name": "python3"
  },
  "language_info": {
   "codemirror_mode": {
    "name": "ipython",
    "version": 3
   },
   "file_extension": ".py",
   "mimetype": "text/x-python",
   "name": "python",
   "nbconvert_exporter": "python",
   "pygments_lexer": "ipython3",
   "version": "3.7.3"
  },
  "toc": {
   "base_numbering": 1,
   "nav_menu": {},
   "number_sections": true,
   "sideBar": true,
   "skip_h1_title": true,
   "title_cell": "Table of Contents",
   "title_sidebar": "Contents",
   "toc_cell": false,
   "toc_position": {
    "height": "calc(100% - 180px)",
    "left": "10px",
    "top": "150px",
    "width": "217.309px"
   },
   "toc_section_display": true,
   "toc_window_display": true
  }
 },
 "nbformat": 4,
 "nbformat_minor": 2
}
