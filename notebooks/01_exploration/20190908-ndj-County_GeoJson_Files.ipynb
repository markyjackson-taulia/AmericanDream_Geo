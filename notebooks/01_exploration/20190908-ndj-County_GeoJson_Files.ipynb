{
 "cells": [
  {
   "cell_type": "markdown",
   "metadata": {},
   "source": [
    "# County GeoJSON Plotting\n",
    "State notebook purpose here"
   ]
  },
  {
   "cell_type": "markdown",
   "metadata": {},
   "source": [
    "### Imports\n",
    "Import libraries and write settings here."
   ]
  },
  {
   "cell_type": "code",
   "execution_count": 45,
   "metadata": {
    "ExecuteTime": {
     "end_time": "2019-09-09T09:01:15.505411Z",
     "start_time": "2019-09-09T09:01:15.141946Z"
    }
   },
   "outputs": [],
   "source": [
    "# Data manipulation\n",
    "import pandas as pd\n",
    "import numpy as np\n",
    "import geopandas as gpd\n",
    "import os\n",
    "import folium\n",
    "import json\n",
    "import requests\n",
    "import ast\n",
    "import sys\n",
    "# Options for pandas\n",
    "pd.options.display.max_columns = None\n",
    "pd.options.display.max_rows = 30"
   ]
  },
  {
   "cell_type": "code",
   "execution_count": 1,
   "metadata": {
    "ExecuteTime": {
     "end_time": "2019-09-09T01:21:47.787547Z",
     "start_time": "2019-09-09T01:21:36.041021Z"
    },
    "scrolled": true
   },
   "outputs": [
    {
     "data": {
      "text/html": [
       "        <script type=\"text/javascript\">\n",
       "        window.PlotlyConfig = {MathJaxConfig: 'local'};\n",
       "        if (window.MathJax) {MathJax.Hub.Config({SVG: {font: \"STIX-Web\"}});}\n",
       "        if (typeof require !== 'undefined') {\n",
       "        require.undef(\"plotly\");\n",
       "        requirejs.config({\n",
       "            paths: {\n",
       "                'plotly': ['https://cdn.plot.ly/plotly-latest.min']\n",
       "            }\n",
       "        });\n",
       "        require(['plotly'], function(Plotly) {\n",
       "            window._Plotly = Plotly;\n",
       "        });\n",
       "        }\n",
       "        </script>\n",
       "        "
      ]
     },
     "metadata": {},
     "output_type": "display_data"
    },
    {
     "data": {
      "text/html": [
       "        <script type=\"text/javascript\">\n",
       "        window.PlotlyConfig = {MathJaxConfig: 'local'};\n",
       "        if (window.MathJax) {MathJax.Hub.Config({SVG: {font: \"STIX-Web\"}});}\n",
       "        if (typeof require !== 'undefined') {\n",
       "        require.undef(\"plotly\");\n",
       "        requirejs.config({\n",
       "            paths: {\n",
       "                'plotly': ['https://cdn.plot.ly/plotly-latest.min']\n",
       "            }\n",
       "        });\n",
       "        require(['plotly'], function(Plotly) {\n",
       "            window._Plotly = Plotly;\n",
       "        });\n",
       "        }\n",
       "        </script>\n",
       "        "
      ]
     },
     "metadata": {},
     "output_type": "display_data"
    }
   ],
   "source": [
    "# Display all cell outputs\n",
    "from IPython.core.interactiveshell import InteractiveShell\n",
    "InteractiveShell.ast_node_interactivity = 'all'\n",
    "\n",
    "from IPython import get_ipython\n",
    "ipython = get_ipython()\n",
    "\n",
    "# autoreload extension\n",
    "if 'autoreload' not in ipython.extension_manager.loaded:\n",
    "    %load_ext autoreload\n",
    "\n",
    "%autoreload 2\n",
    "\n",
    "# Visualizations\n",
    "import plotly.plotly as py\n",
    "import plotly.graph_objs as go\n",
    "from plotly.offline import iplot, init_notebook_mode\n",
    "init_notebook_mode(connected=True)\n",
    "\n",
    "import cufflinks as cf\n",
    "cf.go_offline(connected=True)\n",
    "cf.set_config_file(theme='white')"
   ]
  },
  {
   "cell_type": "markdown",
   "metadata": {},
   "source": [
    "Data from:\n",
    "https://eric.clst.org/tech/usgeojson/"
   ]
  },
  {
   "cell_type": "code",
   "execution_count": 15,
   "metadata": {
    "ExecuteTime": {
     "end_time": "2019-09-09T02:58:00.464554Z",
     "start_time": "2019-09-09T02:57:59.712555Z"
    }
   },
   "outputs": [],
   "source": [
    "# dc = folium.Map(location=[38.9, -70.03], \n",
    "#                 tiles='Mapbox Bright', \n",
    "#                 zoom_start=7)\n",
    "# dc.choropleth('../../data/01_raw/USA/DC.geo.json')"
   ]
  },
  {
   "cell_type": "code",
   "execution_count": 24,
   "metadata": {
    "ExecuteTime": {
     "end_time": "2019-09-09T08:30:27.626029Z",
     "start_time": "2019-09-09T08:30:27.151214Z"
    }
   },
   "outputs": [],
   "source": [
    "us_json = '../../data/01_raw/gz_2010_us_050_00_500k.json'"
   ]
  },
  {
   "cell_type": "code",
   "execution_count": 42,
   "metadata": {
    "ExecuteTime": {
     "end_time": "2019-09-09T08:57:43.600343Z",
     "start_time": "2019-09-09T08:57:22.773651Z"
    }
   },
   "outputs": [],
   "source": [
    "with open(us_json, encoding = \"ISO-8859-1\") as json_file:\n",
    "    data = ast.literal_eval(json_file.read())"
   ]
  },
  {
   "cell_type": "code",
   "execution_count": 51,
   "metadata": {
    "ExecuteTime": {
     "end_time": "2019-09-09T09:16:03.689249Z",
     "start_time": "2019-09-09T09:16:03.136653Z"
    }
   },
   "outputs": [],
   "source": [
    "with open(us_json, encoding = \"ISO-8859-1\") as json_file2:\n",
    "    data2 = json.loads(json_file2.read())"
   ]
  },
  {
   "cell_type": "markdown",
   "metadata": {},
   "source": [
    "Exploring data type/organization to figure out how to filter just DC, MD, VA."
   ]
  },
  {
   "cell_type": "code",
   "execution_count": 65,
   "metadata": {
    "ExecuteTime": {
     "end_time": "2019-09-09T16:27:36.990084Z",
     "start_time": "2019-09-09T16:27:36.585149Z"
    }
   },
   "outputs": [
    {
     "data": {
      "text/plain": [
       "'01'"
      ]
     },
     "execution_count": 65,
     "metadata": {},
     "output_type": "execute_result"
    }
   ],
   "source": [
    "data2['features'][0]['properties']['STATE']"
   ]
  },
  {
   "cell_type": "code",
   "execution_count": null,
   "metadata": {},
   "outputs": [],
   "source": [
    "def my_color_function(feature):\n",
    "    \"\"\"Maps by state\"\"\"\n",
    "    if data2['features'][0]['properties']['NAME'] == 24:\n",
    "        return '#ff0000'\n",
    "    else:\n",
    "        return '#008000'"
   ]
  },
  {
   "cell_type": "code",
   "execution_count": 52,
   "metadata": {
    "ExecuteTime": {
     "end_time": "2019-09-09T09:16:21.787551Z",
     "start_time": "2019-09-09T09:16:21.712138Z"
    }
   },
   "outputs": [
    {
     "data": {
      "text/plain": [
       "<folium.features.GeoJson at 0x1c36864438>"
      ]
     },
     "execution_count": 52,
     "metadata": {},
     "output_type": "execute_result"
    }
   ],
   "source": [
    "m = folium.Map([43, -100], tiles='cartodbpositron', zoom_start=4)\n",
    "\n",
    "folium.GeoJson(\n",
    "    data2,\n",
    "    style_function=lambda feature: {\n",
    "#         'fillColor': my_color_function(feature),\n",
    "        'color': 'black',\n",
    "        'weight': 2,\n",
    "        'dashArray': '5, 5'\n",
    "    }\n",
    ").add_to(m)\n"
   ]
  },
  {
   "cell_type": "code",
   "execution_count": 47,
   "metadata": {
    "ExecuteTime": {
     "end_time": "2019-09-09T09:02:50.330752Z",
     "start_time": "2019-09-09T09:02:50.272546Z"
    }
   },
   "outputs": [],
   "source": [
    "src_dir = os.path.join(os.getcwd(), '..', '..', 'src')\n",
    "sys.path.append(src_dir)"
   ]
  },
  {
   "cell_type": "code",
   "execution_count": 53,
   "metadata": {
    "ExecuteTime": {
     "end_time": "2019-09-09T09:16:37.478924Z",
     "start_time": "2019-09-09T09:16:31.503235Z"
    }
   },
   "outputs": [],
   "source": [
    "m.save(os.path.join('../../results', 'UScountyTEST2.html'))"
   ]
  },
  {
   "cell_type": "markdown",
   "metadata": {},
   "source": [
    "Yay! The above series of steps worked to FINALLY produce a high-res county outline of the US. \n",
    "Key factors:\n",
    "- dealt with 'utf-8' encoding error using \"encoding = \"ISO-8859-1\"\"\n",
    "- instead of using json.load/s - \"used ast.literal_eval(json_file.read())\" (had to import ast to use that)\n",
    "    - want to see if it will now work using json.load (used to read in file, while \"loads\" reads in string). the file is already a streightup series of dictionaries - doesn't even look like it's in a list. And I think folium needs the file as-is...not for it to be read in as a dataframe...but now the question is how to map my actual data...this will be interesting\n",
    "    - it looks like the encoder I ended up using turns it into a readable format and .read() makes it a string that .loads() is able to parse\n",
    "- to get the map to show, saved as html file since it wouldn't render quickly (maybe at all in Jupyter notebook)"
   ]
  },
  {
   "cell_type": "code",
   "execution_count": 18,
   "metadata": {
    "ExecuteTime": {
     "end_time": "2019-09-09T08:15:12.935108Z",
     "start_time": "2019-09-09T08:15:11.185219Z"
    }
   },
   "outputs": [],
   "source": [
    "#us = pd.read_json('../../data/01_raw/gz_2010_us_050_00_500k.json')"
   ]
  },
  {
   "cell_type": "markdown",
   "metadata": {},
   "source": [
    "## Analysis/Modeling\n",
    "Do work here"
   ]
  },
  {
   "cell_type": "markdown",
   "metadata": {},
   "source": [
    "## Results\n",
    "Show graphs and stats here"
   ]
  },
  {
   "cell_type": "markdown",
   "metadata": {},
   "source": [
    "## Conclusions and Next Steps\n",
    "Summarize findings here"
   ]
  },
  {
   "cell_type": "code",
   "execution_count": null,
   "metadata": {},
   "outputs": [],
   "source": []
  }
 ],
 "metadata": {
  "kernelspec": {
   "display_name": "Python 3",
   "language": "python",
   "name": "python3"
  },
  "language_info": {
   "codemirror_mode": {
    "name": "ipython",
    "version": 3
   },
   "file_extension": ".py",
   "mimetype": "text/x-python",
   "name": "python",
   "nbconvert_exporter": "python",
   "pygments_lexer": "ipython3",
   "version": "3.7.3"
  },
  "toc": {
   "base_numbering": 1,
   "nav_menu": {},
   "number_sections": true,
   "sideBar": true,
   "skip_h1_title": true,
   "title_cell": "Table of Contents",
   "title_sidebar": "Contents",
   "toc_cell": false,
   "toc_position": {},
   "toc_section_display": true,
   "toc_window_display": true
  }
 },
 "nbformat": 4,
 "nbformat_minor": 2
}
