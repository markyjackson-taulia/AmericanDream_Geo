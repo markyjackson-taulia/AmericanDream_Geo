{
 "cells": [
  {
   "cell_type": "markdown",
   "metadata": {},
   "source": [
    "# Project Outline/To-Do List"
   ]
  },
  {
   "cell_type": "markdown",
   "metadata": {},
   "source": [
    "**To Do 9/11/19**\n",
    "\n",
    " - [x] Merge location data with CountyInfo df (using \"merge_dropped\")\n",
    "     - didn't end up needing to do this given the way Choropleth works. you tell it what to key_on between the property listed in the json file and your dataframe\n",
    " - [ ] Map Graphic 1: \n",
    "      - Just 2 color-coded by \"Mobile or Naw\" \n",
    " - [ ] Map Graphic 2:\n",
    "      - Shaded by value of \"Absolute Upward Mobility\"\n",
    "      - On \"Mobile\" Counties, have marker that allows you to see the \"Top 1% Income Share\", \"Median Parent Income\", and whatever else is identified in \"Feature Importance Analysis\"\n",
    " - [ ] Map Graphic 3: \n",
    "      - Have layers for something (need to decide)\n",
    "      - Or have slider that adjusts the image given some input\n",
    " - [ ] Run Random Forest, Lasso Regression to get idea of feature importance\n",
    " "
   ]
  },
  {
   "cell_type": "markdown",
   "metadata": {},
   "source": [
    "**To Do 9/10/19:**\n",
    "  - [x] Label County_Mobility Data\n",
    "     - [x] Run model on predicting Mobililty (0 or 1) based solely on income distribution data (not expecting good accuracy)\n",
    "  - [x] Merge tables income and community health data on County\n",
    "     - [x] Run model on predicting Mobility including community health factors. (state assumption that neighborhood metric are not sensitive to significant change over 2 decades. ...this may not be true, but that's how I'm validating using community data from 2010+ with income data between 1996-2000.\n",
    "\n",
    " - Run linear regresson w/ Target = Child Income\n",
    " \n",
    " \n",
    " Plan for rest of 9/10 (as of 4pm): \n",
    "  - Spend 3 more hours on modeling: \n",
    "      - 2 1.5hr sessions focused on using the different features, identifying feature importance, summarizing workflow\n",
    "  - Outline slides 0.5 hrs\n",
    "  - Work on map rendering 2 hrs\n",
    " "
   ]
  },
  {
   "cell_type": "markdown",
   "metadata": {},
   "source": [
    "**Updated 09/07/19**\n",
    "\n",
    "Find out the year that \"Geography of Intergenerational Mobility in the United States\" data represents and the pull that specific year out of the \"County Health Rankings\" data. \n",
    "\n",
    "Figure out how the slider works for Tableau and Python and then decide what data structure makes most since to have rankings data change with the year. "
   ]
  },
  {
   "cell_type": "markdown",
   "metadata": {},
   "source": [
    "### Ideas:"
   ]
  },
  {
   "cell_type": "markdown",
   "metadata": {},
   "source": [
    " - have interactive table that gives you probability of achieving a certain rank after you choose what percentile the Parents start in and the percentile the child ends up in.\n",
    " \n",
    " - County heat-map of Absolute Upward mobility of moving from low-income to \"middle-class\". \n",
    "\n",
    " - Offer drop-down menu of items with which to correlate outcomes to\n",
    " - County level summary stats on map, layered by year. (decide what are relevant summary stats)\n",
    "     - second big idea: have slider for years and each layer be a race. \n",
    "     Have blog post that compares experience making Tableau Dashboard vs. Folium for same data set. \n",
    "     Post results on Reddit - Data is Beautiful\n",
    "    \n",
    "Questions to explore: \n",
    "    - likelihood of someone moving from bottom percentile to top percentile compared to the reverse\n",
    "    - "
   ]
  },
  {
   "cell_type": "markdown",
   "metadata": {
    "heading_collapsed": true
   },
   "source": [
    "### Imports\n",
    "Import libraries and write settings here."
   ]
  },
  {
   "cell_type": "code",
   "execution_count": 1,
   "metadata": {
    "ExecuteTime": {
     "end_time": "2019-09-04T11:08:42.281037Z",
     "start_time": "2019-09-04T11:08:30.785548Z"
    },
    "hidden": true
   },
   "outputs": [
    {
     "data": {
      "text/html": [
       "        <script type=\"text/javascript\">\n",
       "        window.PlotlyConfig = {MathJaxConfig: 'local'};\n",
       "        if (window.MathJax) {MathJax.Hub.Config({SVG: {font: \"STIX-Web\"}});}\n",
       "        if (typeof require !== 'undefined') {\n",
       "        require.undef(\"plotly\");\n",
       "        requirejs.config({\n",
       "            paths: {\n",
       "                'plotly': ['https://cdn.plot.ly/plotly-latest.min']\n",
       "            }\n",
       "        });\n",
       "        require(['plotly'], function(Plotly) {\n",
       "            window._Plotly = Plotly;\n",
       "        });\n",
       "        }\n",
       "        </script>\n",
       "        "
      ]
     },
     "metadata": {},
     "output_type": "display_data"
    },
    {
     "data": {
      "text/html": [
       "        <script type=\"text/javascript\">\n",
       "        window.PlotlyConfig = {MathJaxConfig: 'local'};\n",
       "        if (window.MathJax) {MathJax.Hub.Config({SVG: {font: \"STIX-Web\"}});}\n",
       "        if (typeof require !== 'undefined') {\n",
       "        require.undef(\"plotly\");\n",
       "        requirejs.config({\n",
       "            paths: {\n",
       "                'plotly': ['https://cdn.plot.ly/plotly-latest.min']\n",
       "            }\n",
       "        });\n",
       "        require(['plotly'], function(Plotly) {\n",
       "            window._Plotly = Plotly;\n",
       "        });\n",
       "        }\n",
       "        </script>\n",
       "        "
      ]
     },
     "metadata": {},
     "output_type": "display_data"
    }
   ],
   "source": [
    "# Data manipulation\n",
    "import pandas as pd\n",
    "import numpy as np\n",
    "\n",
    "# Options for pandas\n",
    "pd.options.display.max_columns = 50\n",
    "pd.options.display.max_rows = 30\n",
    "\n",
    "# Display all cell outputs\n",
    "from IPython.core.interactiveshell import InteractiveShell\n",
    "InteractiveShell.ast_node_interactivity = 'all'\n",
    "\n",
    "from IPython import get_ipython\n",
    "ipython = get_ipython()\n",
    "\n",
    "# autoreload extension\n",
    "if 'autoreload' not in ipython.extension_manager.loaded:\n",
    "    %load_ext autoreload\n",
    "\n",
    "%autoreload 2\n",
    "\n",
    "# Visualizations\n",
    "import plotly.plotly as py\n",
    "import plotly.graph_objs as go\n",
    "from plotly.offline import iplot, init_notebook_mode\n",
    "init_notebook_mode(connected=True)\n",
    "\n",
    "import cufflinks as cf\n",
    "cf.go_offline(connected=True)\n",
    "cf.set_config_file(theme='white')"
   ]
  },
  {
   "cell_type": "markdown",
   "metadata": {},
   "source": [
    "# Analysis/Modeling\n",
    "Do work here"
   ]
  },
  {
   "cell_type": "markdown",
   "metadata": {},
   "source": [
    "# Results\n",
    "Show graphs and stats here"
   ]
  },
  {
   "cell_type": "markdown",
   "metadata": {},
   "source": [
    "# Conclusions and Next Steps\n",
    "Summarize findings here"
   ]
  },
  {
   "cell_type": "code",
   "execution_count": null,
   "metadata": {},
   "outputs": [],
   "source": []
  }
 ],
 "metadata": {
  "kernelspec": {
   "display_name": "Python 3",
   "language": "python",
   "name": "python3"
  },
  "language_info": {
   "codemirror_mode": {
    "name": "ipython",
    "version": 3
   },
   "file_extension": ".py",
   "mimetype": "text/x-python",
   "name": "python",
   "nbconvert_exporter": "python",
   "pygments_lexer": "ipython3",
   "version": "3.7.3"
  },
  "toc": {
   "base_numbering": 1,
   "nav_menu": {},
   "number_sections": true,
   "sideBar": true,
   "skip_h1_title": false,
   "title_cell": "Table of Contents",
   "title_sidebar": "Contents",
   "toc_cell": false,
   "toc_position": {},
   "toc_section_display": true,
   "toc_window_display": false
  }
 },
 "nbformat": 4,
 "nbformat_minor": 2
}
