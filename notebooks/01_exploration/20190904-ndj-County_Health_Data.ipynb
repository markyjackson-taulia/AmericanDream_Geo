{
 "cells": [
  {
   "cell_type": "markdown",
   "metadata": {},
   "source": [
    "# County Health Rankings Data from Tableau Public\n",
    "\n",
    "Exploring data from: \n",
    "\n",
    "https://public.tableau.com/en-us/s/resources?qt-overview_resources=1\n",
    "\n",
    "https://public.tableau.com/s/sites/default/files/media/County_Health_Rankings.csv\n",
    "\n",
    "Looks like the original sources is here: https://www.countyhealthrankings.org/app/\n",
    "\n",
    "And, maybe...\n",
    "\n",
    "https://www.nber.org/workfamily/\n",
    "https://www.nber.org/workfamily/WorkFamily_rev.dta"
   ]
  },
  {
   "cell_type": "markdown",
   "metadata": {},
   "source": [
    "**Imports**  \n",
    "Import libraries, write settings, and bring in files here."
   ]
  },
  {
   "cell_type": "code",
   "execution_count": 3,
   "metadata": {
    "ExecuteTime": {
     "end_time": "2019-09-06T17:33:50.180656Z",
     "start_time": "2019-09-06T17:33:39.142251Z"
    },
    "hide_input": false
   },
   "outputs": [
    {
     "data": {
      "text/html": [
       "        <script type=\"text/javascript\">\n",
       "        window.PlotlyConfig = {MathJaxConfig: 'local'};\n",
       "        if (window.MathJax) {MathJax.Hub.Config({SVG: {font: \"STIX-Web\"}});}\n",
       "        if (typeof require !== 'undefined') {\n",
       "        require.undef(\"plotly\");\n",
       "        requirejs.config({\n",
       "            paths: {\n",
       "                'plotly': ['https://cdn.plot.ly/plotly-latest.min']\n",
       "            }\n",
       "        });\n",
       "        require(['plotly'], function(Plotly) {\n",
       "            window._Plotly = Plotly;\n",
       "        });\n",
       "        }\n",
       "        </script>\n",
       "        "
      ]
     },
     "metadata": {},
     "output_type": "display_data"
    },
    {
     "data": {
      "text/html": [
       "        <script type=\"text/javascript\">\n",
       "        window.PlotlyConfig = {MathJaxConfig: 'local'};\n",
       "        if (window.MathJax) {MathJax.Hub.Config({SVG: {font: \"STIX-Web\"}});}\n",
       "        if (typeof require !== 'undefined') {\n",
       "        require.undef(\"plotly\");\n",
       "        requirejs.config({\n",
       "            paths: {\n",
       "                'plotly': ['https://cdn.plot.ly/plotly-latest.min']\n",
       "            }\n",
       "        });\n",
       "        require(['plotly'], function(Plotly) {\n",
       "            window._Plotly = Plotly;\n",
       "        });\n",
       "        }\n",
       "        </script>\n",
       "        "
      ]
     },
     "metadata": {},
     "output_type": "display_data"
    }
   ],
   "source": [
    "# Data manipulation\n",
    "import pandas as pd\n",
    "import numpy as np\n",
    "\n",
    "# Options for pandas\n",
    "pd.options.display.max_columns = 50\n",
    "pd.options.display.max_rows = 30\n",
    "\n",
    "# Display all cell outputs\n",
    "from IPython.core.interactiveshell import InteractiveShell\n",
    "InteractiveShell.ast_node_interactivity = 'all'\n",
    "\n",
    "from IPython import get_ipython\n",
    "ipython = get_ipython()\n",
    "\n",
    "# autoreload extension\n",
    "if 'autoreload' not in ipython.extension_manager.loaded:\n",
    "    %load_ext autoreload\n",
    "\n",
    "%autoreload 2\n",
    "\n",
    "# Visualizations\n",
    "import plotly.plotly as py\n",
    "import plotly.graph_objs as go\n",
    "from plotly.offline import iplot, init_notebook_mode\n",
    "init_notebook_mode(connected=True)\n",
    "\n",
    "import cufflinks as cf\n",
    "cf.go_offline(connected=True)\n",
    "cf.set_config_file(theme='white')"
   ]
  },
  {
   "cell_type": "markdown",
   "metadata": {},
   "source": [
    "## Exploring Data"
   ]
  },
  {
   "cell_type": "code",
   "execution_count": 4,
   "metadata": {
    "ExecuteTime": {
     "end_time": "2019-09-06T17:33:55.652226Z",
     "start_time": "2019-09-06T17:33:54.516529Z"
    }
   },
   "outputs": [],
   "source": [
    "CH_ranking = pd.read_csv('../../data/01_raw/County_Health_Rankings.csv', dtype={'State code': 'str', 'County code': 'str', 'fipscode': 'str'})"
   ]
  },
  {
   "cell_type": "code",
   "execution_count": 45,
   "metadata": {
    "ExecuteTime": {
     "end_time": "2019-09-04T16:12:20.050240Z",
     "start_time": "2019-09-04T16:12:19.942774Z"
    }
   },
   "outputs": [
    {
     "data": {
      "text/html": [
       "<div>\n",
       "<style scoped>\n",
       "    .dataframe tbody tr th:only-of-type {\n",
       "        vertical-align: middle;\n",
       "    }\n",
       "\n",
       "    .dataframe tbody tr th {\n",
       "        vertical-align: top;\n",
       "    }\n",
       "\n",
       "    .dataframe thead th {\n",
       "        text-align: right;\n",
       "    }\n",
       "</style>\n",
       "<table border=\"1\" class=\"dataframe\">\n",
       "  <thead>\n",
       "    <tr style=\"text-align: right;\">\n",
       "      <th></th>\n",
       "      <th>State</th>\n",
       "      <th>County</th>\n",
       "      <th>State code</th>\n",
       "      <th>County code</th>\n",
       "      <th>Year span</th>\n",
       "      <th>Measure name</th>\n",
       "      <th>Measure id</th>\n",
       "      <th>Numerator</th>\n",
       "      <th>Denominator</th>\n",
       "      <th>Raw value</th>\n",
       "      <th>Confidence Interval Lower Bound</th>\n",
       "      <th>Confidence Interval Upper Bound</th>\n",
       "      <th>Data Release Year</th>\n",
       "      <th>fipscode</th>\n",
       "    </tr>\n",
       "  </thead>\n",
       "  <tbody>\n",
       "    <tr>\n",
       "      <th>0</th>\n",
       "      <td>US</td>\n",
       "      <td>United States</td>\n",
       "      <td>0</td>\n",
       "      <td>0</td>\n",
       "      <td>2003-2005</td>\n",
       "      <td>Violent crime rate</td>\n",
       "      <td>43.0</td>\n",
       "      <td>1328750.667</td>\n",
       "      <td>274877117.0</td>\n",
       "      <td>483.398066</td>\n",
       "      <td>NaN</td>\n",
       "      <td>NaN</td>\n",
       "      <td>NaN</td>\n",
       "      <td>0</td>\n",
       "    </tr>\n",
       "    <tr>\n",
       "      <th>1</th>\n",
       "      <td>US</td>\n",
       "      <td>United States</td>\n",
       "      <td>0</td>\n",
       "      <td>0</td>\n",
       "      <td>2004-2006</td>\n",
       "      <td>Violent crime rate</td>\n",
       "      <td>43.0</td>\n",
       "      <td>1340928.667</td>\n",
       "      <td>277612778.5</td>\n",
       "      <td>483.021233</td>\n",
       "      <td>NaN</td>\n",
       "      <td>NaN</td>\n",
       "      <td>NaN</td>\n",
       "      <td>0</td>\n",
       "    </tr>\n",
       "    <tr>\n",
       "      <th>2</th>\n",
       "      <td>US</td>\n",
       "      <td>United States</td>\n",
       "      <td>0</td>\n",
       "      <td>0</td>\n",
       "      <td>2005-2007</td>\n",
       "      <td>Violent crime rate</td>\n",
       "      <td>43.0</td>\n",
       "      <td>1355853.167</td>\n",
       "      <td>280407694.7</td>\n",
       "      <td>483.529230</td>\n",
       "      <td>NaN</td>\n",
       "      <td>NaN</td>\n",
       "      <td>2010.0</td>\n",
       "      <td>0</td>\n",
       "    </tr>\n",
       "    <tr>\n",
       "      <th>3</th>\n",
       "      <td>US</td>\n",
       "      <td>United States</td>\n",
       "      <td>0</td>\n",
       "      <td>0</td>\n",
       "      <td>2006-2008</td>\n",
       "      <td>Violent crime rate</td>\n",
       "      <td>43.0</td>\n",
       "      <td>1366928.333</td>\n",
       "      <td>287614567.7</td>\n",
       "      <td>475.263942</td>\n",
       "      <td>NaN</td>\n",
       "      <td>NaN</td>\n",
       "      <td>2011.0</td>\n",
       "      <td>0</td>\n",
       "    </tr>\n",
       "    <tr>\n",
       "      <th>4</th>\n",
       "      <td>US</td>\n",
       "      <td>United States</td>\n",
       "      <td>0</td>\n",
       "      <td>0</td>\n",
       "      <td>2007-2009</td>\n",
       "      <td>Violent crime rate</td>\n",
       "      <td>43.0</td>\n",
       "      <td>1339439.333</td>\n",
       "      <td>292576281.2</td>\n",
       "      <td>457.808585</td>\n",
       "      <td>NaN</td>\n",
       "      <td>NaN</td>\n",
       "      <td>2012.0</td>\n",
       "      <td>0</td>\n",
       "    </tr>\n",
       "  </tbody>\n",
       "</table>\n",
       "</div>"
      ],
      "text/plain": [
       "  State         County State code County code  Year span        Measure name  \\\n",
       "0    US  United States          0           0  2003-2005  Violent crime rate   \n",
       "1    US  United States          0           0  2004-2006  Violent crime rate   \n",
       "2    US  United States          0           0  2005-2007  Violent crime rate   \n",
       "3    US  United States          0           0  2006-2008  Violent crime rate   \n",
       "4    US  United States          0           0  2007-2009  Violent crime rate   \n",
       "\n",
       "   Measure id    Numerator  Denominator   Raw value  \\\n",
       "0        43.0  1328750.667  274877117.0  483.398066   \n",
       "1        43.0  1340928.667  277612778.5  483.021233   \n",
       "2        43.0  1355853.167  280407694.7  483.529230   \n",
       "3        43.0  1366928.333  287614567.7  475.263942   \n",
       "4        43.0  1339439.333  292576281.2  457.808585   \n",
       "\n",
       "   Confidence Interval Lower Bound  Confidence Interval Upper Bound  \\\n",
       "0                              NaN                              NaN   \n",
       "1                              NaN                              NaN   \n",
       "2                              NaN                              NaN   \n",
       "3                              NaN                              NaN   \n",
       "4                              NaN                              NaN   \n",
       "\n",
       "   Data Release Year fipscode  \n",
       "0                NaN        0  \n",
       "1                NaN        0  \n",
       "2             2010.0        0  \n",
       "3             2011.0        0  \n",
       "4             2012.0        0  "
      ]
     },
     "execution_count": 45,
     "metadata": {},
     "output_type": "execute_result"
    }
   ],
   "source": [
    "CH_ranking.head()"
   ]
  },
  {
   "cell_type": "code",
   "execution_count": 9,
   "metadata": {
    "ExecuteTime": {
     "end_time": "2019-09-04T14:43:48.384093Z",
     "start_time": "2019-09-04T14:43:48.330957Z"
    }
   },
   "outputs": [
    {
     "data": {
      "text/plain": [
       "Index(['State', 'County', 'State code', 'County code', 'Year span',\n",
       "       'Measure name', 'Measure id', 'Numerator', 'Denominator', 'Raw value',\n",
       "       'Confidence Interval Lower Bound', 'Confidence Interval Upper Bound',\n",
       "       'Data Release Year', 'fipscode'],\n",
       "      dtype='object')"
      ]
     },
     "execution_count": 9,
     "metadata": {},
     "output_type": "execute_result"
    }
   ],
   "source": [
    "CH_ranking.columns"
   ]
  },
  {
   "cell_type": "code",
   "execution_count": 11,
   "metadata": {
    "ExecuteTime": {
     "end_time": "2019-09-04T14:54:10.089163Z",
     "start_time": "2019-09-04T14:54:09.325148Z"
    }
   },
   "outputs": [
    {
     "name": "stdout",
     "output_type": "stream",
     "text": [
      "<class 'pandas.core.frame.DataFrame'>\n",
      "RangeIndex: 303864 entries, 0 to 303863\n",
      "Data columns (total 14 columns):\n",
      "State                              303858 non-null object\n",
      "County                             303858 non-null object\n",
      "State code                         303860 non-null float64\n",
      "County code                        303860 non-null float64\n",
      "Year span                          303390 non-null object\n",
      "Measure name                       303390 non-null object\n",
      "Measure id                         303390 non-null float64\n",
      "Numerator                          214076 non-null float64\n",
      "Denominator                        184779 non-null float64\n",
      "Raw value                          289956 non-null float64\n",
      "Confidence Interval Lower Bound    189412 non-null float64\n",
      "Confidence Interval Upper Bound    189412 non-null float64\n",
      "Data Release Year                  150129 non-null float64\n",
      "fipscode                           294283 non-null float64\n",
      "dtypes: float64(10), object(4)\n",
      "memory usage: 32.5+ MB\n"
     ]
    }
   ],
   "source": [
    "CH_ranking.info()"
   ]
  },
  {
   "cell_type": "markdown",
   "metadata": {},
   "source": [
    "Need to clean up State and County codes to make them strings with the appropriate number of digits. "
   ]
  },
  {
   "cell_type": "code",
   "execution_count": 10,
   "metadata": {
    "ExecuteTime": {
     "end_time": "2019-09-04T14:53:20.413798Z",
     "start_time": "2019-09-04T14:53:20.086437Z"
    }
   },
   "outputs": [
    {
     "data": {
      "text/plain": [
       "Children in poverty                41499\n",
       "Premature Death                    38312\n",
       "Unemployment                       35202\n",
       "Daily fine particulate matter      28728\n",
       "Adult obesity                      22351\n",
       "Violent crime rate                 22351\n",
       "Physical inactivity                22351\n",
       "Preventable hospital stays         19159\n",
       "Mammography screening              19159\n",
       "Diabetic screening                 19159\n",
       "Uninsured                          19156\n",
       "Sexually transmitted infections    15963\n",
       "Name: Measure name, dtype: int64"
      ]
     },
     "execution_count": 10,
     "metadata": {},
     "output_type": "execute_result"
    }
   ],
   "source": [
    "CH_ranking['Measure name'].value_counts()"
   ]
  },
  {
   "cell_type": "code",
   "execution_count": 46,
   "metadata": {
    "ExecuteTime": {
     "end_time": "2019-09-04T16:12:35.588801Z",
     "start_time": "2019-09-04T16:12:35.461768Z"
    },
    "scrolled": true
   },
   "outputs": [
    {
     "data": {
      "text/plain": [
       "Prince George's County    95\n",
       "Frederick County          95\n",
       "Washington County         95\n",
       "Maryland                  95\n",
       "Dorchester County         95\n",
       "Garrett County            95\n",
       "Montgomery County         95\n",
       "Baltimore County          95\n",
       "Calvert County            95\n",
       "St. Mary's County         95\n",
       "Allegany County           95\n",
       "Anne Arundel County       95\n",
       "Harford County            95\n",
       "Wicomico County           95\n",
       "Kent County               95\n",
       "Charles County            95\n",
       "Somerset County           95\n",
       "Baltimore city            95\n",
       "Talbot County             95\n",
       "Howard County             95\n",
       "Worcester County          95\n",
       "Carroll County            95\n",
       "Queen Anne's County       95\n",
       "Caroline County           95\n",
       "Cecil County              95\n",
       "Name: County, dtype: int64"
      ]
     },
     "execution_count": 46,
     "metadata": {},
     "output_type": "execute_result"
    }
   ],
   "source": [
    "CH_ranking[CH_ranking['State code'] == '24'].County.value_counts()"
   ]
  },
  {
   "cell_type": "code",
   "execution_count": 14,
   "metadata": {
    "ExecuteTime": {
     "end_time": "2019-09-06T17:36:39.550796Z",
     "start_time": "2019-09-06T17:36:39.484082Z"
    }
   },
   "outputs": [],
   "source": [
    "maryland = CH_ranking[CH_ranking['State code'] == '24']"
   ]
  },
  {
   "cell_type": "markdown",
   "metadata": {},
   "source": [
    "**Summary of Data set**\n",
    "\n",
    "Spans years: 1997 - 2012 (looks like more is available on their website: https://www.countyhealthrankings.org/)\n",
    "\n",
    "These are the measures being reported in this set: \n",
    "- Children in poverty                41499\n",
    "- Premature Death                    38312\n",
    "- Unemployment                       35202\n",
    "- Daily fine particulate matter      28728\n",
    "- Adult obesity                      22351\n",
    "- Violent crime rate                 22351\n",
    "- Physical inactivity                22351\n",
    "- Preventable hospital stays         19159\n",
    "- Mammography screening              19159\n",
    "- Diabetic screening                 19159\n",
    "- Uninsured                          19156\n",
    "- Sexually transmitted infections    15963\n",
    "\n",
    "Need to change State Code, County Code and Fips Code to strings with padded zeros. "
   ]
  },
  {
   "cell_type": "markdown",
   "metadata": {},
   "source": [
    "### Cleaning up INT columns that should be STRING\n",
    "\n",
    "turns out, I can just read the columns in with a specific data type and forego this business here. "
   ]
  },
  {
   "cell_type": "code",
   "execution_count": null,
   "metadata": {},
   "outputs": [],
   "source": []
  },
  {
   "cell_type": "code",
   "execution_count": 11,
   "metadata": {
    "ExecuteTime": {
     "end_time": "2019-09-06T17:36:23.487225Z",
     "start_time": "2019-09-06T17:36:23.279034Z"
    }
   },
   "outputs": [],
   "source": [
    "## Changing County code to string with 3-characters\n",
    "CH_ranking['County code'] = CH_ranking['County code'].apply(lambda x: str(x).zfill(3))\n"
   ]
  },
  {
   "cell_type": "code",
   "execution_count": 12,
   "metadata": {
    "ExecuteTime": {
     "end_time": "2019-09-06T17:36:26.808512Z",
     "start_time": "2019-09-06T17:36:26.634569Z"
    }
   },
   "outputs": [],
   "source": [
    "## Changing State code to string with 2-characters\n",
    "\n",
    "CH_ranking['State code'] = CH_ranking['State code'].apply(lambda x: str(x).zfill(2))\n"
   ]
  },
  {
   "cell_type": "code",
   "execution_count": 13,
   "metadata": {
    "ExecuteTime": {
     "end_time": "2019-09-06T17:36:27.657653Z",
     "start_time": "2019-09-06T17:36:27.490114Z"
    }
   },
   "outputs": [],
   "source": [
    "## Changing FIPS code to string with 5-characters\n",
    "CH_ranking['fipscode'] = CH_ranking['fipscode'].apply(lambda x: str(x).zfill(5))\n"
   ]
  },
  {
   "cell_type": "code",
   "execution_count": 54,
   "metadata": {
    "ExecuteTime": {
     "end_time": "2019-09-04T23:28:45.644905Z",
     "start_time": "2019-09-04T23:28:45.528980Z"
    }
   },
   "outputs": [
    {
     "data": {
      "text/plain": [
       "0.34821052631578947"
      ]
     },
     "execution_count": 54,
     "metadata": {},
     "output_type": "execute_result"
    }
   ],
   "source": [
    "maryland['Confidence Interval Lower Bound'].isna().sum()/len(maryland)"
   ]
  },
  {
   "cell_type": "code",
   "execution_count": 57,
   "metadata": {
    "ExecuteTime": {
     "end_time": "2019-09-04T23:32:04.573113Z",
     "start_time": "2019-09-04T23:32:04.419893Z"
    }
   },
   "outputs": [
    {
     "data": {
      "text/plain": [
       "Children in poverty                325\n",
       "Premature Death                    300\n",
       "Unemployment                       275\n",
       "Daily fine particulate matter      225\n",
       "Violent crime rate                 175\n",
       "Physical inactivity                175\n",
       "Adult obesity                      175\n",
       "Uninsured                          150\n",
       "Preventable hospital stays         150\n",
       "Diabetic screening                 150\n",
       "Mammography screening              150\n",
       "Sexually transmitted infections    125\n",
       "Name: Measure name, dtype: int64"
      ]
     },
     "execution_count": 57,
     "metadata": {},
     "output_type": "execute_result"
    },
    {
     "data": {
      "text/plain": [
       "2008         250\n",
       "2010         250\n",
       "2009         250\n",
       "2011         200\n",
       "2007         175\n",
       "2006         150\n",
       "2004         150\n",
       "2005         125\n",
       "2003-2005    125\n",
       "2003         100\n",
       "2006-2007     75\n",
       "2002          50\n",
       "2007-2009     50\n",
       "2004-2006     50\n",
       "2008-2010     50\n",
       "2012          50\n",
       "2005-2007     50\n",
       "2006-2008     50\n",
       "2000-2002     25\n",
       "2002-2004     25\n",
       "2001-2003     25\n",
       "1997-1999     25\n",
       "1998-2000     25\n",
       "1999-2001     25\n",
       "2009-2011     25\n",
       "Name: Year span, dtype: int64"
      ]
     },
     "execution_count": 57,
     "metadata": {},
     "output_type": "execute_result"
    },
    {
     "name": "stdout",
     "output_type": "stream",
     "text": [
      "<class 'pandas.core.frame.DataFrame'>\n",
      "Int64Index: 2375 entries, 8484 to 286259\n",
      "Data columns (total 14 columns):\n",
      "State                              2375 non-null object\n",
      "County                             2375 non-null object\n",
      "State code                         2375 non-null object\n",
      "County code                        2375 non-null object\n",
      "Year span                          2375 non-null object\n",
      "Measure name                       2375 non-null object\n",
      "Measure id                         2375 non-null float64\n",
      "Numerator                          1700 non-null float64\n",
      "Denominator                        1512 non-null float64\n",
      "Raw value                          2362 non-null float64\n",
      "Confidence Interval Lower Bound    1548 non-null float64\n",
      "Confidence Interval Upper Bound    1548 non-null float64\n",
      "Data Release Year                  1175 non-null float64\n",
      "fipscode                           2300 non-null object\n",
      "dtypes: float64(7), object(7)\n",
      "memory usage: 278.3+ KB\n"
     ]
    }
   ],
   "source": [
    "maryland['Measure name'].value_counts()\n",
    "maryland['Year span'].value_counts()\n",
    "maryland.info()"
   ]
  },
  {
   "cell_type": "code",
   "execution_count": 15,
   "metadata": {
    "ExecuteTime": {
     "end_time": "2019-09-06T17:36:50.228091Z",
     "start_time": "2019-09-06T17:36:50.178733Z"
    }
   },
   "outputs": [
    {
     "data": {
      "text/plain": [
       "array(['000', '001', '003', '005', '009', '011', '013', '015', '017',\n",
       "       '019', '021', '023', '025', '027', '029', '031', '033', '035',\n",
       "       '037', '039', '041', '043', '045', '047', '510'], dtype=object)"
      ]
     },
     "execution_count": 15,
     "metadata": {},
     "output_type": "execute_result"
    }
   ],
   "source": [
    "maryland['County code'].unique()"
   ]
  },
  {
   "cell_type": "code",
   "execution_count": 67,
   "metadata": {
    "ExecuteTime": {
     "end_time": "2019-09-04T23:39:17.014727Z",
     "start_time": "2019-09-04T23:39:16.932242Z"
    }
   },
   "outputs": [
    {
     "data": {
      "text/plain": [
       "2009         10\n",
       "2008         10\n",
       "2010         10\n",
       "2011          8\n",
       "2007          7\n",
       "2004          6\n",
       "2006          6\n",
       "2005          5\n",
       "2003-2005     5\n",
       "2003          4\n",
       "2006-2007     3\n",
       "2008-2010     2\n",
       "2006-2008     2\n",
       "2012          2\n",
       "2005-2007     2\n",
       "2004-2006     2\n",
       "2007-2009     2\n",
       "2002          2\n",
       "1999-2001     1\n",
       "2001-2003     1\n",
       "1997-1999     1\n",
       "2000-2002     1\n",
       "2009-2011     1\n",
       "1998-2000     1\n",
       "2002-2004     1\n",
       "Name: Year span, dtype: int64"
      ]
     },
     "execution_count": 67,
     "metadata": {},
     "output_type": "execute_result"
    }
   ],
   "source": [
    "maryland.loc[(maryland['County']== \"Prince George's County\"), 'Year span'].value_counts()"
   ]
  },
  {
   "cell_type": "markdown",
   "metadata": {},
   "source": []
  },
  {
   "cell_type": "markdown",
   "metadata": {},
   "source": []
  },
  {
   "cell_type": "markdown",
   "metadata": {},
   "source": [
    "## Analysis/Modeling\n",
    "Need to think about how to organize the data for plotting and calculations. \n",
    "\n",
    "I could make each county it's own data frame. Where I could have years as the column and the factors/outcomes as the rows. "
   ]
  },
  {
   "cell_type": "markdown",
   "metadata": {},
   "source": [
    "## Results\n",
    "Show graphs and stats here"
   ]
  },
  {
   "cell_type": "markdown",
   "metadata": {},
   "source": [
    "## Conclusions and Next Steps\n",
    "Summarize findings here"
   ]
  },
  {
   "cell_type": "code",
   "execution_count": null,
   "metadata": {},
   "outputs": [],
   "source": []
  }
 ],
 "metadata": {
  "kernelspec": {
   "display_name": "Python 3",
   "language": "python",
   "name": "python3"
  },
  "language_info": {
   "codemirror_mode": {
    "name": "ipython",
    "version": 3
   },
   "file_extension": ".py",
   "mimetype": "text/x-python",
   "name": "python",
   "nbconvert_exporter": "python",
   "pygments_lexer": "ipython3",
   "version": "3.7.3"
  },
  "toc": {
   "base_numbering": 1,
   "nav_menu": {},
   "number_sections": true,
   "sideBar": true,
   "skip_h1_title": true,
   "title_cell": "Table of Contents",
   "title_sidebar": "Contents",
   "toc_cell": false,
   "toc_position": {
    "height": "calc(100% - 180px)",
    "left": "10px",
    "top": "150px",
    "width": "165px"
   },
   "toc_section_display": true,
   "toc_window_display": false
  }
 },
 "nbformat": 4,
 "nbformat_minor": 2
}
