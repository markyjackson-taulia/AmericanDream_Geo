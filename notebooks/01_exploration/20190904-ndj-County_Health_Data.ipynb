{
 "cells": [
  {
   "cell_type": "markdown",
   "metadata": {},
   "source": [
    "# County Health Rankings Data from Tableau Public\n",
    "\n",
    "Exploring data from: \n",
    "\n",
    "https://public.tableau.com/en-us/s/resources?qt-overview_resources=1\n",
    "\n",
    "https://public.tableau.com/s/sites/default/files/media/County_Health_Rankings.csv\n",
    "\n",
    "Looks like the original sources is here: https://www.countyhealthrankings.org/app/\n",
    "\n",
    "And, maybe...\n",
    "\n",
    "https://www.nber.org/workfamily/\n",
    "https://www.nber.org/workfamily/WorkFamily_rev.dta"
   ]
  },
  {
   "cell_type": "markdown",
   "metadata": {
    "heading_collapsed": true
   },
   "source": [
    "### **Imports**  \n",
    "Import libraries, write settings, and bring in files here."
   ]
  },
  {
   "cell_type": "code",
   "execution_count": 3,
   "metadata": {
    "ExecuteTime": {
     "end_time": "2019-09-06T17:33:50.180656Z",
     "start_time": "2019-09-06T17:33:39.142251Z"
    },
    "hidden": true,
    "hide_input": false
   },
   "outputs": [
    {
     "data": {
      "text/html": [
       "        <script type=\"text/javascript\">\n",
       "        window.PlotlyConfig = {MathJaxConfig: 'local'};\n",
       "        if (window.MathJax) {MathJax.Hub.Config({SVG: {font: \"STIX-Web\"}});}\n",
       "        if (typeof require !== 'undefined') {\n",
       "        require.undef(\"plotly\");\n",
       "        requirejs.config({\n",
       "            paths: {\n",
       "                'plotly': ['https://cdn.plot.ly/plotly-latest.min']\n",
       "            }\n",
       "        });\n",
       "        require(['plotly'], function(Plotly) {\n",
       "            window._Plotly = Plotly;\n",
       "        });\n",
       "        }\n",
       "        </script>\n",
       "        "
      ]
     },
     "metadata": {},
     "output_type": "display_data"
    },
    {
     "data": {
      "text/html": [
       "        <script type=\"text/javascript\">\n",
       "        window.PlotlyConfig = {MathJaxConfig: 'local'};\n",
       "        if (window.MathJax) {MathJax.Hub.Config({SVG: {font: \"STIX-Web\"}});}\n",
       "        if (typeof require !== 'undefined') {\n",
       "        require.undef(\"plotly\");\n",
       "        requirejs.config({\n",
       "            paths: {\n",
       "                'plotly': ['https://cdn.plot.ly/plotly-latest.min']\n",
       "            }\n",
       "        });\n",
       "        require(['plotly'], function(Plotly) {\n",
       "            window._Plotly = Plotly;\n",
       "        });\n",
       "        }\n",
       "        </script>\n",
       "        "
      ]
     },
     "metadata": {},
     "output_type": "display_data"
    }
   ],
   "source": [
    "# Data manipulation\n",
    "import pandas as pd\n",
    "import numpy as np\n",
    "\n",
    "# Options for pandas\n",
    "pd.options.display.max_columns = 50\n",
    "pd.options.display.max_rows = 30\n",
    "\n",
    "# Display all cell outputs\n",
    "from IPython.core.interactiveshell import InteractiveShell\n",
    "InteractiveShell.ast_node_interactivity = 'all'\n",
    "\n",
    "from IPython import get_ipython\n",
    "ipython = get_ipython()\n",
    "\n",
    "# autoreload extension\n",
    "if 'autoreload' not in ipython.extension_manager.loaded:\n",
    "    %load_ext autoreload\n",
    "\n",
    "%autoreload 2\n",
    "\n",
    "# Visualizations\n",
    "import plotly.plotly as py\n",
    "import plotly.graph_objs as go\n",
    "from plotly.offline import iplot, init_notebook_mode\n",
    "init_notebook_mode(connected=True)\n",
    "\n",
    "import cufflinks as cf\n",
    "cf.go_offline(connected=True)\n",
    "cf.set_config_file(theme='white')"
   ]
  },
  {
   "cell_type": "markdown",
   "metadata": {},
   "source": [
    "## Exploring Data"
   ]
  },
  {
   "cell_type": "markdown",
   "metadata": {},
   "source": [
    "### Data Dictionary"
   ]
  },
  {
   "cell_type": "markdown",
   "metadata": {},
   "source": [
    "Measure Name | Description | # of Instances reported\n",
    "--- | :---: | --- |\n",
    "Children in poverty |          .      | 41499\n",
    "Premature Death | Years of potential life lost before age 75 per 100,000 population (age-adjusted). |                  38312\n",
    "Unemployment | Percentage of population ages 16 and older unemployed but seeking work. | 35202\n",
    "Daily fine particulate matter | Average daily density of fine particulate matter in micrograms per cubic meter (PM2.5). |     28728\n",
    "Physical inactivity | Percentage of adults age 20 and over reporting no leisure-time physical activity. |           22351\n",
    "Violent crime rate | Number of reported violent crime offenses per 100,000 population. |       22351\n",
    "Adult obesity | Percentage of the adult population (age 20 and older) that reports a body mass index (BMI) greater than or equal to 30 kg/m2. |       22351\n",
    "Preventable hospital stays | Rate of hospital stays for ambulatory-care sensitive conditions per 100,000 Medicare enrollees. | 19159\n",
    "Diabetic screening | . |                 19159\n",
    "Mammography screening | Percentage of female Medicare enrollees ages 65-74 that received an annual mammography screening. |  19159\n",
    "Uninsured | Percentage of population under age 65 without health insurance. | 19156\n",
    "Sexually transmitted infections | Number of newly diagnosed chlamydia cases per 100,000 population. | 15963"
   ]
  },
  {
   "cell_type": "markdown",
   "metadata": {},
   "source": [
    "### Reading in Data"
   ]
  },
  {
   "cell_type": "code",
   "execution_count": 4,
   "metadata": {
    "ExecuteTime": {
     "end_time": "2019-09-06T17:33:55.652226Z",
     "start_time": "2019-09-06T17:33:54.516529Z"
    }
   },
   "outputs": [],
   "source": [
    "CH_ranking = pd.read_csv('../../data/01_raw/County_Health_Rankings.csv', dtype={'State code': 'str', 'County code': 'str', 'fipscode': 'str'})\n"
   ]
  },
  {
   "cell_type": "code",
   "execution_count": 34,
   "metadata": {
    "ExecuteTime": {
     "end_time": "2019-09-11T02:28:28.799795Z",
     "start_time": "2019-09-11T02:28:27.057234Z"
    }
   },
   "outputs": [
    {
     "data": {
      "text/html": [
       "<div>\n",
       "<style scoped>\n",
       "    .dataframe tbody tr th:only-of-type {\n",
       "        vertical-align: middle;\n",
       "    }\n",
       "\n",
       "    .dataframe tbody tr th {\n",
       "        vertical-align: top;\n",
       "    }\n",
       "\n",
       "    .dataframe thead th {\n",
       "        text-align: right;\n",
       "    }\n",
       "</style>\n",
       "<table border=\"1\" class=\"dataframe\">\n",
       "  <thead>\n",
       "    <tr style=\"text-align: right;\">\n",
       "      <th></th>\n",
       "      <th>State</th>\n",
       "      <th>County</th>\n",
       "      <th>State code</th>\n",
       "      <th>County code</th>\n",
       "      <th>Year span</th>\n",
       "      <th>Measure name</th>\n",
       "      <th>Measure id</th>\n",
       "      <th>Numerator</th>\n",
       "      <th>Denominator</th>\n",
       "      <th>Raw value</th>\n",
       "      <th>Confidence Interval Lower Bound</th>\n",
       "      <th>Confidence Interval Upper Bound</th>\n",
       "      <th>Data Release Year</th>\n",
       "      <th>fipscode</th>\n",
       "    </tr>\n",
       "  </thead>\n",
       "  <tbody>\n",
       "    <tr>\n",
       "      <th>0</th>\n",
       "      <td>US</td>\n",
       "      <td>United States</td>\n",
       "      <td>00</td>\n",
       "      <td>000</td>\n",
       "      <td>2003-2005</td>\n",
       "      <td>Violent crime rate</td>\n",
       "      <td>43.0</td>\n",
       "      <td>1.328751e+06</td>\n",
       "      <td>2.748771e+08</td>\n",
       "      <td>483.398066</td>\n",
       "      <td>NaN</td>\n",
       "      <td>NaN</td>\n",
       "      <td>NaN</td>\n",
       "      <td>00000</td>\n",
       "    </tr>\n",
       "    <tr>\n",
       "      <th>1</th>\n",
       "      <td>US</td>\n",
       "      <td>United States</td>\n",
       "      <td>00</td>\n",
       "      <td>000</td>\n",
       "      <td>2004-2006</td>\n",
       "      <td>Violent crime rate</td>\n",
       "      <td>43.0</td>\n",
       "      <td>1.340929e+06</td>\n",
       "      <td>2.776128e+08</td>\n",
       "      <td>483.021233</td>\n",
       "      <td>NaN</td>\n",
       "      <td>NaN</td>\n",
       "      <td>NaN</td>\n",
       "      <td>00000</td>\n",
       "    </tr>\n",
       "    <tr>\n",
       "      <th>2</th>\n",
       "      <td>US</td>\n",
       "      <td>United States</td>\n",
       "      <td>00</td>\n",
       "      <td>000</td>\n",
       "      <td>2005-2007</td>\n",
       "      <td>Violent crime rate</td>\n",
       "      <td>43.0</td>\n",
       "      <td>1.355853e+06</td>\n",
       "      <td>2.804077e+08</td>\n",
       "      <td>483.529230</td>\n",
       "      <td>NaN</td>\n",
       "      <td>NaN</td>\n",
       "      <td>2010.0</td>\n",
       "      <td>00000</td>\n",
       "    </tr>\n",
       "    <tr>\n",
       "      <th>3</th>\n",
       "      <td>US</td>\n",
       "      <td>United States</td>\n",
       "      <td>00</td>\n",
       "      <td>000</td>\n",
       "      <td>2006-2008</td>\n",
       "      <td>Violent crime rate</td>\n",
       "      <td>43.0</td>\n",
       "      <td>1.366928e+06</td>\n",
       "      <td>2.876146e+08</td>\n",
       "      <td>475.263942</td>\n",
       "      <td>NaN</td>\n",
       "      <td>NaN</td>\n",
       "      <td>2011.0</td>\n",
       "      <td>00000</td>\n",
       "    </tr>\n",
       "    <tr>\n",
       "      <th>4</th>\n",
       "      <td>US</td>\n",
       "      <td>United States</td>\n",
       "      <td>00</td>\n",
       "      <td>000</td>\n",
       "      <td>2007-2009</td>\n",
       "      <td>Violent crime rate</td>\n",
       "      <td>43.0</td>\n",
       "      <td>1.339439e+06</td>\n",
       "      <td>2.925763e+08</td>\n",
       "      <td>457.808585</td>\n",
       "      <td>NaN</td>\n",
       "      <td>NaN</td>\n",
       "      <td>2012.0</td>\n",
       "      <td>00000</td>\n",
       "    </tr>\n",
       "    <tr>\n",
       "      <th>5</th>\n",
       "      <td>US</td>\n",
       "      <td>United States</td>\n",
       "      <td>00</td>\n",
       "      <td>000</td>\n",
       "      <td>2008-2010</td>\n",
       "      <td>Violent crime rate</td>\n",
       "      <td>43.0</td>\n",
       "      <td>1.295937e+06</td>\n",
       "      <td>2.989479e+08</td>\n",
       "      <td>433.499335</td>\n",
       "      <td>NaN</td>\n",
       "      <td>NaN</td>\n",
       "      <td>2013.0</td>\n",
       "      <td>00000</td>\n",
       "    </tr>\n",
       "    <tr>\n",
       "      <th>6</th>\n",
       "      <td>US</td>\n",
       "      <td>United States</td>\n",
       "      <td>00</td>\n",
       "      <td>000</td>\n",
       "      <td>2009-2011</td>\n",
       "      <td>Violent crime rate</td>\n",
       "      <td>43.0</td>\n",
       "      <td>1.237998e+06</td>\n",
       "      <td>3.024210e+08</td>\n",
       "      <td>409.362388</td>\n",
       "      <td>NaN</td>\n",
       "      <td>NaN</td>\n",
       "      <td>2014.0</td>\n",
       "      <td>00000</td>\n",
       "    </tr>\n",
       "    <tr>\n",
       "      <th>7</th>\n",
       "      <td>AL</td>\n",
       "      <td>Alabama</td>\n",
       "      <td>01</td>\n",
       "      <td>000</td>\n",
       "      <td>2003-2005</td>\n",
       "      <td>Violent crime rate</td>\n",
       "      <td>43.0</td>\n",
       "      <td>1.817483e+04</td>\n",
       "      <td>4.221248e+06</td>\n",
       "      <td>430.555907</td>\n",
       "      <td>NaN</td>\n",
       "      <td>NaN</td>\n",
       "      <td>NaN</td>\n",
       "      <td>01000</td>\n",
       "    </tr>\n",
       "    <tr>\n",
       "      <th>8</th>\n",
       "      <td>AL</td>\n",
       "      <td>Alabama</td>\n",
       "      <td>01</td>\n",
       "      <td>000</td>\n",
       "      <td>2004-2006</td>\n",
       "      <td>Violent crime rate</td>\n",
       "      <td>43.0</td>\n",
       "      <td>1.767717e+04</td>\n",
       "      <td>4.042098e+06</td>\n",
       "      <td>437.326488</td>\n",
       "      <td>NaN</td>\n",
       "      <td>NaN</td>\n",
       "      <td>NaN</td>\n",
       "      <td>01000</td>\n",
       "    </tr>\n",
       "    <tr>\n",
       "      <th>9</th>\n",
       "      <td>AL</td>\n",
       "      <td>Alabama</td>\n",
       "      <td>01</td>\n",
       "      <td>000</td>\n",
       "      <td>2005-2007</td>\n",
       "      <td>Violent crime rate</td>\n",
       "      <td>43.0</td>\n",
       "      <td>1.745817e+04</td>\n",
       "      <td>3.979110e+06</td>\n",
       "      <td>438.745515</td>\n",
       "      <td>NaN</td>\n",
       "      <td>NaN</td>\n",
       "      <td>2010.0</td>\n",
       "      <td>01000</td>\n",
       "    </tr>\n",
       "  </tbody>\n",
       "</table>\n",
       "</div>"
      ],
      "text/plain": [
       "  State         County State code County code  Year span        Measure name  \\\n",
       "0    US  United States         00         000  2003-2005  Violent crime rate   \n",
       "1    US  United States         00         000  2004-2006  Violent crime rate   \n",
       "2    US  United States         00         000  2005-2007  Violent crime rate   \n",
       "3    US  United States         00         000  2006-2008  Violent crime rate   \n",
       "4    US  United States         00         000  2007-2009  Violent crime rate   \n",
       "5    US  United States         00         000  2008-2010  Violent crime rate   \n",
       "6    US  United States         00         000  2009-2011  Violent crime rate   \n",
       "7    AL        Alabama         01         000  2003-2005  Violent crime rate   \n",
       "8    AL        Alabama         01         000  2004-2006  Violent crime rate   \n",
       "9    AL        Alabama         01         000  2005-2007  Violent crime rate   \n",
       "\n",
       "   Measure id     Numerator   Denominator   Raw value  \\\n",
       "0        43.0  1.328751e+06  2.748771e+08  483.398066   \n",
       "1        43.0  1.340929e+06  2.776128e+08  483.021233   \n",
       "2        43.0  1.355853e+06  2.804077e+08  483.529230   \n",
       "3        43.0  1.366928e+06  2.876146e+08  475.263942   \n",
       "4        43.0  1.339439e+06  2.925763e+08  457.808585   \n",
       "5        43.0  1.295937e+06  2.989479e+08  433.499335   \n",
       "6        43.0  1.237998e+06  3.024210e+08  409.362388   \n",
       "7        43.0  1.817483e+04  4.221248e+06  430.555907   \n",
       "8        43.0  1.767717e+04  4.042098e+06  437.326488   \n",
       "9        43.0  1.745817e+04  3.979110e+06  438.745515   \n",
       "\n",
       "   Confidence Interval Lower Bound  Confidence Interval Upper Bound  \\\n",
       "0                              NaN                              NaN   \n",
       "1                              NaN                              NaN   \n",
       "2                              NaN                              NaN   \n",
       "3                              NaN                              NaN   \n",
       "4                              NaN                              NaN   \n",
       "5                              NaN                              NaN   \n",
       "6                              NaN                              NaN   \n",
       "7                              NaN                              NaN   \n",
       "8                              NaN                              NaN   \n",
       "9                              NaN                              NaN   \n",
       "\n",
       "   Data Release Year fipscode  \n",
       "0                NaN    00000  \n",
       "1                NaN    00000  \n",
       "2             2010.0    00000  \n",
       "3             2011.0    00000  \n",
       "4             2012.0    00000  \n",
       "5             2013.0    00000  \n",
       "6             2014.0    00000  \n",
       "7                NaN    01000  \n",
       "8                NaN    01000  \n",
       "9             2010.0    01000  "
      ]
     },
     "execution_count": 34,
     "metadata": {},
     "output_type": "execute_result"
    }
   ],
   "source": [
    "CH_ranking.head(10)"
   ]
  },
  {
   "cell_type": "code",
   "execution_count": 9,
   "metadata": {
    "ExecuteTime": {
     "end_time": "2019-09-04T14:43:48.384093Z",
     "start_time": "2019-09-04T14:43:48.330957Z"
    }
   },
   "outputs": [
    {
     "data": {
      "text/plain": [
       "Index(['State', 'County', 'State code', 'County code', 'Year span',\n",
       "       'Measure name', 'Measure id', 'Numerator', 'Denominator', 'Raw value',\n",
       "       'Confidence Interval Lower Bound', 'Confidence Interval Upper Bound',\n",
       "       'Data Release Year', 'fipscode'],\n",
       "      dtype='object')"
      ]
     },
     "execution_count": 9,
     "metadata": {},
     "output_type": "execute_result"
    }
   ],
   "source": [
    "CH_ranking.columns"
   ]
  },
  {
   "cell_type": "code",
   "execution_count": 11,
   "metadata": {
    "ExecuteTime": {
     "end_time": "2019-09-04T14:54:10.089163Z",
     "start_time": "2019-09-04T14:54:09.325148Z"
    },
    "scrolled": true
   },
   "outputs": [
    {
     "name": "stdout",
     "output_type": "stream",
     "text": [
      "<class 'pandas.core.frame.DataFrame'>\n",
      "RangeIndex: 303864 entries, 0 to 303863\n",
      "Data columns (total 14 columns):\n",
      "State                              303858 non-null object\n",
      "County                             303858 non-null object\n",
      "State code                         303860 non-null float64\n",
      "County code                        303860 non-null float64\n",
      "Year span                          303390 non-null object\n",
      "Measure name                       303390 non-null object\n",
      "Measure id                         303390 non-null float64\n",
      "Numerator                          214076 non-null float64\n",
      "Denominator                        184779 non-null float64\n",
      "Raw value                          289956 non-null float64\n",
      "Confidence Interval Lower Bound    189412 non-null float64\n",
      "Confidence Interval Upper Bound    189412 non-null float64\n",
      "Data Release Year                  150129 non-null float64\n",
      "fipscode                           294283 non-null float64\n",
      "dtypes: float64(10), object(4)\n",
      "memory usage: 32.5+ MB\n"
     ]
    }
   ],
   "source": [
    "# CH_ranking.info()"
   ]
  },
  {
   "cell_type": "markdown",
   "metadata": {},
   "source": [
    "Need to clean up State and County codes to make them strings with the appropriate number of digits. "
   ]
  },
  {
   "cell_type": "code",
   "execution_count": 51,
   "metadata": {
    "ExecuteTime": {
     "end_time": "2019-09-11T02:43:04.076423Z",
     "start_time": "2019-09-11T02:43:03.733990Z"
    }
   },
   "outputs": [
    {
     "data": {
      "text/plain": [
       "Children in poverty                41499\n",
       "Premature Death                    38312\n",
       "Unemployment                       35202\n",
       "Daily fine particulate matter      28728\n",
       "Physical inactivity                22351\n",
       "Violent crime rate                 22351\n",
       "Adult obesity                      22351\n",
       "Preventable hospital stays         19159\n",
       "Diabetic screening                 19159\n",
       "Mammography screening              19159\n",
       "Uninsured                          19156\n",
       "Sexually transmitted infections    15963\n",
       "Name: Measure name, dtype: int64"
      ]
     },
     "execution_count": 51,
     "metadata": {},
     "output_type": "execute_result"
    }
   ],
   "source": [
    "CH_ranking['Measure name'].value_counts()"
   ]
  },
  {
   "cell_type": "code",
   "execution_count": 49,
   "metadata": {
    "ExecuteTime": {
     "end_time": "2019-09-11T02:40:55.091497Z",
     "start_time": "2019-09-11T02:40:55.044281Z"
    },
    "scrolled": true
   },
   "outputs": [],
   "source": [
    "# CH_ranking[CH_ranking['State code'] == '24'].County.value_counts()"
   ]
  },
  {
   "cell_type": "code",
   "execution_count": 14,
   "metadata": {
    "ExecuteTime": {
     "end_time": "2019-09-06T17:36:39.550796Z",
     "start_time": "2019-09-06T17:36:39.484082Z"
    }
   },
   "outputs": [],
   "source": [
    "maryland = CH_ranking[CH_ranking['State code'] == '24']"
   ]
  },
  {
   "cell_type": "markdown",
   "metadata": {},
   "source": [
    "**Summary of Data set**\n",
    "\n",
    "Spans years: 1997 - 2012 (looks like more is available on their website: https://www.countyhealthrankings.org/)\n",
    "\n",
    "These are the measures being reported in this set: \n",
    "- Children in poverty                41499\n",
    "- Premature Death                    38312\n",
    "- Unemployment                       35202\n",
    "- Daily fine particulate matter      28728\n",
    "- Adult obesity                      22351\n",
    "- Violent crime rate                 22351\n",
    "- Physical inactivity                22351\n",
    "- Preventable hospital stays         19159\n",
    "- Mammography screening              19159\n",
    "- Diabetic screening                 19159\n",
    "- Uninsured                          19156\n",
    "- Sexually transmitted infections    15963\n",
    "\n",
    "Need to change State Code, County Code and Fips Code to strings with padded zeros. "
   ]
  },
  {
   "cell_type": "markdown",
   "metadata": {
    "heading_collapsed": true
   },
   "source": [
    "### Cleaning up INT columns that should be STRING\n",
    "\n",
    "turns out, I can just read the columns in with a specific data type and forego this business here. "
   ]
  },
  {
   "cell_type": "code",
   "execution_count": null,
   "metadata": {
    "hidden": true
   },
   "outputs": [],
   "source": []
  },
  {
   "cell_type": "code",
   "execution_count": 11,
   "metadata": {
    "ExecuteTime": {
     "end_time": "2019-09-06T17:36:23.487225Z",
     "start_time": "2019-09-06T17:36:23.279034Z"
    },
    "hidden": true
   },
   "outputs": [],
   "source": [
    "## Changing County code to string with 3-characters\n",
    "CH_ranking['County code'] = CH_ranking['County code'].apply(lambda x: str(x).zfill(3))\n"
   ]
  },
  {
   "cell_type": "code",
   "execution_count": 12,
   "metadata": {
    "ExecuteTime": {
     "end_time": "2019-09-06T17:36:26.808512Z",
     "start_time": "2019-09-06T17:36:26.634569Z"
    },
    "hidden": true
   },
   "outputs": [],
   "source": [
    "## Changing State code to string with 2-characters\n",
    "\n",
    "CH_ranking['State code'] = CH_ranking['State code'].apply(lambda x: str(x).zfill(2))\n"
   ]
  },
  {
   "cell_type": "code",
   "execution_count": 13,
   "metadata": {
    "ExecuteTime": {
     "end_time": "2019-09-06T17:36:27.657653Z",
     "start_time": "2019-09-06T17:36:27.490114Z"
    },
    "hidden": true
   },
   "outputs": [],
   "source": [
    "## Changing FIPS code to string with 5-characters\n",
    "CH_ranking['fipscode'] = CH_ranking['fipscode'].apply(lambda x: str(x).zfill(5))\n"
   ]
  },
  {
   "cell_type": "code",
   "execution_count": 54,
   "metadata": {
    "ExecuteTime": {
     "end_time": "2019-09-04T23:28:45.644905Z",
     "start_time": "2019-09-04T23:28:45.528980Z"
    },
    "hidden": true
   },
   "outputs": [
    {
     "data": {
      "text/plain": [
       "0.34821052631578947"
      ]
     },
     "execution_count": 54,
     "metadata": {},
     "output_type": "execute_result"
    }
   ],
   "source": [
    "maryland['Confidence Interval Lower Bound'].isna().sum()/len(maryland)"
   ]
  },
  {
   "cell_type": "code",
   "execution_count": 48,
   "metadata": {
    "ExecuteTime": {
     "end_time": "2019-09-11T02:40:42.971345Z",
     "start_time": "2019-09-11T02:40:42.606791Z"
    },
    "hidden": true
   },
   "outputs": [],
   "source": [
    "# maryland['Measure name'].value_counts()\n",
    "# maryland['Year span'].value_counts()\n",
    "# maryland.info()"
   ]
  },
  {
   "cell_type": "code",
   "execution_count": 15,
   "metadata": {
    "ExecuteTime": {
     "end_time": "2019-09-06T17:36:50.228091Z",
     "start_time": "2019-09-06T17:36:50.178733Z"
    },
    "hidden": true
   },
   "outputs": [
    {
     "data": {
      "text/plain": [
       "array(['000', '001', '003', '005', '009', '011', '013', '015', '017',\n",
       "       '019', '021', '023', '025', '027', '029', '031', '033', '035',\n",
       "       '037', '039', '041', '043', '045', '047', '510'], dtype=object)"
      ]
     },
     "execution_count": 15,
     "metadata": {},
     "output_type": "execute_result"
    }
   ],
   "source": [
    "maryland['County code'].unique()"
   ]
  },
  {
   "cell_type": "code",
   "execution_count": 67,
   "metadata": {
    "ExecuteTime": {
     "end_time": "2019-09-04T23:39:17.014727Z",
     "start_time": "2019-09-04T23:39:16.932242Z"
    },
    "hidden": true
   },
   "outputs": [
    {
     "data": {
      "text/plain": [
       "2009         10\n",
       "2008         10\n",
       "2010         10\n",
       "2011          8\n",
       "2007          7\n",
       "2004          6\n",
       "2006          6\n",
       "2005          5\n",
       "2003-2005     5\n",
       "2003          4\n",
       "2006-2007     3\n",
       "2008-2010     2\n",
       "2006-2008     2\n",
       "2012          2\n",
       "2005-2007     2\n",
       "2004-2006     2\n",
       "2007-2009     2\n",
       "2002          2\n",
       "1999-2001     1\n",
       "2001-2003     1\n",
       "1997-1999     1\n",
       "2000-2002     1\n",
       "2009-2011     1\n",
       "1998-2000     1\n",
       "2002-2004     1\n",
       "Name: Year span, dtype: int64"
      ]
     },
     "execution_count": 67,
     "metadata": {},
     "output_type": "execute_result"
    }
   ],
   "source": [
    "maryland.loc[(maryland['County']== \"Prince George's County\"), 'Year span'].value_counts()"
   ]
  },
  {
   "cell_type": "markdown",
   "metadata": {
    "hidden": true
   },
   "source": []
  },
  {
   "cell_type": "markdown",
   "metadata": {
    "hidden": true
   },
   "source": []
  },
  {
   "cell_type": "markdown",
   "metadata": {},
   "source": [
    "## Analysis/Modeling\n",
    "Need to think about how to organize the data for plotting and calculations. \n",
    "\n",
    "I could make each county it's own data frame. Where I could have years as the column and the factors/outcomes as the rows. "
   ]
  },
  {
   "cell_type": "markdown",
   "metadata": {},
   "source": [
    "## Making new DataFrames\n",
    "\n",
    "Two data frames: data average for 1997-2001 and one for 2007-2011  \n",
    "Each county will be a row. Columns will be each measure. "
   ]
  },
  {
   "cell_type": "markdown",
   "metadata": {},
   "source": [
    "Going to trim and mold the CH_ranking dataframe into what I want. \n",
    "1. Filter out State and Country level data = 298920 rows remaining\n",
    "1. Select out years we want to focus on: \n",
    "    - 1997-2002 = 12560 rows\n",
    "    - 2007-2011 = "
   ]
  },
  {
   "cell_type": "code",
   "execution_count": 17,
   "metadata": {
    "ExecuteTime": {
     "end_time": "2019-09-09T20:56:58.576026Z",
     "start_time": "2019-09-09T20:56:58.517800Z"
    }
   },
   "outputs": [],
   "source": [
    "county_health_97_01 = pd.DataFrame()"
   ]
  },
  {
   "cell_type": "code",
   "execution_count": 53,
   "metadata": {
    "ExecuteTime": {
     "end_time": "2019-09-11T03:00:32.337340Z",
     "start_time": "2019-09-11T03:00:31.455144Z"
    }
   },
   "outputs": [],
   "source": [
    "#Filter out State and Country level data = 298920 rows remaining\n",
    "county_only = CH_ranking.loc[(CH_ranking['County code'] != '000') & (CH_ranking['fipscode'] != '00nan') ]"
   ]
  },
  {
   "cell_type": "code",
   "execution_count": 23,
   "metadata": {
    "ExecuteTime": {
     "end_time": "2019-09-09T21:09:37.168691Z",
     "start_time": "2019-09-09T21:09:37.095181Z"
    }
   },
   "outputs": [],
   "source": [
    "#Filter out years (1997-2001) for first DataFrame = 12560 rows remaining\n",
    "chr_97_01 = county_only.loc[county_only['Year span'].isin(['1997-1999', '1998-2000', '1999-2001', '2000-2002'])]"
   ]
  },
  {
   "cell_type": "code",
   "execution_count": 47,
   "metadata": {
    "ExecuteTime": {
     "end_time": "2019-09-11T02:40:10.230495Z",
     "start_time": "2019-09-11T02:40:10.152825Z"
    }
   },
   "outputs": [],
   "source": [
    "# county_only.groupby(['Year span'])['Measure name'].value_counts()"
   ]
  },
  {
   "cell_type": "code",
   "execution_count": 46,
   "metadata": {
    "ExecuteTime": {
     "end_time": "2019-09-11T02:40:01.086521Z",
     "start_time": "2019-09-11T02:40:01.022557Z"
    }
   },
   "outputs": [],
   "source": [
    "#chr_97_01.groupby(['fipscode', 'Year span'])['Measure name'].value_counts()"
   ]
  },
  {
   "cell_type": "code",
   "execution_count": 45,
   "metadata": {
    "ExecuteTime": {
     "end_time": "2019-09-11T02:39:56.730448Z",
     "start_time": "2019-09-11T02:39:56.640701Z"
    }
   },
   "outputs": [],
   "source": [
    "#chr_97_01.groupby(['County','fipscode','Measure name'])['Raw value'].mean()"
   ]
  },
  {
   "cell_type": "code",
   "execution_count": null,
   "metadata": {},
   "outputs": [],
   "source": []
  },
  {
   "cell_type": "markdown",
   "metadata": {},
   "source": [
    "## Conclusions and Next Steps\n",
    "\n",
    "\n",
    "Decided to collapse all data by year...averaging everything. Going to use pivot or unstack to get each county (by fipscode) and move each Measure Name to be a column. \n",
    "\n",
    "Experiment with that here:\n",
    "\n",
    "- need to average out by year first!\n"
   ]
  },
  {
   "cell_type": "code",
   "execution_count": null,
   "metadata": {},
   "outputs": [],
   "source": []
  },
  {
   "cell_type": "code",
   "execution_count": 57,
   "metadata": {
    "ExecuteTime": {
     "end_time": "2019-09-11T03:02:06.139204Z",
     "start_time": "2019-09-11T03:02:06.021583Z"
    }
   },
   "outputs": [],
   "source": [
    "county_measures = pd.DataFrame(county_only.groupby(by=['fipscode', 'Measure name'])['Raw value'].mean())"
   ]
  },
  {
   "cell_type": "code",
   "execution_count": 63,
   "metadata": {
    "ExecuteTime": {
     "end_time": "2019-09-11T03:05:56.785294Z",
     "start_time": "2019-09-11T03:05:56.731353Z"
    }
   },
   "outputs": [],
   "source": [
    "county_measures.reset_index(inplace=True)"
   ]
  },
  {
   "cell_type": "code",
   "execution_count": 65,
   "metadata": {
    "ExecuteTime": {
     "end_time": "2019-09-11T03:07:12.163333Z",
     "start_time": "2019-09-11T03:07:12.083134Z"
    }
   },
   "outputs": [],
   "source": [
    "county_meas_piv = county_measures.pivot(index='fipscode', columns='Measure name', values='Raw value')"
   ]
  },
  {
   "cell_type": "code",
   "execution_count": 68,
   "metadata": {
    "ExecuteTime": {
     "end_time": "2019-09-11T03:07:43.280776Z",
     "start_time": "2019-09-11T03:07:43.213377Z"
    }
   },
   "outputs": [
    {
     "data": {
      "text/plain": [
       "Measure name\n",
       "Adult obesity                       81\n",
       "Children in poverty                 81\n",
       "Daily fine particulate matter      115\n",
       "Diabetic screening                 114\n",
       "Mammography screening              142\n",
       "Physical inactivity                 81\n",
       "Premature Death                    132\n",
       "Preventable hospital stays         113\n",
       "Sexually transmitted infections     81\n",
       "Unemployment                         4\n",
       "Uninsured                           80\n",
       "Violent crime rate                 181\n",
       "dtype: int64"
      ]
     },
     "execution_count": 68,
     "metadata": {},
     "output_type": "execute_result"
    }
   ],
   "source": [
    "county_meas_piv.isna().sum()"
   ]
  },
  {
   "cell_type": "code",
   "execution_count": 70,
   "metadata": {
    "ExecuteTime": {
     "end_time": "2019-09-11T03:13:46.783055Z",
     "start_time": "2019-09-11T03:13:46.383727Z"
    }
   },
   "outputs": [],
   "source": [
    "county_meas_piv.to_pickle('../../data/02_intermediate/county_measures')"
   ]
  },
  {
   "cell_type": "code",
   "execution_count": null,
   "metadata": {},
   "outputs": [],
   "source": []
  }
 ],
 "metadata": {
  "kernelspec": {
   "display_name": "Python 3",
   "language": "python",
   "name": "python3"
  },
  "language_info": {
   "codemirror_mode": {
    "name": "ipython",
    "version": 3
   },
   "file_extension": ".py",
   "mimetype": "text/x-python",
   "name": "python",
   "nbconvert_exporter": "python",
   "pygments_lexer": "ipython3",
   "version": "3.7.3"
  },
  "toc": {
   "base_numbering": 1,
   "nav_menu": {},
   "number_sections": true,
   "sideBar": true,
   "skip_h1_title": true,
   "title_cell": "Table of Contents",
   "title_sidebar": "Contents",
   "toc_cell": false,
   "toc_position": {
    "height": "calc(100% - 180px)",
    "left": "10px",
    "top": "150px",
    "width": "165px"
   },
   "toc_section_display": true,
   "toc_window_display": false
  }
 },
 "nbformat": 4,
 "nbformat_minor": 2
}
