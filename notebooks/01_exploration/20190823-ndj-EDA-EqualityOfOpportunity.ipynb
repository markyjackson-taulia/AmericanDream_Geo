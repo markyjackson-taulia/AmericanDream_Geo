{
 "cells": [
  {
   "cell_type": "markdown",
   "metadata": {},
   "source": [
    "# Equality of Opportunity - Data Exploration"
   ]
  },
  {
   "cell_type": "markdown",
   "metadata": {},
   "source": [
    "The objective of this notebook is to assess feasibility of this collection of data and outline any challenges and necessary tasks.  \n",
    "**Data source**: http://www.equality-of-opportunity.org/data/ "
   ]
  },
  {
   "cell_type": "code",
   "execution_count": 3,
   "metadata": {
    "ExecuteTime": {
     "end_time": "2019-09-06T17:50:40.547160Z",
     "start_time": "2019-09-06T17:50:38.474091Z"
    }
   },
   "outputs": [],
   "source": [
    "import pandas as pd"
   ]
  },
  {
   "cell_type": "code",
   "execution_count": 33,
   "metadata": {
    "ExecuteTime": {
     "end_time": "2019-09-07T16:48:04.904345Z",
     "start_time": "2019-09-07T16:48:01.560105Z"
    }
   },
   "outputs": [],
   "source": [
    "import matplotlib.pyplot as plt\n",
    "import seaborn as sns"
   ]
  },
  {
   "cell_type": "code",
   "execution_count": null,
   "metadata": {},
   "outputs": [],
   "source": []
  },
  {
   "cell_type": "markdown",
   "metadata": {},
   "source": [
    "##  Mobility Rates by College"
   ]
  },
  {
   "cell_type": "markdown",
   "metadata": {},
   "source": [
    "**Cite**: \n",
    "_Mobility Report Cards: The Role of Colleges in Intergenerational Mobility_  \n",
    "Chetty, Friedman, Saez, Turner, and Yagan (2017)  \n",
    "\"Mobility Statistics and Student Outcomes by College and Birth Cohort\""
   ]
  },
  {
   "cell_type": "markdown",
   "metadata": {},
   "source": [
    "### Import Table 3: Baseline Longitudinal Estimates by College and Child’s Cohort"
   ]
  },
  {
   "cell_type": "markdown",
   "metadata": {},
   "source": [
    "This table reports estimates of parents’ and children’s income distributions by college, separately by birth cohort. The variables in this file are identical to those in Table 2, with three exceptions:\n",
    " - First, we add the variable “cohort” which indexes the child’s birth cohort, from 1980 to 1991. \n",
    " - Second, we drop the “imputed” and “shareimputed” variables because no data is imputed in this table. \n",
    " - Third, we do not separate late-goers from never-goers, because the number of years for which we observe college attendance varies across cohorts. We combine these two groups into a single “not attending college at ages 19-22” group, and assign them super_opeid = -999, thereby redefining super_opeid as follows:  (see data dictionary in Readme.doc)"
   ]
  },
  {
   "cell_type": "code",
   "execution_count": 3,
   "metadata": {
    "ExecuteTime": {
     "end_time": "2019-09-03T14:43:24.770480Z",
     "start_time": "2019-09-03T14:43:24.045272Z"
    },
    "hide_input": false
   },
   "outputs": [
    {
     "data": {
      "text/html": [
       "<div>\n",
       "<style scoped>\n",
       "    .dataframe tbody tr th:only-of-type {\n",
       "        vertical-align: middle;\n",
       "    }\n",
       "\n",
       "    .dataframe tbody tr th {\n",
       "        vertical-align: top;\n",
       "    }\n",
       "\n",
       "    .dataframe thead th {\n",
       "        text-align: right;\n",
       "    }\n",
       "</style>\n",
       "<table border=\"1\" class=\"dataframe\">\n",
       "  <thead>\n",
       "    <tr style=\"text-align: right;\">\n",
       "      <th></th>\n",
       "      <th>super_opeid</th>\n",
       "      <th>cohort</th>\n",
       "      <th>name</th>\n",
       "      <th>type</th>\n",
       "      <th>tier</th>\n",
       "      <th>tier_name</th>\n",
       "      <th>iclevel</th>\n",
       "      <th>region</th>\n",
       "      <th>state</th>\n",
       "      <th>cz</th>\n",
       "      <th>...</th>\n",
       "      <th>ktop1pc_cond_parq1</th>\n",
       "      <th>ktop1pc_cond_parq2</th>\n",
       "      <th>ktop1pc_cond_parq3</th>\n",
       "      <th>ktop1pc_cond_parq4</th>\n",
       "      <th>ktop1pc_cond_parq5</th>\n",
       "      <th>k_married_cond_parq1</th>\n",
       "      <th>k_married_cond_parq2</th>\n",
       "      <th>k_married_cond_parq3</th>\n",
       "      <th>k_married_cond_parq4</th>\n",
       "      <th>k_married_cond_parq5</th>\n",
       "    </tr>\n",
       "  </thead>\n",
       "  <tbody>\n",
       "    <tr>\n",
       "      <th>0</th>\n",
       "      <td>30955.0</td>\n",
       "      <td>1980.0</td>\n",
       "      <td>ASA Institute Of Business &amp; Computer Technology</td>\n",
       "      <td>Private For-profit</td>\n",
       "      <td>Two-year for-profit</td>\n",
       "      <td>Two-year for-profit</td>\n",
       "      <td>Two-year</td>\n",
       "      <td>Northeast</td>\n",
       "      <td>NY</td>\n",
       "      <td>19400.0</td>\n",
       "      <td>...</td>\n",
       "      <td>NaN</td>\n",
       "      <td>NaN</td>\n",
       "      <td>NaN</td>\n",
       "      <td>NaN</td>\n",
       "      <td>NaN</td>\n",
       "      <td>NaN</td>\n",
       "      <td>NaN</td>\n",
       "      <td>NaN</td>\n",
       "      <td>NaN</td>\n",
       "      <td>NaN</td>\n",
       "    </tr>\n",
       "    <tr>\n",
       "      <th>1</th>\n",
       "      <td>30955.0</td>\n",
       "      <td>1981.0</td>\n",
       "      <td>ASA Institute Of Business &amp; Computer Technology</td>\n",
       "      <td>Private For-profit</td>\n",
       "      <td>Two-year for-profit</td>\n",
       "      <td>Two-year for-profit</td>\n",
       "      <td>Two-year</td>\n",
       "      <td>Northeast</td>\n",
       "      <td>NY</td>\n",
       "      <td>19400.0</td>\n",
       "      <td>...</td>\n",
       "      <td>NaN</td>\n",
       "      <td>NaN</td>\n",
       "      <td>NaN</td>\n",
       "      <td>NaN</td>\n",
       "      <td>NaN</td>\n",
       "      <td>NaN</td>\n",
       "      <td>NaN</td>\n",
       "      <td>NaN</td>\n",
       "      <td>NaN</td>\n",
       "      <td>NaN</td>\n",
       "    </tr>\n",
       "    <tr>\n",
       "      <th>2</th>\n",
       "      <td>30955.0</td>\n",
       "      <td>1982.0</td>\n",
       "      <td>ASA Institute Of Business &amp; Computer Technology</td>\n",
       "      <td>Private For-profit</td>\n",
       "      <td>Two-year for-profit</td>\n",
       "      <td>Two-year for-profit</td>\n",
       "      <td>Two-year</td>\n",
       "      <td>Northeast</td>\n",
       "      <td>NY</td>\n",
       "      <td>19400.0</td>\n",
       "      <td>...</td>\n",
       "      <td>0.000021</td>\n",
       "      <td>0.000000</td>\n",
       "      <td>0.000049</td>\n",
       "      <td>0.000000</td>\n",
       "      <td>0.0</td>\n",
       "      <td>0.117179</td>\n",
       "      <td>0.157029</td>\n",
       "      <td>0.102908</td>\n",
       "      <td>0.000000</td>\n",
       "      <td>0.000000</td>\n",
       "    </tr>\n",
       "    <tr>\n",
       "      <th>3</th>\n",
       "      <td>30955.0</td>\n",
       "      <td>1983.0</td>\n",
       "      <td>ASA Institute Of Business &amp; Computer Technology</td>\n",
       "      <td>Private For-profit</td>\n",
       "      <td>Two-year for-profit</td>\n",
       "      <td>Two-year for-profit</td>\n",
       "      <td>Two-year</td>\n",
       "      <td>Northeast</td>\n",
       "      <td>NY</td>\n",
       "      <td>19400.0</td>\n",
       "      <td>...</td>\n",
       "      <td>0.000000</td>\n",
       "      <td>0.014382</td>\n",
       "      <td>0.000000</td>\n",
       "      <td>0.000205</td>\n",
       "      <td>0.0</td>\n",
       "      <td>0.143647</td>\n",
       "      <td>0.183957</td>\n",
       "      <td>0.124883</td>\n",
       "      <td>0.162552</td>\n",
       "      <td>0.203495</td>\n",
       "    </tr>\n",
       "    <tr>\n",
       "      <th>4</th>\n",
       "      <td>30955.0</td>\n",
       "      <td>1984.0</td>\n",
       "      <td>ASA Institute Of Business &amp; Computer Technology</td>\n",
       "      <td>Private For-profit</td>\n",
       "      <td>Two-year for-profit</td>\n",
       "      <td>Two-year for-profit</td>\n",
       "      <td>Two-year</td>\n",
       "      <td>Northeast</td>\n",
       "      <td>NY</td>\n",
       "      <td>19400.0</td>\n",
       "      <td>...</td>\n",
       "      <td>0.000000</td>\n",
       "      <td>0.000215</td>\n",
       "      <td>0.000041</td>\n",
       "      <td>0.000000</td>\n",
       "      <td>0.0</td>\n",
       "      <td>0.130843</td>\n",
       "      <td>0.179817</td>\n",
       "      <td>0.113638</td>\n",
       "      <td>0.134755</td>\n",
       "      <td>0.170238</td>\n",
       "    </tr>\n",
       "  </tbody>\n",
       "</table>\n",
       "<p>5 rows × 84 columns</p>\n",
       "</div>"
      ],
      "text/plain": [
       "   super_opeid  cohort                                             name  \\\n",
       "0      30955.0  1980.0  ASA Institute Of Business & Computer Technology   \n",
       "1      30955.0  1981.0  ASA Institute Of Business & Computer Technology   \n",
       "2      30955.0  1982.0  ASA Institute Of Business & Computer Technology   \n",
       "3      30955.0  1983.0  ASA Institute Of Business & Computer Technology   \n",
       "4      30955.0  1984.0  ASA Institute Of Business & Computer Technology   \n",
       "\n",
       "                 type                 tier            tier_name   iclevel  \\\n",
       "0  Private For-profit  Two-year for-profit  Two-year for-profit  Two-year   \n",
       "1  Private For-profit  Two-year for-profit  Two-year for-profit  Two-year   \n",
       "2  Private For-profit  Two-year for-profit  Two-year for-profit  Two-year   \n",
       "3  Private For-profit  Two-year for-profit  Two-year for-profit  Two-year   \n",
       "4  Private For-profit  Two-year for-profit  Two-year for-profit  Two-year   \n",
       "\n",
       "      region state       cz  ... ktop1pc_cond_parq1  ktop1pc_cond_parq2  \\\n",
       "0  Northeast    NY  19400.0  ...                NaN                 NaN   \n",
       "1  Northeast    NY  19400.0  ...                NaN                 NaN   \n",
       "2  Northeast    NY  19400.0  ...           0.000021            0.000000   \n",
       "3  Northeast    NY  19400.0  ...           0.000000            0.014382   \n",
       "4  Northeast    NY  19400.0  ...           0.000000            0.000215   \n",
       "\n",
       "  ktop1pc_cond_parq3  ktop1pc_cond_parq4  ktop1pc_cond_parq5  \\\n",
       "0                NaN                 NaN                 NaN   \n",
       "1                NaN                 NaN                 NaN   \n",
       "2           0.000049            0.000000                 0.0   \n",
       "3           0.000000            0.000205                 0.0   \n",
       "4           0.000041            0.000000                 0.0   \n",
       "\n",
       "   k_married_cond_parq1  k_married_cond_parq2  k_married_cond_parq3  \\\n",
       "0                   NaN                   NaN                   NaN   \n",
       "1                   NaN                   NaN                   NaN   \n",
       "2              0.117179              0.157029              0.102908   \n",
       "3              0.143647              0.183957              0.124883   \n",
       "4              0.130843              0.179817              0.113638   \n",
       "\n",
       "   k_married_cond_parq4  k_married_cond_parq5  \n",
       "0                   NaN                   NaN  \n",
       "1                   NaN                   NaN  \n",
       "2              0.000000              0.000000  \n",
       "3              0.162552              0.203495  \n",
       "4              0.134755              0.170238  \n",
       "\n",
       "[5 rows x 84 columns]"
      ]
     },
     "execution_count": 3,
     "metadata": {},
     "output_type": "execute_result"
    }
   ],
   "source": [
    "table3 = pd.io.stata.read_stata('../../data/01_raw/replicate_07222017_College_Mobility_ReportCards/data/mrc_table3.dta')\n",
    "table3.head()"
   ]
  },
  {
   "cell_type": "code",
   "execution_count": 11,
   "metadata": {
    "ExecuteTime": {
     "end_time": "2019-09-03T16:19:33.323021Z",
     "start_time": "2019-09-03T16:19:33.280911Z"
    }
   },
   "outputs": [],
   "source": [
    "#table3.info()"
   ]
  },
  {
   "cell_type": "code",
   "execution_count": null,
   "metadata": {
    "hide_input": false,
    "scrolled": true
   },
   "outputs": [],
   "source": [
    "table5 = pd.io.stata.read_stata('replicate_07222017/data/mrc_table5.dta')\n",
    "table5.head()"
   ]
  },
  {
   "cell_type": "code",
   "execution_count": 2,
   "metadata": {
    "ExecuteTime": {
     "end_time": "2019-09-03T14:42:16.274633Z",
     "start_time": "2019-09-03T14:42:16.091844Z"
    },
    "hide_input": false
   },
   "outputs": [
    {
     "data": {
      "text/html": [
       "<div>\n",
       "<style scoped>\n",
       "    .dataframe tbody tr th:only-of-type {\n",
       "        vertical-align: middle;\n",
       "    }\n",
       "\n",
       "    .dataframe tbody tr th {\n",
       "        vertical-align: top;\n",
       "    }\n",
       "\n",
       "    .dataframe thead th {\n",
       "        text-align: right;\n",
       "    }\n",
       "</style>\n",
       "<table border=\"1\" class=\"dataframe\">\n",
       "  <thead>\n",
       "    <tr style=\"text-align: right;\">\n",
       "      <th></th>\n",
       "      <th>par_pctile</th>\n",
       "      <th>tier</th>\n",
       "      <th>tier_name</th>\n",
       "      <th>par_mean</th>\n",
       "      <th>k_mean</th>\n",
       "      <th>k_rank</th>\n",
       "      <th>k_top1pc</th>\n",
       "      <th>k_top5pc</th>\n",
       "      <th>k_top10pc</th>\n",
       "      <th>k_q5</th>\n",
       "      <th>...</th>\n",
       "      <th>k_q3</th>\n",
       "      <th>k_q2</th>\n",
       "      <th>k_q1</th>\n",
       "      <th>k_nowork</th>\n",
       "      <th>married</th>\n",
       "      <th>k_median</th>\n",
       "      <th>k_median_nozero</th>\n",
       "      <th>count</th>\n",
       "      <th>tot_count</th>\n",
       "      <th>density</th>\n",
       "    </tr>\n",
       "  </thead>\n",
       "  <tbody>\n",
       "    <tr>\n",
       "      <th>0</th>\n",
       "      <td>0.0</td>\n",
       "      <td>1.0</td>\n",
       "      <td>Ivy Plus</td>\n",
       "      <td>1500.0</td>\n",
       "      <td>198900.0</td>\n",
       "      <td>0.697863</td>\n",
       "      <td>0.155556</td>\n",
       "      <td>0.303704</td>\n",
       "      <td>0.370370</td>\n",
       "      <td>0.548148</td>\n",
       "      <td>...</td>\n",
       "      <td>0.140741</td>\n",
       "      <td>0.066667</td>\n",
       "      <td>0.125926</td>\n",
       "      <td>0.118519</td>\n",
       "      <td>0.459259</td>\n",
       "      <td>61300.0</td>\n",
       "      <td>68000.0</td>\n",
       "      <td>135.0</td>\n",
       "      <td>52724.0</td>\n",
       "      <td>0.002561</td>\n",
       "    </tr>\n",
       "    <tr>\n",
       "      <th>1</th>\n",
       "      <td>0.0</td>\n",
       "      <td>2.0</td>\n",
       "      <td>Other elite schools (public and private)</td>\n",
       "      <td>1600.0</td>\n",
       "      <td>70300.0</td>\n",
       "      <td>0.659462</td>\n",
       "      <td>0.071101</td>\n",
       "      <td>0.211009</td>\n",
       "      <td>0.307339</td>\n",
       "      <td>0.506881</td>\n",
       "      <td>...</td>\n",
       "      <td>0.112385</td>\n",
       "      <td>0.103211</td>\n",
       "      <td>0.146789</td>\n",
       "      <td>0.137615</td>\n",
       "      <td>0.465596</td>\n",
       "      <td>56400.0</td>\n",
       "      <td>62400.0</td>\n",
       "      <td>436.0</td>\n",
       "      <td>183973.0</td>\n",
       "      <td>0.002370</td>\n",
       "    </tr>\n",
       "    <tr>\n",
       "      <th>2</th>\n",
       "      <td>0.0</td>\n",
       "      <td>3.0</td>\n",
       "      <td>Highly selective public</td>\n",
       "      <td>1700.0</td>\n",
       "      <td>55500.0</td>\n",
       "      <td>0.623840</td>\n",
       "      <td>0.031320</td>\n",
       "      <td>0.146532</td>\n",
       "      <td>0.229306</td>\n",
       "      <td>0.380313</td>\n",
       "      <td>...</td>\n",
       "      <td>0.128635</td>\n",
       "      <td>0.126398</td>\n",
       "      <td>0.137584</td>\n",
       "      <td>0.131991</td>\n",
       "      <td>0.431767</td>\n",
       "      <td>43700.0</td>\n",
       "      <td>50400.0</td>\n",
       "      <td>894.0</td>\n",
       "      <td>393548.0</td>\n",
       "      <td>0.002272</td>\n",
       "    </tr>\n",
       "    <tr>\n",
       "      <th>3</th>\n",
       "      <td>0.0</td>\n",
       "      <td>4.0</td>\n",
       "      <td>Highly selective private</td>\n",
       "      <td>1600.0</td>\n",
       "      <td>54000.0</td>\n",
       "      <td>0.592631</td>\n",
       "      <td>0.043307</td>\n",
       "      <td>0.161417</td>\n",
       "      <td>0.259843</td>\n",
       "      <td>0.385827</td>\n",
       "      <td>...</td>\n",
       "      <td>0.137795</td>\n",
       "      <td>0.145669</td>\n",
       "      <td>0.185039</td>\n",
       "      <td>0.181102</td>\n",
       "      <td>0.425197</td>\n",
       "      <td>41200.0</td>\n",
       "      <td>50900.0</td>\n",
       "      <td>254.0</td>\n",
       "      <td>134098.0</td>\n",
       "      <td>0.001894</td>\n",
       "    </tr>\n",
       "    <tr>\n",
       "      <th>4</th>\n",
       "      <td>0.0</td>\n",
       "      <td>5.0</td>\n",
       "      <td>Selective public</td>\n",
       "      <td>1800.0</td>\n",
       "      <td>37500.0</td>\n",
       "      <td>0.536784</td>\n",
       "      <td>0.006946</td>\n",
       "      <td>0.049882</td>\n",
       "      <td>0.108287</td>\n",
       "      <td>0.227309</td>\n",
       "      <td>...</td>\n",
       "      <td>0.197159</td>\n",
       "      <td>0.183741</td>\n",
       "      <td>0.160063</td>\n",
       "      <td>0.146330</td>\n",
       "      <td>0.422415</td>\n",
       "      <td>32000.0</td>\n",
       "      <td>37600.0</td>\n",
       "      <td>6335.0</td>\n",
       "      <td>1944082.0</td>\n",
       "      <td>0.003259</td>\n",
       "    </tr>\n",
       "  </tbody>\n",
       "</table>\n",
       "<p>5 rows × 21 columns</p>\n",
       "</div>"
      ],
      "text/plain": [
       "   par_pctile  tier                                 tier_name  par_mean  \\\n",
       "0         0.0   1.0                                  Ivy Plus    1500.0   \n",
       "1         0.0   2.0  Other elite schools (public and private)    1600.0   \n",
       "2         0.0   3.0                   Highly selective public    1700.0   \n",
       "3         0.0   4.0                  Highly selective private    1600.0   \n",
       "4         0.0   5.0                          Selective public    1800.0   \n",
       "\n",
       "     k_mean    k_rank  k_top1pc  k_top5pc  k_top10pc      k_q5  ...      k_q3  \\\n",
       "0  198900.0  0.697863  0.155556  0.303704   0.370370  0.548148  ...  0.140741   \n",
       "1   70300.0  0.659462  0.071101  0.211009   0.307339  0.506881  ...  0.112385   \n",
       "2   55500.0  0.623840  0.031320  0.146532   0.229306  0.380313  ...  0.128635   \n",
       "3   54000.0  0.592631  0.043307  0.161417   0.259843  0.385827  ...  0.137795   \n",
       "4   37500.0  0.536784  0.006946  0.049882   0.108287  0.227309  ...  0.197159   \n",
       "\n",
       "       k_q2      k_q1  k_nowork   married  k_median  k_median_nozero   count  \\\n",
       "0  0.066667  0.125926  0.118519  0.459259   61300.0          68000.0   135.0   \n",
       "1  0.103211  0.146789  0.137615  0.465596   56400.0          62400.0   436.0   \n",
       "2  0.126398  0.137584  0.131991  0.431767   43700.0          50400.0   894.0   \n",
       "3  0.145669  0.185039  0.181102  0.425197   41200.0          50900.0   254.0   \n",
       "4  0.183741  0.160063  0.146330  0.422415   32000.0          37600.0  6335.0   \n",
       "\n",
       "   tot_count   density  \n",
       "0    52724.0  0.002561  \n",
       "1   183973.0  0.002370  \n",
       "2   393548.0  0.002272  \n",
       "3   134098.0  0.001894  \n",
       "4  1944082.0  0.003259  \n",
       "\n",
       "[5 rows x 21 columns]"
      ]
     },
     "execution_count": 2,
     "metadata": {},
     "output_type": "execute_result"
    }
   ],
   "source": [
    "table6 = pd.io.stata.read_stata('../../data/01_raw/replicate_07222017_College_Mobility_ReportCards/data/mrc_table6.dta')\n",
    "table6.head()"
   ]
  },
  {
   "cell_type": "code",
   "execution_count": null,
   "metadata": {
    "hide_input": false
   },
   "outputs": [],
   "source": [
    "table1 = pd.io.stata.read_stata('replicate_07222017/data/mrc_table1.dta')\n",
    "table1.head()"
   ]
  },
  {
   "cell_type": "code",
   "execution_count": null,
   "metadata": {
    "scrolled": false
   },
   "outputs": [],
   "source": [
    "tables = []\n",
    "for i in range(1,12):\n",
    "    tables.append(pd.io.stata.read_stata(f'replicate_07222017/data/mrc_table{i}.dta'))\n",
    "    \n",
    "tables"
   ]
  },
  {
   "cell_type": "markdown",
   "metadata": {},
   "source": [
    "## Opportunity Insights - All Outcomes by County, Race, Gender and Parental Income Percentile\n",
    "\n",
    "https://opportunityinsights.org/wp-content/uploads/2019/07/Codebook-for-Table-5.pdf"
   ]
  },
  {
   "cell_type": "code",
   "execution_count": 12,
   "metadata": {
    "ExecuteTime": {
     "end_time": "2019-09-03T16:26:45.556705Z",
     "start_time": "2019-09-03T16:26:22.467489Z"
    }
   },
   "outputs": [
    {
     "name": "stderr",
     "output_type": "stream",
     "text": [
      "/anaconda3/lib/python3.7/site-packages/IPython/core/interactiveshell.py:3049: DtypeWarning: Columns (7886) have mixed types. Specify dtype option on import or set low_memory=False.\n",
      "  interactivity=interactivity, compiler=compiler, result=result)\n"
     ]
    }
   ],
   "source": [
    "county_data = pd.read_csv('../../data/01_raw/county_outcomes.csv')"
   ]
  },
  {
   "cell_type": "markdown",
   "metadata": {},
   "source": [
    "This table reports predicted outcomes for children by county, race, and gender. Each county is\n",
    "uniquely identified by two-digit state and three-digit county code (2010 FIPS). The data is\n",
    "organized long on county and wide on race and gender, so that each row corresponds to one\n",
    "county. We provide data for children born between 1978 and 1983\n",
    "In particular, we consider the 1st, 25th, 50th, 75th, and 100th percentiles\n",
    "\n",
    " Variable | Type | Description\n",
    " ---| --- |---\n",
    "`[outcome]_[race]_[gender]_p[pctile]` |   Num   | Mean predicted outcome for children of a given race, gender and with parents at a given percentile in the national household income distribution.\n",
    "`frac_years_xw_[race]_[gender]` | Num | Mean fraction of possible childhood years (up to age 23) children spent in this county. This is calculated over children who spent any time in this county\n",
    "kfr |  . | Mean percentile rank (relative to other children born in the same year) in the national distribution of household income (i.e. own earnings and spouse’s earnings) measured as mean earnings in 2014-2015 for the baseline sample\n",
    "kfr_top01 |  . |  Probability of reaching the top 1% of the national household income distribution (among children born in the same year) in 2014-15\n",
    "kfr_top20 |  .  | Probability of reaching the top quintile of the national household income distribution (among children born in the same year) in 2014-15\n",
    "kir |  .  | Mean percentile rank (relative to other children born in the same year) in the national distribution of individual income (i.e. just own earnings) measured as mean earnings in 2014-2015 for the baseline sample\n",
    "kir_top01 |  .  | Probability of reaching the top 1% of the national individual income distribution (among children born in the same year) in 2014-15\n",
    "kir_top20 |  .  |  Probability of reaching the top quintile of the national individual income distribution (among children born in the same year) in 2014-15"
   ]
  },
  {
   "cell_type": "markdown",
   "metadata": {},
   "source": [
    "FIPS State Codes: https://en.wikipedia.org/wiki/Federal_Information_Processing_Standard_state_code"
   ]
  },
  {
   "cell_type": "code",
   "execution_count": 29,
   "metadata": {
    "ExecuteTime": {
     "end_time": "2019-09-03T17:56:11.581158Z",
     "start_time": "2019-09-03T17:56:10.917059Z"
    }
   },
   "outputs": [],
   "source": [
    "county_data['county'] = county_data['county'].apply(lambda x: str(x).zfill(3))\n"
   ]
  },
  {
   "cell_type": "markdown",
   "metadata": {},
   "source": [
    "There are 24 counties in MD (which also happens to have FIPS Code = 24), and I've confirmed that the dataset is providing information for each county. \n",
    "`#county_data.county.value_counts()`\n",
    "\n",
    "There are 10827 columns in this dataset...representing all combinations of outcomes, race, gender, and parent-percentile. Going to reduce this to focus on the outcomes chosen for focus in the above table. \n"
   ]
  },
  {
   "cell_type": "code",
   "execution_count": 34,
   "metadata": {
    "ExecuteTime": {
     "end_time": "2019-09-04T19:15:02.087146Z",
     "start_time": "2019-09-04T19:15:00.090773Z"
    }
   },
   "outputs": [
    {
     "data": {
      "text/html": [
       "<div>\n",
       "<style scoped>\n",
       "    .dataframe tbody tr th:only-of-type {\n",
       "        vertical-align: middle;\n",
       "    }\n",
       "\n",
       "    .dataframe tbody tr th {\n",
       "        vertical-align: top;\n",
       "    }\n",
       "\n",
       "    .dataframe thead th {\n",
       "        text-align: right;\n",
       "    }\n",
       "</style>\n",
       "<table border=\"1\" class=\"dataframe\">\n",
       "  <thead>\n",
       "    <tr style=\"text-align: right;\">\n",
       "      <th></th>\n",
       "      <th>state</th>\n",
       "      <th>county</th>\n",
       "      <th>kir_natam_female_p1</th>\n",
       "      <th>kir_natam_female_p25</th>\n",
       "      <th>kir_natam_female_p50</th>\n",
       "      <th>kir_natam_female_p75</th>\n",
       "      <th>kir_natam_female_p100</th>\n",
       "      <th>kir_natam_female_n</th>\n",
       "      <th>kir_natam_female_mean</th>\n",
       "      <th>jail_natam_female_p1</th>\n",
       "      <th>...</th>\n",
       "      <th>coll_white_pooled_mean_se</th>\n",
       "      <th>comcoll_white_pooled_mean_se</th>\n",
       "      <th>somecoll_white_pooled_mean_se</th>\n",
       "      <th>hs_white_pooled_mean_se</th>\n",
       "      <th>wgflx_rk_white_pooled_mean_se</th>\n",
       "      <th>hours_wk_white_pooled_mean_se</th>\n",
       "      <th>kfr_native_white_pooled_mean_se</th>\n",
       "      <th>kir_native_white_pooled_mean_se</th>\n",
       "      <th>kir_imm_white_pooled_mean_se</th>\n",
       "      <th>kfr_imm_white_pooled_mean_se</th>\n",
       "    </tr>\n",
       "  </thead>\n",
       "  <tbody>\n",
       "    <tr>\n",
       "      <th>1192</th>\n",
       "      <td>24</td>\n",
       "      <td>001</td>\n",
       "      <td>NaN</td>\n",
       "      <td>NaN</td>\n",
       "      <td>NaN</td>\n",
       "      <td>NaN</td>\n",
       "      <td>NaN</td>\n",
       "      <td>NaN</td>\n",
       "      <td>NaN</td>\n",
       "      <td>NaN</td>\n",
       "      <td>...</td>\n",
       "      <td>0.017212</td>\n",
       "      <td>0.018194</td>\n",
       "      <td>0.017319</td>\n",
       "      <td>0.006699</td>\n",
       "      <td>0.013664</td>\n",
       "      <td>0.845727</td>\n",
       "      <td>0.006933</td>\n",
       "      <td>0.006988</td>\n",
       "      <td>NaN</td>\n",
       "      <td>NaN</td>\n",
       "    </tr>\n",
       "    <tr>\n",
       "      <th>1193</th>\n",
       "      <td>24</td>\n",
       "      <td>003</td>\n",
       "      <td>0.372169</td>\n",
       "      <td>0.403634</td>\n",
       "      <td>0.424376</td>\n",
       "      <td>0.449707</td>\n",
       "      <td>0.513167</td>\n",
       "      <td>79.0</td>\n",
       "      <td>0.434684</td>\n",
       "      <td>-0.001631</td>\n",
       "      <td>...</td>\n",
       "      <td>0.007587</td>\n",
       "      <td>0.007601</td>\n",
       "      <td>0.006708</td>\n",
       "      <td>0.003367</td>\n",
       "      <td>0.006029</td>\n",
       "      <td>0.348926</td>\n",
       "      <td>0.003184</td>\n",
       "      <td>0.003293</td>\n",
       "      <td>0.013728</td>\n",
       "      <td>0.013382</td>\n",
       "    </tr>\n",
       "    <tr>\n",
       "      <th>1194</th>\n",
       "      <td>24</td>\n",
       "      <td>005</td>\n",
       "      <td>0.228898</td>\n",
       "      <td>0.307514</td>\n",
       "      <td>0.359337</td>\n",
       "      <td>0.422627</td>\n",
       "      <td>0.581182</td>\n",
       "      <td>102.0</td>\n",
       "      <td>0.372017</td>\n",
       "      <td>0.040849</td>\n",
       "      <td>...</td>\n",
       "      <td>0.006569</td>\n",
       "      <td>0.006570</td>\n",
       "      <td>0.005724</td>\n",
       "      <td>0.002774</td>\n",
       "      <td>0.005234</td>\n",
       "      <td>0.304283</td>\n",
       "      <td>0.002761</td>\n",
       "      <td>0.002788</td>\n",
       "      <td>0.011981</td>\n",
       "      <td>0.011987</td>\n",
       "    </tr>\n",
       "    <tr>\n",
       "      <th>1195</th>\n",
       "      <td>24</td>\n",
       "      <td>009</td>\n",
       "      <td>NaN</td>\n",
       "      <td>NaN</td>\n",
       "      <td>NaN</td>\n",
       "      <td>NaN</td>\n",
       "      <td>NaN</td>\n",
       "      <td>NaN</td>\n",
       "      <td>NaN</td>\n",
       "      <td>NaN</td>\n",
       "      <td>...</td>\n",
       "      <td>0.018807</td>\n",
       "      <td>0.018436</td>\n",
       "      <td>0.015962</td>\n",
       "      <td>0.007629</td>\n",
       "      <td>0.014425</td>\n",
       "      <td>0.816173</td>\n",
       "      <td>0.007311</td>\n",
       "      <td>0.007464</td>\n",
       "      <td>0.037211</td>\n",
       "      <td>0.037615</td>\n",
       "    </tr>\n",
       "    <tr>\n",
       "      <th>1196</th>\n",
       "      <td>24</td>\n",
       "      <td>011</td>\n",
       "      <td>NaN</td>\n",
       "      <td>NaN</td>\n",
       "      <td>NaN</td>\n",
       "      <td>NaN</td>\n",
       "      <td>NaN</td>\n",
       "      <td>NaN</td>\n",
       "      <td>NaN</td>\n",
       "      <td>NaN</td>\n",
       "      <td>...</td>\n",
       "      <td>0.024972</td>\n",
       "      <td>0.027690</td>\n",
       "      <td>0.027206</td>\n",
       "      <td>0.013320</td>\n",
       "      <td>0.022274</td>\n",
       "      <td>1.356824</td>\n",
       "      <td>0.010714</td>\n",
       "      <td>0.010718</td>\n",
       "      <td>NaN</td>\n",
       "      <td>NaN</td>\n",
       "    </tr>\n",
       "    <tr>\n",
       "      <th>1197</th>\n",
       "      <td>24</td>\n",
       "      <td>013</td>\n",
       "      <td>NaN</td>\n",
       "      <td>NaN</td>\n",
       "      <td>NaN</td>\n",
       "      <td>NaN</td>\n",
       "      <td>NaN</td>\n",
       "      <td>NaN</td>\n",
       "      <td>NaN</td>\n",
       "      <td>NaN</td>\n",
       "      <td>...</td>\n",
       "      <td>0.011681</td>\n",
       "      <td>0.011555</td>\n",
       "      <td>0.010071</td>\n",
       "      <td>0.004477</td>\n",
       "      <td>0.009391</td>\n",
       "      <td>0.514999</td>\n",
       "      <td>0.004743</td>\n",
       "      <td>0.004882</td>\n",
       "      <td>0.028217</td>\n",
       "      <td>0.027832</td>\n",
       "    </tr>\n",
       "    <tr>\n",
       "      <th>1198</th>\n",
       "      <td>24</td>\n",
       "      <td>015</td>\n",
       "      <td>NaN</td>\n",
       "      <td>NaN</td>\n",
       "      <td>NaN</td>\n",
       "      <td>NaN</td>\n",
       "      <td>NaN</td>\n",
       "      <td>NaN</td>\n",
       "      <td>NaN</td>\n",
       "      <td>NaN</td>\n",
       "      <td>...</td>\n",
       "      <td>0.015971</td>\n",
       "      <td>0.016308</td>\n",
       "      <td>0.015614</td>\n",
       "      <td>0.007700</td>\n",
       "      <td>0.013713</td>\n",
       "      <td>0.820998</td>\n",
       "      <td>0.006541</td>\n",
       "      <td>0.006483</td>\n",
       "      <td>0.046262</td>\n",
       "      <td>0.046263</td>\n",
       "    </tr>\n",
       "    <tr>\n",
       "      <th>1199</th>\n",
       "      <td>24</td>\n",
       "      <td>017</td>\n",
       "      <td>0.515794</td>\n",
       "      <td>0.489739</td>\n",
       "      <td>0.472564</td>\n",
       "      <td>0.451588</td>\n",
       "      <td>0.399039</td>\n",
       "      <td>35.0</td>\n",
       "      <td>0.462744</td>\n",
       "      <td>0.096913</td>\n",
       "      <td>...</td>\n",
       "      <td>0.015298</td>\n",
       "      <td>0.015621</td>\n",
       "      <td>0.013603</td>\n",
       "      <td>0.006647</td>\n",
       "      <td>0.013160</td>\n",
       "      <td>0.731652</td>\n",
       "      <td>0.005887</td>\n",
       "      <td>0.006219</td>\n",
       "      <td>0.032047</td>\n",
       "      <td>0.028996</td>\n",
       "    </tr>\n",
       "    <tr>\n",
       "      <th>1200</th>\n",
       "      <td>24</td>\n",
       "      <td>019</td>\n",
       "      <td>NaN</td>\n",
       "      <td>NaN</td>\n",
       "      <td>NaN</td>\n",
       "      <td>NaN</td>\n",
       "      <td>NaN</td>\n",
       "      <td>NaN</td>\n",
       "      <td>NaN</td>\n",
       "      <td>NaN</td>\n",
       "      <td>...</td>\n",
       "      <td>0.031545</td>\n",
       "      <td>0.032581</td>\n",
       "      <td>0.030460</td>\n",
       "      <td>0.017237</td>\n",
       "      <td>0.027127</td>\n",
       "      <td>1.436164</td>\n",
       "      <td>0.012908</td>\n",
       "      <td>0.013236</td>\n",
       "      <td>NaN</td>\n",
       "      <td>NaN</td>\n",
       "    </tr>\n",
       "    <tr>\n",
       "      <th>1201</th>\n",
       "      <td>24</td>\n",
       "      <td>021</td>\n",
       "      <td>0.373061</td>\n",
       "      <td>0.404997</td>\n",
       "      <td>0.426049</td>\n",
       "      <td>0.451759</td>\n",
       "      <td>0.516168</td>\n",
       "      <td>21.0</td>\n",
       "      <td>0.453545</td>\n",
       "      <td>NaN</td>\n",
       "      <td>...</td>\n",
       "      <td>0.010518</td>\n",
       "      <td>0.010507</td>\n",
       "      <td>0.009145</td>\n",
       "      <td>0.004339</td>\n",
       "      <td>0.008223</td>\n",
       "      <td>0.481130</td>\n",
       "      <td>0.004223</td>\n",
       "      <td>0.004398</td>\n",
       "      <td>0.021025</td>\n",
       "      <td>0.021399</td>\n",
       "    </tr>\n",
       "    <tr>\n",
       "      <th>1202</th>\n",
       "      <td>24</td>\n",
       "      <td>023</td>\n",
       "      <td>NaN</td>\n",
       "      <td>NaN</td>\n",
       "      <td>NaN</td>\n",
       "      <td>NaN</td>\n",
       "      <td>NaN</td>\n",
       "      <td>NaN</td>\n",
       "      <td>NaN</td>\n",
       "      <td>NaN</td>\n",
       "      <td>...</td>\n",
       "      <td>0.021363</td>\n",
       "      <td>0.023238</td>\n",
       "      <td>0.023473</td>\n",
       "      <td>0.011062</td>\n",
       "      <td>0.017719</td>\n",
       "      <td>1.137403</td>\n",
       "      <td>0.009078</td>\n",
       "      <td>0.009233</td>\n",
       "      <td>0.055628</td>\n",
       "      <td>0.048970</td>\n",
       "    </tr>\n",
       "    <tr>\n",
       "      <th>1203</th>\n",
       "      <td>24</td>\n",
       "      <td>025</td>\n",
       "      <td>0.307681</td>\n",
       "      <td>0.365896</td>\n",
       "      <td>0.404270</td>\n",
       "      <td>0.451136</td>\n",
       "      <td>0.568546</td>\n",
       "      <td>26.0</td>\n",
       "      <td>0.442740</td>\n",
       "      <td>-0.064446</td>\n",
       "      <td>...</td>\n",
       "      <td>0.010168</td>\n",
       "      <td>0.010312</td>\n",
       "      <td>0.009039</td>\n",
       "      <td>0.004206</td>\n",
       "      <td>0.008104</td>\n",
       "      <td>0.483902</td>\n",
       "      <td>0.004274</td>\n",
       "      <td>0.004294</td>\n",
       "      <td>0.021181</td>\n",
       "      <td>0.020457</td>\n",
       "    </tr>\n",
       "    <tr>\n",
       "      <th>1204</th>\n",
       "      <td>24</td>\n",
       "      <td>027</td>\n",
       "      <td>0.584134</td>\n",
       "      <td>0.534637</td>\n",
       "      <td>0.502010</td>\n",
       "      <td>0.462162</td>\n",
       "      <td>0.362336</td>\n",
       "      <td>28.0</td>\n",
       "      <td>0.453247</td>\n",
       "      <td>-0.061923</td>\n",
       "      <td>...</td>\n",
       "      <td>0.010320</td>\n",
       "      <td>0.009743</td>\n",
       "      <td>0.006841</td>\n",
       "      <td>0.003658</td>\n",
       "      <td>0.008513</td>\n",
       "      <td>0.476444</td>\n",
       "      <td>0.004308</td>\n",
       "      <td>0.004566</td>\n",
       "      <td>0.016602</td>\n",
       "      <td>0.016029</td>\n",
       "    </tr>\n",
       "    <tr>\n",
       "      <th>1205</th>\n",
       "      <td>24</td>\n",
       "      <td>029</td>\n",
       "      <td>NaN</td>\n",
       "      <td>NaN</td>\n",
       "      <td>NaN</td>\n",
       "      <td>NaN</td>\n",
       "      <td>NaN</td>\n",
       "      <td>NaN</td>\n",
       "      <td>NaN</td>\n",
       "      <td>NaN</td>\n",
       "      <td>...</td>\n",
       "      <td>0.037482</td>\n",
       "      <td>0.038230</td>\n",
       "      <td>0.035556</td>\n",
       "      <td>0.013641</td>\n",
       "      <td>0.025898</td>\n",
       "      <td>1.783267</td>\n",
       "      <td>0.015102</td>\n",
       "      <td>0.015374</td>\n",
       "      <td>NaN</td>\n",
       "      <td>NaN</td>\n",
       "    </tr>\n",
       "    <tr>\n",
       "      <th>1206</th>\n",
       "      <td>24</td>\n",
       "      <td>031</td>\n",
       "      <td>0.372819</td>\n",
       "      <td>0.435628</td>\n",
       "      <td>0.477031</td>\n",
       "      <td>0.527595</td>\n",
       "      <td>0.654270</td>\n",
       "      <td>92.0</td>\n",
       "      <td>0.525300</td>\n",
       "      <td>-0.018118</td>\n",
       "      <td>...</td>\n",
       "      <td>0.006123</td>\n",
       "      <td>0.005755</td>\n",
       "      <td>0.003972</td>\n",
       "      <td>0.002451</td>\n",
       "      <td>0.005404</td>\n",
       "      <td>0.314699</td>\n",
       "      <td>0.002786</td>\n",
       "      <td>0.002925</td>\n",
       "      <td>0.008403</td>\n",
       "      <td>0.008158</td>\n",
       "    </tr>\n",
       "    <tr>\n",
       "      <th>1207</th>\n",
       "      <td>24</td>\n",
       "      <td>033</td>\n",
       "      <td>0.328513</td>\n",
       "      <td>0.446951</td>\n",
       "      <td>0.525024</td>\n",
       "      <td>0.620372</td>\n",
       "      <td>0.859241</td>\n",
       "      <td>131.0</td>\n",
       "      <td>0.570971</td>\n",
       "      <td>0.047794</td>\n",
       "      <td>...</td>\n",
       "      <td>0.010428</td>\n",
       "      <td>0.010351</td>\n",
       "      <td>0.009075</td>\n",
       "      <td>0.004426</td>\n",
       "      <td>0.008403</td>\n",
       "      <td>0.485185</td>\n",
       "      <td>0.004289</td>\n",
       "      <td>0.004392</td>\n",
       "      <td>0.016445</td>\n",
       "      <td>0.015676</td>\n",
       "    </tr>\n",
       "    <tr>\n",
       "      <th>1208</th>\n",
       "      <td>24</td>\n",
       "      <td>035</td>\n",
       "      <td>NaN</td>\n",
       "      <td>NaN</td>\n",
       "      <td>NaN</td>\n",
       "      <td>NaN</td>\n",
       "      <td>NaN</td>\n",
       "      <td>NaN</td>\n",
       "      <td>NaN</td>\n",
       "      <td>NaN</td>\n",
       "      <td>...</td>\n",
       "      <td>0.023410</td>\n",
       "      <td>0.023911</td>\n",
       "      <td>0.022039</td>\n",
       "      <td>0.010347</td>\n",
       "      <td>0.020504</td>\n",
       "      <td>1.169982</td>\n",
       "      <td>0.009225</td>\n",
       "      <td>0.009680</td>\n",
       "      <td>0.044119</td>\n",
       "      <td>0.039580</td>\n",
       "    </tr>\n",
       "    <tr>\n",
       "      <th>1209</th>\n",
       "      <td>24</td>\n",
       "      <td>037</td>\n",
       "      <td>NaN</td>\n",
       "      <td>NaN</td>\n",
       "      <td>NaN</td>\n",
       "      <td>NaN</td>\n",
       "      <td>NaN</td>\n",
       "      <td>NaN</td>\n",
       "      <td>NaN</td>\n",
       "      <td>NaN</td>\n",
       "      <td>...</td>\n",
       "      <td>0.018734</td>\n",
       "      <td>0.019305</td>\n",
       "      <td>0.016551</td>\n",
       "      <td>0.009014</td>\n",
       "      <td>0.015682</td>\n",
       "      <td>0.922489</td>\n",
       "      <td>0.007489</td>\n",
       "      <td>0.007654</td>\n",
       "      <td>0.046479</td>\n",
       "      <td>0.045830</td>\n",
       "    </tr>\n",
       "    <tr>\n",
       "      <th>1210</th>\n",
       "      <td>24</td>\n",
       "      <td>039</td>\n",
       "      <td>NaN</td>\n",
       "      <td>NaN</td>\n",
       "      <td>NaN</td>\n",
       "      <td>NaN</td>\n",
       "      <td>NaN</td>\n",
       "      <td>NaN</td>\n",
       "      <td>NaN</td>\n",
       "      <td>NaN</td>\n",
       "      <td>...</td>\n",
       "      <td>0.038724</td>\n",
       "      <td>0.038957</td>\n",
       "      <td>0.035338</td>\n",
       "      <td>0.016966</td>\n",
       "      <td>0.027762</td>\n",
       "      <td>1.760214</td>\n",
       "      <td>0.015376</td>\n",
       "      <td>0.015091</td>\n",
       "      <td>NaN</td>\n",
       "      <td>NaN</td>\n",
       "    </tr>\n",
       "    <tr>\n",
       "      <th>1211</th>\n",
       "      <td>24</td>\n",
       "      <td>041</td>\n",
       "      <td>NaN</td>\n",
       "      <td>NaN</td>\n",
       "      <td>NaN</td>\n",
       "      <td>NaN</td>\n",
       "      <td>NaN</td>\n",
       "      <td>NaN</td>\n",
       "      <td>NaN</td>\n",
       "      <td>NaN</td>\n",
       "      <td>...</td>\n",
       "      <td>0.029281</td>\n",
       "      <td>0.030206</td>\n",
       "      <td>0.026989</td>\n",
       "      <td>0.012780</td>\n",
       "      <td>0.023471</td>\n",
       "      <td>1.336741</td>\n",
       "      <td>0.011993</td>\n",
       "      <td>0.012055</td>\n",
       "      <td>NaN</td>\n",
       "      <td>NaN</td>\n",
       "    </tr>\n",
       "    <tr>\n",
       "      <th>1212</th>\n",
       "      <td>24</td>\n",
       "      <td>043</td>\n",
       "      <td>NaN</td>\n",
       "      <td>NaN</td>\n",
       "      <td>NaN</td>\n",
       "      <td>NaN</td>\n",
       "      <td>NaN</td>\n",
       "      <td>NaN</td>\n",
       "      <td>NaN</td>\n",
       "      <td>NaN</td>\n",
       "      <td>...</td>\n",
       "      <td>0.012345</td>\n",
       "      <td>0.013230</td>\n",
       "      <td>0.013188</td>\n",
       "      <td>0.006853</td>\n",
       "      <td>0.010239</td>\n",
       "      <td>0.644891</td>\n",
       "      <td>0.005397</td>\n",
       "      <td>0.005366</td>\n",
       "      <td>0.036584</td>\n",
       "      <td>0.037954</td>\n",
       "    </tr>\n",
       "    <tr>\n",
       "      <th>1213</th>\n",
       "      <td>24</td>\n",
       "      <td>045</td>\n",
       "      <td>NaN</td>\n",
       "      <td>NaN</td>\n",
       "      <td>NaN</td>\n",
       "      <td>NaN</td>\n",
       "      <td>NaN</td>\n",
       "      <td>NaN</td>\n",
       "      <td>NaN</td>\n",
       "      <td>NaN</td>\n",
       "      <td>...</td>\n",
       "      <td>0.019655</td>\n",
       "      <td>0.020045</td>\n",
       "      <td>0.018171</td>\n",
       "      <td>0.008977</td>\n",
       "      <td>0.017130</td>\n",
       "      <td>0.937511</td>\n",
       "      <td>0.007926</td>\n",
       "      <td>0.008032</td>\n",
       "      <td>0.052611</td>\n",
       "      <td>0.054851</td>\n",
       "    </tr>\n",
       "    <tr>\n",
       "      <th>1214</th>\n",
       "      <td>24</td>\n",
       "      <td>047</td>\n",
       "      <td>NaN</td>\n",
       "      <td>NaN</td>\n",
       "      <td>NaN</td>\n",
       "      <td>NaN</td>\n",
       "      <td>NaN</td>\n",
       "      <td>NaN</td>\n",
       "      <td>NaN</td>\n",
       "      <td>NaN</td>\n",
       "      <td>...</td>\n",
       "      <td>0.025314</td>\n",
       "      <td>0.025707</td>\n",
       "      <td>0.023091</td>\n",
       "      <td>0.009048</td>\n",
       "      <td>0.020033</td>\n",
       "      <td>1.180399</td>\n",
       "      <td>0.010887</td>\n",
       "      <td>0.010756</td>\n",
       "      <td>0.054377</td>\n",
       "      <td>0.044197</td>\n",
       "    </tr>\n",
       "    <tr>\n",
       "      <th>1215</th>\n",
       "      <td>24</td>\n",
       "      <td>510</td>\n",
       "      <td>0.295568</td>\n",
       "      <td>0.343740</td>\n",
       "      <td>0.375494</td>\n",
       "      <td>0.414275</td>\n",
       "      <td>0.511430</td>\n",
       "      <td>111.0</td>\n",
       "      <td>0.354853</td>\n",
       "      <td>0.011290</td>\n",
       "      <td>...</td>\n",
       "      <td>0.010850</td>\n",
       "      <td>0.011325</td>\n",
       "      <td>0.011005</td>\n",
       "      <td>0.006737</td>\n",
       "      <td>0.009418</td>\n",
       "      <td>0.563065</td>\n",
       "      <td>0.005002</td>\n",
       "      <td>0.005063</td>\n",
       "      <td>0.021710</td>\n",
       "      <td>0.021891</td>\n",
       "    </tr>\n",
       "  </tbody>\n",
       "</table>\n",
       "<p>24 rows × 10827 columns</p>\n",
       "</div>"
      ],
      "text/plain": [
       "      state county  kir_natam_female_p1  kir_natam_female_p25  \\\n",
       "1192     24    001                  NaN                   NaN   \n",
       "1193     24    003             0.372169              0.403634   \n",
       "1194     24    005             0.228898              0.307514   \n",
       "1195     24    009                  NaN                   NaN   \n",
       "1196     24    011                  NaN                   NaN   \n",
       "1197     24    013                  NaN                   NaN   \n",
       "1198     24    015                  NaN                   NaN   \n",
       "1199     24    017             0.515794              0.489739   \n",
       "1200     24    019                  NaN                   NaN   \n",
       "1201     24    021             0.373061              0.404997   \n",
       "1202     24    023                  NaN                   NaN   \n",
       "1203     24    025             0.307681              0.365896   \n",
       "1204     24    027             0.584134              0.534637   \n",
       "1205     24    029                  NaN                   NaN   \n",
       "1206     24    031             0.372819              0.435628   \n",
       "1207     24    033             0.328513              0.446951   \n",
       "1208     24    035                  NaN                   NaN   \n",
       "1209     24    037                  NaN                   NaN   \n",
       "1210     24    039                  NaN                   NaN   \n",
       "1211     24    041                  NaN                   NaN   \n",
       "1212     24    043                  NaN                   NaN   \n",
       "1213     24    045                  NaN                   NaN   \n",
       "1214     24    047                  NaN                   NaN   \n",
       "1215     24    510             0.295568              0.343740   \n",
       "\n",
       "      kir_natam_female_p50  kir_natam_female_p75  kir_natam_female_p100  \\\n",
       "1192                   NaN                   NaN                    NaN   \n",
       "1193              0.424376              0.449707               0.513167   \n",
       "1194              0.359337              0.422627               0.581182   \n",
       "1195                   NaN                   NaN                    NaN   \n",
       "1196                   NaN                   NaN                    NaN   \n",
       "1197                   NaN                   NaN                    NaN   \n",
       "1198                   NaN                   NaN                    NaN   \n",
       "1199              0.472564              0.451588               0.399039   \n",
       "1200                   NaN                   NaN                    NaN   \n",
       "1201              0.426049              0.451759               0.516168   \n",
       "1202                   NaN                   NaN                    NaN   \n",
       "1203              0.404270              0.451136               0.568546   \n",
       "1204              0.502010              0.462162               0.362336   \n",
       "1205                   NaN                   NaN                    NaN   \n",
       "1206              0.477031              0.527595               0.654270   \n",
       "1207              0.525024              0.620372               0.859241   \n",
       "1208                   NaN                   NaN                    NaN   \n",
       "1209                   NaN                   NaN                    NaN   \n",
       "1210                   NaN                   NaN                    NaN   \n",
       "1211                   NaN                   NaN                    NaN   \n",
       "1212                   NaN                   NaN                    NaN   \n",
       "1213                   NaN                   NaN                    NaN   \n",
       "1214                   NaN                   NaN                    NaN   \n",
       "1215              0.375494              0.414275               0.511430   \n",
       "\n",
       "      kir_natam_female_n  kir_natam_female_mean  jail_natam_female_p1  ...  \\\n",
       "1192                 NaN                    NaN                   NaN  ...   \n",
       "1193                79.0               0.434684             -0.001631  ...   \n",
       "1194               102.0               0.372017              0.040849  ...   \n",
       "1195                 NaN                    NaN                   NaN  ...   \n",
       "1196                 NaN                    NaN                   NaN  ...   \n",
       "1197                 NaN                    NaN                   NaN  ...   \n",
       "1198                 NaN                    NaN                   NaN  ...   \n",
       "1199                35.0               0.462744              0.096913  ...   \n",
       "1200                 NaN                    NaN                   NaN  ...   \n",
       "1201                21.0               0.453545                   NaN  ...   \n",
       "1202                 NaN                    NaN                   NaN  ...   \n",
       "1203                26.0               0.442740             -0.064446  ...   \n",
       "1204                28.0               0.453247             -0.061923  ...   \n",
       "1205                 NaN                    NaN                   NaN  ...   \n",
       "1206                92.0               0.525300             -0.018118  ...   \n",
       "1207               131.0               0.570971              0.047794  ...   \n",
       "1208                 NaN                    NaN                   NaN  ...   \n",
       "1209                 NaN                    NaN                   NaN  ...   \n",
       "1210                 NaN                    NaN                   NaN  ...   \n",
       "1211                 NaN                    NaN                   NaN  ...   \n",
       "1212                 NaN                    NaN                   NaN  ...   \n",
       "1213                 NaN                    NaN                   NaN  ...   \n",
       "1214                 NaN                    NaN                   NaN  ...   \n",
       "1215               111.0               0.354853              0.011290  ...   \n",
       "\n",
       "      coll_white_pooled_mean_se  comcoll_white_pooled_mean_se  \\\n",
       "1192                   0.017212                      0.018194   \n",
       "1193                   0.007587                      0.007601   \n",
       "1194                   0.006569                      0.006570   \n",
       "1195                   0.018807                      0.018436   \n",
       "1196                   0.024972                      0.027690   \n",
       "1197                   0.011681                      0.011555   \n",
       "1198                   0.015971                      0.016308   \n",
       "1199                   0.015298                      0.015621   \n",
       "1200                   0.031545                      0.032581   \n",
       "1201                   0.010518                      0.010507   \n",
       "1202                   0.021363                      0.023238   \n",
       "1203                   0.010168                      0.010312   \n",
       "1204                   0.010320                      0.009743   \n",
       "1205                   0.037482                      0.038230   \n",
       "1206                   0.006123                      0.005755   \n",
       "1207                   0.010428                      0.010351   \n",
       "1208                   0.023410                      0.023911   \n",
       "1209                   0.018734                      0.019305   \n",
       "1210                   0.038724                      0.038957   \n",
       "1211                   0.029281                      0.030206   \n",
       "1212                   0.012345                      0.013230   \n",
       "1213                   0.019655                      0.020045   \n",
       "1214                   0.025314                      0.025707   \n",
       "1215                   0.010850                      0.011325   \n",
       "\n",
       "      somecoll_white_pooled_mean_se  hs_white_pooled_mean_se  \\\n",
       "1192                       0.017319                 0.006699   \n",
       "1193                       0.006708                 0.003367   \n",
       "1194                       0.005724                 0.002774   \n",
       "1195                       0.015962                 0.007629   \n",
       "1196                       0.027206                 0.013320   \n",
       "1197                       0.010071                 0.004477   \n",
       "1198                       0.015614                 0.007700   \n",
       "1199                       0.013603                 0.006647   \n",
       "1200                       0.030460                 0.017237   \n",
       "1201                       0.009145                 0.004339   \n",
       "1202                       0.023473                 0.011062   \n",
       "1203                       0.009039                 0.004206   \n",
       "1204                       0.006841                 0.003658   \n",
       "1205                       0.035556                 0.013641   \n",
       "1206                       0.003972                 0.002451   \n",
       "1207                       0.009075                 0.004426   \n",
       "1208                       0.022039                 0.010347   \n",
       "1209                       0.016551                 0.009014   \n",
       "1210                       0.035338                 0.016966   \n",
       "1211                       0.026989                 0.012780   \n",
       "1212                       0.013188                 0.006853   \n",
       "1213                       0.018171                 0.008977   \n",
       "1214                       0.023091                 0.009048   \n",
       "1215                       0.011005                 0.006737   \n",
       "\n",
       "      wgflx_rk_white_pooled_mean_se  hours_wk_white_pooled_mean_se  \\\n",
       "1192                       0.013664                       0.845727   \n",
       "1193                       0.006029                       0.348926   \n",
       "1194                       0.005234                       0.304283   \n",
       "1195                       0.014425                       0.816173   \n",
       "1196                       0.022274                       1.356824   \n",
       "1197                       0.009391                       0.514999   \n",
       "1198                       0.013713                       0.820998   \n",
       "1199                       0.013160                       0.731652   \n",
       "1200                       0.027127                       1.436164   \n",
       "1201                       0.008223                       0.481130   \n",
       "1202                       0.017719                       1.137403   \n",
       "1203                       0.008104                       0.483902   \n",
       "1204                       0.008513                       0.476444   \n",
       "1205                       0.025898                       1.783267   \n",
       "1206                       0.005404                       0.314699   \n",
       "1207                       0.008403                       0.485185   \n",
       "1208                       0.020504                       1.169982   \n",
       "1209                       0.015682                       0.922489   \n",
       "1210                       0.027762                       1.760214   \n",
       "1211                       0.023471                       1.336741   \n",
       "1212                       0.010239                       0.644891   \n",
       "1213                       0.017130                       0.937511   \n",
       "1214                       0.020033                       1.180399   \n",
       "1215                       0.009418                       0.563065   \n",
       "\n",
       "      kfr_native_white_pooled_mean_se  kir_native_white_pooled_mean_se  \\\n",
       "1192                         0.006933                         0.006988   \n",
       "1193                         0.003184                         0.003293   \n",
       "1194                         0.002761                         0.002788   \n",
       "1195                         0.007311                         0.007464   \n",
       "1196                         0.010714                         0.010718   \n",
       "1197                         0.004743                         0.004882   \n",
       "1198                         0.006541                         0.006483   \n",
       "1199                         0.005887                         0.006219   \n",
       "1200                         0.012908                         0.013236   \n",
       "1201                         0.004223                         0.004398   \n",
       "1202                         0.009078                         0.009233   \n",
       "1203                         0.004274                         0.004294   \n",
       "1204                         0.004308                         0.004566   \n",
       "1205                         0.015102                         0.015374   \n",
       "1206                         0.002786                         0.002925   \n",
       "1207                         0.004289                         0.004392   \n",
       "1208                         0.009225                         0.009680   \n",
       "1209                         0.007489                         0.007654   \n",
       "1210                         0.015376                         0.015091   \n",
       "1211                         0.011993                         0.012055   \n",
       "1212                         0.005397                         0.005366   \n",
       "1213                         0.007926                         0.008032   \n",
       "1214                         0.010887                         0.010756   \n",
       "1215                         0.005002                         0.005063   \n",
       "\n",
       "      kir_imm_white_pooled_mean_se  kfr_imm_white_pooled_mean_se  \n",
       "1192                           NaN                           NaN  \n",
       "1193                      0.013728                      0.013382  \n",
       "1194                      0.011981                      0.011987  \n",
       "1195                      0.037211                      0.037615  \n",
       "1196                           NaN                           NaN  \n",
       "1197                      0.028217                      0.027832  \n",
       "1198                      0.046262                      0.046263  \n",
       "1199                      0.032047                      0.028996  \n",
       "1200                           NaN                           NaN  \n",
       "1201                      0.021025                      0.021399  \n",
       "1202                      0.055628                      0.048970  \n",
       "1203                      0.021181                      0.020457  \n",
       "1204                      0.016602                      0.016029  \n",
       "1205                           NaN                           NaN  \n",
       "1206                      0.008403                      0.008158  \n",
       "1207                      0.016445                      0.015676  \n",
       "1208                      0.044119                      0.039580  \n",
       "1209                      0.046479                      0.045830  \n",
       "1210                           NaN                           NaN  \n",
       "1211                           NaN                           NaN  \n",
       "1212                      0.036584                      0.037954  \n",
       "1213                      0.052611                      0.054851  \n",
       "1214                      0.054377                      0.044197  \n",
       "1215                      0.021710                      0.021891  \n",
       "\n",
       "[24 rows x 10827 columns]"
      ]
     },
     "execution_count": 34,
     "metadata": {},
     "output_type": "execute_result"
    }
   ],
   "source": [
    "county_data.loc[county_data.state == 24]"
   ]
  },
  {
   "cell_type": "markdown",
   "metadata": {
    "heading_collapsed": true
   },
   "source": [
    "### Next Section part II"
   ]
  },
  {
   "cell_type": "code",
   "execution_count": null,
   "metadata": {
    "hidden": true
   },
   "outputs": [],
   "source": []
  },
  {
   "cell_type": "markdown",
   "metadata": {},
   "source": [
    "## Impact of Neighborhood on Intergenerational Mobility II: County-Level Estimates (Chetty)"
   ]
  },
  {
   "cell_type": "markdown",
   "metadata": {},
   "source": []
  },
  {
   "cell_type": "markdown",
   "metadata": {},
   "source": [
    "### Next Section part II"
   ]
  },
  {
   "cell_type": "markdown",
   "metadata": {},
   "source": [
    "Nothing to add here"
   ]
  },
  {
   "cell_type": "markdown",
   "metadata": {},
   "source": [
    "### Next Section part II"
   ]
  },
  {
   "cell_type": "markdown",
   "metadata": {},
   "source": [
    "Nothing else to ask for"
   ]
  },
  {
   "cell_type": "markdown",
   "metadata": {},
   "source": [
    "## Trends in Mobility: County Intergenerational Mobility Estimates by Birth Cohort"
   ]
  },
  {
   "cell_type": "code",
   "execution_count": 4,
   "metadata": {
    "ExecuteTime": {
     "end_time": "2019-09-06T17:50:43.856786Z",
     "start_time": "2019-09-06T17:50:43.673565Z"
    }
   },
   "outputs": [],
   "source": [
    "mobility = pd.io.stata.read_stata('../../data/01_raw/county_cohort_trends.dta')"
   ]
  },
  {
   "cell_type": "code",
   "execution_count": 12,
   "metadata": {
    "ExecuteTime": {
     "end_time": "2019-09-06T19:00:09.815268Z",
     "start_time": "2019-09-06T19:00:09.780585Z"
    }
   },
   "outputs": [
    {
     "data": {
      "text/plain": [
       "Index(['birthcohort', 'cty1990', 'cty2000', 'county_name', 'cty_pop2000', 'cz',\n",
       "       'cz_name', 'cz_pop2000', 'statename', 'state_id', 'stateabbrv',\n",
       "       'perm_res_p25_kr24', 'perm_res_p75_kr24', 'perm_res_p25_c1823',\n",
       "       'perm_res_p75_c1823', 'perm_res_p25_c19', 'perm_res_p75_c19',\n",
       "       'perm_res_p25_kr26', 'perm_res_p75_kr26'],\n",
       "      dtype='object')"
      ]
     },
     "execution_count": 12,
     "metadata": {},
     "output_type": "execute_result"
    }
   ],
   "source": [
    "mobility[mobility['state_id']==24].columns"
   ]
  },
  {
   "cell_type": "markdown",
   "metadata": {},
   "source": [
    "More words"
   ]
  },
  {
   "cell_type": "markdown",
   "metadata": {},
   "source": [
    "### Marginal Income Distributions by Centile"
   ]
  },
  {
   "cell_type": "markdown",
   "metadata": {},
   "source": [
    "This table presents the national income distributions corresponding to the centiles reported in Online Data Table I using the core sample (1980-82 birth cohorts) and baseline family income definitions. Column 2 lists the mean child family income in each centile of the child income distribution, while column 3 lists the mean parent family income in each centile of the parent family income distribution. The means are rounded to the nearest $100."
   ]
  },
  {
   "cell_type": "code",
   "execution_count": 17,
   "metadata": {
    "ExecuteTime": {
     "end_time": "2019-09-07T16:35:14.982415Z",
     "start_time": "2019-09-07T16:35:14.371045Z"
    }
   },
   "outputs": [],
   "source": [
    "income = pd.read_excel('../../data/01_raw/Equality_Opportunity/online_data_tables.xls', sheet_name=None)"
   ]
  },
  {
   "cell_type": "code",
   "execution_count": 22,
   "metadata": {
    "ExecuteTime": {
     "end_time": "2019-09-07T16:36:04.889489Z",
     "start_time": "2019-09-07T16:36:04.884449Z"
    }
   },
   "outputs": [
    {
     "data": {
      "text/plain": [
       "odict_keys(['Table of Contents', 'Online Data Table 1', 'Online Data Table 2', 'Online Data Table 3', 'Online Data Table 4', 'Online Data Table 5', 'Online Data Table 6', 'Online Data Table 7', 'Online Data Table 8', 'Online Data Table 9'])"
      ]
     },
     "execution_count": 22,
     "metadata": {},
     "output_type": "execute_result"
    }
   ],
   "source": [
    "income.keys()"
   ]
  },
  {
   "cell_type": "code",
   "execution_count": 30,
   "metadata": {
    "ExecuteTime": {
     "end_time": "2019-09-07T16:48:04.904345Z",
     "start_time": "2019-09-07T16:48:01.560105Z"
    }
   },
   "outputs": [],
   "source": [
    "income = pd.read_excel('../../data/01_raw/Equality_Opportunity/online_data_tables.xls', sheet_name='Online Data Table 2', header=7)"
   ]
  },
  {
   "cell_type": "code",
   "execution_count": 41,
   "metadata": {
    "ExecuteTime": {
     "end_time": "2019-09-07T17:10:07.225345Z",
     "start_time": "2019-09-07T17:10:07.219486Z"
    }
   },
   "outputs": [],
   "source": [
    "income.dropna(inplace=True)"
   ]
  },
  {
   "cell_type": "code",
   "execution_count": 46,
   "metadata": {
    "ExecuteTime": {
     "end_time": "2019-09-07T17:13:54.080345Z",
     "start_time": "2019-09-07T17:13:54.071822Z"
    }
   },
   "outputs": [],
   "source": [
    "income.drop(index=0, inplace=True)"
   ]
  },
  {
   "cell_type": "markdown",
   "metadata": {},
   "source": [
    "**Bar plot of Child Family Income by Centile (without 1st and 100th).**"
   ]
  },
  {
   "cell_type": "code",
   "execution_count": 67,
   "metadata": {
    "ExecuteTime": {
     "end_time": "2019-09-07T17:41:10.197498Z",
     "start_time": "2019-09-07T17:41:09.850812Z"
    }
   },
   "outputs": [
    {
     "data": {
      "text/plain": [
       "<BarContainer object of 98 artists>"
      ]
     },
     "execution_count": 67,
     "metadata": {},
     "output_type": "execute_result"
    },
    {
     "data": {
      "image/png": "[encoded data removed]",
      "text/plain": [
       "<Figure size 432x288 with 1 Axes>"
      ]
     },
     "metadata": {
      "needs_background": "light"
     },
     "output_type": "display_data"
    }
   ],
   "source": [
    "plt.bar(income.Centile.loc[(income['Centile']!=100)&(income['Centile']!=1)], income['Child Family Income'].loc[(income['Centile']!=100)&(income['Centile']!=1)])\n"
   ]
  },
  {
   "cell_type": "code",
   "execution_count": 49,
   "metadata": {
    "ExecuteTime": {
     "end_time": "2019-09-07T17:19:15.290980Z",
     "start_time": "2019-09-07T17:19:14.546576Z"
    },
    "scrolled": false
   },
   "outputs": [
    {
     "data": {
      "text/plain": [
       "<matplotlib.axes._subplots.AxesSubplot at 0x1a2adafa90>"
      ]
     },
     "execution_count": 49,
     "metadata": {},
     "output_type": "execute_result"
    },
    {
     "data": {
      "image/png": "[encoded data removed]",
      "text/plain": [
       "<Figure size 432x288 with 1 Axes>"
      ]
     },
     "metadata": {
      "needs_background": "light"
     },
     "output_type": "display_data"
    }
   ],
   "source": [
    "sns.kdeplot(income['Child Family Income'], income['Parent Family Icnome'])"
   ]
  },
  {
   "cell_type": "code",
   "execution_count": 50,
   "metadata": {
    "ExecuteTime": {
     "end_time": "2019-09-07T17:21:17.297754Z",
     "start_time": "2019-09-07T17:21:16.324882Z"
    }
   },
   "outputs": [
    {
     "data": {
      "image/png": "[encoded data removed]",
      "text/plain": [
       "<Figure size 432x432 with 3 Axes>"
      ]
     },
     "metadata": {},
     "output_type": "display_data"
    }
   ],
   "source": [
    "with sns.axes_style('white'):\n",
    "    sns.jointplot('Child Family Income', 'Parent Family Icnome', income, kind='kde');"
   ]
  },
  {
   "cell_type": "code",
   "execution_count": 68,
   "metadata": {
    "ExecuteTime": {
     "end_time": "2019-09-07T17:43:01.307424Z",
     "start_time": "2019-09-07T17:43:01.301445Z"
    }
   },
   "outputs": [],
   "source": [
    "income_2_99 = income.loc[(income['Centile']!=100)&(income['Centile']!=1)]"
   ]
  },
  {
   "cell_type": "code",
   "execution_count": 73,
   "metadata": {
    "ExecuteTime": {
     "end_time": "2019-09-07T17:53:50.057412Z",
     "start_time": "2019-09-07T17:53:49.166498Z"
    }
   },
   "outputs": [
    {
     "data": {
      "image/png": "[encoded data removed]",
      "text/plain": [
       "<Figure size 432x432 with 3 Axes>"
      ]
     },
     "metadata": {},
     "output_type": "display_data"
    }
   ],
   "source": [
    "with sns.axes_style('white'):\n",
    "    sns.jointplot('Child Family Income', 'Parent Family Icnome', data=income_2_99, kind='kde');"
   ]
  },
  {
   "cell_type": "code",
   "execution_count": 83,
   "metadata": {
    "ExecuteTime": {
     "end_time": "2019-09-07T18:03:16.750871Z",
     "start_time": "2019-09-07T18:03:16.379120Z"
    }
   },
   "outputs": [
    {
     "ename": "ValueError",
     "evalue": "color kwarg must have one color per data set. 98 data sets and 1 colors were provided",
     "output_type": "error",
     "traceback": [
      "\u001b[0;31m---------------------------------------------------------------------------\u001b[0m",
      "\u001b[0;31mValueError\u001b[0m                                Traceback (most recent call last)",
      "\u001b[0;32m<ipython-input-83-b884b3029104>\u001b[0m in \u001b[0;36m<module>\u001b[0;34m\u001b[0m\n\u001b[1;32m      1\u001b[0m \u001b[0;32mwith\u001b[0m \u001b[0msns\u001b[0m\u001b[0;34m.\u001b[0m\u001b[0maxes_style\u001b[0m\u001b[0;34m(\u001b[0m\u001b[0;34m'white'\u001b[0m\u001b[0;34m)\u001b[0m\u001b[0;34m:\u001b[0m\u001b[0;34m\u001b[0m\u001b[0;34m\u001b[0m\u001b[0m\n\u001b[0;32m----> 2\u001b[0;31m     \u001b[0mg\u001b[0m \u001b[0;34m=\u001b[0m \u001b[0msns\u001b[0m\u001b[0;34m.\u001b[0m\u001b[0mjointplot\u001b[0m\u001b[0;34m(\u001b[0m\u001b[0;34m\"Child Family Income\"\u001b[0m\u001b[0;34m,\u001b[0m \u001b[0;34m\"Parent Family Icnome\"\u001b[0m\u001b[0;34m,\u001b[0m \u001b[0mincome_2_99\u001b[0m\u001b[0;34m,\u001b[0m \u001b[0mkind\u001b[0m\u001b[0;34m=\u001b[0m\u001b[0;34m'hex'\u001b[0m\u001b[0;34m)\u001b[0m\u001b[0;34m\u001b[0m\u001b[0;34m\u001b[0m\u001b[0m\n\u001b[0m\u001b[1;32m      3\u001b[0m     g.ax_joint.plot(np.linspace(0, 400000),\n\u001b[1;32m      4\u001b[0m                     np.linspace(8000, 320000), ':k')\n",
      "\u001b[0;32m/anaconda3/lib/python3.7/site-packages/seaborn/axisgrid.py\u001b[0m in \u001b[0;36mjointplot\u001b[0;34m(x, y, data, kind, stat_func, color, height, ratio, space, dropna, xlim, ylim, joint_kws, marginal_kws, annot_kws, **kwargs)\u001b[0m\n\u001b[1;32m   2306\u001b[0m         \u001b[0mmarginal_kws\u001b[0m\u001b[0;34m.\u001b[0m\u001b[0msetdefault\u001b[0m\u001b[0;34m(\u001b[0m\u001b[0;34m\"kde\"\u001b[0m\u001b[0;34m,\u001b[0m \u001b[0;32mFalse\u001b[0m\u001b[0;34m)\u001b[0m\u001b[0;34m\u001b[0m\u001b[0;34m\u001b[0m\u001b[0m\n\u001b[1;32m   2307\u001b[0m         \u001b[0mmarginal_kws\u001b[0m\u001b[0;34m.\u001b[0m\u001b[0msetdefault\u001b[0m\u001b[0;34m(\u001b[0m\u001b[0;34m\"color\"\u001b[0m\u001b[0;34m,\u001b[0m \u001b[0mcolor\u001b[0m\u001b[0;34m)\u001b[0m\u001b[0;34m\u001b[0m\u001b[0;34m\u001b[0m\u001b[0m\n\u001b[0;32m-> 2308\u001b[0;31m         \u001b[0mgrid\u001b[0m\u001b[0;34m.\u001b[0m\u001b[0mplot_marginals\u001b[0m\u001b[0;34m(\u001b[0m\u001b[0mdistplot\u001b[0m\u001b[0;34m,\u001b[0m \u001b[0;34m**\u001b[0m\u001b[0mmarginal_kws\u001b[0m\u001b[0;34m)\u001b[0m\u001b[0;34m\u001b[0m\u001b[0;34m\u001b[0m\u001b[0m\n\u001b[0m\u001b[1;32m   2309\u001b[0m \u001b[0;34m\u001b[0m\u001b[0m\n\u001b[1;32m   2310\u001b[0m     \u001b[0;32melif\u001b[0m \u001b[0mkind\u001b[0m\u001b[0;34m.\u001b[0m\u001b[0mstartswith\u001b[0m\u001b[0;34m(\u001b[0m\u001b[0;34m\"kde\"\u001b[0m\u001b[0;34m)\u001b[0m\u001b[0;34m:\u001b[0m\u001b[0;34m\u001b[0m\u001b[0;34m\u001b[0m\u001b[0m\n",
      "\u001b[0;32m/anaconda3/lib/python3.7/site-packages/seaborn/axisgrid.py\u001b[0m in \u001b[0;36mplot_marginals\u001b[0;34m(self, func, **kwargs)\u001b[0m\n\u001b[1;32m   1807\u001b[0m         \u001b[0mkwargs\u001b[0m\u001b[0;34m[\u001b[0m\u001b[0;34m\"vertical\"\u001b[0m\u001b[0;34m]\u001b[0m \u001b[0;34m=\u001b[0m \u001b[0;32mFalse\u001b[0m\u001b[0;34m\u001b[0m\u001b[0;34m\u001b[0m\u001b[0m\n\u001b[1;32m   1808\u001b[0m         \u001b[0mplt\u001b[0m\u001b[0;34m.\u001b[0m\u001b[0msca\u001b[0m\u001b[0;34m(\u001b[0m\u001b[0mself\u001b[0m\u001b[0;34m.\u001b[0m\u001b[0max_marg_x\u001b[0m\u001b[0;34m)\u001b[0m\u001b[0;34m\u001b[0m\u001b[0;34m\u001b[0m\u001b[0m\n\u001b[0;32m-> 1809\u001b[0;31m         \u001b[0mfunc\u001b[0m\u001b[0;34m(\u001b[0m\u001b[0mself\u001b[0m\u001b[0;34m.\u001b[0m\u001b[0mx\u001b[0m\u001b[0;34m,\u001b[0m \u001b[0;34m**\u001b[0m\u001b[0mkwargs\u001b[0m\u001b[0;34m)\u001b[0m\u001b[0;34m\u001b[0m\u001b[0;34m\u001b[0m\u001b[0m\n\u001b[0m\u001b[1;32m   1810\u001b[0m \u001b[0;34m\u001b[0m\u001b[0m\n\u001b[1;32m   1811\u001b[0m         \u001b[0mkwargs\u001b[0m\u001b[0;34m[\u001b[0m\u001b[0;34m\"vertical\"\u001b[0m\u001b[0;34m]\u001b[0m \u001b[0;34m=\u001b[0m \u001b[0;32mTrue\u001b[0m\u001b[0;34m\u001b[0m\u001b[0;34m\u001b[0m\u001b[0m\n",
      "\u001b[0;32m/anaconda3/lib/python3.7/site-packages/seaborn/distributions.py\u001b[0m in \u001b[0;36mdistplot\u001b[0;34m(a, bins, hist, kde, rug, fit, hist_kws, kde_kws, rug_kws, fit_kws, color, vertical, norm_hist, axlabel, label, ax)\u001b[0m\n\u001b[1;32m    223\u001b[0m         \u001b[0mhist_color\u001b[0m \u001b[0;34m=\u001b[0m \u001b[0mhist_kws\u001b[0m\u001b[0;34m.\u001b[0m\u001b[0mpop\u001b[0m\u001b[0;34m(\u001b[0m\u001b[0;34m\"color\"\u001b[0m\u001b[0;34m,\u001b[0m \u001b[0mcolor\u001b[0m\u001b[0;34m)\u001b[0m\u001b[0;34m\u001b[0m\u001b[0;34m\u001b[0m\u001b[0m\n\u001b[1;32m    224\u001b[0m         ax.hist(a, bins, orientation=orientation,\n\u001b[0;32m--> 225\u001b[0;31m                 color=hist_color, **hist_kws)\n\u001b[0m\u001b[1;32m    226\u001b[0m         \u001b[0;32mif\u001b[0m \u001b[0mhist_color\u001b[0m \u001b[0;34m!=\u001b[0m \u001b[0mcolor\u001b[0m\u001b[0;34m:\u001b[0m\u001b[0;34m\u001b[0m\u001b[0;34m\u001b[0m\u001b[0m\n\u001b[1;32m    227\u001b[0m             \u001b[0mhist_kws\u001b[0m\u001b[0;34m[\u001b[0m\u001b[0;34m\"color\"\u001b[0m\u001b[0;34m]\u001b[0m \u001b[0;34m=\u001b[0m \u001b[0mhist_color\u001b[0m\u001b[0;34m\u001b[0m\u001b[0;34m\u001b[0m\u001b[0m\n",
      "\u001b[0;32m/anaconda3/lib/python3.7/site-packages/matplotlib/__init__.py\u001b[0m in \u001b[0;36minner\u001b[0;34m(ax, data, *args, **kwargs)\u001b[0m\n\u001b[1;32m   1808\u001b[0m                         \u001b[0;34m\"the Matplotlib list!)\"\u001b[0m \u001b[0;34m%\u001b[0m \u001b[0;34m(\u001b[0m\u001b[0mlabel_namer\u001b[0m\u001b[0;34m,\u001b[0m \u001b[0mfunc\u001b[0m\u001b[0;34m.\u001b[0m\u001b[0m__name__\u001b[0m\u001b[0;34m)\u001b[0m\u001b[0;34m,\u001b[0m\u001b[0;34m\u001b[0m\u001b[0;34m\u001b[0m\u001b[0m\n\u001b[1;32m   1809\u001b[0m                         RuntimeWarning, stacklevel=2)\n\u001b[0;32m-> 1810\u001b[0;31m             \u001b[0;32mreturn\u001b[0m \u001b[0mfunc\u001b[0m\u001b[0;34m(\u001b[0m\u001b[0max\u001b[0m\u001b[0;34m,\u001b[0m \u001b[0;34m*\u001b[0m\u001b[0margs\u001b[0m\u001b[0;34m,\u001b[0m \u001b[0;34m**\u001b[0m\u001b[0mkwargs\u001b[0m\u001b[0;34m)\u001b[0m\u001b[0;34m\u001b[0m\u001b[0;34m\u001b[0m\u001b[0m\n\u001b[0m\u001b[1;32m   1811\u001b[0m \u001b[0;34m\u001b[0m\u001b[0m\n\u001b[1;32m   1812\u001b[0m         inner.__doc__ = _add_data_doc(inner.__doc__,\n",
      "\u001b[0;32m/anaconda3/lib/python3.7/site-packages/matplotlib/axes/_axes.py\u001b[0m in \u001b[0;36mhist\u001b[0;34m(self, x, bins, range, density, weights, cumulative, bottom, histtype, align, orientation, rwidth, log, color, label, stacked, normed, **kwargs)\u001b[0m\n\u001b[1;32m   6563\u001b[0m                     \u001b[0;34m\"color kwarg must have one color per data set. %d data \"\u001b[0m\u001b[0;34m\u001b[0m\u001b[0;34m\u001b[0m\u001b[0m\n\u001b[1;32m   6564\u001b[0m                     \"sets and %d colors were provided\" % (nx, len(color)))\n\u001b[0;32m-> 6565\u001b[0;31m                 \u001b[0;32mraise\u001b[0m \u001b[0mValueError\u001b[0m\u001b[0;34m(\u001b[0m\u001b[0merror_message\u001b[0m\u001b[0;34m)\u001b[0m\u001b[0;34m\u001b[0m\u001b[0;34m\u001b[0m\u001b[0m\n\u001b[0m\u001b[1;32m   6566\u001b[0m \u001b[0;34m\u001b[0m\u001b[0m\n\u001b[1;32m   6567\u001b[0m         \u001b[0;31m# If bins are not specified either explicitly or via range,\u001b[0m\u001b[0;34m\u001b[0m\u001b[0;34m\u001b[0m\u001b[0;34m\u001b[0m\u001b[0m\n",
      "\u001b[0;31mValueError\u001b[0m: color kwarg must have one color per data set. 98 data sets and 1 colors were provided"
     ]
    },
    {
     "data": {
      "image/png": "[encoded data removed]",
      "text/plain": [
       "<Figure size 432x432 with 3 Axes>"
      ]
     },
     "metadata": {},
     "output_type": "display_data"
    }
   ],
   "source": [
    "with sns.axes_style('white'):\n",
    "    g = sns.jointplot(\"Child Family Income\", \"Parent Family Icnome\", income_2_99, kind='hex')\n",
    "    g.ax_joint.plot(np.linspace(0, 400000),\n",
    "                    np.linspace(8000, 320000), ':k')"
   ]
  },
  {
   "cell_type": "markdown",
   "metadata": {},
   "source": [
    "## Where is the Land of Opportunity? The Geography of Intergenerational Mobility in the United States\n",
    "Chetty, Hendren, Kline and Saez (2014)\n",
    "Descriptive Statistics by County and Commuting Zone  \n",
    "http://www.equality-of-opportunity.org/assets/documents/mobility_geo.pdf \n",
    "\n",
    "\n",
    "> In our baseline analysis, we focus on U.S. citizens in the 1980-1982 birth cohorts – the oldest\n",
    "children in our data for whom we can reliably identify parents based on information on dependent\n",
    "claiming. We measure these children’s income as mean total family income in 2011 and 2012, when\n",
    "they are approximately 30 years old. We measure their parents’ income as mean family income\n",
    "between 1996 and 2000, when the children are between the ages of 15 and 20.1\n",
    "\n",
    "> Absolute upward mobility is highly correlated with relative mobility: areas with high levels of relative mobility (low rank-rank slopes) tend to have better outcomes for children from low-income families\n",
    "\n",
    "> Location matters more for children growing up in low income families: the expected rank of children from low-income families varies more across CZs than the expected rank of children from high income families."
   ]
  },
  {
   "cell_type": "markdown",
   "metadata": {},
   "source": [
    "This table presents mobility estimates and selected income distribution characteristics by county FIPS code for the core sample.  Relative mobility (RM) is the slope from OLS regression of child rank on parent rank within each county in core sample using baseline income definitions. Relative mobility can be multiplied by the difference in parent ranks (on a 0-100 scale) to obtain the expected difference in child's rank outcomes (on a 0-100 scale).   Absolute upward mobility (AM) is the expected rank of children whose parents are at the 25th percentile of the national income distribution.  Expected ranks at other percentiles P between 0 and 100 can be computed as `AM+(P-25)*RM`. Descriptions of other variables are as follows:"
   ]
  },
  {
   "cell_type": "code",
   "execution_count": 219,
   "metadata": {
    "ExecuteTime": {
     "end_time": "2019-09-10T01:13:56.123957Z",
     "start_time": "2019-09-10T01:13:55.586686Z"
    }
   },
   "outputs": [],
   "source": [
    "county_stats = pd.read_excel('../../data/01_raw/Equality_Opportunity/online_data_tables.xls',\n",
    "                             sheet_name='Online Data Table 3',\n",
    "                             header=[29, 30])  # This brings in the columns with a multi-indexed column"
   ]
  },
  {
   "cell_type": "code",
   "execution_count": 94,
   "metadata": {
    "ExecuteTime": {
     "end_time": "2019-09-09T15:01:03.287726Z",
     "start_time": "2019-09-09T15:01:02.860023Z"
    }
   },
   "outputs": [],
   "source": [
    "# md_counties = county_stats[county_stats['State'] == \"Maryland\"]\n",
    "# md_counties.sort_values(['Absolute Upward Mobility'],\n",
    "#                         ascending=False, inplace=True)\n",
    "# county_stats.loc[(county_stats['State'] == \"Virginia\") & \n",
    "#                  (county_stats['Rank-Rank Slope'].isna() == True)]"
   ]
  },
  {
   "cell_type": "code",
   "execution_count": null,
   "metadata": {},
   "outputs": [],
   "source": [
    "#county_stats['Rank-Rank Slope'].replace('[^0-9.]','', regex = True, inplace = True)"
   ]
  },
  {
   "cell_type": "code",
   "execution_count": 220,
   "metadata": {
    "ExecuteTime": {
     "end_time": "2019-09-10T01:13:58.613664Z",
     "start_time": "2019-09-10T01:13:58.594902Z"
    }
   },
   "outputs": [],
   "source": [
    "county_wo_multidx = county_stats.T.reset_index(level=1, drop=True).T"
   ]
  },
  {
   "cell_type": "code",
   "execution_count": 221,
   "metadata": {
    "ExecuteTime": {
     "end_time": "2019-09-10T01:13:59.881896Z",
     "start_time": "2019-09-10T01:13:59.870820Z"
    }
   },
   "outputs": [],
   "source": [
    "county_mobility = pd.concat([county_wo_multidx.iloc[:, :5],\n",
    "                   county_wo_multidx.iloc[:, 5:].astype('float')], axis=1)"
   ]
  },
  {
   "cell_type": "code",
   "execution_count": 222,
   "metadata": {
    "ExecuteTime": {
     "end_time": "2019-09-10T01:14:01.555583Z",
     "start_time": "2019-09-10T01:14:01.548278Z"
    }
   },
   "outputs": [
    {
     "data": {
      "text/plain": [
       "County FIPS Code                      object\n",
       "County Name                           object\n",
       "Commuting Zone ID                     object\n",
       "Commuting Zone Name                   object\n",
       "State                                 object\n",
       "Number of Children in Core Sample    float64\n",
       "Rank-Rank Slope                      float64\n",
       "Absolute Upward Mobility             float64\n",
       "Top 1% Income Share                  float64\n",
       "Interquartile Income Range           float64\n",
       "Gini                                 float64\n",
       "Teenage Birth Rate                   float64\n",
       "Share Between p25 and p75            float64\n",
       "Mean Parent Income                   float64\n",
       "Mean Child Income                    float64\n",
       "Parent Income P25                    float64\n",
       "Child Income P25                     float64\n",
       "Median Parent Income                 float64\n",
       "Median Child Income                  float64\n",
       "Parent Income P75                    float64\n",
       "Child Income P75                     float64\n",
       "Parent Income P90                    float64\n",
       "Child Income P90                     float64\n",
       "Parent Income P99                    float64\n",
       "Child Income P99                     float64\n",
       "dtype: object"
      ]
     },
     "execution_count": 222,
     "metadata": {},
     "output_type": "execute_result"
    }
   ],
   "source": [
    "county_mobility.dtypes"
   ]
  },
  {
   "cell_type": "code",
   "execution_count": 223,
   "metadata": {
    "ExecuteTime": {
     "end_time": "2019-09-10T01:14:09.990411Z",
     "start_time": "2019-09-10T01:14:09.978789Z"
    }
   },
   "outputs": [
    {
     "data": {
      "text/plain": [
       "count      2769.000000\n",
       "mean      52996.352474\n",
       "std       15804.107367\n",
       "min       18700.000000\n",
       "25%       42000.000000\n",
       "50%       52200.000000\n",
       "75%       62100.000000\n",
       "max      125600.000000\n",
       "Name: Median Parent Income, dtype: float64"
      ]
     },
     "execution_count": 223,
     "metadata": {},
     "output_type": "execute_result"
    }
   ],
   "source": [
    "county_mobility['Median Parent Income'].describe()"
   ]
  },
  {
   "cell_type": "code",
   "execution_count": 224,
   "metadata": {
    "ExecuteTime": {
     "end_time": "2019-09-10T01:14:11.254493Z",
     "start_time": "2019-09-10T01:14:11.247542Z"
    }
   },
   "outputs": [],
   "source": [
    "low_income = county_mobility.loc[test2['Median Parent Income'] < 42000]"
   ]
  },
  {
   "cell_type": "code",
   "execution_count": 225,
   "metadata": {
    "ExecuteTime": {
     "end_time": "2019-09-10T01:14:16.613456Z",
     "start_time": "2019-09-10T01:14:16.608160Z"
    }
   },
   "outputs": [],
   "source": [
    "# \n",
    "county_mobility['rank_diff'] = county_mobility['Absolute Upward Mobility'] - 25"
   ]
  },
  {
   "cell_type": "code",
   "execution_count": 226,
   "metadata": {
    "ExecuteTime": {
     "end_time": "2019-09-10T01:14:18.815139Z",
     "start_time": "2019-09-10T01:14:18.791456Z"
    }
   },
   "outputs": [
    {
     "data": {
      "text/html": [
       "<div>\n",
       "<style scoped>\n",
       "    .dataframe tbody tr th:only-of-type {\n",
       "        vertical-align: middle;\n",
       "    }\n",
       "\n",
       "    .dataframe tbody tr th {\n",
       "        vertical-align: top;\n",
       "    }\n",
       "\n",
       "    .dataframe thead th {\n",
       "        text-align: right;\n",
       "    }\n",
       "</style>\n",
       "<table border=\"1\" class=\"dataframe\">\n",
       "  <thead>\n",
       "    <tr style=\"text-align: right;\">\n",
       "      <th></th>\n",
       "      <th>count</th>\n",
       "      <th>mean</th>\n",
       "      <th>std</th>\n",
       "      <th>min</th>\n",
       "      <th>25%</th>\n",
       "      <th>50%</th>\n",
       "      <th>75%</th>\n",
       "      <th>max</th>\n",
       "    </tr>\n",
       "  </thead>\n",
       "  <tbody>\n",
       "    <tr>\n",
       "      <th>Rank-Rank Slope</th>\n",
       "      <td>2769.0</td>\n",
       "      <td>0.330801</td>\n",
       "      <td>0.07172</td>\n",
       "      <td>0.06877</td>\n",
       "      <td>0.28365</td>\n",
       "      <td>0.3335</td>\n",
       "      <td>0.37824</td>\n",
       "      <td>0.65978</td>\n",
       "    </tr>\n",
       "  </tbody>\n",
       "</table>\n",
       "</div>"
      ],
      "text/plain": [
       "                  count      mean      std      min      25%     50%      75%  \\\n",
       "Rank-Rank Slope  2769.0  0.330801  0.07172  0.06877  0.28365  0.3335  0.37824   \n",
       "\n",
       "                     max  \n",
       "Rank-Rank Slope  0.65978  "
      ]
     },
     "execution_count": 226,
     "metadata": {},
     "output_type": "execute_result"
    }
   ],
   "source": [
    "county_mobility[['Rank-Rank Slope']].describe().T"
   ]
  },
  {
   "cell_type": "code",
   "execution_count": 227,
   "metadata": {
    "ExecuteTime": {
     "end_time": "2019-09-10T01:14:22.773001Z",
     "start_time": "2019-09-10T01:14:22.753676Z"
    },
    "scrolled": true
   },
   "outputs": [
    {
     "data": {
      "text/html": [
       "<div>\n",
       "<style scoped>\n",
       "    .dataframe tbody tr th:only-of-type {\n",
       "        vertical-align: middle;\n",
       "    }\n",
       "\n",
       "    .dataframe tbody tr th {\n",
       "        vertical-align: top;\n",
       "    }\n",
       "\n",
       "    .dataframe thead th {\n",
       "        text-align: right;\n",
       "    }\n",
       "</style>\n",
       "<table border=\"1\" class=\"dataframe\">\n",
       "  <thead>\n",
       "    <tr style=\"text-align: right;\">\n",
       "      <th></th>\n",
       "      <th>count</th>\n",
       "      <th>mean</th>\n",
       "      <th>std</th>\n",
       "      <th>min</th>\n",
       "      <th>25%</th>\n",
       "      <th>50%</th>\n",
       "      <th>75%</th>\n",
       "      <th>max</th>\n",
       "    </tr>\n",
       "  </thead>\n",
       "  <tbody>\n",
       "    <tr>\n",
       "      <th>Rank-Rank Slope</th>\n",
       "      <td>689.0</td>\n",
       "      <td>0.373335</td>\n",
       "      <td>0.076828</td>\n",
       "      <td>0.06877</td>\n",
       "      <td>0.32308</td>\n",
       "      <td>0.37753</td>\n",
       "      <td>0.42559</td>\n",
       "      <td>0.65978</td>\n",
       "    </tr>\n",
       "  </tbody>\n",
       "</table>\n",
       "</div>"
      ],
      "text/plain": [
       "                 count      mean       std      min      25%      50%  \\\n",
       "Rank-Rank Slope  689.0  0.373335  0.076828  0.06877  0.32308  0.37753   \n",
       "\n",
       "                     75%      max  \n",
       "Rank-Rank Slope  0.42559  0.65978  "
      ]
     },
     "execution_count": 227,
     "metadata": {},
     "output_type": "execute_result"
    }
   ],
   "source": [
    "low_income[['Rank-Rank Slope']].describe().T"
   ]
  },
  {
   "cell_type": "markdown",
   "metadata": {},
   "source": [
    "### Label Data \n",
    "\n",
    "Classifying county as \"mobile\" or \"not mobile\". If `rank_diff >= 25`, then a county can be considered mobile. \n",
    "\n",
    "Reasoned that the AUM, being calculated from a Parent being in the 25th percentile, subtracted  by 25 \"zeros out\" the line (rank-rank slope line). rank_diff >= 25 represents anyone who moved more than 1 quartile (25 centiles) up from their parents. This is what I'm defining as the \"American Dream\". "
   ]
  },
  {
   "cell_type": "code",
   "execution_count": null,
   "metadata": {},
   "outputs": [],
   "source": []
  },
  {
   "cell_type": "markdown",
   "metadata": {},
   "source": [
    "### Plots"
   ]
  },
  {
   "cell_type": "code",
   "execution_count": 228,
   "metadata": {
    "ExecuteTime": {
     "end_time": "2019-09-10T01:14:24.380033Z",
     "start_time": "2019-09-10T01:14:24.111097Z"
    }
   },
   "outputs": [
    {
     "data": {
      "text/plain": [
       "<matplotlib.axes._subplots.AxesSubplot at 0x1a3a71e0b8>"
      ]
     },
     "execution_count": 228,
     "metadata": {},
     "output_type": "execute_result"
    },
    {
     "data": {
      "image/png": "[encoded data removed]",
      "text/plain": [
       "<Figure size 432x288 with 1 Axes>"
      ]
     },
     "metadata": {
      "needs_background": "light"
     },
     "output_type": "display_data"
    }
   ],
   "source": [
    "# Defining \"mobile\" county as one where someone can move up at least one class, defined as rank_diff>=25\n",
    "sns.distplot(test2.rank_diff.dropna())"
   ]
  },
  {
   "cell_type": "code",
   "execution_count": 231,
   "metadata": {
    "ExecuteTime": {
     "end_time": "2019-09-10T03:07:11.803897Z",
     "start_time": "2019-09-10T03:06:38.885823Z"
    }
   },
   "outputs": [
    {
     "data": {
      "text/plain": [
       "<matplotlib.axes._subplots.AxesSubplot at 0x1a355435c0>"
      ]
     },
     "execution_count": 231,
     "metadata": {},
     "output_type": "execute_result"
    },
    {
     "data": {
      "image/png": "[encoded data removed]",
      "text/plain": [
       "<Figure size 432x288 with 1 Axes>"
      ]
     },
     "metadata": {
      "needs_background": "light"
     },
     "output_type": "display_data"
    }
   ],
   "source": [
    "sns.pointplot(x = county_mobility['County Name'].dropna(), y = county_mobility['Absolute Upward Mobility'].dropna())"
   ]
  },
  {
   "cell_type": "markdown",
   "metadata": {},
   "source": [
    "Want to plot Absolute Upward Mobility as bar chart by County:"
   ]
  },
  {
   "cell_type": "code",
   "execution_count": 113,
   "metadata": {
    "ExecuteTime": {
     "end_time": "2019-09-09T15:14:00.203686Z",
     "start_time": "2019-09-09T15:13:59.773704Z"
    }
   },
   "outputs": [
    {
     "data": {
      "text/plain": [
       "<seaborn.axisgrid.FacetGrid at 0x1a3069f6a0>"
      ]
     },
     "execution_count": 113,
     "metadata": {},
     "output_type": "execute_result"
    },
    {
     "data": {
      "image/png": "[encoded data removed]",
      "text/plain": [
       "<Figure size 720x360 with 1 Axes>"
      ]
     },
     "metadata": {
      "needs_background": "light"
     },
     "output_type": "display_data"
    }
   ],
   "source": [
    "\n",
    "g = sns.catplot(x=\"County Name\", y=\"Absolute Upward Mobility\", data=md_counties, kind='bar', aspect=2)\n",
    "g.set_xticklabels(rotation=45)"
   ]
  },
  {
   "cell_type": "code",
   "execution_count": null,
   "metadata": {},
   "outputs": [],
   "source": []
  }
 ],
 "metadata": {
  "kernelspec": {
   "display_name": "Python 3",
   "language": "python",
   "name": "python3"
  },
  "language_info": {
   "codemirror_mode": {
    "name": "ipython",
    "version": 3
   },
   "file_extension": ".py",
   "mimetype": "text/x-python",
   "name": "python",
   "nbconvert_exporter": "python",
   "pygments_lexer": "ipython3",
   "version": "3.7.3"
  },
  "toc": {
   "base_numbering": 1,
   "nav_menu": {
    "height": "278.993px",
    "width": "318.993px"
   },
   "number_sections": true,
   "sideBar": true,
   "skip_h1_title": true,
   "title_cell": "Table of Contents",
   "title_sidebar": "Contents",
   "toc_cell": false,
   "toc_position": {
    "height": "calc(100% - 180px)",
    "left": "10px",
    "top": "150px",
    "width": "165px"
   },
   "toc_section_display": true,
   "toc_window_display": false
  }
 },
 "nbformat": 4,
 "nbformat_minor": 2
}
