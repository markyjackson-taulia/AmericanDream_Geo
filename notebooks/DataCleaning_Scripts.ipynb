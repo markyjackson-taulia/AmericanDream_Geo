{
 "cells": [
  {
   "cell_type": "markdown",
   "metadata": {},
   "source": [
    "# Data Cleaning Scripts\n",
    "\n",
    "Sandbox for data cleaning functions to be saved in src/01_utils"
   ]
  },
  {
   "cell_type": "markdown",
   "metadata": {},
   "source": [
    "### Imports\n",
    "Import libraries and write settings here."
   ]
  },
  {
   "cell_type": "code",
   "execution_count": 1,
   "metadata": {},
   "outputs": [],
   "source": [
    "# Data manipulation\n",
    "import pandas as pd\n",
    "import numpy as np\n",
    "\n",
    "# Options for pandas\n",
    "pd.options.display.max_columns = 50\n",
    "pd.options.display.max_rows = 30\n"
   ]
  },
  {
   "cell_type": "markdown",
   "metadata": {},
   "source": [
    "## Opportunity Insights\n",
    "\n",
    "Function overview: \n",
    "1. \n",
    "1. \n",
    "1. \n",
    "1. \n",
    "1. \n"
   ]
  },
  {
   "cell_type": "code",
   "execution_count": null,
   "metadata": {},
   "outputs": [],
   "source": [
    "data = pd.read_csv('')"
   ]
  },
  {
   "cell_type": "code",
   "execution_count": 2,
   "metadata": {},
   "outputs": [
    {
     "ename": "NameError",
     "evalue": "name 'county_mobility' is not defined",
     "output_type": "error",
     "traceback": [
      "\u001b[0;31m---------------------------------------------------------------------------\u001b[0m",
      "\u001b[0;31mNameError\u001b[0m                                 Traceback (most recent call last)",
      "\u001b[0;32m<ipython-input-2-81a244736143>\u001b[0m in \u001b[0;36m<module>\u001b[0;34m\u001b[0m\n\u001b[1;32m     33\u001b[0m \u001b[0;34m\u001b[0m\u001b[0m\n\u001b[1;32m     34\u001b[0m \u001b[0;31m# Exporting data as pkl into new notebook for modeling.\u001b[0m\u001b[0;34m\u001b[0m\u001b[0;34m\u001b[0m\u001b[0;34m\u001b[0m\u001b[0m\n\u001b[0;32m---> 35\u001b[0;31m \u001b[0mcounty_mobility\u001b[0m\u001b[0;34m.\u001b[0m\u001b[0mto_pickle\u001b[0m\u001b[0;34m(\u001b[0m\u001b[0;34m'../../data/02_intermediate/county_mobility_incomeOnly'\u001b[0m\u001b[0;34m)\u001b[0m\u001b[0;34m\u001b[0m\u001b[0;34m\u001b[0m\u001b[0m\n\u001b[0m",
      "\u001b[0;31mNameError\u001b[0m: name 'county_mobility' is not defined"
     ]
    }
   ],
   "source": [
    "##\n",
    "\n",
    "\n",
    "def Clean_OppIns_raw():\n",
    "    \"\"\"\n",
    "    =====================================================\n",
    "    Function to clean raw data from Opportunity Insights \"Geography of Mobility\"\n",
    "    =====================================================\n",
    "\n",
    "    Raw data (\"online_data_tables.xls\") must be in data/01_raw\n",
    "\n",
    "\n",
    "    \"\"\"\n",
    "    # This brings in the columns with a multi-indexed column\n",
    "    county_stats = pd.read_excel('../../data/01_raw/Equality_Opportunity/online_data_tables.xls',\n",
    "                                 sheet_name='Online Data Table 3',\n",
    "                                 header=[29, 30])\n",
    "    # Transposing dataframe to remove first level of multi-indexed column headers\n",
    "    county_wo_multidx = county_stats.T.reset_index(level=1, drop=True).T\n",
    "\n",
    "    # Transposing the dataframe changes the datatypes, so here we restore the appropriate\n",
    "    # columns to floats\n",
    "    county_mobility = pd.concat([county_wo_multidx.iloc[:, :5],\n",
    "                                 county_wo_multidx.iloc[:, 5:].astype('float')], axis=1)\n",
    "\n",
    "    # Adding column \"rank_diff\" as my definition of a \"Mobile\" county, and making boolean column\n",
    "    # 0 is False, meaning a county is NOT considered mobile by my definition. 2804 counties\n",
    "    # 1 is True, meaning a county IS considered mobile. 337 counties\n",
    "\n",
    "    county_mobility['rank_diff'] = county_mobility['Absolute Upward Mobility'] - 25\n",
    "    county_mobility['Target'] = (county_mobility.rank_diff >= 25).astype('int')\n",
    "\n",
    "    # Padding FIPS code so the formatting will match when it's time to merge with next dataset\n",
    "    county_mobility['County FIPS Code'] = county_mobility['County FIPS Code'].apply(\n",
    "        lambda x: str(x).zfill(5))\n",
    "\n",
    "    # Exporting data as pkl into new notebook for modeling.\n",
    "    county_mobility.to_pickle(\n",
    "        '../../data/02_intermediate/county_mobility_incomeOnly')"
   ]
  },
  {
   "cell_type": "markdown",
   "metadata": {},
   "source": [
    "## County Health Data\n",
    "\n",
    "Process Overview: \n",
    "\n",
    "1. \n",
    "1. \n",
    "1. \n",
    "1. "
   ]
  },
  {
   "cell_type": "code",
   "execution_count": null,
   "metadata": {},
   "outputs": [],
   "source": []
  },
  {
   "cell_type": "markdown",
   "metadata": {},
   "source": [
    "## Data formatting for mapping\n",
    "\n",
    "Process Overview: \n",
    "1. \n",
    "1. \n",
    "1. \n",
    "1. \n",
    "1. \n"
   ]
  },
  {
   "cell_type": "code",
   "execution_count": null,
   "metadata": {},
   "outputs": [],
   "source": []
  }
 ],
 "metadata": {
  "kernelspec": {
   "display_name": "Python 3",
   "language": "python",
   "name": "python3"
  },
  "language_info": {
   "codemirror_mode": {
    "name": "ipython",
    "version": 3
   },
   "file_extension": ".py",
   "mimetype": "text/x-python",
   "name": "python",
   "nbconvert_exporter": "python",
   "pygments_lexer": "ipython3",
   "version": "3.7.3"
  },
  "toc": {
   "base_numbering": 1,
   "nav_menu": {},
   "number_sections": true,
   "sideBar": true,
   "skip_h1_title": true,
   "title_cell": "Table of Contents",
   "title_sidebar": "Contents",
   "toc_cell": false,
   "toc_position": {},
   "toc_section_display": true,
   "toc_window_display": false
  }
 },
 "nbformat": 4,
 "nbformat_minor": 2
}
