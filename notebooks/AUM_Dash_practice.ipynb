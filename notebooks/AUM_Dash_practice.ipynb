{
 "cells": [
  {
   "cell_type": "code",
   "execution_count": 17,
   "metadata": {
    "Collapsed": "false"
   },
   "outputs": [],
   "source": [
    "import os \n",
    "import sys\n",
    "import pickle\n",
    "import folium\n",
    "import jupyterlab_dash\n",
    "import dash\n",
    "import dash_bootstrap_components as dbc\n",
    "import dash_core_components as dcc\n",
    "import dash_html_components as html\n",
    "from dash.dependencies import Input, Output, State\n",
    "\n",
    "import pandas as pd"
   ]
  },
  {
   "cell_type": "code",
   "execution_count": 11,
   "metadata": {
    "Collapsed": "false"
   },
   "outputs": [],
   "source": [
    "src_dir = os.path.join(os.getcwd(), '..', '..', 'src')\n",
    "sys.path.append(src_dir)"
   ]
  },
  {
   "cell_type": "markdown",
   "metadata": {
    "Collapsed": "false"
   },
   "source": [
    "Data"
   ]
  },
  {
   "cell_type": "code",
   "execution_count": 15,
   "metadata": {
    "Collapsed": "false"
   },
   "outputs": [],
   "source": [
    "data_imp = pd.read_pickle('../data/03_processed/all_county_metrics')\n",
    "updated_county_json = pickle.load(open('../data/03_processed/county_metrics_and_shapefiles.p', 'rb'))\n",
    "           "
   ]
  },
  {
   "cell_type": "markdown",
   "metadata": {
    "Collapsed": "false"
   },
   "source": [
    "Map"
   ]
  },
  {
   "cell_type": "code",
   "execution_count": 23,
   "metadata": {
    "Collapsed": "false"
   },
   "outputs": [
    {
     "data": {
      "text/plain": [
       "<folium.map.LayerControl at 0x106e95dd8>"
      ]
     },
     "execution_count": 23,
     "metadata": {},
     "output_type": "execute_result"
    }
   ],
   "source": [
    "aum_map = folium.Map(location=[37, -95], zoom_start=5)\n",
    "bins = list(data_imp['Absolute Upward Mobility'].quantile([0, 0.25, 0.5, 0.75, 1]))\n",
    "\n",
    "choro = folium.Choropleth(\n",
    "    geo_data=updated_county_json,\n",
    "    data=data_imp,\n",
    "    columns=['County FIPS Code', 'Absolute Upward Mobility'],\n",
    "    key_on='properties.GEO_ID',\n",
    "    fill_color='YlOrRd',\n",
    "    fill_opacity=0.5,\n",
    "    nan_fill_color='gray',\n",
    "    nan_fill_opacity=0.9,\n",
    "    line_opacity=0.5,\n",
    "    legend_name='Absolute Upward Mobility',\n",
    "    bins=bins,\n",
    "    reset=True, \n",
    "    highlight=True,\n",
    "    name='Absolute Upward Mobility'\n",
    "    \n",
    ")\n",
    "\n",
    "choro2 = folium.Choropleth(\n",
    "    geo_data=updated_county_json,\n",
    "    data=data_imp,\n",
    "    columns=['County FIPS Code', 'Target'],\n",
    "    key_on='properties.GEO_ID',\n",
    "    fill_color='PuBu',\n",
    "    fill_opacity=0.5,\n",
    "    nan_fill_color='gray',\n",
    "    nan_fill_opacity=0.9,\n",
    "    line_opacity=0.5,\n",
    "    legend_name='Mobility Outcomes',\n",
    "    bins=3,\n",
    "    reset=True, \n",
    "    highlight=True,\n",
    "    name='Child Can Move atleast 1 quartile up'\n",
    "    )\n",
    "\n",
    "locations = list(zip(data_imp.lat, data_imp.lon))\n",
    "popup_content = list(zip(data_imp['County Name'], data_imp['State'], round(data_imp['Absolute Upward Mobility'],1), round(data_imp['Teenage Birth Rate']*100, 1)\n",
    "                         ))\n",
    "popups = ['<center> {} County, {} <br>  <b>AUM:</b> {} <br><b>Teen Birth Rate:</b> {}% <br>'.format(\n",
    "    name, state, aum, share) for (name, state, aum, share) in popup_content]\n",
    "\n",
    "\n",
    "tooltip = folium.features.GeoJsonTooltip(fields=['NAME', 'State', 'Absolute Upward Mobility', '% Unemployment', '% Teenage Birth Rate', '% Share Between p25 and p75'],\n",
    "                                         aliases=[\n",
    "                                             'County', 'State', 'Absolute Upward Mobility', 'Unemployment Rate','Teen Birth Rate', '\"Middle Class\" Income Share'],\n",
    "                                         style=('background-color: grey; color: white; font-family:'\n",
    "                                                'courier new; font-size: 24px; padding: 10px;'),\n",
    "                                         localize=True)\n",
    "\n",
    "choro.geojson.add_child(tooltip)\n",
    "\n",
    "data_imp_copy = data_imp.reset_index()\n",
    "\n",
    "for idx, row in data_imp_copy.iterrows():\n",
    "    if row['Absolute Upward Mobility'] >= 60:\n",
    "        location = locations[idx][0], locations[idx][1]\n",
    "        marker = folium.Marker(location=location)    \n",
    "        popup = popups[idx]\n",
    "        folium.Popup(popup, max_width='150%').add_to(marker)\n",
    "        icons = folium.Icon(color='green', icon='ok-sign').add_to(marker)\n",
    "        marker.add_to(choro2)\n",
    "    elif row['Absolute Upward Mobility'] <= 32:\n",
    "        location = locations[idx][0], locations[idx][1]\n",
    "        marker = folium.Marker(location=location)    \n",
    "        popup = popups[idx]\n",
    "        folium.Popup(popup, max_width='150%').add_to(marker)\n",
    "        icons = folium.Icon(color='red').add_to(marker)\n",
    "        marker.add_to(choro2)\n",
    "    else: pass\n",
    "\n",
    "    \n",
    "choro.add_to(aum_map)\n",
    "choro2.add_to(aum_map)\n",
    "folium.LayerControl().add_to(aum_map)\n",
    "\n"
   ]
  },
  {
   "cell_type": "markdown",
   "metadata": {
    "Collapsed": "false"
   },
   "source": [
    "Trying map in plotly"
   ]
  },
  {
   "cell_type": "code",
   "execution_count": null,
   "metadata": {
    "Collapsed": "false"
   },
   "outputs": [],
   "source": [
    "import plotly.graph_objects as go\n",
    "\n",
    "fig = go.Figure(go.Choroplethmapbox(geojson=counties, locations=df.fips, z=df.unemp,\n",
    "                                    colorscale=\"Viridis\", zmin=0, zmax=12,\n",
    "                                    marker_opacity=0.5, marker_line_width=0))\n",
    "fig.update_layout(mapbox_style=\"carto-positron\",\n",
    "                  mapbox_zoom=3, mapbox_center = {\"lat\": 37.0902, \"lon\": -95.7129})\n",
    "fig.update_layout(margin={\"r\":0,\"t\":0,\"l\":0,\"b\":0})\n",
    "fig.show()"
   ]
  },
  {
   "cell_type": "markdown",
   "metadata": {
    "Collapsed": "false"
   },
   "source": [
    "Building page layout and adding content"
   ]
  },
  {
   "cell_type": "code",
   "execution_count": 27,
   "metadata": {
    "Collapsed": "false"
   },
   "outputs": [],
   "source": [
    "viewer = jupyterlab_dash.AppViewer()\n",
    "#external_stylesheets = ['https://codepen.io/chriddyp/pen/bWLwgP.css']\n",
    "\n",
    "\n",
    "navbar = dbc.NavbarSimple(\n",
    "    children=[\n",
    "        dbc.NavItem(dbc.NavLink(\"Link\", href=\"#\")),\n",
    "        dbc.DropdownMenu(\n",
    "            nav=True,\n",
    "            in_navbar=True,\n",
    "            label=\"Menu\",\n",
    "            children=[\n",
    "                dbc.DropdownMenuItem(\"Entry 1\"),\n",
    "                dbc.DropdownMenuItem(\"Entry 2\"),\n",
    "                dbc.DropdownMenuItem(divider=True),\n",
    "                dbc.DropdownMenuItem(\"Entry 3\"),\n",
    "            ],\n",
    "        ),\n",
    "    ],\n",
    "    brand=\"Demo\",\n",
    "    brand_href=\"#\",\n",
    "    sticky=\"top\",\n",
    ")\n",
    "\n",
    "intro = dbc.Container(\n",
    "    [\n",
    "        dbc.Row(\n",
    "            [\n",
    "                dbc.Col(\n",
    "                    [\n",
    "                        html.H2(\"Heading\"),\n",
    "                        html.P(\n",
    "                            \"\"\"\\\n",
    "Donec id elit non mi porta gravida at eget metus.\n",
    "Fusce dapibus, tellus ac cursus commodo, tortor mauris condimentum\n",
    "nibh, ut fermentum massa justo sit amet risus. Etiam porta sem\n",
    "malesuada magna mollis euismod. Donec sed odio dui. Donec id elit non\n",
    "mi porta gravida at eget metus. Fusce dapibus, tellus ac cursus\n",
    "commodo, tortor mauris condimentum nibh, ut fermentum massa justo sit\n",
    "amet risus. Etiam porta sem malesuada magna mollis euismod. Donec sed\n",
    "odio dui.\"\"\"\n",
    "                        ),\n",
    "                        dbc.Button(\"View details\", color=\"secondary\"),\n",
    "                    ],\n",
    "                    md=4,\n",
    "                )\n",
    "            ]\n",
    "        )\n",
    "    ]\n",
    ")\n",
    "            \n",
    "map_plot = dbc.Container(\n",
    "    [\n",
    "         dbc.Row(\n",
    "             [\n",
    "                html.H2(\"Graph\")\n",
    "#                 dcc.Graph(\n",
    "#                             figure=aum_map ## Can I make this part the map I've already programmed? \n",
    "#                         )\n",
    "                    ]\n",
    "                )\n",
    "            ]\n",
    "        )\n",
    "\n",
    "row = html.Div(\n",
    "    [\n",
    "        dbc.Row(dbc.Col(html.Div(\"A single column\"))),\n",
    "        dbc.Row(\n",
    "            [\n",
    "                dbc.Col(html.Div(\"One of three columns\")),\n",
    "                dbc.Col(html.Div(\"One of three columns\")),\n",
    "                dbc.Col(html.Div(\"One of three columns\")),\n",
    "            ]\n",
    "        ),\n",
    "    ]\n",
    ")\n",
    "\n",
    "app = dash.Dash(__name__, external_stylesheets=[dbc.themes.FLATLY])\n",
    "\n",
    "app.layout = html.Div([navbar, row, intro, map_plot])\n",
    "\n",
    "viewer.show(app)"
   ]
  },
  {
   "cell_type": "code",
   "execution_count": null,
   "metadata": {
    "Collapsed": "false"
   },
   "outputs": [],
   "source": []
  },
  {
   "cell_type": "code",
   "execution_count": null,
   "metadata": {
    "Collapsed": "false"
   },
   "outputs": [],
   "source": []
  }
 ],
 "metadata": {
  "kernelspec": {
   "display_name": "Python 3",
   "language": "python",
   "name": "python3"
  },
  "language_info": {
   "codemirror_mode": {
    "name": "ipython",
    "version": 3
   },
   "file_extension": ".py",
   "mimetype": "text/x-python",
   "name": "python",
   "nbconvert_exporter": "python",
   "pygments_lexer": "ipython3",
   "version": "3.7.3"
  }
 },
 "nbformat": 4,
 "nbformat_minor": 4
}
