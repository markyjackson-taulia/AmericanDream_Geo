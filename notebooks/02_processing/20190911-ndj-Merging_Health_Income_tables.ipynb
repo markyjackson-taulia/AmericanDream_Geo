{
 "cells": [
  {
   "cell_type": "markdown",
   "metadata": {},
   "source": [
    "# Merging County Health Ranking & Income Distribution tables\n"
   ]
  },
  {
   "cell_type": "markdown",
   "metadata": {
    "heading_collapsed": true
   },
   "source": [
    "### Imports\n",
    "Import libraries and write settings here."
   ]
  },
  {
   "cell_type": "code",
   "execution_count": 1,
   "metadata": {
    "ExecuteTime": {
     "end_time": "2019-09-11T13:51:05.125862Z",
     "start_time": "2019-09-11T13:50:54.416487Z"
    },
    "hidden": true
   },
   "outputs": [
    {
     "data": {
      "text/html": [
       "        <script type=\"text/javascript\">\n",
       "        window.PlotlyConfig = {MathJaxConfig: 'local'};\n",
       "        if (window.MathJax) {MathJax.Hub.Config({SVG: {font: \"STIX-Web\"}});}\n",
       "        if (typeof require !== 'undefined') {\n",
       "        require.undef(\"plotly\");\n",
       "        requirejs.config({\n",
       "            paths: {\n",
       "                'plotly': ['https://cdn.plot.ly/plotly-latest.min']\n",
       "            }\n",
       "        });\n",
       "        require(['plotly'], function(Plotly) {\n",
       "            window._Plotly = Plotly;\n",
       "        });\n",
       "        }\n",
       "        </script>\n",
       "        "
      ]
     },
     "metadata": {},
     "output_type": "display_data"
    },
    {
     "data": {
      "text/html": [
       "        <script type=\"text/javascript\">\n",
       "        window.PlotlyConfig = {MathJaxConfig: 'local'};\n",
       "        if (window.MathJax) {MathJax.Hub.Config({SVG: {font: \"STIX-Web\"}});}\n",
       "        if (typeof require !== 'undefined') {\n",
       "        require.undef(\"plotly\");\n",
       "        requirejs.config({\n",
       "            paths: {\n",
       "                'plotly': ['https://cdn.plot.ly/plotly-latest.min']\n",
       "            }\n",
       "        });\n",
       "        require(['plotly'], function(Plotly) {\n",
       "            window._Plotly = Plotly;\n",
       "        });\n",
       "        }\n",
       "        </script>\n",
       "        "
      ]
     },
     "metadata": {},
     "output_type": "display_data"
    }
   ],
   "source": [
    "# Data manipulation\n",
    "import pandas as pd\n",
    "import numpy as np\n",
    "\n",
    "# Options for pandas\n",
    "pd.options.display.max_columns = 50\n",
    "pd.options.display.max_rows = 30\n",
    "\n",
    "# Display all cell outputs\n",
    "from IPython.core.interactiveshell import InteractiveShell\n",
    "InteractiveShell.ast_node_interactivity = 'all'\n",
    "\n",
    "from IPython import get_ipython\n",
    "ipython = get_ipython()\n",
    "\n",
    "# autoreload extension\n",
    "if 'autoreload' not in ipython.extension_manager.loaded:\n",
    "    %load_ext autoreload\n",
    "\n",
    "%autoreload 2\n",
    "\n",
    "# Visualizations\n",
    "import plotly.plotly as py\n",
    "import plotly.graph_objs as go\n",
    "from plotly.offline import iplot, init_notebook_mode\n",
    "init_notebook_mode(connected=True)\n",
    "\n",
    "import cufflinks as cf\n",
    "cf.go_offline(connected=True)\n",
    "cf.set_config_file(theme='white')"
   ]
  },
  {
   "cell_type": "markdown",
   "metadata": {
    "heading_collapsed": true
   },
   "source": [
    "## Importing Data and Merging\n",
    "Do work here"
   ]
  },
  {
   "cell_type": "code",
   "execution_count": 2,
   "metadata": {
    "ExecuteTime": {
     "end_time": "2019-09-11T13:53:42.659931Z",
     "start_time": "2019-09-11T13:53:42.316624Z"
    },
    "hidden": true
   },
   "outputs": [],
   "source": [
    "county_income = pd.read_pickle('../../data/02_intermediate/county_mobility_incomeOnly') \n",
    "county_health = pd.read_pickle('../../data/02_intermediate/county_measures')"
   ]
  },
  {
   "cell_type": "code",
   "execution_count": 46,
   "metadata": {
    "ExecuteTime": {
     "end_time": "2019-09-11T14:58:45.520009Z",
     "start_time": "2019-09-11T14:58:45.463774Z"
    },
    "hidden": true
   },
   "outputs": [
    {
     "data": {
      "text/plain": [
       "(3222, 39)"
      ]
     },
     "execution_count": 46,
     "metadata": {},
     "output_type": "execute_result"
    }
   ],
   "source": [
    "county_merged.shape"
   ]
  },
  {
   "cell_type": "code",
   "execution_count": 14,
   "metadata": {
    "ExecuteTime": {
     "end_time": "2019-09-11T14:18:17.871141Z",
     "start_time": "2019-09-11T14:18:17.822746Z"
    },
    "hidden": true
   },
   "outputs": [],
   "source": [
    "county_income.set_index(\"County FIPS Code\", drop=False, inplace=True)"
   ]
  },
  {
   "cell_type": "code",
   "execution_count": 17,
   "metadata": {
    "ExecuteTime": {
     "end_time": "2019-09-11T14:27:51.542097Z",
     "start_time": "2019-09-11T14:27:51.483762Z"
    },
    "hidden": true
   },
   "outputs": [],
   "source": [
    "county_merged = county_health.merge(county_income, how='outer', left_index=True, right_index=True)"
   ]
  },
  {
   "cell_type": "code",
   "execution_count": 21,
   "metadata": {
    "ExecuteTime": {
     "end_time": "2019-09-11T14:31:36.049590Z",
     "start_time": "2019-09-11T14:31:35.682565Z"
    },
    "hidden": true
   },
   "outputs": [],
   "source": [
    "# Rearranging Columns \n",
    "cols = list(county_merged.columns)"
   ]
  },
  {
   "cell_type": "code",
   "execution_count": 23,
   "metadata": {
    "ExecuteTime": {
     "end_time": "2019-09-11T14:36:19.971407Z",
     "start_time": "2019-09-11T14:36:19.894218Z"
    },
    "hidden": true
   },
   "outputs": [],
   "source": [
    "columns = ['County FIPS Code','County Name',\n",
    " 'Commuting Zone ID','Commuting Zone Name ',\n",
    " 'State','Target', 'rank_diff', 'Number of Children in Core Sample',\n",
    " 'Rank-Rank Slope','Absolute Upward Mobility',\n",
    " 'Top 1% Income Share','Interquartile Income Range', 'Share Between p25 and p75',\n",
    " 'Mean Parent Income', 'Mean Child Income','Parent Income P25',\n",
    " 'Child Income P25', 'Median Parent Income', 'Median Child Income','Parent Income P75',\n",
    " 'Child Income P75', 'Parent Income P90', 'Child Income P90', 'Parent Income P99',\n",
    " 'Child Income P99', 'Gini',\n",
    " 'Teenage Birth Rate', 'Adult obesity','Children in poverty',\n",
    " 'Daily fine particulate matter','Diabetic screening',\n",
    " 'Mammography screening','Physical inactivity',\n",
    " 'Premature Death','Preventable hospital stays',\n",
    " 'Sexually transmitted infections', 'Unemployment',\n",
    " 'Uninsured','Violent crime rate']"
   ]
  },
  {
   "cell_type": "code",
   "execution_count": 24,
   "metadata": {
    "ExecuteTime": {
     "end_time": "2019-09-11T14:38:19.024157Z",
     "start_time": "2019-09-11T14:38:18.962052Z"
    },
    "hidden": true,
    "scrolled": true
   },
   "outputs": [],
   "source": [
    "county_merged = county_merged[columns]"
   ]
  },
  {
   "cell_type": "code",
   "execution_count": 26,
   "metadata": {
    "ExecuteTime": {
     "end_time": "2019-09-11T14:41:58.520007Z",
     "start_time": "2019-09-11T14:41:58.172344Z"
    },
    "hidden": true
   },
   "outputs": [],
   "source": [
    "# Need to decide on features for next model\n",
    "\n",
    "features = ['Top 1% Income Share','Interquartile Income Range', 'Share Between p25 and p75',\n",
    "            'Mean Parent Income', 'Parent Income P25', 'Median Parent Income', 'Parent Income P75',\n",
    "            'Parent Income P90', 'Parent Income P99',  'Teenage Birth Rate', 'Adult obesity','Children in poverty',\n",
    "            'Daily fine particulate matter','Diabetic screening',\n",
    "            'Mammography screening','Physical inactivity',\n",
    "            'Premature Death','Preventable hospital stays',\n",
    "            'Sexually transmitted infections', 'Unemployment',\n",
    "            'Uninsured','Violent crime rate']"
   ]
  },
  {
   "cell_type": "markdown",
   "metadata": {},
   "source": [
    "# Handling Null Values\n",
    "\n",
    "\n",
    "There appear to be 81 counties for which no information exists. \n",
    "I will drop those rows, first. "
   ]
  },
  {
   "cell_type": "code",
   "execution_count": 42,
   "metadata": {
    "ExecuteTime": {
     "end_time": "2019-09-11T14:55:20.390342Z",
     "start_time": "2019-09-11T14:55:20.294369Z"
    }
   },
   "outputs": [
    {
     "data": {
      "text/html": [
       "<div>\n",
       "<style scoped>\n",
       "    .dataframe tbody tr th:only-of-type {\n",
       "        vertical-align: middle;\n",
       "    }\n",
       "\n",
       "    .dataframe tbody tr th {\n",
       "        vertical-align: top;\n",
       "    }\n",
       "\n",
       "    .dataframe thead th {\n",
       "        text-align: right;\n",
       "    }\n",
       "</style>\n",
       "<table border=\"1\" class=\"dataframe\">\n",
       "  <thead>\n",
       "    <tr style=\"text-align: right;\">\n",
       "      <th></th>\n",
       "      <th>County FIPS Code</th>\n",
       "      <th>County Name</th>\n",
       "      <th>Commuting Zone ID</th>\n",
       "      <th>Commuting Zone Name</th>\n",
       "      <th>State</th>\n",
       "      <th>Target</th>\n",
       "      <th>rank_diff</th>\n",
       "      <th>Number of Children in Core Sample</th>\n",
       "      <th>Rank-Rank Slope</th>\n",
       "      <th>Absolute Upward Mobility</th>\n",
       "      <th>Top 1% Income Share</th>\n",
       "      <th>Interquartile Income Range</th>\n",
       "      <th>Share Between p25 and p75</th>\n",
       "      <th>Mean Parent Income</th>\n",
       "      <th>Mean Child Income</th>\n",
       "      <th>Parent Income P25</th>\n",
       "      <th>Child Income P25</th>\n",
       "      <th>Median Parent Income</th>\n",
       "      <th>Median Child Income</th>\n",
       "      <th>Parent Income P75</th>\n",
       "      <th>Child Income P75</th>\n",
       "      <th>Parent Income P90</th>\n",
       "      <th>Child Income P90</th>\n",
       "      <th>Parent Income P99</th>\n",
       "      <th>Child Income P99</th>\n",
       "      <th>Gini</th>\n",
       "      <th>Teenage Birth Rate</th>\n",
       "      <th>Adult obesity</th>\n",
       "      <th>Children in poverty</th>\n",
       "      <th>Daily fine particulate matter</th>\n",
       "      <th>Diabetic screening</th>\n",
       "      <th>Mammography screening</th>\n",
       "      <th>Physical inactivity</th>\n",
       "      <th>Premature Death</th>\n",
       "      <th>Preventable hospital stays</th>\n",
       "      <th>Sexually transmitted infections</th>\n",
       "      <th>Unemployment</th>\n",
       "      <th>Uninsured</th>\n",
       "      <th>Violent crime rate</th>\n",
       "    </tr>\n",
       "  </thead>\n",
       "  <tbody>\n",
       "    <tr>\n",
       "      <th>01001</th>\n",
       "      <td>01001</td>\n",
       "      <td>Autauga</td>\n",
       "      <td>11101</td>\n",
       "      <td>Montgomery</td>\n",
       "      <td>Alabama</td>\n",
       "      <td>0.0</td>\n",
       "      <td>13.38125</td>\n",
       "      <td>1846.0</td>\n",
       "      <td>0.44377</td>\n",
       "      <td>38.38125</td>\n",
       "      <td>0.06143</td>\n",
       "      <td>60882.38</td>\n",
       "      <td>0.51950</td>\n",
       "      <td>64000.0</td>\n",
       "      <td>45200.0</td>\n",
       "      <td>26900.0</td>\n",
       "      <td>13700.0</td>\n",
       "      <td>53900.0</td>\n",
       "      <td>31900.0</td>\n",
       "      <td>87700.0</td>\n",
       "      <td>62100.0</td>\n",
       "      <td>121600.0</td>\n",
       "      <td>90400.0</td>\n",
       "      <td>227400.0</td>\n",
       "      <td>158000.0</td>\n",
       "      <td>0.38059</td>\n",
       "      <td>0.17811</td>\n",
       "      <td>0.305000</td>\n",
       "      <td>0.159833</td>\n",
       "      <td>14.274444</td>\n",
       "      <td>0.843036</td>\n",
       "      <td>0.660176</td>\n",
       "      <td>0.317714</td>\n",
       "      <td>9014.691083</td>\n",
       "      <td>81.524265</td>\n",
       "      <td>382.48</td>\n",
       "      <td>0.052452</td>\n",
       "      <td>0.13675</td>\n",
       "      <td>285.526166</td>\n",
       "    </tr>\n",
       "    <tr>\n",
       "      <th>01003</th>\n",
       "      <td>01003</td>\n",
       "      <td>Baldwin</td>\n",
       "      <td>11001</td>\n",
       "      <td>Mobile</td>\n",
       "      <td>Alabama</td>\n",
       "      <td>0.0</td>\n",
       "      <td>14.64750</td>\n",
       "      <td>5061.0</td>\n",
       "      <td>0.33610</td>\n",
       "      <td>39.64750</td>\n",
       "      <td>0.12719</td>\n",
       "      <td>63853.73</td>\n",
       "      <td>0.49911</td>\n",
       "      <td>75300.0</td>\n",
       "      <td>42500.0</td>\n",
       "      <td>26600.0</td>\n",
       "      <td>13400.0</td>\n",
       "      <td>53600.0</td>\n",
       "      <td>30200.0</td>\n",
       "      <td>90500.0</td>\n",
       "      <td>59500.0</td>\n",
       "      <td>135600.0</td>\n",
       "      <td>93900.0</td>\n",
       "      <td>444500.0</td>\n",
       "      <td>194500.0</td>\n",
       "      <td>0.49101</td>\n",
       "      <td>0.16965</td>\n",
       "      <td>0.255143</td>\n",
       "      <td>0.168167</td>\n",
       "      <td>13.030000</td>\n",
       "      <td>0.807022</td>\n",
       "      <td>0.699972</td>\n",
       "      <td>0.259429</td>\n",
       "      <td>8238.328250</td>\n",
       "      <td>61.212165</td>\n",
       "      <td>269.98</td>\n",
       "      <td>0.053675</td>\n",
       "      <td>0.18000</td>\n",
       "      <td>219.144893</td>\n",
       "    </tr>\n",
       "    <tr>\n",
       "      <th>01005</th>\n",
       "      <td>01005</td>\n",
       "      <td>Barbour</td>\n",
       "      <td>10301</td>\n",
       "      <td>Eufaula</td>\n",
       "      <td>Alabama</td>\n",
       "      <td>0.0</td>\n",
       "      <td>11.11125</td>\n",
       "      <td>1129.0</td>\n",
       "      <td>0.39817</td>\n",
       "      <td>36.11125</td>\n",
       "      <td>0.09734</td>\n",
       "      <td>41923.99</td>\n",
       "      <td>0.40833</td>\n",
       "      <td>50000.0</td>\n",
       "      <td>32700.0</td>\n",
       "      <td>18900.0</td>\n",
       "      <td>10400.0</td>\n",
       "      <td>32000.0</td>\n",
       "      <td>22400.0</td>\n",
       "      <td>60800.0</td>\n",
       "      <td>44600.0</td>\n",
       "      <td>105600.0</td>\n",
       "      <td>75800.0</td>\n",
       "      <td>235700.0</td>\n",
       "      <td>153400.0</td>\n",
       "      <td>0.49161</td>\n",
       "      <td>0.23842</td>\n",
       "      <td>0.357571</td>\n",
       "      <td>0.334500</td>\n",
       "      <td>13.337778</td>\n",
       "      <td>0.851276</td>\n",
       "      <td>0.644598</td>\n",
       "      <td>0.347143</td>\n",
       "      <td>10094.078750</td>\n",
       "      <td>99.538616</td>\n",
       "      <td>657.64</td>\n",
       "      <td>0.081930</td>\n",
       "      <td>0.17925</td>\n",
       "      <td>161.964226</td>\n",
       "    </tr>\n",
       "    <tr>\n",
       "      <th>01007</th>\n",
       "      <td>01007</td>\n",
       "      <td>Bibb</td>\n",
       "      <td>10801</td>\n",
       "      <td>Tuscaloosa</td>\n",
       "      <td>Alabama</td>\n",
       "      <td>0.0</td>\n",
       "      <td>14.08400</td>\n",
       "      <td>841.0</td>\n",
       "      <td>0.43440</td>\n",
       "      <td>39.08400</td>\n",
       "      <td>0.06622</td>\n",
       "      <td>52495.53</td>\n",
       "      <td>0.46136</td>\n",
       "      <td>49600.0</td>\n",
       "      <td>38300.0</td>\n",
       "      <td>18300.0</td>\n",
       "      <td>11600.0</td>\n",
       "      <td>36500.0</td>\n",
       "      <td>26800.0</td>\n",
       "      <td>70800.0</td>\n",
       "      <td>57100.0</td>\n",
       "      <td>98300.0</td>\n",
       "      <td>89300.0</td>\n",
       "      <td>204300.0</td>\n",
       "      <td>165600.0</td>\n",
       "      <td>0.41776</td>\n",
       "      <td>0.22500</td>\n",
       "      <td>0.319000</td>\n",
       "      <td>0.250833</td>\n",
       "      <td>14.602222</td>\n",
       "      <td>0.824369</td>\n",
       "      <td>0.614891</td>\n",
       "      <td>0.345714</td>\n",
       "      <td>11553.562167</td>\n",
       "      <td>96.759406</td>\n",
       "      <td>339.28</td>\n",
       "      <td>0.065983</td>\n",
       "      <td>0.17275</td>\n",
       "      <td>221.167323</td>\n",
       "    </tr>\n",
       "    <tr>\n",
       "      <th>01009</th>\n",
       "      <td>01009</td>\n",
       "      <td>Blount</td>\n",
       "      <td>10700</td>\n",
       "      <td>Birmingham</td>\n",
       "      <td>Alabama</td>\n",
       "      <td>0.0</td>\n",
       "      <td>16.97575</td>\n",
       "      <td>1224.0</td>\n",
       "      <td>0.31711</td>\n",
       "      <td>41.97575</td>\n",
       "      <td>0.06281</td>\n",
       "      <td>46597.95</td>\n",
       "      <td>0.59722</td>\n",
       "      <td>57300.0</td>\n",
       "      <td>40900.0</td>\n",
       "      <td>28100.0</td>\n",
       "      <td>13900.0</td>\n",
       "      <td>50200.0</td>\n",
       "      <td>33200.0</td>\n",
       "      <td>74700.0</td>\n",
       "      <td>61300.0</td>\n",
       "      <td>101400.0</td>\n",
       "      <td>87000.0</td>\n",
       "      <td>213900.0</td>\n",
       "      <td>159800.0</td>\n",
       "      <td>0.33367</td>\n",
       "      <td>0.20429</td>\n",
       "      <td>0.299143</td>\n",
       "      <td>0.185333</td>\n",
       "      <td>14.348889</td>\n",
       "      <td>0.819018</td>\n",
       "      <td>0.651641</td>\n",
       "      <td>0.325714</td>\n",
       "      <td>8729.983917</td>\n",
       "      <td>98.327998</td>\n",
       "      <td>113.02</td>\n",
       "      <td>0.052737</td>\n",
       "      <td>0.19075</td>\n",
       "      <td>162.537352</td>\n",
       "    </tr>\n",
       "  </tbody>\n",
       "</table>\n",
       "</div>"
      ],
      "text/plain": [
       "      County FIPS Code County Name Commuting Zone ID Commuting Zone Name   \\\n",
       "01001            01001     Autauga             11101           Montgomery   \n",
       "01003            01003     Baldwin             11001               Mobile   \n",
       "01005            01005     Barbour             10301              Eufaula   \n",
       "01007            01007        Bibb             10801           Tuscaloosa   \n",
       "01009            01009      Blount             10700           Birmingham   \n",
       "\n",
       "         State  Target  rank_diff  Number of Children in Core Sample  \\\n",
       "01001  Alabama     0.0   13.38125                             1846.0   \n",
       "01003  Alabama     0.0   14.64750                             5061.0   \n",
       "01005  Alabama     0.0   11.11125                             1129.0   \n",
       "01007  Alabama     0.0   14.08400                              841.0   \n",
       "01009  Alabama     0.0   16.97575                             1224.0   \n",
       "\n",
       "       Rank-Rank Slope  Absolute Upward Mobility  Top 1% Income Share  \\\n",
       "01001          0.44377                  38.38125              0.06143   \n",
       "01003          0.33610                  39.64750              0.12719   \n",
       "01005          0.39817                  36.11125              0.09734   \n",
       "01007          0.43440                  39.08400              0.06622   \n",
       "01009          0.31711                  41.97575              0.06281   \n",
       "\n",
       "       Interquartile Income Range  Share Between p25 and p75  \\\n",
       "01001                    60882.38                    0.51950   \n",
       "01003                    63853.73                    0.49911   \n",
       "01005                    41923.99                    0.40833   \n",
       "01007                    52495.53                    0.46136   \n",
       "01009                    46597.95                    0.59722   \n",
       "\n",
       "       Mean Parent Income  Mean Child Income  Parent Income P25  \\\n",
       "01001             64000.0            45200.0            26900.0   \n",
       "01003             75300.0            42500.0            26600.0   \n",
       "01005             50000.0            32700.0            18900.0   \n",
       "01007             49600.0            38300.0            18300.0   \n",
       "01009             57300.0            40900.0            28100.0   \n",
       "\n",
       "       Child Income P25  Median Parent Income  Median Child Income  \\\n",
       "01001           13700.0               53900.0              31900.0   \n",
       "01003           13400.0               53600.0              30200.0   \n",
       "01005           10400.0               32000.0              22400.0   \n",
       "01007           11600.0               36500.0              26800.0   \n",
       "01009           13900.0               50200.0              33200.0   \n",
       "\n",
       "       Parent Income P75  Child Income P75  Parent Income P90  \\\n",
       "01001            87700.0           62100.0           121600.0   \n",
       "01003            90500.0           59500.0           135600.0   \n",
       "01005            60800.0           44600.0           105600.0   \n",
       "01007            70800.0           57100.0            98300.0   \n",
       "01009            74700.0           61300.0           101400.0   \n",
       "\n",
       "       Child Income P90  Parent Income P99  Child Income P99     Gini  \\\n",
       "01001           90400.0           227400.0          158000.0  0.38059   \n",
       "01003           93900.0           444500.0          194500.0  0.49101   \n",
       "01005           75800.0           235700.0          153400.0  0.49161   \n",
       "01007           89300.0           204300.0          165600.0  0.41776   \n",
       "01009           87000.0           213900.0          159800.0  0.33367   \n",
       "\n",
       "       Teenage Birth Rate  Adult obesity  Children in poverty  \\\n",
       "01001             0.17811       0.305000             0.159833   \n",
       "01003             0.16965       0.255143             0.168167   \n",
       "01005             0.23842       0.357571             0.334500   \n",
       "01007             0.22500       0.319000             0.250833   \n",
       "01009             0.20429       0.299143             0.185333   \n",
       "\n",
       "       Daily fine particulate matter  Diabetic screening  \\\n",
       "01001                      14.274444            0.843036   \n",
       "01003                      13.030000            0.807022   \n",
       "01005                      13.337778            0.851276   \n",
       "01007                      14.602222            0.824369   \n",
       "01009                      14.348889            0.819018   \n",
       "\n",
       "       Mammography screening  Physical inactivity  Premature Death  \\\n",
       "01001               0.660176             0.317714      9014.691083   \n",
       "01003               0.699972             0.259429      8238.328250   \n",
       "01005               0.644598             0.347143     10094.078750   \n",
       "01007               0.614891             0.345714     11553.562167   \n",
       "01009               0.651641             0.325714      8729.983917   \n",
       "\n",
       "       Preventable hospital stays  Sexually transmitted infections  \\\n",
       "01001                   81.524265                           382.48   \n",
       "01003                   61.212165                           269.98   \n",
       "01005                   99.538616                           657.64   \n",
       "01007                   96.759406                           339.28   \n",
       "01009                   98.327998                           113.02   \n",
       "\n",
       "       Unemployment  Uninsured  Violent crime rate  \n",
       "01001      0.052452    0.13675          285.526166  \n",
       "01003      0.053675    0.18000          219.144893  \n",
       "01005      0.081930    0.17925          161.964226  \n",
       "01007      0.065983    0.17275          221.167323  \n",
       "01009      0.052737    0.19075          162.537352  "
      ]
     },
     "execution_count": 42,
     "metadata": {},
     "output_type": "execute_result"
    }
   ],
   "source": [
    "county_merged.head()"
   ]
  },
  {
   "cell_type": "code",
   "execution_count": 50,
   "metadata": {
    "ExecuteTime": {
     "end_time": "2019-09-11T15:00:33.497379Z",
     "start_time": "2019-09-11T15:00:33.430351Z"
    }
   },
   "outputs": [
    {
     "data": {
      "text/plain": [
       "(3141, 39)"
      ]
     },
     "execution_count": 50,
     "metadata": {},
     "output_type": "execute_result"
    }
   ],
   "source": [
    "county_merged.dropna(subset=['County FIPS Code']).shape"
   ]
  },
  {
   "cell_type": "markdown",
   "metadata": {
    "heading_collapsed": true
   },
   "source": [
    "## Handling Missing Data\n",
    "Summarize findings here"
   ]
  },
  {
   "cell_type": "code",
   "execution_count": 38,
   "metadata": {
    "ExecuteTime": {
     "end_time": "2019-09-11T14:52:49.664139Z",
     "start_time": "2019-09-11T14:52:49.411218Z"
    },
    "hidden": true
   },
   "outputs": [
    {
     "data": {
      "text/plain": [
       "County FIPS Code                      81\n",
       "County Name                           81\n",
       "Commuting Zone ID                     81\n",
       "Commuting Zone Name                   81\n",
       "State                                 81\n",
       "Target                                81\n",
       "rank_diff                            453\n",
       "Number of Children in Core Sample    453\n",
       "Rank-Rank Slope                      453\n",
       "Absolute Upward Mobility             453\n",
       "Top 1% Income Share                  453\n",
       "Interquartile Income Range           453\n",
       "Share Between p25 and p75            453\n",
       "Mean Parent Income                   453\n",
       "Mean Child Income                    453\n",
       "                                    ... \n",
       "Child Income P99                     453\n",
       "Gini                                 453\n",
       "Teenage Birth Rate                   453\n",
       "Adult obesity                         81\n",
       "Children in poverty                   81\n",
       "Daily fine particulate matter        115\n",
       "Diabetic screening                   114\n",
       "Mammography screening                142\n",
       "Physical inactivity                   81\n",
       "Premature Death                      132\n",
       "Preventable hospital stays           113\n",
       "Sexually transmitted infections       81\n",
       "Unemployment                           4\n",
       "Uninsured                             80\n",
       "Violent crime rate                   181\n",
       "Length: 39, dtype: int64"
      ]
     },
     "execution_count": 38,
     "metadata": {},
     "output_type": "execute_result"
    }
   ],
   "source": [
    "county_merged.isna().sum()"
   ]
  },
  {
   "cell_type": "code",
   "execution_count": 51,
   "metadata": {
    "ExecuteTime": {
     "end_time": "2019-09-11T15:02:18.881552Z",
     "start_time": "2019-09-11T15:02:17.761081Z"
    },
    "hidden": true
   },
   "outputs": [],
   "source": [
    "import missingno"
   ]
  },
  {
   "cell_type": "markdown",
   "metadata": {
    "hidden": true
   },
   "source": [
    "### Reviewing Missing Data \n",
    "\n",
    "1. Make dataframe that drops all missing values\n",
    "1. Make dataframe that imputes missing income data, reset Target. "
   ]
  },
  {
   "cell_type": "code",
   "execution_count": 52,
   "metadata": {
    "ExecuteTime": {
     "end_time": "2019-09-11T15:02:40.558584Z",
     "start_time": "2019-09-11T15:02:39.612647Z"
    },
    "hidden": true
   },
   "outputs": [
    {
     "data": {
      "text/plain": [
       "<matplotlib.axes._subplots.AxesSubplot at 0x1c2f244b38>"
      ]
     },
     "execution_count": 52,
     "metadata": {},
     "output_type": "execute_result"
    },
    {
     "data": {
      "image/png": "[encoded data removed]",
      "text/plain": [
       "<Figure size 1800x720 with 2 Axes>"
      ]
     },
     "metadata": {
      "needs_background": "light"
     },
     "output_type": "display_data"
    }
   ],
   "source": [
    "missingno.matrix(county_merged)"
   ]
  },
  {
   "cell_type": "code",
   "execution_count": 58,
   "metadata": {
    "ExecuteTime": {
     "end_time": "2019-09-11T15:26:26.125087Z",
     "start_time": "2019-09-11T15:26:26.066744Z"
    },
    "hidden": true
   },
   "outputs": [],
   "source": [
    "# Dropping all null values\n",
    "merged_DropNA_all = county_merged.dropna() # Rows remaining = 2688"
   ]
  },
  {
   "cell_type": "code",
   "execution_count": 54,
   "metadata": {
    "ExecuteTime": {
     "end_time": "2019-09-11T15:20:03.526491Z",
     "start_time": "2019-09-11T15:20:03.123873Z"
    },
    "hidden": true
   },
   "outputs": [],
   "source": [
    "# Imputing perserves 3141 rows of data\n",
    "median = dict(county_merged.describe().loc['50%',:])\n",
    "county_imp_median = county_merged.fillna(value = median)\n"
   ]
  },
  {
   "cell_type": "code",
   "execution_count": 57,
   "metadata": {
    "ExecuteTime": {
     "end_time": "2019-09-11T15:25:55.092116Z",
     "start_time": "2019-09-11T15:25:54.833854Z"
    },
    "hidden": true
   },
   "outputs": [],
   "source": [
    "county_merged_imputed = county_imp_median.dropna()"
   ]
  },
  {
   "cell_type": "markdown",
   "metadata": {
    "hidden": true
   },
   "source": [
    "#### Checking that Target is correct and there for all the rows"
   ]
  },
  {
   "cell_type": "code",
   "execution_count": 60,
   "metadata": {
    "ExecuteTime": {
     "end_time": "2019-09-11T15:30:38.446043Z",
     "start_time": "2019-09-11T15:30:38.308781Z"
    },
    "hidden": true
   },
   "outputs": [],
   "source": [
    "check = county_merged_imputed['Absolute Upward Mobility'] - 25\n"
   ]
  },
  {
   "cell_type": "code",
   "execution_count": 63,
   "metadata": {
    "ExecuteTime": {
     "end_time": "2019-09-11T15:31:49.722432Z",
     "start_time": "2019-09-11T15:31:49.665955Z"
    },
    "hidden": true
   },
   "outputs": [
    {
     "data": {
      "text/plain": [
       "3141"
      ]
     },
     "execution_count": 63,
     "metadata": {},
     "output_type": "execute_result"
    }
   ],
   "source": [
    "(county_merged_imputed['rank_diff']==check).sum()"
   ]
  },
  {
   "cell_type": "code",
   "execution_count": 64,
   "metadata": {
    "ExecuteTime": {
     "end_time": "2019-09-11T15:33:32.044578Z",
     "start_time": "2019-09-11T15:33:31.786363Z"
    },
    "hidden": true
   },
   "outputs": [],
   "source": [
    "check2 = (county_merged_imputed.rank_diff >= 25).astype('int')"
   ]
  },
  {
   "cell_type": "code",
   "execution_count": 65,
   "metadata": {
    "ExecuteTime": {
     "end_time": "2019-09-11T15:34:01.055692Z",
     "start_time": "2019-09-11T15:34:00.929742Z"
    },
    "hidden": true
   },
   "outputs": [
    {
     "data": {
      "text/plain": [
       "3141"
      ]
     },
     "execution_count": 65,
     "metadata": {},
     "output_type": "execute_result"
    }
   ],
   "source": [
    "(county_merged_imputed['Target']==check2).sum()"
   ]
  },
  {
   "cell_type": "code",
   "execution_count": 67,
   "metadata": {
    "ExecuteTime": {
     "end_time": "2019-09-11T15:55:50.641979Z",
     "start_time": "2019-09-11T15:55:49.991475Z"
    },
    "hidden": true
   },
   "outputs": [],
   "source": [
    "# Excellent! No more missing values and data is labeled appropriately\n",
    "#county_merged_imputed.isna().sum()"
   ]
  },
  {
   "cell_type": "markdown",
   "metadata": {},
   "source": [
    "## Exporting New Dataframes"
   ]
  },
  {
   "cell_type": "code",
   "execution_count": 68,
   "metadata": {
    "ExecuteTime": {
     "end_time": "2019-09-11T16:50:58.231768Z",
     "start_time": "2019-09-11T16:50:57.488045Z"
    }
   },
   "outputs": [],
   "source": [
    "county_merged_imputed.to_pickle('../../data/03_processed/county_merged_imputed')\n",
    "merged_DropNA_all.to_pickle('../../data/03_processed/county_merged_dropped_NaNs')"
   ]
  },
  {
   "cell_type": "code",
   "execution_count": null,
   "metadata": {},
   "outputs": [],
   "source": []
  }
 ],
 "metadata": {
  "kernelspec": {
   "display_name": "Python 3",
   "language": "python",
   "name": "python3"
  },
  "language_info": {
   "codemirror_mode": {
    "name": "ipython",
    "version": 3
   },
   "file_extension": ".py",
   "mimetype": "text/x-python",
   "name": "python",
   "nbconvert_exporter": "python",
   "pygments_lexer": "ipython3",
   "version": "3.7.3"
  },
  "toc": {
   "base_numbering": 1,
   "nav_menu": {},
   "number_sections": true,
   "sideBar": true,
   "skip_h1_title": true,
   "title_cell": "Table of Contents",
   "title_sidebar": "Contents",
   "toc_cell": false,
   "toc_position": {},
   "toc_section_display": true,
   "toc_window_display": false
  }
 },
 "nbformat": 4,
 "nbformat_minor": 2
}
