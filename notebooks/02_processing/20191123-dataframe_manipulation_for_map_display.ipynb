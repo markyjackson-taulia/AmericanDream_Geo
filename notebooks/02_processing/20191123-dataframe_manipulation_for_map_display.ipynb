{
 "cells": [
  {
   "cell_type": "markdown",
   "metadata": {},
   "source": [
    "# Manipulating Dataframe & GeoJSON files for map display"
   ]
  },
  {
   "cell_type": "markdown",
   "metadata": {},
   "source": [
    "### Imports\n",
    "Import libraries and write settings here."
   ]
  },
  {
   "cell_type": "code",
   "execution_count": 1,
   "metadata": {
    "ExecuteTime": {
     "end_time": "2019-11-25T04:01:12.572141Z",
     "start_time": "2019-11-25T04:01:10.160305Z"
    }
   },
   "outputs": [],
   "source": [
    "# Data manipulation\n",
    "import pandas as pd\n",
    "import numpy as np\n",
    "import pickle"
   ]
  },
  {
   "cell_type": "markdown",
   "metadata": {},
   "source": [
    "Steps:\n",
    "\n",
    " - import county json dictionary\n",
    " - import merged, imputed dataframe with all metrics\n",
    " - add columns to metrics dataframe to have top 3 features displayed as percentages\n",
    " - convert dataframe to dictionary and update county json "
   ]
  },
  {
   "cell_type": "markdown",
   "metadata": {},
   "source": [
    "# Results\n",
    "Show graphs and stats here"
   ]
  },
  {
   "cell_type": "code",
   "execution_count": 6,
   "metadata": {
    "ExecuteTime": {
     "end_time": "2019-11-23T16:42:53.023101Z",
     "start_time": "2019-11-23T16:42:52.978918Z"
    }
   },
   "outputs": [
    {
     "data": {
      "text/plain": [
       "dict_keys(['GEO_ID', 'STATE', 'COUNTY', 'NAME', 'LSAD', 'CENSUSAREA'])"
      ]
     },
     "execution_count": 6,
     "metadata": {},
     "output_type": "execute_result"
    }
   ],
   "source": [
    "county_json[\"features\"][0]['properties'].keys()"
   ]
  },
  {
   "cell_type": "code",
   "execution_count": 2,
   "metadata": {
    "ExecuteTime": {
     "end_time": "2019-11-25T04:01:21.261136Z",
     "start_time": "2019-11-25T04:01:20.339608Z"
    }
   },
   "outputs": [],
   "source": [
    "## GeoJSON shape files\n",
    "\n",
    "us_county_json = '../../data/01_raw/gz_2010_us_050_00_500k.json'\n",
    "with open(us_county_json, encoding=\"ISO-8859-1\") as json_file:\n",
    "    county_json = json.loads(json_file.read())"
   ]
  },
  {
   "cell_type": "code",
   "execution_count": 3,
   "metadata": {
    "ExecuteTime": {
     "end_time": "2019-11-25T04:01:24.463770Z",
     "start_time": "2019-11-25T04:01:24.420528Z"
    }
   },
   "outputs": [],
   "source": [
    "## County metrics \n",
    "data_imp = pd.read_pickle('../../data/03_processed/county_imp_geo')\n"
   ]
  },
  {
   "cell_type": "code",
   "execution_count": 33,
   "metadata": {
    "ExecuteTime": {
     "end_time": "2019-11-25T03:48:38.459461Z",
     "start_time": "2019-11-25T03:48:38.385415Z"
    }
   },
   "outputs": [
    {
     "data": {
      "text/plain": [
       "Index(['County FIPS Code', 'County Name', 'Commuting Zone ID',\n",
       "       'Commuting Zone Name ', 'State', 'Target', 'rank_diff',\n",
       "       'Number of Children in Core Sample', 'Rank-Rank Slope',\n",
       "       'Absolute Upward Mobility', 'Top 1% Income Share',\n",
       "       'Interquartile Income Range', 'Share Between p25 and p75',\n",
       "       'Mean Parent Income', 'Mean Child Income', 'Parent Income P25',\n",
       "       'Child Income P25', 'Median Parent Income', 'Median Child Income',\n",
       "       'Parent Income P75', 'Child Income P75', 'Parent Income P90',\n",
       "       'Child Income P90', 'Parent Income P99', 'Child Income P99', 'Gini',\n",
       "       'Teenage Birth Rate', 'Adult obesity', 'Children in poverty',\n",
       "       'Daily fine particulate matter', 'Diabetic screening',\n",
       "       'Mammography screening', 'Physical inactivity', 'Premature Death',\n",
       "       'Preventable hospital stays', 'Sexually transmitted infections',\n",
       "       'Unemployment', 'Uninsured', 'Violent crime rate', 'lat', 'lon',\n",
       "       '% Top 1% Income Share', '% Unemployment', '% Teenage Birth Rate'],\n",
       "      dtype='object')"
      ]
     },
     "execution_count": 33,
     "metadata": {},
     "output_type": "execute_result"
    }
   ],
   "source": [
    "data_imp.columns"
   ]
  },
  {
   "cell_type": "code",
   "execution_count": 4,
   "metadata": {
    "ExecuteTime": {
     "end_time": "2019-11-25T04:01:39.190572Z",
     "start_time": "2019-11-25T04:01:39.134005Z"
    }
   },
   "outputs": [],
   "source": [
    "data_imp['% Top 1% Income Share'] = round(((data_imp['Top 1% Income Share'])*100),2).astype('str')+'%'\n",
    "data_imp['% Unemployment'] = round(((data_imp['Unemployment'])*100),2).astype('str')+'%'\n",
    "data_imp['% Teenage Birth Rate'] = round(((data_imp['Teenage Birth Rate'])*100),2).astype('str')+'%'\n",
    "data_imp['% Share Between p25 and p75'] = round(((data_imp['Share Between p25 and p75'])*100),2).astype('str')+'%'\n"
   ]
  },
  {
   "cell_type": "code",
   "execution_count": null,
   "metadata": {},
   "outputs": [],
   "source": []
  },
  {
   "cell_type": "code",
   "execution_count": 5,
   "metadata": {
    "ExecuteTime": {
     "end_time": "2019-11-25T04:01:43.501370Z",
     "start_time": "2019-11-25T04:01:43.340394Z"
    }
   },
   "outputs": [],
   "source": [
    "data_dict = data_imp.to_dict(orient='records')"
   ]
  },
  {
   "cell_type": "code",
   "execution_count": 6,
   "metadata": {
    "ExecuteTime": {
     "end_time": "2019-11-25T04:01:50.800458Z",
     "start_time": "2019-11-25T04:01:46.128789Z"
    }
   },
   "outputs": [],
   "source": [
    "updated_county_json = county_json\n",
    "for county in range(len(data_dict)):\n",
    "    for idx in range(len(updated_county_json['features'])):\n",
    "        if data_dict[county]['County FIPS Code'] == updated_county_json['features'][idx]['properties']['GEO_ID']:\n",
    "            updated_county_json['features'][idx]['properties'].update(data_dict[county])\n",
    "        else: pass"
   ]
  },
  {
   "cell_type": "code",
   "execution_count": 7,
   "metadata": {
    "ExecuteTime": {
     "end_time": "2019-11-25T04:01:54.075430Z",
     "start_time": "2019-11-25T04:01:53.593729Z"
    }
   },
   "outputs": [],
   "source": [
    "data_imp.to_pickle('../../data/03_processed/all_county_metrics')\n",
    "pickle.dump(updated_county_json, open('../../data/03_processed/county_metrics_and_shapefiles.p', 'wb'))\n"
   ]
  },
  {
   "cell_type": "code",
   "execution_count": 29,
   "metadata": {
    "ExecuteTime": {
     "end_time": "2019-11-24T03:47:32.563377Z",
     "start_time": "2019-11-24T03:47:31.924727Z"
    }
   },
   "outputs": [
    {
     "data": {
      "text/plain": [
       "dict"
      ]
     },
     "execution_count": 29,
     "metadata": {},
     "output_type": "execute_result"
    }
   ],
   "source": []
  },
  {
   "cell_type": "code",
   "execution_count": null,
   "metadata": {},
   "outputs": [],
   "source": []
  }
 ],
 "metadata": {
  "kernelspec": {
   "display_name": "Python 3",
   "language": "python",
   "name": "python3"
  },
  "language_info": {
   "codemirror_mode": {
    "name": "ipython",
    "version": 3
   },
   "file_extension": ".py",
   "mimetype": "text/x-python",
   "name": "python",
   "nbconvert_exporter": "python",
   "pygments_lexer": "ipython3",
   "version": "3.7.3"
  },
  "toc": {
   "base_numbering": 1,
   "nav_menu": {},
   "number_sections": true,
   "sideBar": true,
   "skip_h1_title": false,
   "title_cell": "Table of Contents",
   "title_sidebar": "Contents",
   "toc_cell": false,
   "toc_position": {},
   "toc_section_display": true,
   "toc_window_display": false
  }
 },
 "nbformat": 4,
 "nbformat_minor": 2
}
