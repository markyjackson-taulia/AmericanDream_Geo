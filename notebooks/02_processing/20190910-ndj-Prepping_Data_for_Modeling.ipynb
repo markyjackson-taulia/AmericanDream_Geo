{
 "cells": [
  {
   "cell_type": "markdown",
   "metadata": {},
   "source": [
    "# Prepping dataset for Decision Tree/Regression Modeling\n",
    "\n",
    "Going to create one df without nulls, and another with the missing values imputed. "
   ]
  },
  {
   "cell_type": "markdown",
   "metadata": {},
   "source": [
    "### Import Libraries\n"
   ]
  },
  {
   "cell_type": "code",
   "execution_count": 26,
   "metadata": {
    "ExecuteTime": {
     "end_time": "2019-09-10T16:07:13.991195Z",
     "start_time": "2019-09-10T16:07:13.684470Z"
    }
   },
   "outputs": [],
   "source": [
    "# Data manipulation\n",
    "import pandas as pd\n",
    "import numpy as np\n",
    "from sklearn.impute import SimpleImputer"
   ]
  },
  {
   "cell_type": "code",
   "execution_count": null,
   "metadata": {},
   "outputs": [],
   "source": []
  },
  {
   "cell_type": "code",
   "execution_count": 1,
   "metadata": {
    "ExecuteTime": {
     "end_time": "2019-09-10T15:42:26.340832Z",
     "start_time": "2019-09-10T15:42:18.280047Z"
    }
   },
   "outputs": [
    {
     "data": {
      "text/html": [
       "        <script type=\"text/javascript\">\n",
       "        window.PlotlyConfig = {MathJaxConfig: 'local'};\n",
       "        if (window.MathJax) {MathJax.Hub.Config({SVG: {font: \"STIX-Web\"}});}\n",
       "        if (typeof require !== 'undefined') {\n",
       "        require.undef(\"plotly\");\n",
       "        requirejs.config({\n",
       "            paths: {\n",
       "                'plotly': ['https://cdn.plot.ly/plotly-latest.min']\n",
       "            }\n",
       "        });\n",
       "        require(['plotly'], function(Plotly) {\n",
       "            window._Plotly = Plotly;\n",
       "        });\n",
       "        }\n",
       "        </script>\n",
       "        "
      ]
     },
     "metadata": {},
     "output_type": "display_data"
    },
    {
     "data": {
      "text/html": [
       "        <script type=\"text/javascript\">\n",
       "        window.PlotlyConfig = {MathJaxConfig: 'local'};\n",
       "        if (window.MathJax) {MathJax.Hub.Config({SVG: {font: \"STIX-Web\"}});}\n",
       "        if (typeof require !== 'undefined') {\n",
       "        require.undef(\"plotly\");\n",
       "        requirejs.config({\n",
       "            paths: {\n",
       "                'plotly': ['https://cdn.plot.ly/plotly-latest.min']\n",
       "            }\n",
       "        });\n",
       "        require(['plotly'], function(Plotly) {\n",
       "            window._Plotly = Plotly;\n",
       "        });\n",
       "        }\n",
       "        </script>\n",
       "        "
      ]
     },
     "metadata": {},
     "output_type": "display_data"
    }
   ],
   "source": [
    "# Options for pandas\n",
    "pd.options.display.max_columns = 50\n",
    "pd.options.display.max_rows = 30\n",
    "\n",
    "# Display all cell outputs\n",
    "from IPython.core.interactiveshell import InteractiveShell\n",
    "InteractiveShell.ast_node_interactivity = 'all'\n",
    "\n",
    "from IPython import get_ipython\n",
    "ipython = get_ipython()\n",
    "\n",
    "# autoreload extension\n",
    "if 'autoreload' not in ipython.extension_manager.loaded:\n",
    "    %load_ext autoreload\n",
    "\n",
    "%autoreload 2\n",
    "\n",
    "# Visualizations\n",
    "import plotly.plotly as py\n",
    "import plotly.graph_objs as go\n",
    "from plotly.offline import iplot, init_notebook_mode\n",
    "init_notebook_mode(connected=True)\n",
    "\n",
    "import cufflinks as cf\n",
    "cf.go_offline(connected=True)\n",
    "cf.set_config_file(theme='white')"
   ]
  },
  {
   "cell_type": "markdown",
   "metadata": {},
   "source": [
    "### Import Data"
   ]
  },
  {
   "cell_type": "code",
   "execution_count": 65,
   "metadata": {
    "ExecuteTime": {
     "end_time": "2019-09-10T16:30:11.447463Z",
     "start_time": "2019-09-10T16:30:11.379012Z"
    }
   },
   "outputs": [],
   "source": [
    "county = pd.read_pickle('../../data/02_intermediate/county_mobility_incomeOnly')\n"
   ]
  },
  {
   "cell_type": "markdown",
   "metadata": {},
   "source": [
    "## Imputing Median/Mean of Data into rows with no data\n"
   ]
  },
  {
   "cell_type": "code",
   "execution_count": 57,
   "metadata": {
    "ExecuteTime": {
     "end_time": "2019-09-10T16:23:49.423623Z",
     "start_time": "2019-09-10T16:23:49.243099Z"
    }
   },
   "outputs": [],
   "source": [
    "median = dict(county.describe().loc['50%',:])\n",
    "mean = dict(county.describe().loc['mean',:])"
   ]
  },
  {
   "cell_type": "code",
   "execution_count": 66,
   "metadata": {
    "ExecuteTime": {
     "end_time": "2019-09-10T16:30:25.539061Z",
     "start_time": "2019-09-10T16:30:25.396966Z"
    }
   },
   "outputs": [],
   "source": [
    "county_imp_median = county.fillna(value = median)\n",
    "county_imp_mean = county.fillna(value = mean)\n"
   ]
  },
  {
   "cell_type": "code",
   "execution_count": 67,
   "metadata": {
    "ExecuteTime": {
     "end_time": "2019-09-10T16:30:27.566199Z",
     "start_time": "2019-09-10T16:30:27.473547Z"
    }
   },
   "outputs": [
    {
     "data": {
      "text/html": [
       "<div>\n",
       "<style scoped>\n",
       "    .dataframe tbody tr th:only-of-type {\n",
       "        vertical-align: middle;\n",
       "    }\n",
       "\n",
       "    .dataframe tbody tr th {\n",
       "        vertical-align: top;\n",
       "    }\n",
       "\n",
       "    .dataframe thead th {\n",
       "        text-align: right;\n",
       "    }\n",
       "</style>\n",
       "<table border=\"1\" class=\"dataframe\">\n",
       "  <thead>\n",
       "    <tr style=\"text-align: right;\">\n",
       "      <th></th>\n",
       "      <th>County FIPS Code</th>\n",
       "      <th>County Name</th>\n",
       "      <th>Commuting Zone ID</th>\n",
       "      <th>Commuting Zone Name</th>\n",
       "      <th>State</th>\n",
       "      <th>Number of Children in Core Sample</th>\n",
       "      <th>Rank-Rank Slope</th>\n",
       "      <th>Absolute Upward Mobility</th>\n",
       "      <th>Top 1% Income Share</th>\n",
       "      <th>Interquartile Income Range</th>\n",
       "      <th>Gini</th>\n",
       "      <th>Teenage Birth Rate</th>\n",
       "      <th>Share Between p25 and p75</th>\n",
       "      <th>Mean Parent Income</th>\n",
       "      <th>Mean Child Income</th>\n",
       "      <th>Parent Income P25</th>\n",
       "      <th>Child Income P25</th>\n",
       "      <th>Median Parent Income</th>\n",
       "      <th>Median Child Income</th>\n",
       "      <th>Parent Income P75</th>\n",
       "      <th>Child Income P75</th>\n",
       "      <th>Parent Income P90</th>\n",
       "      <th>Child Income P90</th>\n",
       "      <th>Parent Income P99</th>\n",
       "      <th>Child Income P99</th>\n",
       "      <th>rank_diff</th>\n",
       "      <th>Target</th>\n",
       "    </tr>\n",
       "  </thead>\n",
       "  <tbody>\n",
       "    <tr>\n",
       "      <th>0</th>\n",
       "      <td>01001</td>\n",
       "      <td>Autauga</td>\n",
       "      <td>11101</td>\n",
       "      <td>Montgomery</td>\n",
       "      <td>Alabama</td>\n",
       "      <td>1846.0</td>\n",
       "      <td>0.44377</td>\n",
       "      <td>38.38125</td>\n",
       "      <td>0.06143</td>\n",
       "      <td>60882.38</td>\n",
       "      <td>0.38059</td>\n",
       "      <td>0.17811</td>\n",
       "      <td>0.51950</td>\n",
       "      <td>64000.0</td>\n",
       "      <td>45200.0</td>\n",
       "      <td>26900.0</td>\n",
       "      <td>13700.0</td>\n",
       "      <td>53900.0</td>\n",
       "      <td>31900.0</td>\n",
       "      <td>87700.0</td>\n",
       "      <td>62100.0</td>\n",
       "      <td>121600.0</td>\n",
       "      <td>90400.0</td>\n",
       "      <td>227400.0</td>\n",
       "      <td>158000.0</td>\n",
       "      <td>13.38125</td>\n",
       "      <td>0</td>\n",
       "    </tr>\n",
       "    <tr>\n",
       "      <th>1</th>\n",
       "      <td>01003</td>\n",
       "      <td>Baldwin</td>\n",
       "      <td>11001</td>\n",
       "      <td>Mobile</td>\n",
       "      <td>Alabama</td>\n",
       "      <td>5061.0</td>\n",
       "      <td>0.33610</td>\n",
       "      <td>39.64750</td>\n",
       "      <td>0.12719</td>\n",
       "      <td>63853.73</td>\n",
       "      <td>0.49101</td>\n",
       "      <td>0.16965</td>\n",
       "      <td>0.49911</td>\n",
       "      <td>75300.0</td>\n",
       "      <td>42500.0</td>\n",
       "      <td>26600.0</td>\n",
       "      <td>13400.0</td>\n",
       "      <td>53600.0</td>\n",
       "      <td>30200.0</td>\n",
       "      <td>90500.0</td>\n",
       "      <td>59500.0</td>\n",
       "      <td>135600.0</td>\n",
       "      <td>93900.0</td>\n",
       "      <td>444500.0</td>\n",
       "      <td>194500.0</td>\n",
       "      <td>14.64750</td>\n",
       "      <td>0</td>\n",
       "    </tr>\n",
       "    <tr>\n",
       "      <th>2</th>\n",
       "      <td>01005</td>\n",
       "      <td>Barbour</td>\n",
       "      <td>10301</td>\n",
       "      <td>Eufaula</td>\n",
       "      <td>Alabama</td>\n",
       "      <td>1129.0</td>\n",
       "      <td>0.39817</td>\n",
       "      <td>36.11125</td>\n",
       "      <td>0.09734</td>\n",
       "      <td>41923.99</td>\n",
       "      <td>0.49161</td>\n",
       "      <td>0.23842</td>\n",
       "      <td>0.40833</td>\n",
       "      <td>50000.0</td>\n",
       "      <td>32700.0</td>\n",
       "      <td>18900.0</td>\n",
       "      <td>10400.0</td>\n",
       "      <td>32000.0</td>\n",
       "      <td>22400.0</td>\n",
       "      <td>60800.0</td>\n",
       "      <td>44600.0</td>\n",
       "      <td>105600.0</td>\n",
       "      <td>75800.0</td>\n",
       "      <td>235700.0</td>\n",
       "      <td>153400.0</td>\n",
       "      <td>11.11125</td>\n",
       "      <td>0</td>\n",
       "    </tr>\n",
       "    <tr>\n",
       "      <th>3</th>\n",
       "      <td>01007</td>\n",
       "      <td>Bibb</td>\n",
       "      <td>10801</td>\n",
       "      <td>Tuscaloosa</td>\n",
       "      <td>Alabama</td>\n",
       "      <td>841.0</td>\n",
       "      <td>0.43440</td>\n",
       "      <td>39.08400</td>\n",
       "      <td>0.06622</td>\n",
       "      <td>52495.53</td>\n",
       "      <td>0.41776</td>\n",
       "      <td>0.22500</td>\n",
       "      <td>0.46136</td>\n",
       "      <td>49600.0</td>\n",
       "      <td>38300.0</td>\n",
       "      <td>18300.0</td>\n",
       "      <td>11600.0</td>\n",
       "      <td>36500.0</td>\n",
       "      <td>26800.0</td>\n",
       "      <td>70800.0</td>\n",
       "      <td>57100.0</td>\n",
       "      <td>98300.0</td>\n",
       "      <td>89300.0</td>\n",
       "      <td>204300.0</td>\n",
       "      <td>165600.0</td>\n",
       "      <td>14.08400</td>\n",
       "      <td>0</td>\n",
       "    </tr>\n",
       "    <tr>\n",
       "      <th>4</th>\n",
       "      <td>01009</td>\n",
       "      <td>Blount</td>\n",
       "      <td>10700</td>\n",
       "      <td>Birmingham</td>\n",
       "      <td>Alabama</td>\n",
       "      <td>1224.0</td>\n",
       "      <td>0.31711</td>\n",
       "      <td>41.97575</td>\n",
       "      <td>0.06281</td>\n",
       "      <td>46597.95</td>\n",
       "      <td>0.33367</td>\n",
       "      <td>0.20429</td>\n",
       "      <td>0.59722</td>\n",
       "      <td>57300.0</td>\n",
       "      <td>40900.0</td>\n",
       "      <td>28100.0</td>\n",
       "      <td>13900.0</td>\n",
       "      <td>50200.0</td>\n",
       "      <td>33200.0</td>\n",
       "      <td>74700.0</td>\n",
       "      <td>61300.0</td>\n",
       "      <td>101400.0</td>\n",
       "      <td>87000.0</td>\n",
       "      <td>213900.0</td>\n",
       "      <td>159800.0</td>\n",
       "      <td>16.97575</td>\n",
       "      <td>0</td>\n",
       "    </tr>\n",
       "  </tbody>\n",
       "</table>\n",
       "</div>"
      ],
      "text/plain": [
       "  County FIPS Code County Name Commuting Zone ID Commuting Zone Name   \\\n",
       "0            01001     Autauga             11101           Montgomery   \n",
       "1            01003     Baldwin             11001               Mobile   \n",
       "2            01005     Barbour             10301              Eufaula   \n",
       "3            01007        Bibb             10801           Tuscaloosa   \n",
       "4            01009      Blount             10700           Birmingham   \n",
       "\n",
       "     State  Number of Children in Core Sample  Rank-Rank Slope  \\\n",
       "0  Alabama                             1846.0          0.44377   \n",
       "1  Alabama                             5061.0          0.33610   \n",
       "2  Alabama                             1129.0          0.39817   \n",
       "3  Alabama                              841.0          0.43440   \n",
       "4  Alabama                             1224.0          0.31711   \n",
       "\n",
       "   Absolute Upward Mobility  Top 1% Income Share  Interquartile Income Range  \\\n",
       "0                  38.38125              0.06143                    60882.38   \n",
       "1                  39.64750              0.12719                    63853.73   \n",
       "2                  36.11125              0.09734                    41923.99   \n",
       "3                  39.08400              0.06622                    52495.53   \n",
       "4                  41.97575              0.06281                    46597.95   \n",
       "\n",
       "      Gini  Teenage Birth Rate  Share Between p25 and p75  Mean Parent Income  \\\n",
       "0  0.38059             0.17811                    0.51950             64000.0   \n",
       "1  0.49101             0.16965                    0.49911             75300.0   \n",
       "2  0.49161             0.23842                    0.40833             50000.0   \n",
       "3  0.41776             0.22500                    0.46136             49600.0   \n",
       "4  0.33367             0.20429                    0.59722             57300.0   \n",
       "\n",
       "   Mean Child Income  Parent Income P25  Child Income P25  \\\n",
       "0            45200.0            26900.0           13700.0   \n",
       "1            42500.0            26600.0           13400.0   \n",
       "2            32700.0            18900.0           10400.0   \n",
       "3            38300.0            18300.0           11600.0   \n",
       "4            40900.0            28100.0           13900.0   \n",
       "\n",
       "   Median Parent Income  Median Child Income  Parent Income P75  \\\n",
       "0               53900.0              31900.0            87700.0   \n",
       "1               53600.0              30200.0            90500.0   \n",
       "2               32000.0              22400.0            60800.0   \n",
       "3               36500.0              26800.0            70800.0   \n",
       "4               50200.0              33200.0            74700.0   \n",
       "\n",
       "   Child Income P75  Parent Income P90  Child Income P90  Parent Income P99  \\\n",
       "0           62100.0           121600.0           90400.0           227400.0   \n",
       "1           59500.0           135600.0           93900.0           444500.0   \n",
       "2           44600.0           105600.0           75800.0           235700.0   \n",
       "3           57100.0            98300.0           89300.0           204300.0   \n",
       "4           61300.0           101400.0           87000.0           213900.0   \n",
       "\n",
       "   Child Income P99  rank_diff  Target  \n",
       "0          158000.0   13.38125       0  \n",
       "1          194500.0   14.64750       0  \n",
       "2          153400.0   11.11125       0  \n",
       "3          165600.0   14.08400       0  \n",
       "4          159800.0   16.97575       0  "
      ]
     },
     "execution_count": 67,
     "metadata": {},
     "output_type": "execute_result"
    }
   ],
   "source": [
    "county_imp_median.head()"
   ]
  },
  {
   "cell_type": "markdown",
   "metadata": {},
   "source": [
    "Just verified that imputing the mean of each column does not change the number of counties classified as mobile."
   ]
  },
  {
   "cell_type": "code",
   "execution_count": 68,
   "metadata": {
    "ExecuteTime": {
     "end_time": "2019-09-10T16:30:33.615694Z",
     "start_time": "2019-09-10T16:30:33.546430Z"
    }
   },
   "outputs": [
    {
     "data": {
      "text/plain": [
       "County FIPS Code                     337\n",
       "County Name                          337\n",
       "Commuting Zone ID                    337\n",
       "Commuting Zone Name                  337\n",
       "State                                337\n",
       "Number of Children in Core Sample    337\n",
       "Rank-Rank Slope                      337\n",
       "Absolute Upward Mobility             337\n",
       "Top 1% Income Share                  337\n",
       "Interquartile Income Range           337\n",
       "Gini                                 337\n",
       "Teenage Birth Rate                   337\n",
       "Share Between p25 and p75            337\n",
       "Mean Parent Income                   337\n",
       "Mean Child Income                    337\n",
       "Parent Income P25                    337\n",
       "Child Income P25                     337\n",
       "Median Parent Income                 337\n",
       "Median Child Income                  337\n",
       "Parent Income P75                    337\n",
       "Child Income P75                     337\n",
       "Parent Income P90                    337\n",
       "Child Income P90                     337\n",
       "Parent Income P99                    337\n",
       "Child Income P99                     337\n",
       "rank_diff                            337\n",
       "Target                               337\n",
       "dtype: int64"
      ]
     },
     "execution_count": 68,
     "metadata": {},
     "output_type": "execute_result"
    }
   ],
   "source": [
    "county_imp_mean.loc[county.rank_diff >= 25].count()"
   ]
  },
  {
   "cell_type": "code",
   "execution_count": 59,
   "metadata": {
    "ExecuteTime": {
     "end_time": "2019-09-10T16:28:13.000893Z",
     "start_time": "2019-09-10T16:28:12.594379Z"
    }
   },
   "outputs": [
    {
     "data": {
      "text/plain": [
       "County FIPS Code                     337\n",
       "County Name                          337\n",
       "Commuting Zone ID                    337\n",
       "Commuting Zone Name                  337\n",
       "State                                337\n",
       "Number of Children in Core Sample    337\n",
       "Rank-Rank Slope                      337\n",
       "Absolute Upward Mobility             337\n",
       "Top 1% Income Share                  337\n",
       "Interquartile Income Range           337\n",
       "Gini                                 337\n",
       "Teenage Birth Rate                   337\n",
       "Share Between p25 and p75            337\n",
       "Mean Parent Income                   337\n",
       "Mean Child Income                    337\n",
       "Parent Income P25                    337\n",
       "Child Income P25                     337\n",
       "Median Parent Income                 337\n",
       "Median Child Income                  337\n",
       "Parent Income P75                    337\n",
       "Child Income P75                     337\n",
       "Parent Income P90                    337\n",
       "Child Income P90                     337\n",
       "Parent Income P99                    337\n",
       "Child Income P99                     337\n",
       "rank_diff                            337\n",
       "Target                               337\n",
       "dtype: int64"
      ]
     },
     "execution_count": 59,
     "metadata": {},
     "output_type": "execute_result"
    }
   ],
   "source": [
    "county.loc[county.rank_diff >= 25].count()"
   ]
  },
  {
   "cell_type": "markdown",
   "metadata": {},
   "source": [
    "## Results\n",
    "Show graphs and stats here"
   ]
  },
  {
   "cell_type": "markdown",
   "metadata": {},
   "source": [
    "## Conclusions and Next Steps\n",
    "Summarize findings here"
   ]
  },
  {
   "cell_type": "code",
   "execution_count": null,
   "metadata": {},
   "outputs": [],
   "source": []
  }
 ],
 "metadata": {
  "kernelspec": {
   "display_name": "Python 3",
   "language": "python",
   "name": "python3"
  },
  "language_info": {
   "codemirror_mode": {
    "name": "ipython",
    "version": 3
   },
   "file_extension": ".py",
   "mimetype": "text/x-python",
   "name": "python",
   "nbconvert_exporter": "python",
   "pygments_lexer": "ipython3",
   "version": "3.7.3"
  },
  "toc": {
   "base_numbering": 1,
   "nav_menu": {},
   "number_sections": true,
   "sideBar": true,
   "skip_h1_title": true,
   "title_cell": "Table of Contents",
   "title_sidebar": "Contents",
   "toc_cell": false,
   "toc_position": {},
   "toc_section_display": true,
   "toc_window_display": false
  }
 },
 "nbformat": 4,
 "nbformat_minor": 2
}
