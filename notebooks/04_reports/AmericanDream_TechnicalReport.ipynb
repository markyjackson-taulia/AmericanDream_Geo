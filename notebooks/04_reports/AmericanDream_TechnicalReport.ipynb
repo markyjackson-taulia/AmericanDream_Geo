{
 "cells": [
  {
   "cell_type": "markdown",
   "metadata": {},
   "source": [
    "# Full Technical Report: Where's the American Dream?\n",
    "**_Exploring Intergenerational Economic Mobility by U.S. County_**\n",
    "\n",
    "Nateé Johnson  \n",
    "January 2020"
   ]
  },
  {
   "cell_type": "markdown",
   "metadata": {},
   "source": [
    "### Overview"
   ]
  },
  {
   "cell_type": "markdown",
   "metadata": {},
   "source": [
    "The goal of the project was to model and visualize Absolute Upward Mobility (AUM) by county as a function of location-specific characteristics. The aim was to determine which features of a county elevated a low-income child’s opportunity to achieve greater economic outcomes than their parents. My approach was to make a definition of what it meant for a county to be a hotbed of opportunity (a.k.a “Mobile”) versus a place where average upward mobility is hampered (a.k.a “Not Mobile”).  Using binary classification models, I looked at “feature importance” to determine which characteristics of a child’s neighborhood impact their economic outcomes.\n",
    "Using SciKit-learn in python, I found my Random Forest classifier had greater distinguishing power than my logistic regression model. I encountered missing data (missingno library) and class imbalances (~10% of the counties met the criteria to be labeled as “Mobile”). To address this, I experimented with SMOTE (Synthetic Minority Oversampling Technique) - but found that imputing the median yielded comparable results and was more interpretable. I accounted for the class imbalance within the Random Forest classifier using the ‘class_weight’ parameter. I used python’s Folium library to generate a multi-layer choropleth map with pop-up markers and a dynamic tooltip. \n",
    "Prior to modeling and visualizing, I spent a significant amount of time studying the datasets and becoming more familiar with the topic area, which was new to me. I used Pandas to clean data from Opportunity Insights and County Health Rankings, and merged them on the FIPScode (after some fun string manipulation techniques to get them in the same format). Opportunity Insights is a massive effort exploring the topic of Intergenerational Economic Mobility. Researchers from Harvard University, Brown University and the Census Bureau, compiled decades of data from tax returns, W-2s, and U.S. census survey results to link parents and children. Looking at parents’ income and their age at childbirth, they traced those children to adulthood and captured their income at a comparable age. To create my map, I had to reformat the dataframe to fit the structure of the county’s GeoJSON file. This was an important step that allowed the information for each county to be dynamically called from the dataframe as a user hovers over the relevant spatial area. Full functionality of each layer is experienced when viewed singularly. (https://nateej1.github.io/AmericanDream_Geo/)"
   ]
  },
  {
   "cell_type": "markdown",
   "metadata": {},
   "source": [
    "### Imports\n",
    "Import libraries and write settings here."
   ]
  },
  {
   "cell_type": "markdown",
   "metadata": {
    "heading_collapsed": true
   },
   "source": [
    "#### External Libraries & Packages"
   ]
  },
  {
   "cell_type": "code",
   "execution_count": 4,
   "metadata": {
    "ExecuteTime": {
     "end_time": "2020-02-24T15:53:35.480322Z",
     "start_time": "2020-02-24T15:53:23.174657Z"
    },
    "code_folding": [],
    "hidden": true
   },
   "outputs": [
    {
     "data": {
      "text/html": [
       "        <script type=\"text/javascript\">\n",
       "        window.PlotlyConfig = {MathJaxConfig: 'local'};\n",
       "        if (window.MathJax) {MathJax.Hub.Config({SVG: {font: \"STIX-Web\"}});}\n",
       "        if (typeof require !== 'undefined') {\n",
       "        require.undef(\"plotly\");\n",
       "        requirejs.config({\n",
       "            paths: {\n",
       "                'plotly': ['https://cdn.plot.ly/plotly-latest.min']\n",
       "            }\n",
       "        });\n",
       "        require(['plotly'], function(Plotly) {\n",
       "            window._Plotly = Plotly;\n",
       "        });\n",
       "        }\n",
       "        </script>\n",
       "        "
      ]
     },
     "metadata": {},
     "output_type": "display_data"
    }
   ],
   "source": [
    "# Data manipulation\n",
    "import pandas as pd\n",
    "import pickle\n",
    "import numpy as np\n",
    "from pandas_profiling import ProfileReport\n",
    "import os\n",
    "import sys\n",
    "\n",
    "# Options for pandas\n",
    "pd.options.display.max_columns = 50\n",
    "pd.options.display.max_rows = 30\n",
    "\n",
    "\n",
    "# Visualizations\n",
    "import chart_studio.plotly as py\n",
    "import folium\n",
    "import matplotlib.pyplot as plt\n",
    "import seaborn as sns\n",
    "import plotly.graph_objs as go\n",
    "from plotly.offline import iplot, init_notebook_mode\n",
    "init_notebook_mode(connected=True)\n",
    "\n",
    "# Anaylsis & Modeling Packages\n",
    "from imblearn.over_sampling import SMOTE\n",
    "from inspect import signature\n",
    "from scipy.special import expit\n",
    "from sklearn.model_selection import train_test_split\n",
    "from sklearn.tree import DecisionTreeClassifier, export_graphviz\n",
    "from sklearn.ensemble import RandomForestClassifier\n",
    "from sklearn.linear_model import LogisticRegression\n",
    "from sklearn.metrics import accuracy_score, roc_curve, auc, confusion_matrix, average_precision_score, precision_recall_curve, classification_report\n",
    "from sklearn import tree \n",
    "from IPython.display import Image  \n",
    "\n"
   ]
  },
  {
   "cell_type": "markdown",
   "metadata": {
    "heading_collapsed": true
   },
   "source": [
    "#### Local Scripts\n",
    "\n",
    "Import functions to produce styled confusion matrix"
   ]
  },
  {
   "cell_type": "code",
   "execution_count": 5,
   "metadata": {
    "ExecuteTime": {
     "end_time": "2020-02-24T15:53:40.563662Z",
     "start_time": "2020-02-24T15:53:40.535715Z"
    },
    "hidden": true
   },
   "outputs": [],
   "source": [
    "src_dir = os.path.join(os.getcwd(), '..', '..', 'src')\n",
    "sys.path.append(src_dir)\n",
    "\n",
    "from d04_visualisation.styled_confusion import plot_confusion_matrix"
   ]
  },
  {
   "cell_type": "markdown",
   "metadata": {},
   "source": [
    "## Data Exploration"
   ]
  },
  {
   "cell_type": "markdown",
   "metadata": {},
   "source": [
    "### Data Sources & Cleaning"
   ]
  },
  {
   "cell_type": "markdown",
   "metadata": {},
   "source": [
    "The following section defines the two data sources used in this project. The csv files were orginially inspected with Excel/Numbers. Access to the raw data is provided in [data/01_raw](../../data/01_raw) and links to original sources are provided in each section. "
   ]
  },
  {
   "cell_type": "markdown",
   "metadata": {},
   "source": [
    "#### Opportunity Insights"
   ]
  },
  {
   "cell_type": "markdown",
   "metadata": {},
   "source": [
    "**Original Study:** Where is the Land of Opportunity? *The Geography of Intergenerational Mobility in the United States*  \n",
    "**Authors:** Chetty, Hendren, Kline and Saez (2014)  \n",
    "**Publication:** Descriptive Statistics by County and Commuting Zone http://www.equality-of-opportunity.org/assets/documents/mobility_geo.pdf  \n",
    "**Data source**: http://www.equality-of-opportunity.org/data/ \n",
    "\n",
    "**Cleaning Summary:** \n",
    "- CSV provided has several sheets. Relevant data is in sheet named \"Online Data Table 3\". There is substantial metadata in top of sheet, and column headers are multi-indexed. \n",
    "- The appropriate column names are preserved by transposing the dataframe, resetting the index with the column names, dropping the level 1 index, then restoring the dataframe to a tidy format with another tranpose. \n",
    "- By transposing the dataframe, the datatypes reverted to `objects`. Changed the appropriate columns back to `float`.   \n"
   ]
  },
  {
   "cell_type": "code",
   "execution_count": null,
   "metadata": {},
   "outputs": [],
   "source": [
    "# This brings in the data while maintaing a multi-indexed column information\n",
    "county_stats = pd.read_excel('../../data/01_raw/Equality_Opportunity/online_data_tables.xls',\n",
    "                             sheet_name='Online Data Table 3',\n",
    "                             header=[29, 30])\n",
    "\n",
    "\n",
    "# Transposing dataframe to remove first level of multi-indexed column headers\n",
    "county_wo_multidx = county_stats.T.reset_index(level=1, drop=True).T\n",
    "\n",
    "\n",
    "county_mobility = pd.concat([county_wo_multidx.iloc[:, :5],\n",
    "                             county_wo_multidx.iloc[:, 5:].astype('float')], axis=1)  # Transposing the dataframe changes the datatypes, so here we restore the appropriate columns to floats"
   ]
  },
  {
   "cell_type": "markdown",
   "metadata": {},
   "source": [
    "**Additional Processing**\n",
    "\n",
    "Adding column \"rank_diff\" as my definition of a \"Mobile\" county, and making boolean column\n",
    "0 is False, meaning a county is NOT considered mobile by my definition. 2804 counties\n",
    "1 is True, meaning a county IS considered mobile. 337 counties"
   ]
  },
  {
   "cell_type": "code",
   "execution_count": null,
   "metadata": {},
   "outputs": [],
   "source": [
    "county_mobility['rank_diff'] = county_mobility['Absolute Upward Mobility'] - 25\n",
    "\n",
    "county_mobility['Target'] = (county_mobility.rank_diff >= 25).astype('int')\n",
    "\n",
    "# Padding FIPS code so the formatting will match when it's time to merge with next dataset\n",
    "county_mobility['County FIPS Code'] = county_mobility['County FIPS Code'].apply(\n",
    "    lambda x: str(x).zfill(5))  \n",
    "\n",
    "# Exporting data as pkl into new notebook for modeling\n",
    "#county_mobility.to_pickle('../../data/02_intermediate/county_mobility_incomeOnly')"
   ]
  },
  {
   "cell_type": "code",
   "execution_count": null,
   "metadata": {},
   "outputs": [],
   "source": [
    "## Using Pandas Profiling library for comprehensive look at data\n",
    "\n",
    "ProfileReport(county_mobility)"
   ]
  },
  {
   "cell_type": "markdown",
   "metadata": {},
   "source": [
    "#### County Health Rankings"
   ]
  },
  {
   "cell_type": "markdown",
   "metadata": {},
   "source": [
    "Data was originally sources from Tableau Public:  \n",
    "https://public.tableau.com/s/sites/default/files/media/County_Health_Rankings.csv\n",
    "\n",
    "Files for individual years can be found at the source:  \n",
    "https://www.countyhealthrankings.org/app/"
   ]
  },
  {
   "cell_type": "code",
   "execution_count": null,
   "metadata": {},
   "outputs": [],
   "source": [
    "# This returns cleaned County Health data\n",
    "Clean_CountyHealth_raw()"
   ]
  },
  {
   "cell_type": "markdown",
   "metadata": {},
   "source": [
    "### Data Decisions"
   ]
  },
  {
   "cell_type": "markdown",
   "metadata": {},
   "source": [
    "insert image of original data set and talk about decision to average over years '97-'02\n",
    "\n",
    "Given missing values, date ranges, etc. I will proceed using: \n",
    "\n",
    "\n"
   ]
  },
  {
   "cell_type": "code",
   "execution_count": null,
   "metadata": {},
   "outputs": [],
   "source": []
  },
  {
   "cell_type": "markdown",
   "metadata": {},
   "source": [
    "## Analysis/Modeling"
   ]
  },
  {
   "cell_type": "markdown",
   "metadata": {
    "heading_collapsed": true
   },
   "source": [
    "### Modeling on Income Data Only"
   ]
  },
  {
   "cell_type": "markdown",
   "metadata": {
    "hidden": true
   },
   "source": [
    "Decision Tree and Logistic Regression\n",
    "\n",
    "In choosing features to model on, I am conscious of data leakage and auto-correlation (?). "
   ]
  },
  {
   "cell_type": "code",
   "execution_count": null,
   "metadata": {
    "hidden": true
   },
   "outputs": [],
   "source": [
    "county_mobility = pd.read_pickle('../../data/02_intermediate/county_mobility_incomeOnly')\n",
    "county_health = pd.read_pickle('../../data/02_intermediate/county_measures')"
   ]
  },
  {
   "cell_type": "markdown",
   "metadata": {
    "heading_collapsed": true,
    "hidden": true
   },
   "source": [
    "#### Setting up data"
   ]
  },
  {
   "cell_type": "code",
   "execution_count": null,
   "metadata": {
    "hidden": true
   },
   "outputs": [],
   "source": [
    "features = [\n",
    "    'Top 1% Income Share',\n",
    "    'Interquartile Income Range',\n",
    "    'Median Parent Income'\n",
    "]\n",
    "\n",
    "X = county_mobility.dropna(subset=features, axis=0)[features]\n",
    "y = county_mobility.dropna(subset=features, axis=0)[['Target']]\n",
    "X_train, X_test, y_train, y_test = train_test_split(\n",
    "    X, y, test_size=0.3, random_state=5)"
   ]
  },
  {
   "cell_type": "markdown",
   "metadata": {
    "hidden": true
   },
   "source": [
    "X_train, X_test , y_train, y_test = train_test_split(X, y, test_size = 0.3, random_state = 5) "
   ]
  },
  {
   "cell_type": "markdown",
   "metadata": {
    "hidden": true
   },
   "source": [
    "**SMOTE - Addressing Unbalanced Classes**"
   ]
  },
  {
   "cell_type": "code",
   "execution_count": null,
   "metadata": {
    "hidden": true
   },
   "outputs": [],
   "source": [
    "smote = SMOTE(random_state=42, sampling_strategy=1)\n",
    "X_res, y_res = smote.fit_resample(X_train, y_train) # np.array(y_train).ravel())"
   ]
  },
  {
   "cell_type": "markdown",
   "metadata": {
    "heading_collapsed": true,
    "hidden": true
   },
   "source": [
    "#### Decision Tree 1 - (dropped rows w/ missing data)"
   ]
  },
  {
   "cell_type": "code",
   "execution_count": null,
   "metadata": {
    "hidden": true
   },
   "outputs": [],
   "source": [
    "clf = DecisionTreeClassifier(criterion='entropy')\n",
    "clf.fit(X_train, y_train)\n",
    "y_pred = clf.predict(X_test)"
   ]
  },
  {
   "cell_type": "markdown",
   "metadata": {
    "hidden": true
   },
   "source": [
    "**Performance Metrics**"
   ]
  },
  {
   "cell_type": "code",
   "execution_count": null,
   "metadata": {
    "code_folding": [],
    "hidden": true
   },
   "outputs": [],
   "source": [
    "accuracy_score(y_test, y_pred)\n",
    "average_precision = average_precision_score(y_test, y_pred)\n",
    "precision, recall, _ = precision_recall_curve(y_test, y_pred)\n",
    "\n",
    "# In matplotlib < 1.5, plt.fill_between does not have a 'step' argument\n",
    "step_kwargs = ({'step': 'post'}\n",
    "               if 'step' in signature(plt.fill_between).parameters\n",
    "               else {})\n",
    "plt.step(recall, precision, color='b', alpha=0.2,\n",
    "         where='post')\n",
    "plt.fill_between(recall, precision, alpha=0.2, color='b', **step_kwargs)\n",
    "\n",
    "plt.xlabel('Recall')\n",
    "plt.ylabel('Precision')\n",
    "plt.ylim([0.0, 1.05])\n",
    "plt.xlim([0.0, 1.0])\n",
    "plt.title('2-class Precision-Recall curve: AP={0:0.2f}'.format(\n",
    "          average_precision))\n",
    "plt.show()"
   ]
  },
  {
   "cell_type": "code",
   "execution_count": null,
   "metadata": {
    "hidden": true
   },
   "outputs": [],
   "source": [
    "confusion_matrix(y_test, y_pred), average_precision_score(y_test, y_pred)"
   ]
  },
  {
   "cell_type": "markdown",
   "metadata": {
    "hidden": true
   },
   "source": [
    "**Result Summary**"
   ]
  },
  {
   "cell_type": "markdown",
   "metadata": {
    "hidden": true
   },
   "source": [
    "Initial model exploration: \n",
    "\n",
    " - Split data into 70:30 Train:Test\n",
    " - Predicted likelihood of county being classified as \"Mobile\" (0=false, 1=true) based solely on \n",
    "     - 'Top 1% Income Share'\n",
    "     - 'Interquartile Income Range'\n",
    "     - 'Median Parent Income'\n",
    " - Null values were dropped\n",
    " - Only specified `criterion='entropy'`\n",
    " \n",
    "Results: \n",
    " - Model accuracy was 0.866 (Accuracy is defined as the ratio of correctly predicted examples by the total examples.)\n",
    " - Average Precision Score = 0.23 (The ratio of correct positive predictions to the total predicted positives) (means I'm OVER predicting Mobility)\n",
    "     - this means I said a lot of counties were mobile when they really aren't\n",
    "\n",
    "Next steps:\n",
    " - Run same data through logistic regression which will report the likelihood of being classified as Mobile based on the combination of features"
   ]
  },
  {
   "cell_type": "markdown",
   "metadata": {
    "heading_collapsed": true,
    "hidden": true
   },
   "source": [
    "#### Decision Tree 2 - (w/ SMOTE )"
   ]
  },
  {
   "cell_type": "markdown",
   "metadata": {
    "hidden": true
   },
   "source": [
    "Given unbalanced class, used SMOTE to resample the data. Now using X_res and y_res for fitting. "
   ]
  },
  {
   "cell_type": "code",
   "execution_count": null,
   "metadata": {
    "hidden": true
   },
   "outputs": [],
   "source": [
    "# instantiating and fitting 2nd tree\n",
    "clf_res = DecisionTreeClassifier(criterion='entropy', max_depth=2)\n",
    "clf_res.fit(pd.DataFrame(X_res), pd.DataFrame(y_res))\n",
    "y_res_pred = clf_res.predict(X_test)"
   ]
  },
  {
   "cell_type": "markdown",
   "metadata": {
    "hidden": true
   },
   "source": [
    "**Performance Metrics**"
   ]
  },
  {
   "cell_type": "code",
   "execution_count": null,
   "metadata": {
    "hidden": true
   },
   "outputs": [],
   "source": [
    "accuracy_score(y_test, y_res_pred)\n",
    "average_precision_score(y_test, y_res_pred)\n",
    "average_precision2 = average_precision_score(y_test, y_res_pred)\n",
    "precision2, recall2, _ = precision_recall_curve(y_test, y_res_pred)\n",
    "\n",
    "# In matplotlib < 1.5, plt.fill_between does not have a 'step' argument\n",
    "step_kwargs = ({'step': 'post'}\n",
    "               if 'step' in signature(plt.fill_between).parameters\n",
    "               else {})\n",
    "plt.step(recall2, precision2, color='b', alpha=0.2,\n",
    "         where='post')\n",
    "plt.fill_between(recall2, precision2, alpha=0.2, color='b', **step_kwargs)\n",
    "\n",
    "plt.xlabel('Recall')\n",
    "plt.ylabel('Precision')\n",
    "plt.ylim([0.0, 1.05])\n",
    "plt.xlim([0.0, 1.0])\n",
    "plt.title('2-Class Precision-Recall curve: AP={0:0.2f}'.format(\n",
    "          average_precision2))\n",
    "plt.show()"
   ]
  },
  {
   "cell_type": "markdown",
   "metadata": {
    "hidden": true
   },
   "source": [
    "**Result Summary**"
   ]
  },
  {
   "cell_type": "markdown",
   "metadata": {
    "hidden": true
   },
   "source": [
    "- Used split data into 70:30 Train:Test (dropped nulls)\n",
    " - Did SMOTE on X_train, y_train\n",
    " - Only specified `criterion='entropy'`\n",
    " \n",
    "Results: \n",
    " - Model accuracy was 0.767 (Accuracy is defined as the ratio of correctly predicted examples by the total examples.)\n",
    " - Average Precision Score = 0.238 (The ratio of correct positive predictions to the total predicted positives)\n",
    "     - this means I said a lot of counties were mobile when they really aren't\n",
    "\n",
    "Next steps:\n",
    " - Run same data through second logistic regression which will report the likelihood of being classified as Mobile based on the combination of features"
   ]
  },
  {
   "cell_type": "markdown",
   "metadata": {
    "heading_collapsed": true,
    "hidden": true
   },
   "source": [
    "#### Logistic Regression 1"
   ]
  },
  {
   "cell_type": "code",
   "execution_count": null,
   "metadata": {
    "hidden": true
   },
   "outputs": [],
   "source": [
    "# Using sklearn first (but no p-values)\n",
    "regr = LogisticRegression(C=1e5, solver='liblinear')\n",
    "\n",
    "# train the model using the training sets\n",
    "regr.fit(np.array(X_train), np.array(y_train).ravel())\n",
    "\n",
    "prediction = regr.predict(X_test)"
   ]
  },
  {
   "cell_type": "markdown",
   "metadata": {
    "hidden": true
   },
   "source": [
    "**Performance Metrics & Plotting**"
   ]
  },
  {
   "cell_type": "code",
   "execution_count": null,
   "metadata": {
    "hidden": true
   },
   "outputs": [],
   "source": [
    "accuracy_score(y_test, predict)\n",
    "average_precision_score(y_test, prediction)"
   ]
  },
  {
   "cell_type": "code",
   "execution_count": null,
   "metadata": {
    "hidden": true
   },
   "outputs": [],
   "source": [
    "plt.figure(1, figsize=(4, 3))\n",
    "plt.clf()\n",
    "#plt.scatter(np.array(X).ravel(), np.array(y).ravel(), color='black', zorder=20)\n",
    "\n",
    "loss = np.array(expit(X_test * regr.coef_ + regr.intercept_)).ravel()\n",
    "plt.scatter(np.array(X_test).ravel(), loss, color='red', linewidth=3)\n",
    "\n",
    "# ols = linear_model.LinearRegression()\n",
    "# ols.fit(X, y)\n",
    "# plt.plot(X_test, ols.coef_ * X_test + ols.intercept_, linewidth=1)\n",
    "# plt.axhline(.5, color='.5')\n",
    "\n",
    "plt.ylabel('y')\n",
    "plt.xlabel('X')\n",
    "# plt.xticks(range(-5, 10))\n",
    "# plt.yticks([0, 0.5, 1])\n",
    "# plt.ylim(-.25, 1.25)\n",
    "# plt.xlim(-4, 10)\n",
    "plt.legend(('Logistic Regression Model', 'Linear Regression Model'),\n",
    "           loc=\"lower right\", fontsize='small')\n",
    "plt.tight_layout()\n",
    "plt.show()"
   ]
  },
  {
   "cell_type": "code",
   "execution_count": null,
   "metadata": {
    "hidden": true
   },
   "outputs": [],
   "source": [
    "# Variables needed for plotting the distribution: \n",
    "\n",
    "# store the coefficients\n",
    "coef = regr.coef_\n",
    "interc = regr.intercept_\n",
    "# create the linear predictor\n",
    "lin_pred= (X * coef + interc)\n",
    "# perform the log transformation\n",
    "mod_income = 1 / (1 + np.exp(-lin_pred))\n",
    "# sort the numbers to make sure plot looks right\n",
    "age_ordered, mod_income_ordered = zip(*sorted(zip(age ,mod_income.ravel()),key=lambda x: x[0]))\n",
    "\n",
    "# Plotting the distribution\n",
    "\n",
    "fig = plt.figure(figsize=(8,6))\n",
    "fig.suptitle('logistic regression', fontsize=16)\n",
    "plt.scatter(age, income_bin)\n",
    "plt.xlabel(\"age\", fontsize=14)\n",
    "plt.ylabel(\"monthly income\", fontsize=14)\n",
    "plt.plot(age_ordered, mod_income_ordered, c = \"black\")\n",
    "plt.show()"
   ]
  },
  {
   "cell_type": "markdown",
   "metadata": {
    "hidden": true
   },
   "source": [
    "**Results Summary**"
   ]
  },
  {
   "cell_type": "markdown",
   "metadata": {
    "hidden": true
   },
   "source": [
    "Initial model exploration: \n",
    "\n",
    " - Used same split data from decision tree: \n",
    "     - had to make the y_train a 1-d array\n",
    "     - null values were dropped\n",
    " - Predicted likelihood of county being classified as \"Mobile\" (0=false, 1=true) based solely on \n",
    "     - 'Top 1% Income Share'\n",
    "     - 'Interquartile Income Range'\n",
    "     - 'Median Parent Income'\n",
    " - Only specified `C=1e5, solver='liblinear'`\n",
    " \n",
    "Results: \n",
    " - Model accuracy was 0.886 (Accuracy is defined as the ratio of correctly predicted examples by the total examples.)\n",
    " - Average Precision Score = 0.170 (The ratio of correct positive predictions to the total predicted positives)\n",
    "     - this means I said a lot of counties were mobile when they really aren't\n",
    "\n",
    "Next steps:\n",
    " - do SMOTE to addressed unbalanced classes\n"
   ]
  },
  {
   "cell_type": "markdown",
   "metadata": {
    "heading_collapsed": true,
    "hidden": true
   },
   "source": [
    "#### Logistic Regression 2 - (SMOTE vs \"balanced\")"
   ]
  },
  {
   "cell_type": "code",
   "execution_count": null,
   "metadata": {
    "hidden": true
   },
   "outputs": [],
   "source": [
    "# Using 'balanced' class_weight in the Logistic Regression instance\n",
    "regr = LogisticRegression(C=1e5, solver='liblinear', class_weight='balanced')\n",
    "\n",
    "# train the model using the original training sets\n",
    "regr.fit(np.array(X_train), np.array(y_train).ravel())\n",
    "prediction = regr.predict(X_test)\n",
    "accuracy_score(y_test, prediction), average_precision_score(y_test, prediction)"
   ]
  },
  {
   "cell_type": "code",
   "execution_count": null,
   "metadata": {
    "hidden": true
   },
   "outputs": [],
   "source": [
    "# Using SMOTE data instead of balanced classes, to compare the performance of SMOTE vs. the module's balancing\n",
    "regr2 = LogisticRegression(C=1e5, solver='liblinear')\n",
    "\n",
    "# train the model using the SMOTE-resampled training sets\n",
    "regr2.fit(np.array(X_res), np.array(y_res).ravel())\n",
    "y_res_pred2 = regr2.predict(X_test)\n",
    "accuracy_score(y_test, y_res_pred2), average_precision_score(y_test, y_res_pred2)"
   ]
  },
  {
   "cell_type": "markdown",
   "metadata": {
    "hidden": true
   },
   "source": [
    "**Results Summary**"
   ]
  },
  {
   "cell_type": "markdown",
   "metadata": {
    "hidden": true
   },
   "source": [
    "Using 'balanced' class_weight in the Logistic Regression instance:\n",
    "\n",
    "`Accuracy Score = 0.771`  \n",
    "`Precision = 0.248 ` \n",
    "\n",
    "Using SMOTE data instead of balanced classes\n",
    "\n",
    "`Accuracy Score = 0.782  `  \n",
    "`Precision = 0.257  `"
   ]
  },
  {
   "cell_type": "markdown",
   "metadata": {
    "heading_collapsed": true
   },
   "source": [
    "### Modeling on County Income+Health Data merged\n",
    "Decision Tree, Logistic Regression, Random Forest"
   ]
  },
  {
   "cell_type": "markdown",
   "metadata": {
    "hidden": true
   },
   "source": [
    "In this series an additional performance metric will be included, the Receiver Operator Characteristic curve (ROC curve). The ROC curve illustrates the true positive rate against false positive rate of our classifier.\n",
    "\n",
    "Recall = the True Positive Rate  (the ratio of the true positive predictions compared to all values that are actually positive)\n",
    "\n",
    "The ROC curve gives us a graph of the tradeoff between this false positive and true positive rate. The AUC, or area under the curve, gives us a singular metric to compare these. An AUC of 1 being a perfect classifier, and an AUC of .5 being that which has a precision of 50%."
   ]
  },
  {
   "cell_type": "markdown",
   "metadata": {
    "heading_collapsed": true,
    "hidden": true
   },
   "source": [
    "#### Setting up data"
   ]
  },
  {
   "cell_type": "code",
   "execution_count": null,
   "metadata": {
    "hidden": true
   },
   "outputs": [],
   "source": [
    "county_imputed = pd.read_pickle('../../data/03_processed/county_merged_imputed')\n",
    "county_dropped = pd.read_pickle('../../data/03_processed/county_merged_dropped_NaNs')"
   ]
  },
  {
   "cell_type": "code",
   "execution_count": null,
   "metadata": {
    "hidden": true
   },
   "outputs": [],
   "source": [
    "county_imputed.columns"
   ]
  },
  {
   "cell_type": "code",
   "execution_count": null,
   "metadata": {
    "hidden": true
   },
   "outputs": [],
   "source": [
    "features_total = ['Top 1% Income Share', 'Interquartile Income Range',\n",
    "                  'Share Between p25 and p75', 'Mean Parent Income', 'Parent Income P25',\n",
    "                  'Median Parent Income', 'Parent Income P75',\n",
    "                  'Parent Income P90', 'Parent Income P99',  'Teenage Birth Rate',\n",
    "                  'Adult obesity', 'Children in poverty',\n",
    "                  'Daily fine particulate matter', 'Diabetic screening',\n",
    "                  'Mammography screening', 'Physical inactivity',\n",
    "                  'Premature Death', 'Preventable hospital stays',\n",
    "                  'Sexually transmitted infections', 'Unemployment',\n",
    "                  'Uninsured', 'Violent crime rate']"
   ]
  },
  {
   "cell_type": "code",
   "execution_count": null,
   "metadata": {
    "hidden": true
   },
   "outputs": [],
   "source": [
    "X_drop = county_dropped[features_total]\n",
    "y_drop = county_dropped[['Target']]\n",
    "\n",
    "X_imp = county_imputed[features_total]\n",
    "y_imp = county_imputed[['Target']]\n",
    "\n",
    "X_drop_train, X_drop_test, y_drop_train, y_drop_test = train_test_split(X_drop, y_drop,\n",
    "                                                                        test_size=0.3,\n",
    "                                                                        random_state=5)\n",
    "X_imp_train, X_imp_test, y_imp_train, y_imp_test = train_test_split(X_imp, y_imp,\n",
    "                                                                    test_size=0.3,\n",
    "                                                                    random_state=5)"
   ]
  },
  {
   "cell_type": "markdown",
   "metadata": {
    "heading_collapsed": true,
    "hidden": true
   },
   "source": [
    "#### Decision Tree 1 - Imputed "
   ]
  },
  {
   "cell_type": "code",
   "execution_count": null,
   "metadata": {
    "hidden": true
   },
   "outputs": [],
   "source": [
    "imp = DecisionTreeClassifier(criterion='entropy')\n",
    "imp.fit(X_imp_train, y_imp_train)\n",
    "y_imp_pred = imp.predict(X_imp_test)"
   ]
  },
  {
   "cell_type": "markdown",
   "metadata": {
    "hidden": true
   },
   "source": [
    "**Performance Metrics**"
   ]
  },
  {
   "cell_type": "code",
   "execution_count": null,
   "metadata": {
    "hidden": true
   },
   "outputs": [],
   "source": [
    "average_precision_imp = average_precision_score(y_imp_test, y_imp_pred)\n",
    "accuracy_score(y_imp_test, y_imp_pred), confusion_matrix(y_imp_test, y_imp_pred), average_precision_score(y_imp_test, y_imp_pred)"
   ]
  },
  {
   "cell_type": "code",
   "execution_count": null,
   "metadata": {
    "hidden": true
   },
   "outputs": [],
   "source": []
  },
  {
   "cell_type": "markdown",
   "metadata": {
    "heading_collapsed": true,
    "hidden": true
   },
   "source": [
    "#### Decision Tree 2 - Dropped"
   ]
  },
  {
   "cell_type": "code",
   "execution_count": null,
   "metadata": {
    "hidden": true
   },
   "outputs": [],
   "source": [
    "drop = DecisionTreeClassifier(criterion='entropy')\n",
    "drop.fit(X_drop_train, y_drop_train)\n",
    "y_drop_pred = drop.predict(X_drop_test)"
   ]
  },
  {
   "cell_type": "markdown",
   "metadata": {
    "hidden": true
   },
   "source": [
    "**Performance Metrics**"
   ]
  },
  {
   "cell_type": "code",
   "execution_count": null,
   "metadata": {
    "hidden": true
   },
   "outputs": [],
   "source": [
    "average_precision_drop = average_precision_score(y_imp_test, y_imp_pred)\n",
    "accuracy_score(y_drop_test, y_drop_pred), confusion_matrix(y_drop_test, y_drop_pred), average_precision_score(y_drop_test, y_drop_pred)"
   ]
  },
  {
   "cell_type": "code",
   "execution_count": null,
   "metadata": {
    "hidden": true
   },
   "outputs": [],
   "source": []
  },
  {
   "cell_type": "markdown",
   "metadata": {
    "heading_collapsed": true,
    "hidden": true
   },
   "source": [
    "#### Logistic Regression - Imputed"
   ]
  },
  {
   "cell_type": "code",
   "execution_count": null,
   "metadata": {
    "hidden": true
   },
   "outputs": [],
   "source": [
    "# Using 'balanced' class_weight in the Logistic Regression instance\n",
    "regr_imp = LogisticRegression(\n",
    "    C=1e5, solver='liblinear', class_weight='balanced')\n",
    "\n",
    "# train the model using the original training sets\n",
    "regr_imp.fit(np.array(X_imp_train), np.array(y_imp_train).ravel())\n",
    "prediction_imp = regr_imp.predict(X_imp_test)"
   ]
  },
  {
   "cell_type": "markdown",
   "metadata": {
    "hidden": true
   },
   "source": [
    "**Performance Metrics**"
   ]
  },
  {
   "cell_type": "code",
   "execution_count": null,
   "metadata": {
    "hidden": true
   },
   "outputs": [],
   "source": [
    "accuracy_score(y_imp_test, prediction_imp), average_precision_score(\n",
    "    y_imp_test, prediction_imp)"
   ]
  },
  {
   "cell_type": "code",
   "execution_count": null,
   "metadata": {
    "hidden": true
   },
   "outputs": [],
   "source": [
    "# ROC Curve Plotting\n",
    "y_imp_score = regr_imp.fit(np.array(X_imp_train),\n",
    "                             np.array(y_imp_train).ravel()).decision_function(X_imp_test)\n",
    "fpr_imp, tpr_imp, thresholds_imp = roc_curve(y_imp_test, y_imp_score)\n",
    "auc(fpr_imp, tpr_imp)\n",
    "\n",
    "print('AUC: {}'.format(auc(fpr_imp, tpr_imp)))\n",
    "plt.figure(figsize=(10,8))\n",
    "lw=2\n",
    "plt.plot(fpr_imp, tpr_imp, color='darkorange', lw=lw, label='ROC curve')\n",
    "plt.plot([0, 1], [0, 1], color='navy', lw=lw, linestyle='--')\n",
    "plt.xlim([0.0, 1.0])\n",
    "plt.ylim([0.0, 1.05])\n",
    "plt.yticks([i/20.0 for i in range(21)])\n",
    "plt.xticks([i/20.0 for i in range(21)])\n",
    "plt.xlabel('False Positive Rate')\n",
    "plt.ylabel('True Positive Rate')\n",
    "plt.title('Logistic Regression ROC Curve - \"Imputed\" Dataset')\n",
    "plt.show()"
   ]
  },
  {
   "cell_type": "code",
   "execution_count": null,
   "metadata": {
    "hidden": true
   },
   "outputs": [],
   "source": [
    "print(classification_report(y_imp_test, prediction_imp, target_names=['Not Mobile', 'Mobile']))"
   ]
  },
  {
   "cell_type": "code",
   "execution_count": null,
   "metadata": {
    "hidden": true
   },
   "outputs": [],
   "source": []
  },
  {
   "cell_type": "markdown",
   "metadata": {
    "hidden": true
   },
   "source": [
    "#### Logistic Regression - Dropped"
   ]
  },
  {
   "cell_type": "code",
   "execution_count": null,
   "metadata": {
    "hidden": true
   },
   "outputs": [],
   "source": [
    "# Using 'balanced' class_weight in the Logistic Regression instance\n",
    "regr_drop = LogisticRegression(C=1e5, solver='liblinear', class_weight='balanced')\n",
    "\n",
    "# train the model using the original training sets\n",
    "regr_drop.fit(np.array(X_drop_train), np.array(y_drop_train).ravel())\n",
    "prediction_drop = regr_drop.predict(X_drop_test)"
   ]
  },
  {
   "cell_type": "markdown",
   "metadata": {
    "hidden": true
   },
   "source": [
    "**Performance Metrics**"
   ]
  },
  {
   "cell_type": "code",
   "execution_count": null,
   "metadata": {
    "hidden": true
   },
   "outputs": [],
   "source": [
    "accuracy_score(y_drop_test, prediction_drop), average_precision_score(y_drop_test, prediction_drop)"
   ]
  },
  {
   "cell_type": "code",
   "execution_count": null,
   "metadata": {
    "hidden": true
   },
   "outputs": [],
   "source": [
    "#Seaborns Beautiful Styling\n",
    "#sns.set_style(\"darkgrid\", {\"axes.facecolor\": \".9\"})\n",
    "\n",
    "print('AUC: {}'.format(auc(fpr, tpr)))\n",
    "plt.figure(figsize=(10,8))\n",
    "lw = 2\n",
    "plt.plot(fpr, tpr, color='darkorange',\n",
    "         lw=lw, label='ROC curve')\n",
    "plt.plot([0, 1], [0, 1], color='navy', lw=lw, linestyle='--')\n",
    "plt.xlim([0.0, 1.0])\n",
    "plt.ylim([0.0, 1.05])\n",
    "plt.yticks([i/20.0 for i in range(21)])\n",
    "plt.xticks([i/20.0 for i in range(21)])\n",
    "plt.xlabel('False Positive Rate')\n",
    "plt.ylabel('True Positive Rate')\n",
    "plt.title('ROC Curve - \"Dropped\" Dataset')\n",
    "plt.legend(loc=\"lower right\")\n",
    "plt.show()"
   ]
  },
  {
   "cell_type": "markdown",
   "metadata": {
    "hidden": true
   },
   "source": [
    "#### Random Forest"
   ]
  },
  {
   "cell_type": "markdown",
   "metadata": {
    "hidden": true
   },
   "source": [
    "Only using imputed version of data for this model. "
   ]
  },
  {
   "cell_type": "code",
   "execution_count": null,
   "metadata": {
    "hidden": true
   },
   "outputs": [],
   "source": [
    "randFor = RandomForestClassifier(n_estimators=99, random_state=5)\n",
    "\n",
    "randFor.fit(X_imp_train, y_imp_train)\n",
    "rf_pred_train = randFor.predict(X_imp_train)\n",
    "rf_pred_test = randFor.predict(X_imp_test)\n",
    "\n",
    "rf_train_score = accuracy_score(y_imp_train, rf_pred_train)\n",
    "rf_test_score = accuracy_score(y_imp_test, rf_pred_test)\n",
    "print('Random Forest')\n",
    "print(\"Training Accuracy: {:.2} \\t\\t Testing Accuracy: {:.2}\".format(\n",
    "    rf_train_score*100, rf_test_score*100))\n",
    "print('Training Confusion Matrix\\n', confusion_matrix(y_imp_train, rf_pred_train),\n",
    "      '\\n'+'-'*20+'\\n',\n",
    "      'Test Confusion Matrix\\n', confusion_matrix(y_imp_test, rf_pred_test))"
   ]
  },
  {
   "cell_type": "code",
   "execution_count": null,
   "metadata": {
    "hidden": true
   },
   "outputs": [],
   "source": [
    "# Using \"class_weight\" parameter to account for class imbalance\n",
    "randFor = RandomForestClassifier(n_estimators=99, random_state=5, class_weight='balanced')\n",
    "\n",
    "randFor.fit(X_imp_train, y_imp_train)\n",
    "rf_pred_train = randFor.predict(X_imp_train)\n",
    "rf_pred_test = randFor.predict(X_imp_test)\n",
    "\n",
    "rf_train_score = accuracy_score(y_imp_train, rf_pred_train)\n",
    "rf_test_score = accuracy_score(y_imp_test, rf_pred_test)\n",
    "print('Random Forest')\n",
    "print(\"Training Accuracy: {:.2} \\t\\t Testing Accuracy: {:.2}\".format(rf_train_score*100, rf_test_score*100))\n",
    "print('Training Confusion Matrix\\n', confusion_matrix(y_imp_train, rf_pred_train), \n",
    "'\\n'+'-'*20+'\\n', \n",
    "'Test Confusion Matrix\\n', confusion_matrix(y_imp_test, rf_pred_test))\n"
   ]
  },
  {
   "cell_type": "markdown",
   "metadata": {
    "hidden": true
   },
   "source": [
    "**Performance Metrics** "
   ]
  },
  {
   "cell_type": "code",
   "execution_count": null,
   "metadata": {
    "hidden": true
   },
   "outputs": [],
   "source": [
    "print(classification_report(y_imp_test, rf_pred_test, target_names=['Not Mobile', 'Mobile']))"
   ]
  },
  {
   "cell_type": "code",
   "execution_count": null,
   "metadata": {
    "hidden": true
   },
   "outputs": [],
   "source": [
    "randFor_ROC = randFor.fit(np.array(X_imp_train),\n",
    "                             np.array(y_imp_train).ravel()).predict_proba(X_imp_test)\n",
    "fpr_imp, tpr_imp, thresholds_imp = roc_curve(y_imp_test, randFor_ROC[:,1])\n",
    "auc(fpr_imp, tpr_imp)"
   ]
  },
  {
   "cell_type": "code",
   "execution_count": null,
   "metadata": {
    "hidden": true
   },
   "outputs": [],
   "source": [
    "print('AUC: {}'.format(auc(fpr_imp, tpr_imp)))\n",
    "plt.figure(figsize=(10,8))\n",
    "lw=2\n",
    "plt.plot(fpr_imp, tpr_imp, color='darkorange', lw=lw, label='RandomForest ROC curve')\n",
    "plt.plot([0, 1], [0, 1], color='navy', lw=lw, linestyle='--')\n",
    "plt.xlim([0.0, 1.0])\n",
    "plt.ylim([0.0, 1.05])\n",
    "plt.yticks([i/20.0 for i in range(21)])\n",
    "plt.xticks([i/20.0 for i in range(21)])\n",
    "plt.xlabel('False Positive Rate')\n",
    "plt.ylabel('True Positive Rate')\n",
    "plt.title('RandomForest ROC Curve - \"Imputed\" Dataset')\n",
    "plt.show()"
   ]
  },
  {
   "cell_type": "markdown",
   "metadata": {
    "hidden": true
   },
   "source": [
    "**Feature Importance**"
   ]
  },
  {
   "cell_type": "code",
   "execution_count": null,
   "metadata": {
    "hidden": true
   },
   "outputs": [],
   "source": [
    "randFor.feature_importances_"
   ]
  },
  {
   "cell_type": "code",
   "execution_count": null,
   "metadata": {
    "hidden": true
   },
   "outputs": [],
   "source": []
  },
  {
   "cell_type": "markdown",
   "metadata": {},
   "source": [
    "## Results"
   ]
  },
  {
   "cell_type": "markdown",
   "metadata": {},
   "source": [
    "### Confusion Matrix"
   ]
  },
  {
   "cell_type": "code",
   "execution_count": null,
   "metadata": {
    "code_folding": [
     0
    ]
   },
   "outputs": [],
   "source": [
    "def plot_confusion_matrix(y_true, y_pred, classes,\n",
    "                          size=(10, 6),\n",
    "                          normalize=False,\n",
    "                          title=None,\n",
    "                          cmap=plt.cm.Blues):\n",
    "    \"\"\"\n",
    "    This function prints and plots the confusion matrix.\n",
    "    Normalization can be applied by setting `normalize=True`.\n",
    "    \n",
    "    Parameters\n",
    "    ----------\n",
    "    y_true: list-like\n",
    "        test/true values\n",
    "    \n",
    "    y_pred: list-like\n",
    "        predicted values\n",
    "        \n",
    "    classes: list\n",
    "        names of classes which predictions can fall into\n",
    "        \n",
    "    normalize: bool\n",
    "        normalize the results (default False, do not normalize)\n",
    "        \n",
    "    title: str\n",
    "        title of confusion matrix\n",
    "        \n",
    "    size: tuple (ordered pair)\n",
    "        height and width in which the figure will display\n",
    "        \n",
    "    Returns\n",
    "    -------\n",
    "    ax: axis\n",
    "    \"\"\"\n",
    "    if not title:\n",
    "        if normalize:\n",
    "            title = 'Normalized confusion matrix'\n",
    "        else:\n",
    "            title = 'Confusion matrix, without normalization'\n",
    "\n",
    "    # Compute confusion matrix\n",
    "    cm = confusion_matrix(y_true, y_pred)\n",
    "    \n",
    "    # Only use the labels that appear in the data\n",
    "    # classes = classes[unique_labels(y_true, y_pred)]\n",
    "    #classes = class_names\n",
    "    \n",
    "#     if normalize:\n",
    "#         cm = cm.astype('float') / cm.sum(axis=1)[:, np.newaxis]\n",
    "#         print(\"Normalized confusion matrix\")\n",
    "#     else:\n",
    "#         print('Confusion matrix, without normalization')\n",
    "\n",
    "#     print(cm)\n",
    "\n",
    "    fig, ax = plt.subplots(figsize=size)\n",
    "    im = ax.imshow(cm, interpolation='nearest', cmap=cmap)\n",
    "    ax.figure.colorbar(im, ax=ax)\n",
    "    # We want to show all ticks...\n",
    "    ax.set(xticks=np.arange(cm.shape[1]),\n",
    "           yticks=np.arange(cm.shape[0]),\n",
    "           # ... and label them with the respective list entries\n",
    "           xticklabels=classes, yticklabels=classes,\n",
    "           title=title,\n",
    "           ylabel='True label',\n",
    "           xlabel='Predicted label')\n",
    "\n",
    "    # Rotate the tick labels and set their alignment.\n",
    "    plt.setp(ax.get_xticklabels(), rotation=45, ha=\"right\",\n",
    "             rotation_mode=\"anchor\")\n",
    "    \n",
    "    # Loop over data dimensions and create text annotations.\n",
    "    fmt = '.2f' if normalize else 'd'\n",
    "    thresh = cm.max() / 2.\n",
    "    for i in range(cm.shape[0]):\n",
    "        for j in range(cm.shape[1]):\n",
    "            ax.text(j, i, format(cm[i, j], fmt),\n",
    "                    ha=\"center\", va=\"center\",\n",
    "                    color=\"white\" if cm[i, j] > thresh else \"black\")\n",
    "    fig.tight_layout()\n",
    "    \n",
    "    return ax"
   ]
  },
  {
   "cell_type": "code",
   "execution_count": null,
   "metadata": {},
   "outputs": [],
   "source": [
    "plot_confusion_matrix(y_imp_train, rf_pred_train, ['Not Mobile', 'Mobile'], title='Random Forest Train Confusion Matrix')\n",
    "plt.show()\n",
    "plot_confusion_matrix(y_imp_test, rf_pred_test, ['Not Mobile', 'Mobile'], title='Random Forest Test Confusion Matrix')\n",
    "plt.show()"
   ]
  },
  {
   "cell_type": "markdown",
   "metadata": {},
   "source": [
    "### Feature Correlation"
   ]
  },
  {
   "cell_type": "code",
   "execution_count": null,
   "metadata": {},
   "outputs": [],
   "source": [
    "plt.subplots(figsize=(10,6))\n",
    "sns.scatterplot(x=county_imputed['Mean Parent Income'], y=county_imputed['Mean Child Income'])\n",
    "plt.title('Parent vs. Child Mean Income')\n",
    "plt.show()\n"
   ]
  },
  {
   "cell_type": "code",
   "execution_count": null,
   "metadata": {},
   "outputs": [],
   "source": [
    "sns.pairplot(county_imputed[['Absolute Upward Mobility', \n",
    "                             'Target', 'Teenage Birth Rate', \n",
    "                             'Unemployment', 'Share Between p25 and p75']])\n",
    "\n"
   ]
  },
  {
   "cell_type": "markdown",
   "metadata": {
    "heading_collapsed": true
   },
   "source": [
    "### Mapping Results"
   ]
  },
  {
   "cell_type": "markdown",
   "metadata": {
    "hidden": true
   },
   "source": [
    "The output from the following code can be found here: http://nateej1.github.io/AmericanDream_Geo\n",
    "\n",
    "Static Image\n",
    "![AUM-map](../../AUM-map-preview.png)"
   ]
  },
  {
   "cell_type": "code",
   "execution_count": null,
   "metadata": {
    "hidden": true
   },
   "outputs": [],
   "source": [
    "# Instantiating map object\n",
    "aum_map = folium.Map(location=[37, -95], zoom_start=5)\n",
    "bins = list(data_imp['Absolute Upward Mobility'].quantile([0, 0.25, 0.5, 0.75, 1]))\n",
    "\n",
    "choro = folium.Choropleth(\n",
    "    geo_data=updated_county_json,\n",
    "    data=data_imp,\n",
    "    columns=['County FIPS Code', 'Absolute Upward Mobility'],\n",
    "    key_on='properties.GEO_ID',\n",
    "    fill_color='YlOrRd',\n",
    "    fill_opacity=0.5,\n",
    "    nan_fill_color='gray',\n",
    "    nan_fill_opacity=0.9,\n",
    "    line_opacity=0.5,\n",
    "    legend_name='Absolute Upward Mobility',\n",
    "    bins=bins,\n",
    "    reset=True, \n",
    "    highlight=True,\n",
    "    name='Absolute Upward Mobility'\n",
    "    \n",
    ")\n",
    "\n",
    "choro2 = folium.Choropleth(\n",
    "    geo_data=updated_county_json,\n",
    "    data=data_imp,\n",
    "    columns=['County FIPS Code', 'Target'],\n",
    "    key_on='properties.GEO_ID',\n",
    "    fill_color='PuBu',\n",
    "    fill_opacity=0.5,\n",
    "    nan_fill_color='gray',\n",
    "    nan_fill_opacity=0.9,\n",
    "    line_opacity=0.5,\n",
    "    legend_name='Mobility Outcomes',\n",
    "    bins=3,\n",
    "    reset=True, \n",
    "    highlight=True,\n",
    "    name='Child Can Move atleast 1 quartile up'\n",
    "    )\n",
    "\n",
    "locations = list(zip(data_imp.lat, data_imp.lon))\n",
    "popup_content = list(zip(data_imp['County Name'], data_imp['State'], round(data_imp['Absolute Upward Mobility'],1), round(data_imp['Teenage Birth Rate']*100, 1)\n",
    "                         ))\n",
    "popups = ['<center> {} County, {} <br>  <b>AUM:</b> {} <br><b>Teen Birth Rate:</b> {}% <br>'.format(\n",
    "    name, state, aum, share) for (name, state, aum, share) in popup_content]\n",
    "\n",
    "\n",
    "tooltip = folium.features.GeoJsonTooltip(fields=['NAME', 'State', 'Absolute Upward Mobility', '% Unemployment', '% Teenage Birth Rate', '% Share Between p25 and p75'],\n",
    "                                         aliases=[\n",
    "                                             'County', 'State', 'Absolute Upward Mobility', 'Unemployment Rate','Teen Birth Rate', '\"Middle Class\" Income Share'],\n",
    "                                         style=('background-color: grey; color: white; font-family:'\n",
    "                                                'courier new; font-size: 24px; padding: 10px;'),\n",
    "                                         localize=True)\n",
    "\n",
    "choro.geojson.add_child(tooltip)\n",
    "\n",
    "data_imp_copy = data_imp.reset_index()\n",
    "\n",
    "for idx, row in data_imp_copy.iterrows():\n",
    "    if row['Absolute Upward Mobility'] >= 60:\n",
    "        location = locations[idx][0], locations[idx][1]\n",
    "        marker = folium.Marker(location=location)    \n",
    "        popup = popups[idx]\n",
    "        folium.Popup(popup, max_width='150%').add_to(marker)\n",
    "        icons = folium.Icon(color='green', icon='ok-sign').add_to(marker)\n",
    "        marker.add_to(choro2)\n",
    "    elif row['Absolute Upward Mobility'] <= 32:\n",
    "        location = locations[idx][0], locations[idx][1]\n",
    "        marker = folium.Marker(location=location)    \n",
    "        popup = popups[idx]\n",
    "        folium.Popup(popup, max_width='150%').add_to(marker)\n",
    "        icons = folium.Icon(color='red').add_to(marker)\n",
    "        marker.add_to(choro2)\n",
    "    else: pass\n",
    "\n",
    "    \n",
    "choro.add_to(aum_map)\n",
    "choro2.add_to(aum_map)\n",
    "folium.LayerControl().add_to(aum_map)\n",
    "aum_map.save(os.path.join('../../results', 'aum_map8.html'))"
   ]
  },
  {
   "cell_type": "markdown",
   "metadata": {},
   "source": [
    "## Conclusions and Next Steps"
   ]
  },
  {
   "cell_type": "markdown",
   "metadata": {},
   "source": [
    "With more robust datasets, this analysis could inform policy decisions that can foster more equitable environments for upward mobility. \n",
    "\n",
    "In continuing this investigation, I would like to incorporate education data from Urban Institute, create a map product with more interactive features, allowing the audience to engage in their own exploration of the topic (using Dash)"
   ]
  }
 ],
 "metadata": {
  "kernelspec": {
   "display_name": "Python 3",
   "language": "python",
   "name": "python3"
  },
  "language_info": {
   "codemirror_mode": {
    "name": "ipython",
    "version": 3
   },
   "file_extension": ".py",
   "mimetype": "text/x-python",
   "name": "python",
   "nbconvert_exporter": "python",
   "pygments_lexer": "ipython3",
   "version": "3.7.1"
  },
  "toc": {
   "base_numbering": 1,
   "nav_menu": {},
   "number_sections": true,
   "sideBar": true,
   "skip_h1_title": true,
   "title_cell": "Table of Contents",
   "title_sidebar": "Contents",
   "toc_cell": false,
   "toc_position": {},
   "toc_section_display": true,
   "toc_window_display": false
  }
 },
 "nbformat": 4,
 "nbformat_minor": 2
}
