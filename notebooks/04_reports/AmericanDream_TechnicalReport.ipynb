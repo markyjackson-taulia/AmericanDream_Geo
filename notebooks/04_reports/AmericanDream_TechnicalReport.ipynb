{
 "cells": [
  {
   "cell_type": "markdown",
   "metadata": {},
   "source": [
    "# Full Technical Report: Where's the American Dream?\n",
    "**_Exploring Intergenerational Economic Mobility by U.S. County_**\n",
    "\n",
    "Nateé Johnson  \n",
    "January 2020"
   ]
  },
  {
   "cell_type": "markdown",
   "metadata": {
    "heading_collapsed": true
   },
   "source": [
    "### Overview"
   ]
  },
  {
   "cell_type": "markdown",
   "metadata": {
    "hidden": true
   },
   "source": [
    "The goal of the project was to model and visualize Absolute Upward Mobility (AUM) by county as a function of location-specific characteristics. The aim was to determine which features of a county elevated a low-income child’s opportunity to achieve greater economic outcomes than their parents. My approach was to make a definition of what it meant for a county to be a hotbed of opportunity (a.k.a “Mobile”) versus a place where average upward mobility is hampered (a.k.a “Not Mobile”).  Using binary classification models, I looked at “feature importance” to determine which characteristics of a child’s neighborhood impact their economic outcomes.\n",
    "Using SciKit-learn in python, I found my Random Forest classifier had greater distinguishing power than my logistic regression model. I encountered missing data (missingno library) and class imbalances (~10% of the counties met the criteria to be labeled as “Mobile”). To address this, I experimented with SMOTE (Synthetic Minority Oversampling Technique) - but found that imputing the median yielded comparable results and was more interpretable. I accounted for the class imbalance within the Random Forest classifier using the ‘class_weight’ parameter. I used python’s Folium library to generate a multi-layer choropleth map with pop-up markers and a dynamic tooltip. \n",
    "Prior to modeling and visualizing, I spent a significant amount of time studying the datasets and becoming more familiar with the topic area, which was new to me. I used Pandas to clean data from Opportunity Insights and County Health Rankings, and merged them on the FIPScode (after some fun string manipulation techniques to get them in the same format). Opportunity Insights is a massive effort exploring the topic of Intergenerational Economic Mobility. Researchers from Harvard University, Brown University and the Census Bureau, compiled decades of data from tax returns, W-2s, and U.S. census survey results to link parents and children. Looking at parents’ income and their age at childbirth, they traced those children to adulthood and captured their income at a comparable age. To create my map, I had to reformat the dataframe to fit the structure of the county’s GeoJSON file. This was an important step that allowed the information for each county to be dynamically called from the dataframe as a user hovers over the relevant spatial area. Full functionality of each layer is experienced when viewed singularly. (https://nateej1.github.io/AmericanDream_Geo/)"
   ]
  },
  {
   "cell_type": "markdown",
   "metadata": {
    "hidden": true
   },
   "source": []
  },
  {
   "cell_type": "markdown",
   "metadata": {},
   "source": [
    "### Imports\n",
    "Import libraries and write settings here."
   ]
  },
  {
   "cell_type": "code",
   "execution_count": 1,
   "metadata": {
    "ExecuteTime": {
     "end_time": "2020-01-24T00:07:21.661322Z",
     "start_time": "2020-01-24T00:07:14.627968Z"
    }
   },
   "outputs": [
    {
     "data": {
      "text/html": [
       "        <script type=\"text/javascript\">\n",
       "        window.PlotlyConfig = {MathJaxConfig: 'local'};\n",
       "        if (window.MathJax) {MathJax.Hub.Config({SVG: {font: \"STIX-Web\"}});}\n",
       "        if (typeof require !== 'undefined') {\n",
       "        require.undef(\"plotly\");\n",
       "        requirejs.config({\n",
       "            paths: {\n",
       "                'plotly': ['https://cdn.plot.ly/plotly-latest.min']\n",
       "            }\n",
       "        });\n",
       "        require(['plotly'], function(Plotly) {\n",
       "            window._Plotly = Plotly;\n",
       "        });\n",
       "        }\n",
       "        </script>\n",
       "        "
      ]
     },
     "metadata": {},
     "output_type": "display_data"
    }
   ],
   "source": [
    "# Data manipulation\n",
    "import pandas as pd\n",
    "import pickle\n",
    "import numpy as np\n",
    "import seaborn as sns\n",
    "from pandas_profiling import ProfileReport\n",
    "import os\n",
    "import sys\n",
    "\n",
    "# Options for pandas\n",
    "pd.options.display.max_columns = 50\n",
    "pd.options.display.max_rows = 30\n",
    "\n",
    "\n",
    "# Visualizations\n",
    "import chart_studio.plotly as py\n",
    "import folium\n",
    "import matplotlib.pyplot as plt\n",
    "import plotly.graph_objs as go\n",
    "from plotly.offline import iplot, init_notebook_mode\n",
    "init_notebook_mode(connected=True)\n",
    "\n",
    "# Anaylsis & Modeling Packages\n",
    "from imblearn.over_sampling import SMOTE\n",
    "from sklearn.model_selection import train_test_split\n",
    "from sklearn.tree import DecisionTreeClassifier, export_graphviz\n",
    "from sklearn.ensemble import RandomForestClassifier\n",
    "from sklearn.linear_model import LogisticRegression\n",
    "from sklearn.metrics import accuracy_score, roc_curve, auc, confusion_matrix, average_precision_score, precision_recall_curve, classification_report\n",
    "from sklearn import tree \n",
    "from IPython.display import Image  \n",
    "\n"
   ]
  },
  {
   "cell_type": "markdown",
   "metadata": {},
   "source": [
    "### Local Scripts\n",
    "\n",
    "Import functions to clean data"
   ]
  },
  {
   "cell_type": "code",
   "execution_count": null,
   "metadata": {},
   "outputs": [],
   "source": [
    "\n",
    "\n",
    "src_dir = os.path.join(os.getcwd(), '..', '..', 'src')\n",
    "sys.path.append(src_dir)\n",
    "\n",
    "from d02_processing.cleaned_data import Clean_OppIns_raw\n",
    "\n",
    "data = Clean_OppIns_raw()"
   ]
  },
  {
   "cell_type": "code",
   "execution_count": 2,
   "metadata": {},
   "outputs": [],
   "source": [
    "data"
   ]
  },
  {
   "cell_type": "markdown",
   "metadata": {
    "heading_collapsed": true
   },
   "source": [
    "## Data Exploration"
   ]
  },
  {
   "cell_type": "markdown",
   "metadata": {
    "hidden": true
   },
   "source": [
    "### Data Sources & Cleaning"
   ]
  },
  {
   "cell_type": "markdown",
   "metadata": {
    "heading_collapsed": true,
    "hidden": true
   },
   "source": [
    "#### Opportunity Insights"
   ]
  },
  {
   "cell_type": "markdown",
   "metadata": {
    "hidden": true
   },
   "source": [
    "Using two datasets:\n",
    "\n",
    "*Where is the Land of Opportunity? The Geography of Intergenerational Mobility in the United States*\n",
    "\n",
    "Chetty, Hendren, Kline and Saez (2014)\n",
    "Descriptive Statistics by County and Commuting Zone  \n",
    "http://www.equality-of-opportunity.org/assets/documents/mobility_geo.pdf \n",
    "\n",
    "**Data source**: http://www.equality-of-opportunity.org/data/ \n",
    "\n",
    "\n",
    "Preliminary scripts: \n",
    "\n",
    "- [ ] Cleaned mobility df\n",
    "- [ ] Cleaned county health df"
   ]
  },
  {
   "cell_type": "code",
   "execution_count": null,
   "metadata": {
    "hidden": true
   },
   "outputs": [],
   "source": [
    "# This returns cleaned County Health data\n",
    "Clean_CountyHealth_raw()\n",
    "\n",
    "# This returns cleaned Opportunity Insights data\n",
    "Clean_OppIns_raw()"
   ]
  },
  {
   "cell_type": "code",
   "execution_count": null,
   "metadata": {
    "hidden": true
   },
   "outputs": [],
   "source": [
    "## Using Pandas Profiling library for comprehensive look at data\n",
    "\n",
    "ProfileReport(df"
   ]
  },
  {
   "cell_type": "markdown",
   "metadata": {
    "heading_collapsed": true,
    "hidden": true
   },
   "source": [
    "#### County Health Rankings"
   ]
  },
  {
   "cell_type": "markdown",
   "metadata": {
    "hidden": true
   },
   "source": [
    "Data was originally sources from Tableau Public:  \n",
    "https://public.tableau.com/s/sites/default/files/media/County_Health_Rankings.csv\n",
    "\n",
    "Files for individual years can be found at the source:  \n",
    "https://www.countyhealthrankings.org/app/"
   ]
  },
  {
   "cell_type": "code",
   "execution_count": null,
   "metadata": {
    "hidden": true
   },
   "outputs": [],
   "source": []
  },
  {
   "cell_type": "markdown",
   "metadata": {
    "hidden": true
   },
   "source": [
    "### Data Decisions"
   ]
  },
  {
   "cell_type": "markdown",
   "metadata": {
    "hidden": true
   },
   "source": [
    "insert image of original data set and talk about decision to average over years '97-'02\n",
    "\n",
    "Given missing values, date ranges, etc. I will proceed using: \n",
    "\n",
    "\n"
   ]
  },
  {
   "cell_type": "code",
   "execution_count": null,
   "metadata": {
    "hidden": true
   },
   "outputs": [],
   "source": []
  },
  {
   "cell_type": "markdown",
   "metadata": {},
   "source": [
    "## Analysis/Modeling\n",
    "Do work here"
   ]
  },
  {
   "cell_type": "markdown",
   "metadata": {},
   "source": [
    "### Modeling on Income Data Only"
   ]
  },
  {
   "cell_type": "markdown",
   "metadata": {},
   "source": [
    "Decision Tree and Logistic Regression\n",
    "\n",
    "In choosing features to model on, I am conscious of data leakage and auto-correlation (?). "
   ]
  },
  {
   "cell_type": "code",
   "execution_count": null,
   "metadata": {},
   "outputs": [],
   "source": [
    "county_mobility = pd.read_pickle('../../data/02_intermediate/county_mobility_incomeOnly')\n",
    "county_health = pd.read_pickle('../../data/02_intermediate/county_measures')"
   ]
  },
  {
   "cell_type": "markdown",
   "metadata": {},
   "source": [
    "#### Setting up data"
   ]
  },
  {
   "cell_type": "code",
   "execution_count": null,
   "metadata": {},
   "outputs": [],
   "source": [
    "features = [\n",
    "    'Top 1% Income Share',\n",
    "    'Interquartile Income Range',\n",
    "    'Median Parent Income'\n",
    "]\n",
    "\n",
    "X = county_mobility.dropna(subset=features, axis=0)[features]\n",
    "y = county_mobility.dropna(subset=features, axis=0)[['Target']]\n",
    "X_train, X_test, y_train, y_test = train_test_split(\n",
    "    X, y, test_size=0.3, random_state=5)"
   ]
  },
  {
   "cell_type": "markdown",
   "metadata": {},
   "source": [
    "X_train, X_test , y_train, y_test = train_test_split(X, y, test_size = 0.3, random_state = 5) "
   ]
  },
  {
   "cell_type": "markdown",
   "metadata": {},
   "source": [
    "**SMOTE - Addressing Unbalanced Classes**"
   ]
  },
  {
   "cell_type": "code",
   "execution_count": null,
   "metadata": {},
   "outputs": [],
   "source": [
    "smote = SMOTE(random_state=42, sampling_strategy=1)\n",
    "X_res, y_res = smote.fit_resample(X_train, y_train) # np.array(y_train).ravel())"
   ]
  },
  {
   "cell_type": "markdown",
   "metadata": {},
   "source": []
  },
  {
   "cell_type": "markdown",
   "metadata": {},
   "source": []
  },
  {
   "cell_type": "markdown",
   "metadata": {},
   "source": []
  },
  {
   "cell_type": "markdown",
   "metadata": {},
   "source": []
  },
  {
   "cell_type": "markdown",
   "metadata": {},
   "source": []
  },
  {
   "cell_type": "markdown",
   "metadata": {},
   "source": []
  },
  {
   "cell_type": "markdown",
   "metadata": {},
   "source": []
  },
  {
   "cell_type": "markdown",
   "metadata": {},
   "source": []
  },
  {
   "cell_type": "markdown",
   "metadata": {},
   "source": [
    "## Results"
   ]
  },
  {
   "cell_type": "markdown",
   "metadata": {},
   "source": [
    "### Feature Correlation"
   ]
  },
  {
   "cell_type": "code",
   "execution_count": null,
   "metadata": {},
   "outputs": [],
   "source": []
  },
  {
   "cell_type": "markdown",
   "metadata": {
    "heading_collapsed": true
   },
   "source": [
    "### Mapping Results"
   ]
  },
  {
   "cell_type": "markdown",
   "metadata": {
    "hidden": true
   },
   "source": [
    "The output from the following code can be found here: http://nateej1.github.io/AmericanDream_Geo\n",
    "\n",
    "Static Image\n",
    "![AUM-map](../../AUM-map-preview.png)"
   ]
  },
  {
   "cell_type": "code",
   "execution_count": null,
   "metadata": {
    "hidden": true
   },
   "outputs": [],
   "source": [
    "# Instantiating map object\n",
    "aum_map = folium.Map(location=[37, -95], zoom_start=5)\n",
    "bins = list(data_imp['Absolute Upward Mobility'].quantile([0, 0.25, 0.5, 0.75, 1]))\n",
    "\n",
    "choro = folium.Choropleth(\n",
    "    geo_data=updated_county_json,\n",
    "    data=data_imp,\n",
    "    columns=['County FIPS Code', 'Absolute Upward Mobility'],\n",
    "    key_on='properties.GEO_ID',\n",
    "    fill_color='YlOrRd',\n",
    "    fill_opacity=0.5,\n",
    "    nan_fill_color='gray',\n",
    "    nan_fill_opacity=0.9,\n",
    "    line_opacity=0.5,\n",
    "    legend_name='Absolute Upward Mobility',\n",
    "    bins=bins,\n",
    "    reset=True, \n",
    "    highlight=True,\n",
    "    name='Absolute Upward Mobility'\n",
    "    \n",
    ")\n",
    "\n",
    "choro2 = folium.Choropleth(\n",
    "    geo_data=updated_county_json,\n",
    "    data=data_imp,\n",
    "    columns=['County FIPS Code', 'Target'],\n",
    "    key_on='properties.GEO_ID',\n",
    "    fill_color='PuBu',\n",
    "    fill_opacity=0.5,\n",
    "    nan_fill_color='gray',\n",
    "    nan_fill_opacity=0.9,\n",
    "    line_opacity=0.5,\n",
    "    legend_name='Mobility Outcomes',\n",
    "    bins=3,\n",
    "    reset=True, \n",
    "    highlight=True,\n",
    "    name='Child Can Move atleast 1 quartile up'\n",
    "    )\n",
    "\n",
    "locations = list(zip(data_imp.lat, data_imp.lon))\n",
    "popup_content = list(zip(data_imp['County Name'], data_imp['State'], round(data_imp['Absolute Upward Mobility'],1), round(data_imp['Teenage Birth Rate']*100, 1)\n",
    "                         ))\n",
    "popups = ['<center> {} County, {} <br>  <b>AUM:</b> {} <br><b>Teen Birth Rate:</b> {}% <br>'.format(\n",
    "    name, state, aum, share) for (name, state, aum, share) in popup_content]\n",
    "\n",
    "\n",
    "tooltip = folium.features.GeoJsonTooltip(fields=['NAME', 'State', 'Absolute Upward Mobility', '% Unemployment', '% Teenage Birth Rate', '% Share Between p25 and p75'],\n",
    "                                         aliases=[\n",
    "                                             'County', 'State', 'Absolute Upward Mobility', 'Unemployment Rate','Teen Birth Rate', '\"Middle Class\" Income Share'],\n",
    "                                         style=('background-color: grey; color: white; font-family:'\n",
    "                                                'courier new; font-size: 24px; padding: 10px;'),\n",
    "                                         localize=True)\n",
    "\n",
    "choro.geojson.add_child(tooltip)\n",
    "\n",
    "data_imp_copy = data_imp.reset_index()\n",
    "\n",
    "for idx, row in data_imp_copy.iterrows():\n",
    "    if row['Absolute Upward Mobility'] >= 60:\n",
    "        location = locations[idx][0], locations[idx][1]\n",
    "        marker = folium.Marker(location=location)    \n",
    "        popup = popups[idx]\n",
    "        folium.Popup(popup, max_width='150%').add_to(marker)\n",
    "        icons = folium.Icon(color='green', icon='ok-sign').add_to(marker)\n",
    "        marker.add_to(choro2)\n",
    "    elif row['Absolute Upward Mobility'] <= 32:\n",
    "        location = locations[idx][0], locations[idx][1]\n",
    "        marker = folium.Marker(location=location)    \n",
    "        popup = popups[idx]\n",
    "        folium.Popup(popup, max_width='150%').add_to(marker)\n",
    "        icons = folium.Icon(color='red').add_to(marker)\n",
    "        marker.add_to(choro2)\n",
    "    else: pass\n",
    "\n",
    "    \n",
    "choro.add_to(aum_map)\n",
    "choro2.add_to(aum_map)\n",
    "folium.LayerControl().add_to(aum_map)\n",
    "aum_map.save(os.path.join('../../results', 'aum_map8.html'))"
   ]
  },
  {
   "cell_type": "markdown",
   "metadata": {},
   "source": [
    "## Conclusions and Next Steps"
   ]
  },
  {
   "cell_type": "markdown",
   "metadata": {},
   "source": [
    "With more robust datasets, this analysis could inform policy decisions that can foster more equitable environments for upward mobility. \n",
    "\n",
    "In continuing this investigation, I would like to incorporate education data from Urban Institute, create a map product with more interactive features, allowing the audience to engage in their own exploration of the topic (using Dash)"
   ]
  }
 ],
 "metadata": {
  "kernelspec": {
   "display_name": "Python 3",
   "language": "python",
   "name": "python3"
  },
  "language_info": {
   "codemirror_mode": {
    "name": "ipython",
    "version": 3
   },
   "file_extension": ".py",
   "mimetype": "text/x-python",
   "name": "python",
   "nbconvert_exporter": "python",
   "pygments_lexer": "ipython3",
   "version": "3.7.3"
  },
  "toc": {
   "base_numbering": 1,
   "nav_menu": {},
   "number_sections": true,
   "sideBar": true,
   "skip_h1_title": true,
   "title_cell": "Table of Contents",
   "title_sidebar": "Contents",
   "toc_cell": false,
   "toc_position": {},
   "toc_section_display": true,
   "toc_window_display": false
  }
 },
 "nbformat": 4,
 "nbformat_minor": 2
}
