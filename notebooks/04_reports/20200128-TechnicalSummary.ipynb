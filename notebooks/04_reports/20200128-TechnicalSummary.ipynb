{
 "cells": [
  {
   "cell_type": "markdown",
   "metadata": {},
   "source": [
    "# Where Can You Live the 'American Dream'? \n",
    "**_Exploring Intergenerational Economic Mobility by U.S. County_**\n",
    "\n",
    "---"
   ]
  },
  {
   "cell_type": "markdown",
   "metadata": {},
   "source": [
    "## Introduction"
   ]
  },
  {
   "cell_type": "markdown",
   "metadata": {},
   "source": [
    "### Project Objective"
   ]
  },
  {
   "cell_type": "markdown",
   "metadata": {},
   "source": [
    "Focusing on combining County Health Rankings data and research on The Geography of Intergenerational Mobility in the United States to showcase where the \"land of opportunity\" is. Localized to DMV. \n",
    "\n",
    "Interested in what factors of neighborhoods may contribute to a child's ability to establish wealth independent of their parents' economic standing (during upbringing).\n",
    "\n",
    "Below is movitation for exploring this topic. (I want to know what/how data was used to produce this, and perhaps recreate it at the county level). "
   ]
  },
  {
   "cell_type": "markdown",
   "metadata": {},
   "source": [
    "### Data Sources"
   ]
  },
  {
   "cell_type": "markdown",
   "metadata": {},
   "source": [
    "m"
   ]
  },
  {
   "cell_type": "markdown",
   "metadata": {},
   "source": [
    "### Background"
   ]
  },
  {
   "cell_type": "markdown",
   "metadata": {},
   "source": []
  },
  {
   "cell_type": "markdown",
   "metadata": {},
   "source": [
    "### Summary of Preliminary Results"
   ]
  },
  {
   "cell_type": "markdown",
   "metadata": {},
   "source": []
  },
  {
   "cell_type": "markdown",
   "metadata": {},
   "source": [
    "## Data Features"
   ]
  },
  {
   "cell_type": "markdown",
   "metadata": {},
   "source": []
  },
  {
   "cell_type": "markdown",
   "metadata": {},
   "source": [
    "The following measures are available for 1997-2011:\n",
    "\n",
    "Available County Stats |\n",
    "--- |\n",
    "Children in poverty                | 41499\n",
    "Premature Death                    |38312\n",
    "Unemployment                       |35202\n",
    "Daily fine particulate matter      |28728\n",
    "Adult obesity                      |22351\n",
    "Violent crime rate                 |22351\n",
    "Physical inactivity                |22351\n",
    "Preventable hospital stays         |19159\n",
    "Mammography screening              |19159\n",
    "Diabetic screening                 |19159\n",
    "Uninsured                          |19156\n",
    "Sexually transmitted infections    |15963"
   ]
  },
  {
   "cell_type": "markdown",
   "metadata": {},
   "source": [
    "## Analysis/Modeling\n",
    "\n",
    "Where you grow up matters. What about it matters? "
   ]
  },
  {
   "cell_type": "markdown",
   "metadata": {
    "ExecuteTime": {
     "end_time": "2019-09-09T15:27:55.103144Z",
     "start_time": "2019-09-09T15:27:55.047937Z"
    }
   },
   "source": [
    "![Absolute Upward Mobility MD Cohort](../../results/img-chart/absupmob_md_county.png \"Absolute Upward Mobility by County in MD\")"
   ]
  },
  {
   "cell_type": "markdown",
   "metadata": {},
   "source": [
    "## Results\n",
    "\n",
    "\n",
    "Show map of counties color coded by upward mobility figure. Then there's a pop-up with the county health stats. Can filter on race (each layer). "
   ]
  },
  {
   "cell_type": "markdown",
   "metadata": {},
   "source": []
  },
  {
   "cell_type": "markdown",
   "metadata": {},
   "source": [
    "## Conclusions and Next Steps\n",
    "\n",
    "Ultimately, I'm interested in exploring Intergenerational Economic Mobility...exploring systematic factors that inhibit a child from moving out of their parent's economic percentile/group. \n",
    "Looking at data from Urban Institute, Opportunity Insights, and updated County Health Rankings..."
   ]
  },
  {
   "cell_type": "code",
   "execution_count": null,
   "metadata": {},
   "outputs": [],
   "source": []
  }
 ],
 "metadata": {
  "kernelspec": {
   "display_name": "Python 3",
   "language": "python",
   "name": "python3"
  },
  "language_info": {
   "codemirror_mode": {
    "name": "ipython",
    "version": 3
   },
   "file_extension": ".py",
   "mimetype": "text/x-python",
   "name": "python",
   "nbconvert_exporter": "python",
   "pygments_lexer": "ipython3",
   "version": "3.7.1"
  },
  "toc": {
   "base_numbering": 1,
   "nav_menu": {},
   "number_sections": true,
   "sideBar": true,
   "skip_h1_title": true,
   "title_cell": "Table of Contents",
   "title_sidebar": "Contents",
   "toc_cell": false,
   "toc_position": {
    "height": "calc(100% - 180px)",
    "left": "10px",
    "top": "150px",
    "width": "307.2px"
   },
   "toc_section_display": true,
   "toc_window_display": true
  }
 },
 "nbformat": 4,
 "nbformat_minor": 2
}
